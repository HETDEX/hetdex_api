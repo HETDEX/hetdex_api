{
 "cells": [
  {
   "cell_type": "markdown",
   "metadata": {},
   "source": [
    "# HETDEX Galaxy Classifying"
   ]
  },
  {
   "cell_type": "markdown",
   "metadata": {},
   "source": [
    "### Load the Classifying Widget - Press Shift-Enter to execute cell or press the fast-forward button above"
   ]
  },
  {
   "cell_type": "code",
   "execution_count": null,
   "metadata": {},
   "outputs": [],
   "source": [
    "%%javascript\n",
    "IPython.OutputArea.prototype._should_scroll = function(lines) {\n",
    "    return false;\n",
    "}"
   ]
  },
  {
   "cell_type": "code",
   "execution_count": null,
   "metadata": {},
   "outputs": [],
   "source": [
    "from hetdex_api.elixer_widget_cls import ElixerWidget\n",
    "from hetdex_api.file_handling import *"
   ]
  },
  {
   "cell_type": "code",
   "execution_count": null,
   "metadata": {},
   "outputs": [],
   "source": [
    "env = get_system_info()"
   ]
  },
  {
   "cell_type": "markdown",
   "metadata": {},
   "source": [
    "### Enter the name of the filename you want to classify:"
   ]
  },
  {
   "cell_type": "code",
   "execution_count": null,
   "metadata": {},
   "outputs": [],
   "source": [
    "filename = 'list01'\n",
    "#filename = 'cls_lae_snbin01_set01.tab'"
   ]
  },
  {
   "cell_type": "markdown",
   "metadata": {},
   "source": [
    "This command `activate_file(filename)` below copies the classifying file to the 'classified' under your username. It returns the path to your classifying file. If, for some reason, you want to delete that file you can use the command `delete_file(filename)`. If you prefer to keep it local to your home directory then use the `save_to_shared=False` option."
   ]
  },
  {
   "cell_type": "code",
   "execution_count": null,
   "metadata": {},
   "outputs": [],
   "source": [
    "yourfile = activate_file(filename)\n",
    "#delete_file(yourfile)"
   ]
  },
  {
   "cell_type": "markdown",
   "metadata": {},
   "source": [
    "## Now classify! "
   ]
  },
  {
   "cell_type": "code",
   "execution_count": null,
   "metadata": {},
   "outputs": [],
   "source": [
    "elix_widget = ElixerWidget(savedfile=yourfile, resume=True)"
   ]
  },
  {
   "cell_type": "markdown",
   "metadata": {},
   "source": [
    "# Classifying Key"
   ]
  },
  {
   "cell_type": "markdown",
   "metadata": {},
   "source": [
    "\n",
    "Artifact - These are obvious detector issues like cosmics, bad pixels or bad amplifiers (weird wiggles or interference patterns). \n",
    "\n",
    "LowZ - Anything low-redshift, including OII emitters, OIII emitters, HBeta emitters\n",
    "Other - Stars, Meteors, of astronomical origin. Use the Comment bar to provide description\n",
    "\n",
    "LAE 1 - 5 - Confidence scale of whether a source is an LAE \n",
    "\n",
    "1 = 0 - 20 % confidence, likely noise, low likelihood of being an LAE\n",
    "\n",
    "2 = 20 - 40 % confidence, possibly noise\n",
    "\n",
    "3 = 40 - 60 % confidence, possibly an LAE\n",
    "\n",
    "4 = 60 - 80 % confidence, likely an LAE\n",
    "\n",
    "5 = 80 - 100 % confidence, probably an LAE\n",
    "\n",
    "A note on AGN: some broad-lined AGN sources are in the catalog. Classify them as LAE if either the line is due to Lyalpha or any other line in the galaxy is picked up, such as CIV. Just note the line either in the comment window or pick the line from the Line drop-down menu.\n",
    "\n"
   ]
  }
 ],
 "metadata": {
  "kernelspec": {
   "display_name": "Python 3",
   "language": "python",
   "name": "python3"
  },
  "language_info": {
   "codemirror_mode": {
    "name": "ipython",
    "version": 3
   },
   "file_extension": ".py",
   "mimetype": "text/x-python",
   "name": "python",
   "nbconvert_exporter": "python",
   "pygments_lexer": "ipython3",
   "version": "3.7.0"
  }
 },
 "nbformat": 4,
 "nbformat_minor": 2
}
