{
 "cells": [
  {
   "cell_type": "markdown",
   "id": "7744f167",
   "metadata": {},
   "source": [
    "# This cell will update hetdex-api"
   ]
  },
  {
   "cell_type": "code",
   "execution_count": null,
   "id": "d212968b",
   "metadata": {},
   "outputs": [],
   "source": [
    "!cd /home/jovyan/software; cd hetdex_api; git stash; git pull"
   ]
  },
  {
   "cell_type": "markdown",
   "id": "9bbdc597",
   "metadata": {},
   "source": [
    "# This cell will update elixer"
   ]
  },
  {
   "cell_type": "code",
   "execution_count": null,
   "id": "211b7a3f",
   "metadata": {},
   "outputs": [],
   "source": [
    "!cd /home/jovyan/software; cd elixer; git stash; git pull"
   ]
  },
  {
   "cell_type": "markdown",
   "id": "ffae6d00",
   "metadata": {},
   "source": [
    "## Restart any running notebooks to apply the software updates"
   ]
  },
  {
   "cell_type": "code",
   "execution_count": null,
   "id": "f3e7e020",
   "metadata": {},
   "outputs": [],
   "source": []
  }
 ],
 "metadata": {
  "kernelspec": {
   "display_name": "Python 3",
   "language": "python",
   "name": "python3"
  },
  "language_info": {
   "codemirror_mode": {
    "name": "ipython",
    "version": 3
   },
   "file_extension": ".py",
   "mimetype": "text/x-python",
   "name": "python",
   "nbconvert_exporter": "python",
   "pygments_lexer": "ipython3",
   "version": "3.9.4"
  }
 },
 "nbformat": 4,
 "nbformat_minor": 5
}
