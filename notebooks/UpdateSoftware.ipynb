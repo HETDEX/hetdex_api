{
 "cells": [
  {
   "cell_type": "markdown",
   "id": "7744f167",
   "metadata": {},
   "source": [
    "# This cell will update hetdex-api to latest version"
   ]
  },
  {
   "cell_type": "code",
   "execution_count": 3,
   "id": "d212968b",
   "metadata": {},
   "outputs": [
    {
     "name": "stdout",
     "output_type": "stream",
     "text": [
      "No local changes to save\n",
      "remote: Enumerating objects: 7, done.\u001b[K\n",
      "remote: Counting objects: 100% (7/7), done.\u001b[K\n",
      "remote: Compressing objects: 100% (1/1), done.\u001b[K\n",
      "remote: Total 4 (delta 3), reused 4 (delta 3), pack-reused 0\u001b[K\n",
      "Unpacking objects: 100% (4/4), 463 bytes | 154.00 KiB/s, done.\n",
      "From https://github.com/HETDEX/hetdex_api\n",
      "   7417006..9fe8726  master     -> origin/master\n",
      "Updating 7417006..9fe8726\n",
      "Fast-forward\n",
      " hetdex_api/query_widget.py | 18 \u001b[32m+++++++++++\u001b[m\u001b[31m-------\u001b[m\n",
      " 1 file changed, 11 insertions(+), 7 deletions(-)\n"
     ]
    }
   ],
   "source": [
    "!git config --global --add safe.directory /home/jovyan/software/hetdex_api\n",
    "!cd /home/jovyan/software; cd hetdex_api; git stash; git pull"
   ]
  },
  {
   "cell_type": "markdown",
   "id": "9bbdc597",
   "metadata": {},
   "source": [
    "## This cell will update elixer to latest development version"
   ]
  },
  {
   "cell_type": "code",
   "execution_count": 4,
   "id": "211b7a3f",
   "metadata": {},
   "outputs": [
    {
     "name": "stdout",
     "output_type": "stream",
     "text": [
      "No local changes to save\n",
      "Already up to date.\n"
     ]
    }
   ],
   "source": [
    "!git config --global --add safe.directory /home/jovyan/software/elixer\n",
    "!cd /home/jovyan/software; cd elixer; git stash; git pull"
   ]
  },
  {
   "cell_type": "markdown",
   "id": "ffae6d00",
   "metadata": {},
   "source": [
    "## Restart any running notebooks to apply the software updates"
   ]
  }
 ],
 "metadata": {
  "kernelspec": {
   "display_name": "Python 3 (ipykernel)",
   "language": "python",
   "name": "python3"
  },
  "language_info": {
   "codemirror_mode": {
    "name": "ipython",
    "version": 3
   },
   "file_extension": ".py",
   "mimetype": "text/x-python",
   "name": "python",
   "nbconvert_exporter": "python",
   "pygments_lexer": "ipython3",
   "version": "3.10.6"
  }
 },
 "nbformat": 4,
 "nbformat_minor": 5
}
