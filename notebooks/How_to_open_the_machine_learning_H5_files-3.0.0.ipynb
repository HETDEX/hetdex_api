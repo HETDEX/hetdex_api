{
 "cells": [
  {
   "cell_type": "markdown",
   "metadata": {},
   "source": [
    "# How to Open Machine Learning Input Products"
   ]
  },
  {
   "cell_type": "markdown",
   "metadata": {},
   "source": [
    "For each detectid in the line emission database (detect_hdr2.h5) we have generated 100 pixel (200 Angstrom) by 9 pixel fiber cutouts of the weighted sum of all fibers used to measured the extracton as well as cutouts of the four brightest fibers contributing to the flux. We also include the 1D spectrum (this is the same product included in the Spectra table for the detect_hdr2.h5 file) and a 30 arcsec x 30 arcsec cutout of HSC r-band imaging for the detection in available."
   ]
  },
  {
   "cell_type": "code",
   "execution_count": null,
   "metadata": {},
   "outputs": [],
   "source": [
    "import tables as tb\n",
    "import numpy as np\n",
    "import os.path as op\n",
    "\n",
    "from astropy.table import Table, join, unique\n",
    "import astropy.units as u\n",
    "from astropy.coordinates import SkyCoord\n",
    "from astropy.io import fits\n",
    "\n",
    "import matplotlib.pyplot as plt\n",
    "from matplotlib.colors import LogNorm\n",
    "from astropy.visualization import ZScaleInterval\n",
    "\n",
    "from hetdex_api.config import HDRconfig"
   ]
  },
  {
   "cell_type": "code",
   "execution_count": null,
   "metadata": {},
   "outputs": [],
   "source": [
    "%%javascript\n",
    "IPython.OutputArea.prototype._should_scroll = function(lines) {\n",
    "    return false;\n",
    "}"
   ]
  },
  {
   "cell_type": "code",
   "execution_count": null,
   "metadata": {},
   "outputs": [],
   "source": [
    "config = HDRconfig('hdr3')"
   ]
  },
  {
   "cell_type": "markdown",
   "metadata": {},
   "source": [
    "## Pytables and hetdex_api.config provide an easy interface to the ML products"
   ]
  },
  {
   "cell_type": "markdown",
   "metadata": {},
   "source": [
    "Labels are in:"
   ]
  },
  {
   "cell_type": "code",
   "execution_count": null,
   "metadata": {},
   "outputs": [],
   "source": [
    "labelfile = op.join( config.hdr_dir['hdr3'], 'catalogs','ml','ml-labels_3.0.0.tab')\n",
    "label_tab = Table.read(labelfile, format='ascii')"
   ]
  },
  {
   "cell_type": "code",
   "execution_count": null,
   "metadata": {},
   "outputs": [],
   "source": [
    "t = Table( np.unique(label_tab['detectid'], return_counts=True))"
   ]
  },
  {
   "cell_type": "code",
   "execution_count": null,
   "metadata": {},
   "outputs": [],
   "source": [
    "t_uniq = unique( label_tab, keys='detectid')"
   ]
  },
  {
   "cell_type": "markdown",
   "metadata": {},
   "source": [
    "### Label type breakdown. A few detectids can have two labels. You can choose which label to use"
   ]
  },
  {
   "cell_type": "code",
   "execution_count": null,
   "metadata": {},
   "outputs": [],
   "source": [
    "Table(np.unique(t_uniq['label'], return_counts=True))"
   ]
  },
  {
   "cell_type": "code",
   "execution_count": null,
   "metadata": {},
   "outputs": [],
   "source": [
    "np.array(np.unique(t_uniq['label']))"
   ]
  },
  {
   "cell_type": "markdown",
   "metadata": {},
   "source": [
    "### This file has the summed fiber cutout image and invidual fiber cutout images as well as HSC r-band imaging if available. We also include the 1D extracted spectrum of the detection."
   ]
  },
  {
   "cell_type": "code",
   "execution_count": null,
   "metadata": {},
   "outputs": [],
   "source": [
    "mlfile = op.join( config.hdr_dir['hdr3'], 'catalogs','ml','detect_ml_3.0.0.h5')\n",
    "fileh = tb.open_file(mlfile, 'r') \n",
    "\n",
    "print('ML data product file is found at {}'.format(mlfile))"
   ]
  },
  {
   "cell_type": "markdown",
   "metadata": {},
   "source": [
    "Here is the hierarchical structure:"
   ]
  },
  {
   "cell_type": "code",
   "execution_count": null,
   "metadata": {},
   "outputs": [],
   "source": [
    "fileh"
   ]
  },
  {
   "cell_type": "markdown",
   "metadata": {},
   "source": [
    "# Open the 2 Summed Fiber Image"
   ]
  },
  {
   "cell_type": "markdown",
   "metadata": {},
   "source": [
    "Because we have over 1 million detections in each table and each table contains several 2D arrays, the best way to navigate the file is by detectid. We have indexed all three tables based on the detectid so it is fast to query. But we do suggest you do it one by one. Please do not make copies of every component of this file on TACC anywhere on /work. Ideally you should learn to use the h5 files, otherwise pick smaller subsets of detections to work with."
   ]
  },
  {
   "cell_type": "code",
   "execution_count": null,
   "metadata": {},
   "outputs": [],
   "source": [
    "detectid_obj = 3000001176"
   ]
  },
  {
   "cell_type": "code",
   "execution_count": null,
   "metadata": {},
   "outputs": [],
   "source": [
    "obj_data = fileh.root.FiberImages.read_where('detectid == detectid_obj')[0]"
   ]
  },
  {
   "cell_type": "code",
   "execution_count": null,
   "metadata": {},
   "outputs": [],
   "source": [
    "height=9 # in pixels\n",
    "detectid = obj_data['detectid']\n",
    "wave = obj_data['im_wave']\n",
    "im_sum = obj_data['im_sum'] # this is the 2D summed image, 1st dim is height in fiber dims, 2nd dim is wave dim\n",
    "im_array = obj_data['im_array'] # this is the 4 brightest fibers, 1st dim is fibers, 2nd dim is fiber dims, 3rd is wavelength\n",
    "zscale = ZScaleInterval(contrast=0.5,krej=2.5)\n",
    "vmin, vmax = zscale.get_limits(values=im_sum)\n",
    "plt.figure(figsize=(12,5))\n",
    "plt.imshow(im_sum,vmin=vmin, vmax=vmax,extent=[wave[0], wave[-1], -int(height/2.), int(height/2.)], origin=\"lower\",cmap=plt.get_cmap('gray'),interpolation=\"none\")\n",
    "plt.show()"
   ]
  },
  {
   "cell_type": "code",
   "execution_count": null,
   "metadata": {},
   "outputs": [],
   "source": [
    "# grab random 10K fiber images, this is slow. I recommend using stampede2 if you want to load in a lot of data at once\n",
    "\n",
    "example_large_data_grab = False\n",
    "\n",
    "if example_large_data_grab:\n",
    "    rng = np.random.default_rng()\n",
    "    sel_random = rng.integers(len(fileh.root.FiberImages), size=10000)\n",
    "\n",
    "    im_array_table = Table(fileh.root.FiberImages.read())\n",
    "\n",
    "    im_array_table[sel_random]\n",
    "\n",
    "    im_array_random = fileh.root.FiberImages.read_coordinates(sel_random, 'im_array')"
   ]
  },
  {
   "cell_type": "markdown",
   "metadata": {},
   "source": [
    "# Get Single Fiber cutouts for the four brightest fibers:"
   ]
  },
  {
   "cell_type": "markdown",
   "metadata": {},
   "source": [
    "The 'im_array' column consists of fiber cutouts of the 4 brightest fibers"
   ]
  },
  {
   "cell_type": "code",
   "execution_count": null,
   "metadata": {},
   "outputs": [],
   "source": [
    "# plot each fiber for 4th object in example table\n",
    "height=9\n",
    "\n",
    "detectid = obj_data['detectid']\n",
    "wave = obj_data['im_wave']\n",
    "im_sum = obj_data['im_sum'] # this is the 2D summed image, 1st dim is height in fiber dims, 2nd dim is wave dim\n",
    "im_array = obj_data['im_array'] # this is the 4 brightest fibers, 1st dim is fibers, 2nd dim is fiber dims, 3rd is wavelength\n",
    "for im_i in np.arange(0,4):\n",
    "    zscale = ZScaleInterval(contrast=0.5,krej=2.5)\n",
    "    vmin, vmax = zscale.get_limits(values=im_array[im_i])\n",
    "    plt.figure(figsize=(12,4))\n",
    "    plt.title(str(detectid))\n",
    "    plt.imshow(im_array[im_i],vmin=vmin, vmax=vmax,extent=[wave[0], wave[-1], -int(height/2.), int(height/2.)], origin=\"lower\",cmap=plt.get_cmap('gray'),interpolation=\"none\")\n",
    "    plt.show()"
   ]
  },
  {
   "cell_type": "markdown",
   "metadata": {},
   "source": [
    "## Get the HSC 'r' band image if available"
   ]
  },
  {
   "cell_type": "code",
   "execution_count": null,
   "metadata": {},
   "outputs": [],
   "source": [
    "phot_image_table = Table(fileh.root.PhotImages.read_where('detectid == detectid_obj'))"
   ]
  },
  {
   "cell_type": "code",
   "execution_count": null,
   "metadata": {},
   "outputs": [],
   "source": [
    "#Loop over the images\n",
    "height=9\n",
    "for row in phot_image_table:\n",
    "    detectid = row['detectid']\n",
    "    im_phot = row['im_phot'] # this is the r-band image\n",
    "    zscale = ZScaleInterval(contrast=0.5,krej=2.5)\n",
    "    vmin, vmax = zscale.get_limits(values=im_phot)\n",
    "    plt.figure()\n",
    "    plt.title(str(detectid))\n",
    "    plt.imshow(im_phot,vmin=vmin, vmax=vmax,extent=[-15, 15, -15, 15], origin=\"lower\",cmap=plt.get_cmap('gray'),interpolation=\"none\")\n",
    "    plt.show()"
   ]
  },
  {
   "cell_type": "markdown",
   "metadata": {},
   "source": [
    "## Get the Detection Spectrum"
   ]
  },
  {
   "cell_type": "markdown",
   "metadata": {},
   "source": [
    "The 1D aperture Summed Spectrum is also contained in this file"
   ]
  },
  {
   "cell_type": "code",
   "execution_count": null,
   "metadata": {},
   "outputs": [],
   "source": [
    "spec_table = Table(fileh.root.Spec1D.read_where('detectid == detectid_obj'))"
   ]
  },
  {
   "cell_type": "code",
   "execution_count": null,
   "metadata": {},
   "outputs": [],
   "source": [
    "wave_rect = 2.0 * np.arange(1036) + 3470.0\n",
    "plt.figure(figsize=(8,8))\n",
    "plt.plot(wave_rect, spec_table['spec1D'][0]*10**-17 * u.erg / (u.cm ** 2 * u.s * u.AA))\n",
    "plt.xlabel('wavelength (AA)')\n",
    "plt.ylabel('spec 10**-17 ergs/s/cm^2/AA')\n",
    "plt.title(detectid_obj)\n",
    "plt.xlim(3550,5500)"
   ]
  },
  {
   "cell_type": "markdown",
   "metadata": {},
   "source": [
    "## PLEASE CLOSE THE H5 FILE WHEN DONE"
   ]
  },
  {
   "cell_type": "markdown",
   "metadata": {},
   "source": [
    "When done with an h5 file you should close it:"
   ]
  },
  {
   "cell_type": "code",
   "execution_count": null,
   "metadata": {},
   "outputs": [],
   "source": [
    "fileh.close()"
   ]
  },
  {
   "cell_type": "markdown",
   "metadata": {},
   "source": [
    "# Accessing the Line Flux Map images"
   ]
  },
  {
   "cell_type": "code",
   "execution_count": null,
   "metadata": {},
   "outputs": [],
   "source": [
    "# If this fails. Load latest phot_tools function. You will need to update hetdex-api. Open a terminal\n",
    "# cd software\n",
    "# git stash\n",
    "# git pull\n",
    "\n",
    "from hetdex_tools.phot_tools import fit_circular_aperture\n",
    "\n"
   ]
  },
  {
   "cell_type": "markdown",
   "metadata": {},
   "source": [
    "These line flux images are wavelength summed images created by summing along the wavelength dimension from -2 sigma to +2 sigma above and below the central wavelength"
   ]
  },
  {
   "cell_type": "code",
   "execution_count": null,
   "metadata": {},
   "outputs": [],
   "source": [
    "fileh_im = tb.open_file(op.join( config.hdr_dir['hdr3'], 'catalogs/line_images_3.0.0.h5'),'r')"
   ]
  },
  {
   "cell_type": "markdown",
   "metadata": {},
   "source": [
    "File structure breakdown. The \"LineImages\" table contains all necessary pieces to get the Line Flux map HDU. The \"Info\" table incluces the flux, flux_err, apcor and sn_im of measuring photometry in a r=1.5arcsec aperture. Note that the flux is underestimated from the fluxes in the HDR3 catalog by about a factor of 2 because we are using a small aperture radius that understamples the PSF. I recommend r=3 or 3.5 arcsec to get a more accurate total PS flux. The bkg_stddev is the standard deviation in the sigma-clipped intensity measured in an annulus at 5 to 7 arcsec around the detection. It is multiplied by the area of the central circular aperture. Astropy Photutils has some examples for more information (https://photutils.readthedocs.io/en/stable/aperture.html#sigma-clipped-median-within-a-circular-annulus). "
   ]
  },
  {
   "cell_type": "code",
   "execution_count": null,
   "metadata": {},
   "outputs": [],
   "source": [
    "fileh_im"
   ]
  },
  {
   "cell_type": "markdown",
   "metadata": {},
   "source": [
    "### Will need to open detection h5 file"
   ]
  },
  {
   "cell_type": "code",
   "execution_count": null,
   "metadata": {},
   "outputs": [],
   "source": [
    "deth5 = tb.open_file(config.detecth5, 'r')"
   ]
  },
  {
   "cell_type": "code",
   "execution_count": null,
   "metadata": {},
   "outputs": [],
   "source": [
    "# This function converts the row data from the H5 file into an HDU FITS standard\n",
    "def get_hdu(detectid_obj):\n",
    "    im_data = fileh_im.root.LineImages.read_where('detectid == detectid_obj')[0]\n",
    "    header = fits.Header.fromstring(im_data['header'])\n",
    "    hdu = fits.PrimaryHDU(im_data['line_image'], header=header)\n",
    "    hdu_error = fits.ImageHDU(im_data['line_image_err'], header=header)\n",
    "    hdu_x = fits.ImageHDU(im_data['delta_ra'], header=header)\n",
    "    hdu_y = fits.ImageHDU(im_data['delta_dec'], header=header)\n",
    "    return fits.HDUList([hdu, hdu_error, hdu_x, hdu_y])"
   ]
  },
  {
   "cell_type": "code",
   "execution_count": null,
   "metadata": {},
   "outputs": [],
   "source": [
    "# Function to plot line image. With option to change aperture size.\n",
    "def plot_sn_im(detectid_obj,\n",
    "               radius=1.5 * u.arcsec,\n",
    "                annulus=[5, 7] * u.arcsec):\n",
    "    \n",
    "    det_info = deth5.root.Detections.read_where('detectid == detectid_obj')[0]\n",
    "    linewidth = det_info['linewidth']\n",
    "    wave_obj = det_info['wave']\n",
    "    coords_obj = SkyCoord(det_info['ra'], det_info['dec'], unit='deg')\n",
    "    shotid_obj = det_info['shotid']\n",
    "\n",
    "    hdu = get_hdu(detectid_obj)\n",
    "    \n",
    "    plottitle = str(detectid_obj)\n",
    "    flux, flux_err, bkg_stddev, apcor = fit_circular_aperture(\n",
    "        hdu=hdu, coords=coords_obj, plot=True, plottitle=plottitle,\n",
    "        radius=radius, annulus=annulus\n",
    "    )\n",
    "    plt.text(2, 2,\n",
    "            \"S/N={:3.2f}\".format(flux.value / bkg_stddev.value),\n",
    "            size=18,\n",
    "            color=\"w\",\n",
    "    )"
   ]
  },
  {
   "cell_type": "markdown",
   "metadata": {},
   "source": [
    "### Plot up some label examples"
   ]
  },
  {
   "cell_type": "code",
   "execution_count": null,
   "metadata": {},
   "outputs": [],
   "source": [
    "sel_label = label_tab['label'] == 'badpix'#['badamp', 'badpix', 'confirmed', 'meteor']\n",
    "\n",
    "for det in label_tab['detectid'][sel_label][1000:1100]:\n",
    "    try:\n",
    "        plt.figure()\n",
    "        plot_sn_im(det)\n",
    "    except:\n",
    "        print('Failed for {}'.format(det))"
   ]
  },
  {
   "cell_type": "code",
   "execution_count": null,
   "metadata": {},
   "outputs": [],
   "source": []
  }
 ],
 "metadata": {
  "kernelspec": {
   "display_name": "Python 3",
   "language": "python",
   "name": "python3"
  },
  "language_info": {
   "codemirror_mode": {
    "name": "ipython",
    "version": 3
   },
   "file_extension": ".py",
   "mimetype": "text/x-python",
   "name": "python",
   "nbconvert_exporter": "python",
   "pygments_lexer": "ipython3",
   "version": "3.9.4"
  }
 },
 "nbformat": 4,
 "nbformat_minor": 4
}
