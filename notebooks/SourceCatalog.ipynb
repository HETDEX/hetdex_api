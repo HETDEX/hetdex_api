{
 "cells": [
  {
   "cell_type": "markdown",
   "metadata": {},
   "source": [
    "# Source Catalog Loading, Plotting and Exploring Examples"
   ]
  },
  {
   "cell_type": "code",
   "execution_count": null,
   "metadata": {},
   "outputs": [],
   "source": [
    "import numpy as np\n",
    "import os.path as op\n",
    "\n",
    "from astropy.table import Table, unique\n",
    "\n",
    "from hetdex_tools.source_catalog import plot_source_group\n",
    "from hetdex_api.elixer_widget_cls import ElixerWidget\n",
    "from hetdex_api.query_widget import QueryWidget\n",
    "from hetdex_api.amp_widget import AmpWidget\n",
    "from hetdex_api.config import HDRconfig"
   ]
  },
  {
   "cell_type": "code",
   "execution_count": null,
   "metadata": {},
   "outputs": [],
   "source": [
    "%%javascript\n",
    "IPython.OutputArea.prototype._should_scroll = function(lines) {\n",
    "    return false;\n",
    "}"
   ]
  },
  {
   "cell_type": "markdown",
   "metadata": {},
   "source": [
    "This catalog is a combination of sources from the continuum source catalog, the curated detection line catalog of the same version and the confirmed AGN detection IDs from Chenxu Liu's AGN search. Each row is for a detection and its unique catalog detectid. Detectid's of AGN sources *may* appear twice if they are also found in the continuum or curated line catalogs. This is intentional as information about the detection type is used to guess the redshift of the sources. The column `'det_type'` can be `['line','cont','agn']`. Version 2.1.3 includes a column called \"source_type\" where we make a preliminary guess whether the sources is 'agn','lae', 'oii', 'star', 'lzg'(low-z galaxy without line emission), 'unsure'. "
   ]
  },
  {
   "cell_type": "code",
   "execution_count": null,
   "metadata": {},
   "outputs": [],
   "source": [
    "# Enter the catalog version\n",
    "\n",
    "version = '3.0.1'\n",
    "\n",
    "config = HDRconfig()\n",
    "catfile = op.join(config.hdr_dir['hdr3'], 'catalogs', 'source_catalog_' + version + '.fits')\n",
    "source_table = Table.read(catfile)\n",
    "\n",
    "print('Source catalog was found at {}'.format(catfile))"
   ]
  },
  {
   "cell_type": "markdown",
   "metadata": {},
   "source": [
    "Columns are as follows, most are directly from the detection and elixer catalogs. Check the wiki for more info.\n",
    "    \n",
    "    https://luna.mpe.mpg.de/wikihetdex/index.php/Column_Info"
   ]
  },
  {
   "cell_type": "code",
   "execution_count": null,
   "metadata": {},
   "outputs": [],
   "source": [
    "source_table.columns"
   ]
  },
  {
   "cell_type": "markdown",
   "metadata": {},
   "source": [
    "You can sort the table using the `unique` function from `astropy.table` on the `source_id` key. For nearby galaxies, stars and AGN, many detectids can comprise the same source (ie. the same `source_id`). When you reduce the catalog using the `unique` function, only 1 detectid remains for the source. It is sorted such that the source with a wavelength matching the `z_guess` value is selected and the detectid is located close to the positional center of the source group. "
   ]
  },
  {
   "cell_type": "code",
   "execution_count": null,
   "metadata": {},
   "outputs": [],
   "source": [
    "# selecting for S/N>5.5 line sources and all continuum sources\n",
    "sel_sn = (source_table['sn'] > 5.5) & (source_table['det_type'] == 'line')\n",
    "sel_cont = source_table['det_type'] == 'cont'\n",
    "sel_cat = sel_sn | sel_cont\n",
    "uniq_table = unique(source_table[sel_cat], keys='source_id')"
   ]
  },
  {
   "cell_type": "code",
   "execution_count": null,
   "metadata": {},
   "outputs": [],
   "source": [
    "len(uniq_table)"
   ]
  },
  {
   "cell_type": "code",
   "execution_count": null,
   "metadata": {},
   "outputs": [],
   "source": [
    "star = uniq_table['source_id'][uniq_table['source_type'] == 'star']\n",
    "oii = uniq_table['source_id'][uniq_table['source_type'] == 'oii']\n",
    "lae = uniq_table['source_id'][uniq_table['source_type'] == 'lae']\n",
    "agn = uniq_table['source_id'][uniq_table['source_type'] == 'agn']\n",
    "lzg = uniq_table['source_id'][uniq_table['source_type'] == 'lzg']\n",
    "\n",
    "print('There are {} low-z gals, {} stars, {} OII emitters, {} AGN, and {} LAEs'. \\\n",
    "      format(np.size(lzg), np.size(star), np.size(oii), np.size(agn), np.size(lae)))"
   ]
  },
  {
   "cell_type": "markdown",
   "metadata": {},
   "source": [
    "## Here is an example of plotting a group"
   ]
  },
  {
   "cell_type": "code",
   "execution_count": null,
   "metadata": {},
   "outputs": [],
   "source": [
    "%matplotlib inline"
   ]
  },
  {
   "cell_type": "code",
   "execution_count": null,
   "metadata": {},
   "outputs": [],
   "source": [
    "# the source_ids are sorted by member number ('n_member' in the catalog)\n",
    "# This is how many detections are found in the source_id group\n",
    "\n",
    "# Here's a query for high S/N LAEs\n",
    "sel = (uniq_table['source_type'] == 'lae') & (uniq_table['sn'] > 6.5)\n",
    "sid = uniq_table['source_id'][sel][20000]\n",
    "\n",
    "# Index a star \n",
    "#sid = star[100]\n",
    "\n",
    "# Index an OII galaxy\n",
    "#sid = oii[0]\n",
    "\n",
    "# Index an LAE\n",
    "#sid = lae[0]\n",
    "\n",
    "# Index the AGN list:\n",
    "#sid = agn[0]\n",
    "\n",
    "# This step grabs the source group so we can look at each source in Elixer\n",
    "sel_group = (source_table['source_id'] == sid) \n",
    "group = source_table[sel_group]\n",
    "\n",
    "#print(sid)\n",
    "#print(group)\n",
    "\n",
    "# this function overplots the source group over an image\n",
    "# use label=True to see detectid's on image\n",
    "# use save=True to save the image to you working directory\n",
    "# the size of the line emission is scaled to the S/N of the line\n",
    "\n",
    "plot_source_group(source_id=sid, source_table=source_table, label=False, save=False)\n",
    "ew = ElixerWidget(detectlist = source_table['detectid'][sel_group])"
   ]
  },
  {
   "cell_type": "markdown",
   "metadata": {},
   "source": [
    "## Follow a detection in the 2D image with AmpWidget "
   ]
  },
  {
   "cell_type": "markdown",
   "metadata": {},
   "source": [
    "This will map the detectid from the ElixerWidget above to the amp widget. The detection is marked with a circle."
   ]
  },
  {
   "cell_type": "code",
   "execution_count": null,
   "metadata": {},
   "outputs": [],
   "source": [
    "aw = AmpWidget(detectid=ew.detectbox.value)"
   ]
  },
  {
   "cell_type": "markdown",
   "metadata": {},
   "source": [
    "## Follow up with QueryWidget"
   ]
  },
  {
   "cell_type": "markdown",
   "metadata": {},
   "source": [
    "You can extract fibers on demand around the detection via QueryWiget:"
   ]
  },
  {
   "cell_type": "code",
   "execution_count": null,
   "metadata": {
    "scrolled": true
   },
   "outputs": [],
   "source": [
    "qw = QueryWidget(detectid=ew.detectbox.value)"
   ]
  },
  {
   "cell_type": "markdown",
   "metadata": {},
   "source": [
    "## Exploring fun with plotly "
   ]
  },
  {
   "cell_type": "code",
   "execution_count": null,
   "metadata": {},
   "outputs": [],
   "source": [
    "import plotly.express as px"
   ]
  },
  {
   "cell_type": "code",
   "execution_count": null,
   "metadata": {},
   "outputs": [],
   "source": [
    "df = source_table[source_table['sn']>5.5].to_pandas()"
   ]
  },
  {
   "cell_type": "code",
   "execution_count": null,
   "metadata": {},
   "outputs": [],
   "source": [
    "df['marker_size'] = 3\n",
    "fig = px.scatter(df, \n",
    "                 template='plotly', \n",
    "                 x='sn', y='z_hetdex', \n",
    "                 color='source_type', \n",
    "                 size='marker_size', \n",
    "                 size_max=3, \n",
    "                 marginal_y='histogram', \n",
    "                 marginal_x='histogram',\n",
    "                 hover_data=['detectid','source_id'])\n",
    "fig.show()"
   ]
  },
  {
   "cell_type": "code",
   "execution_count": null,
   "metadata": {},
   "outputs": [],
   "source": []
  }
 ],
 "metadata": {
  "kernelspec": {
   "display_name": "Python 3",
   "language": "python",
   "name": "python3"
  },
  "language_info": {
   "codemirror_mode": {
    "name": "ipython",
    "version": 3
   },
   "file_extension": ".py",
   "mimetype": "text/x-python",
   "name": "python",
   "nbconvert_exporter": "python",
   "pygments_lexer": "ipython3",
   "version": "3.9.4"
  }
 },
 "nbformat": 4,
 "nbformat_minor": 2
}
