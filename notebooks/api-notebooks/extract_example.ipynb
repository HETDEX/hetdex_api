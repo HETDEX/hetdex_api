{
 "cells": [
  {
   "cell_type": "markdown",
   "metadata": {},
   "source": [
    "Extract Example\n",
    "======================="
   ]
  },
  {
   "cell_type": "code",
   "execution_count": null,
   "metadata": {},
   "outputs": [],
   "source": [
    "%matplotlib inline\n",
    "\n",
    "import numpy as np\n",
    "import tables as tb\n",
    "import matplotlib.pyplot as plt\n",
    "\n",
    "from astropy.table import Table, Column, join\n",
    "from astropy.coordinates import SkyCoord\n",
    "import astropy.units as u\n",
    "from astropy.io import fits\n",
    "\n",
    "from hetdex_api.extract import Extract\n",
    "from hetdex_api.config import HDRconfig\n",
    "from hetdex_tools.get_spec import get_spectra\n",
    "from hetdex_api.shot import get_fibers_table, open_shot_file\n",
    "from hetdex_api.detections import Detections"
   ]
  },
  {
   "cell_type": "code",
   "execution_count": null,
   "metadata": {},
   "outputs": [],
   "source": [
    "%matplotlib inline"
   ]
  },
  {
   "cell_type": "code",
   "execution_count": null,
   "metadata": {},
   "outputs": [],
   "source": [
    "\n",
    "plt.style.use('default')\n",
    "plt.rcParams['axes.linewidth'] = 2\n",
    "plt.rcParams.update({'font.size': 14})\n",
    "\n",
    "plt.rcParams['lines.linewidth'] = 2\n",
    "\n",
    "plt.rcParams['font.family'] = 'serif'\n",
    "plt.rcParams['mathtext.fontset'] = 'dejavuserif'\n",
    "plt.rcParams['xtick.direction']= 'in'\n",
    "plt.rcParams['ytick.direction']= 'in'\n",
    "plt.rcParams['xtick.labelsize']= 12.0\n",
    "plt.rcParams['ytick.labelsize']= 12.0"
   ]
  },
  {
   "cell_type": "code",
   "execution_count": null,
   "metadata": {},
   "outputs": [],
   "source": [
    "# Example Extraction for a White Dwarf in HDR4 continuum catalog. Using the Detections API just to get coordinates, shotid and fwhm. It is not necessary\n",
    "\n",
    "C_hdr4 = Detections('hdr4', catalog_type='continuum')\n",
    "\n",
    "detectid = 4090341661\n",
    "coord = C_hdr4.get_coord(detectid)\n",
    "survey_info = C_hdr4.get_survey_info(detectid)[0]\n",
    "det_info = C_hdr4.get_detection_info(detectid)[0]\n",
    "\n",
    "shotid = det_info['shotid']\n",
    "fwhm = survey_info['fwhm_virus']\n",
    "\n",
    "# get H5 spectrum just for comparison here\n",
    "spec = C_hdr4.get_spectrum(detectid, deredden=False)"
   ]
  },
  {
   "cell_type": "code",
   "execution_count": null,
   "metadata": {},
   "outputs": [],
   "source": [
    "spec_tab = get_spectra( coords=coord, shotid=shotid, survey='hdr4', loglevel='WARNING')"
   ]
  },
  {
   "cell_type": "code",
   "execution_count": null,
   "metadata": {},
   "outputs": [],
   "source": [
    "E = Extract()\n",
    "E.load_shot(shotid)\n",
    "radius=3.5\n",
    "ffsky=False\n",
    "\n",
    "# can use Extracts get_fiberinfo_for_coord or get_fibers_table from hetdex_api.shot. These are the\n",
    "# same behind code bits. get_fiberinfo_for_coord starts with get_fibers_table then gets\n",
    "# x,y coordinates on IFU and masking data\n",
    "use_extract = False\n",
    "\n",
    "if True:\n",
    "\n",
    "    info_result = E.get_fiberinfo_for_coord(coord, radius=radius, verbose=True, ffsky=ffsky)\n",
    "    ifux, ifuy, xc, yc, ra, dec, data, error, mask = info_result\n",
    "\n",
    "else: \n",
    "    fib_table = get_fibers_table(\n",
    "        shotid, \n",
    "        coord,\n",
    "        survey=survey,\n",
    "        radius=radius,\n",
    "        verbose=True,\n",
    "        astropy=False,\n",
    "        F=E.fibers, # pass through Fibers class object to keep H5 open, will open if set to None\n",
    "        fiber_flux_offset=None\n",
    "    )\n",
    "    \n",
    "    fiber_lower_limit=3 # this is built into get_spectra. Won't extract on less than 3 fibers\n",
    "    \n",
    "    if np.size(fib_table) < fiber_lower_limit:\n",
    "        print('Not enough fibers')\n",
    "\n",
    "    ifux = fib_table[\"ifux\"]\n",
    "    ifuy = fib_table[\"ifuy\"]\n",
    "    ra = fib_table[\"ra\"]\n",
    "    dec = fib_table[\"dec\"] \n",
    "    \n",
    "    if ffsky:\n",
    "        if self.survey == 'hdr2.1':\n",
    "            spec = fib_table[\"spec_fullsky_sub\"]\n",
    "        else:\n",
    "            spec = fib_table[\"calfib_ffsky\"]\n",
    "    else:\n",
    "        spec = fib_table[\"calfib\"]\n",
    "        spece = fib_table[\"calfibe\"]\n",
    "        ftf = fib_table[\"fiber_to_fiber\"]\n",
    "\n",
    "        mask = fib_table[\"calfibe\"]\n",
    "        mask = (mask > 1e-8) * (np.median(ftf, axis=1) > 0.5)[:, np.newaxis]\n",
    "\n",
    "        ifux[:] = ifux + E.dither_pattern[expn - 1, 0]\n",
    "        ifuy[:] = ifuy + E.dither_pattern[expn - 1, 1]\n",
    "\n",
    "        xc, yc = E.convert_radec_to_ifux_ifuy(\n",
    "            ifux, ifuy, ra, dec, coord.ra.deg, coord.dec.deg\n",
    "        )\n",
    "\n",
    "    \n",
    "moffat = E.moffat_psf(fwhm, 10.5, 0.25)\n",
    "weights = E.build_weights(xc, yc, ifux, ifuy, moffat)\n",
    "\n",
    "# See Greg Zeimann's Remedy code\n",
    "norm = np.sum(weights, axis=0)\n",
    "\n",
    "weights = weights/norm\n",
    "\n",
    "result = E.get_spectrum(data, error, mask, weights, remove_low_weights = False)\n",
    "\n",
    "spectrum, spectrum_error = [res for res in result]\n",
    "\n",
    "plt.figure(figsize=(20,4))\n",
    "plt.subplot(131)\n",
    "plt.plot(E.wave, spectrum/norm, lw=2, label='weight normalization')\n",
    "plt.plot(E.wave, spec_tab['spec'][0], lw=2, label='get_spectra', linestyle='dashed')\n",
    "plt.plot(E.wave, spec['spec1d'], label='hdr4/H5')\n",
    "plt.legend()\n",
    "\n",
    "plt.subplot(132)\n",
    "plt.plot(E.wave, spectrum_error/norm, label='extract error')\n",
    "plt.plot(E.wave, spec_tab['spec_err'][0], label='get_spectra error')\n",
    "plt.plot(E.wave, spec['spec1d_err'], label='hdr4/h5 error')\n",
    "\n",
    "plt.legend()\n",
    "\n",
    "plt.subplot(133)\n",
    "plt.plot(E.wave, (spectrum/norm) / (spec['spec1d']), label='extract/h5')\n",
    "plt.plot(E.wave, (spectrum/norm) / (spec_tab['spec'][0]), label='extract/get_spectra')\n",
    "plt.legend()"
   ]
  },
  {
   "cell_type": "code",
   "execution_count": null,
   "metadata": {},
   "outputs": [],
   "source": [
    "# when done you should close Extract and Detection classes\n",
    "\n",
    "E.close()\n",
    "C_hdr4.close()"
   ]
  }
 ],
 "metadata": {
  "kernelspec": {
   "display_name": "Python 3 (ipykernel)",
   "language": "python",
   "name": "python3"
  },
  "language_info": {
   "codemirror_mode": {
    "name": "ipython",
    "version": 3
   },
   "file_extension": ".py",
   "mimetype": "text/x-python",
   "name": "python",
   "nbconvert_exporter": "python",
   "pygments_lexer": "ipython3",
   "version": "3.9.7"
  },
  "widgets": {
   "application/vnd.jupyter.widget-state+json": {
    "state": {},
    "version_major": 2,
    "version_minor": 0
   }
  }
 },
 "nbformat": 4,
 "nbformat_minor": 4
}
