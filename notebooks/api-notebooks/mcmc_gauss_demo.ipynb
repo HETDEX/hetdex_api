{
 "cells": [
  {
   "cell_type": "markdown",
   "metadata": {},
   "source": [
    "# Example using hetdex_api::hetdex_tools.mcmc_gauss"
   ]
  },
  {
   "cell_type": "code",
   "execution_count": 1,
   "metadata": {},
   "outputs": [],
   "source": [
    "from hetdex_tools import mcmc_gauss\n",
    "import numpy as np\n",
    "import matplotlib.pyplot as plt\n"
   ]
  },
  {
   "cell_type": "code",
   "execution_count": 2,
   "metadata": {},
   "outputs": [],
   "source": [
    "%matplotlib inline"
   ]
  },
  {
   "cell_type": "code",
   "execution_count": 3,
   "metadata": {},
   "outputs": [],
   "source": [
    "#just to make up some data to fit\n",
    "def gaussian(x,u1,s1,A1=1.0,y=0.0):\n",
    "    if (x is None) or (u1 is None) or (s1 is None):\n",
    "        return None\n",
    "    return A1 * (np.exp(-np.power((x - u1) / s1, 2.) / 2.) / np.sqrt(2 * np.pi * s1 ** 2)) + y"
   ]
  },
  {
   "cell_type": "code",
   "execution_count": 4,
   "metadata": {},
   "outputs": [],
   "source": [
    "#made up data\n",
    "mu = 4500\n",
    "sigma=10\n",
    "A=50\n",
    "y=1.0\n",
    "waves = np.arange(3540,5542,2)\n",
    "data_flux = gaussian(waves,u1=mu,s1=sigma,A1=A,y=y)\n",
    "data_err = np.random.uniform(0.1,1.0,len(waves))"
   ]
  },
  {
   "cell_type": "code",
   "execution_count": 5,
   "metadata": {},
   "outputs": [],
   "source": [
    "#instatiate an MCMC_Gauss object and populate\n",
    "#you can optionally pass a logger instance to the constructor, otherwise it will make its own \n",
    "fit = mcmc_gauss.MCMC_Gauss()\n",
    "#set the initial guesss\n",
    "#(here you can see it is set wrong to show we converge on the correct answer)\n",
    "fit.initial_A = 25\n",
    "fit.initial_y = 0\n",
    "fit.initial_sigma = 5\n",
    "fit.initial_mu = 4503\n",
    "fit.initial_peak = None\n",
    "\n",
    "#set the data to fit\n",
    "fit.data_x = waves\n",
    "fit.data_y = data_flux\n",
    "fit.err_y = data_err\n",
    "fit.err_x = np.zeros(len(fit.err_y))\n",
    "\n",
    "\n",
    "#these are the defaults and don't have to be set\n",
    "fit.max_sigma = 10.0\n",
    "fit.min_sigma = 2\n",
    "fit.range_mu = 5.0\n",
    "fit.max_A_mult = 2.0\n",
    "fit.max_y_mult = 2.0\n",
    "fit.min_y = -10.0 \n",
    "\n",
    "fit.burn_in = 250\n",
    "fit.main_run = 1000\n",
    "fit.walkers = 100"
   ]
  },
  {
   "cell_type": "code",
   "execution_count": 6,
   "metadata": {},
   "outputs": [
    {
     "name": "stderr",
     "output_type": "stream",
     "text": [
      "[INFO - 2023-05-01 11:19:23,265] MCMC SNR model Area with data error: 10.209484182359114 +/- 0.4851826736113066\n",
      "[INFO - 2023-05-01 11:19:23,266] MCMC mu: initial[4503] mcmc(4500.1, +0.7706, -0.73724)\n",
      "[INFO - 2023-05-01 11:19:23,267] MCMC sigma: initial[5] mcmc(9.4008, +0.41021, -0.58665)\n",
      "[INFO - 2023-05-01 11:19:23,267] MCMC A: initial[25] mcmc(47.309, +1.8377, -2.6589) *usually over 2AA bins\n",
      "[INFO - 2023-05-01 11:19:23,268] MCMC y: initial[0] mcmc(1.0013, +0.011243, -0.010914)\n",
      "[INFO - 2023-05-01 11:19:23,268] MCMC SNR: 10.209\n",
      "[INFO - 2023-05-01 11:19:23,268] MCMC f: initial[0] mcmc(0.0087721, +3.3822e+14, -3.5344e+14)\n"
     ]
    },
    {
     "data": {
      "text/plain": [
       "True"
      ]
     },
     "execution_count": 6,
     "metadata": {},
     "output_type": "execute_result"
    }
   ],
   "source": [
    "fit.run_mcmc()"
   ]
  },
  {
   "cell_type": "code",
   "execution_count": 7,
   "metadata": {},
   "outputs": [
    {
     "name": "stdout",
     "output_type": "stream",
     "text": [
      "Help on class MCMC_Gauss in module hetdex_tools.mcmc_gauss:\n",
      "\n",
      "class MCMC_Gauss(builtins.object)\n",
      " |  MCMC_Gauss(logger=None)\n",
      " |  \n",
      " |  Methods defined here:\n",
      " |  \n",
      " |  __init__(self, logger=None)\n",
      " |      Initialize self.  See help(type(self)) for accurate signature.\n",
      " |  \n",
      " |  approx_symmetric_error(self, parm)\n",
      " |  \n",
      " |  compute_model(self, x, mu, sigma, A, y)\n",
      " |  \n",
      " |  lnlike(self, theta, x, y, yerr)\n",
      " |  \n",
      " |  lnprior(self, theta)\n",
      " |      # if any are zero, the whole prior is zero\n",
      " |      # all priors here are uniformitive ... i.e they are all flat ... either zero or one\n",
      " |  \n",
      " |  lnprob(self, theta, x, y, yerr)\n",
      " |      ln(probability)\n",
      " |      \n",
      " |      :param theta: parameters to check\n",
      " |      :param x:  THE data (x axis or wavelengths, in this case)\n",
      " |      :param y: THE data (y axis or flux counts, in this case)\n",
      " |      :param yerr:  The error on the y axis data flux counts\n",
      " |      :return:\n",
      " |  \n",
      " |  model(self, x, theta)\n",
      " |  \n",
      " |  noise_model(self)\n",
      " |  \n",
      " |  run_mcmc(self)\n",
      " |  \n",
      " |  sanity_check_init(self)\n",
      " |      evaluation that the initialization data makes sense before running MCMC\n",
      " |      :return:\n",
      " |  \n",
      " |  ----------------------------------------------------------------------\n",
      " |  Data descriptors defined here:\n",
      " |  \n",
      " |  __dict__\n",
      " |      dictionary for instance variables (if defined)\n",
      " |  \n",
      " |  __weakref__\n",
      " |      list of weak references to the object (if defined)\n",
      "\n"
     ]
    }
   ],
   "source": [
    "help( mcmc_gauss.MCMC_Gauss)"
   ]
  },
  {
   "cell_type": "code",
   "execution_count": 8,
   "metadata": {},
   "outputs": [
    {
     "data": {
      "image/png": "[encoded data removed]",
      "text/plain": [
       "<Figure size 432x288 with 1 Axes>"
      ]
     },
     "metadata": {
      "needs_background": "light"
     },
     "output_type": "display_data"
    }
   ],
   "source": [
    "plt.close('all')\n",
    "plt.errorbar(waves,data_flux,data_err,fmt='.')\n",
    "plt.plot(waves,gaussian(waves,u1=fit.mcmc_mu[0],s1=fit.mcmc_sigma[0],A1=fit.mcmc_A[0],y=fit.mcmc_y[0]))\n",
    "plt.axhline(0,c='k')\n",
    "plt.xlim(mu-50,mu+50)\n",
    "plt.show()"
   ]
  }
 ],
 "metadata": {
  "kernelspec": {
   "display_name": "Python 3",
   "language": "python",
   "name": "python3"
  },
  "language_info": {
   "codemirror_mode": {
    "name": "ipython",
    "version": 3
   },
   "file_extension": ".py",
   "mimetype": "text/x-python",
   "name": "python",
   "nbconvert_exporter": "python",
   "pygments_lexer": "ipython3",
   "version": "3.7.0"
  },
  "varInspector": {
   "cols": {
    "lenName": 16,
    "lenType": 16,
    "lenVar": 40
   },
   "kernels_config": {
    "python": {
     "delete_cmd_postfix": "",
     "delete_cmd_prefix": "del ",
     "library": "var_list.py",
     "varRefreshCmd": "print(var_dic_list())"
    },
    "r": {
     "delete_cmd_postfix": ") ",
     "delete_cmd_prefix": "rm(",
     "library": "var_list.r",
     "varRefreshCmd": "cat(var_dic_list()) "
    }
   },
   "types_to_exclude": [
    "module",
    "function",
    "builtin_function_or_method",
    "instance",
    "_Feature"
   ],
   "window_display": false
  }
 },
 "nbformat": 4,
 "nbformat_minor": 4
}
