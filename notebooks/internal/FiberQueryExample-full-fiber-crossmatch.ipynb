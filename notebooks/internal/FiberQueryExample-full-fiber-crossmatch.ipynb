{
 "cells": [
  {
   "cell_type": "code",
   "execution_count": 1,
   "id": "779ebe43",
   "metadata": {},
   "outputs": [],
   "source": [
    "import numpy as np\n",
    "import time\n",
    "\n",
    "import matplotlib.pyplot as plt\n",
    "\n",
    "from astropy.table import Table, vstack, hstack\n",
    "from astropy.coordinates import SkyCoord\n",
    "import astropy.units as u\n",
    "\n",
    "from hetdex_api.shot import get_fibers_table\n",
    "from hetdex_api.survey import FiberIndex"
   ]
  },
  {
   "cell_type": "markdown",
   "id": "65bdf4fe",
   "metadata": {},
   "source": [
    "# Query a single coordinate:"
   ]
  },
  {
   "cell_type": "code",
   "execution_count": 2,
   "id": "646a24e7",
   "metadata": {},
   "outputs": [],
   "source": [
    "coord = SkyCoord(ra=214.86807251*u.deg, dec=52.86686707*u.deg)"
   ]
  },
  {
   "cell_type": "code",
   "execution_count": 3,
   "id": "0c7e8dc2",
   "metadata": {},
   "outputs": [],
   "source": [
    "# Intiate the FiberIndex class from hetdex_api.survey:\n",
    "F = FiberIndex()\n",
    "\n",
    "#help(F.query_region)"
   ]
  },
  {
   "cell_type": "markdown",
   "id": "ec0ae161",
   "metadata": {},
   "source": [
    "FiberIndex.Query_region() returns an astropy table of all fibers within the the aperture defined. Default is 3.5 arcsec radius. amp_flag, gal_flag, meteor, throughput flag populate whether the fiber would make it into the current catalog. 1 is good, 0 is removed. 'flag' combines the three flags"
   ]
  },
  {
   "cell_type": "code",
   "execution_count": 4,
   "id": "9de6ef32",
   "metadata": {},
   "outputs": [],
   "source": [
    "# This example was observed in multiple observations so there are many associated fibers\n",
    "fibtab = F.query_region(coord, radius=3.5*u.arcsec)\n",
    "#fibtab.show_in_notebook()"
   ]
  },
  {
   "cell_type": "code",
   "execution_count": 5,
   "id": "dfb925a6-717d-45fa-a8a2-9255705316fe",
   "metadata": {},
   "outputs": [
    {
     "data": {
      "text/html": [
       "<div><i>Table length=79</i>\n",
       "<table id=\"table140200230449120\" class=\"table-striped table-bordered table-condensed\">\n",
       "<thead><tr><th>multiframe</th><th>ra</th><th>dec</th><th>fiber_id</th><th>healpix</th><th>amp</th><th>date</th><th>datevobs</th><th>expnum</th><th>fibidx</th><th>fibnum</th><th>fpx</th><th>fpy</th><th>ifuid</th><th>ifuslot</th><th>ifux</th><th>ifuy</th><th>shotid</th><th>specid</th><th>flag</th><th>amp_flag</th><th>meteor_flag</th><th>gal_flag</th><th>shot_flag</th><th>throughput_flag</th></tr></thead>\n",
       "<thead><tr><th>bytes20</th><th>float32</th><th>float32</th><th>bytes38</th><th>int64</th><th>bytes2</th><th>int64</th><th>bytes12</th><th>int32</th><th>int32</th><th>int32</th><th>float32</th><th>float32</th><th>bytes3</th><th>bytes3</th><th>float32</th><th>float32</th><th>int64</th><th>bytes3</th><th>bool</th><th>bool</th><th>bool</th><th>bool</th><th>bool</th><th>bool</th></tr></thead>\n",
       "<tr><td>multi_012_106_033_LL</td><td>214.86722</td><td>52.867176</td><td>20170326008_1_multi_012_106_033_LL_102</td><td>1306228172</td><td>LL</td><td>20170326</td><td>20170326v008</td><td>1</td><td>101</td><td>102</td><td>-160.16</td><td>439.39</td><td>033</td><td>106</td><td>-10.17</td><td>-11.02</td><td>20170326008</td><td>012</td><td>False</td><td>False</td><td>True</td><td>True</td><td>False</td><td>True</td></tr>\n",
       "<tr><td>multi_012_106_033_LL</td><td>214.86678</td><td>52.86685</td><td>20170326008_3_multi_012_106_033_LL_103</td><td>1306228172</td><td>LL</td><td>20170326</td><td>20170326v008</td><td>3</td><td>102</td><td>103</td><td>-161.485</td><td>440.09</td><td>033</td><td>106</td><td>-12.71</td><td>-11.02</td><td>20170326008</td><td>012</td><td>False</td><td>False</td><td>True</td><td>True</td><td>False</td><td>True</td></tr>\n",
       "<tr><td>multi_038_096_014_LL</td><td>214.86717</td><td>52.86709</td><td>20170328019_1_multi_038_096_014_LL_103</td><td>1306228172</td><td>LL</td><td>20170328</td><td>20170328v019</td><td>1</td><td>102</td><td>103</td><td>-162.76</td><td>339.42</td><td>014</td><td>096</td><td>-12.71</td><td>-11.02</td><td>20170328019</td><td>038</td><td>True</td><td>True</td><td>True</td><td>True</td><td>True</td><td>True</td></tr>\n",
       "<tr><td>multi_038_096_014_LL</td><td>214.86777</td><td>52.86781</td><td>20170328019_3_multi_038_096_014_LL_084</td><td>1306228172</td><td>LL</td><td>20170328</td><td>20170328v019</td><td>3</td><td>83</td><td>84</td><td>-162.815</td><td>342.33</td><td>014</td><td>096</td><td>-13.98</td><td>-8.81</td><td>20170328019</td><td>038</td><td>True</td><td>True</td><td>True</td><td>True</td><td>True</td><td>True</td></tr>\n",
       "<tr><td>multi_038_096_014_LL</td><td>214.8668</td><td>52.867413</td><td>20170328019_3_multi_038_096_014_LL_103</td><td>1306228172</td><td>LL</td><td>20170328</td><td>20170328v019</td><td>3</td><td>102</td><td>103</td><td>-161.545</td><td>340.12</td><td>014</td><td>096</td><td>-12.71</td><td>-11.02</td><td>20170328019</td><td>038</td><td>True</td><td>True</td><td>True</td><td>True</td><td>True</td><td>True</td></tr>\n",
       "<tr><td>multi_038_096_014_LL</td><td>214.8675</td><td>52.867462</td><td>20170328019_2_multi_038_096_014_LL_084</td><td>1306228172</td><td>LL</td><td>20170328</td><td>20170328v019</td><td>2</td><td>83</td><td>84</td><td>-162.815</td><td>340.93</td><td>014</td><td>096</td><td>-13.98</td><td>-8.81</td><td>20170328019</td><td>038</td><td>True</td><td>True</td><td>True</td><td>True</td><td>True</td><td>True</td></tr>\n",
       "<tr><td>multi_038_096_014_LL</td><td>214.86652</td><td>52.86706</td><td>20170328019_2_multi_038_096_014_LL_103</td><td>1306228172</td><td>LL</td><td>20170328</td><td>20170328v019</td><td>2</td><td>102</td><td>103</td><td>-161.545</td><td>338.72</td><td>014</td><td>096</td><td>-12.71</td><td>-11.02</td><td>20170328019</td><td>038</td><td>True</td><td>True</td><td>True</td><td>True</td><td>True</td><td>True</td></tr>\n",
       "<tr><td>multi_024_083_023_LU</td><td>214.86671</td><td>52.86696</td><td>20170331007_1_multi_024_083_023_LU_054</td><td>1306228172</td><td>LU</td><td>20170331</td><td>20170331v007</td><td>1</td><td>53</td><td>54</td><td>125.9</td><td>232.64</td><td>023</td><td>083</td><td>-24.15</td><td>-17.63</td><td>20170331007</td><td>024</td><td>True</td><td>True</td><td>True</td><td>True</td><td>True</td><td>True</td></tr>\n",
       "<tr><td>multi_024_083_023_LU</td><td>214.8675</td><td>52.86761</td><td>20170331007_3_multi_024_083_023_LU_073</td><td>1306228172</td><td>LU</td><td>20170331</td><td>20170331v007</td><td>3</td><td>72</td><td>73</td><td>128.385</td><td>231.14</td><td>023</td><td>083</td><td>-22.88</td><td>-19.83</td><td>20170331007</td><td>024</td><td>True</td><td>True</td><td>True</td><td>True</td><td>True</td><td>True</td></tr>\n",
       "<tr><td>multi_024_083_023_LU</td><td>214.8671</td><td>52.867268</td><td>20170331007_2_multi_024_083_023_LU_054</td><td>1306228172</td><td>LU</td><td>20170331</td><td>20170331v007</td><td>2</td><td>53</td><td>54</td><td>127.115</td><td>231.94</td><td>023</td><td>083</td><td>-24.15</td><td>-17.63</td><td>20170331007</td><td>024</td><td>True</td><td>True</td><td>True</td><td>True</td><td>True</td><td>True</td></tr>\n",
       "<tr><td>...</td><td>...</td><td>...</td><td>...</td><td>...</td><td>...</td><td>...</td><td>...</td><td>...</td><td>...</td><td>...</td><td>...</td><td>...</td><td>...</td><td>...</td><td>...</td><td>...</td><td>...</td><td>...</td><td>...</td><td>...</td><td>...</td><td>...</td><td>...</td><td>...</td></tr>\n",
       "<tr><td>multi_404_073_071_LL</td><td>214.86957</td><td>52.866886</td><td>20220401011_1_multi_404_073_071_LL_092</td><td>1306330399</td><td>LL</td><td>20220401</td><td>20220401v011</td><td>1</td><td>91</td><td>92</td><td>165.233</td><td>139.168</td><td>071</td><td>073</td><td>15.25</td><td>-11.02</td><td>20220401011</td><td>404</td><td>True</td><td>True</td><td>True</td><td>True</td><td>True</td><td>True</td></tr>\n",
       "<tr><td>multi_404_073_071_LL</td><td>214.86852</td><td>52.86659</td><td>20220401011_1_multi_404_073_071_LL_093</td><td>1306330399</td><td>LL</td><td>20220401</td><td>20220401v011</td><td>1</td><td>92</td><td>93</td><td>162.693</td><td>139.168</td><td>071</td><td>073</td><td>12.71</td><td>-11.02</td><td>20220401011</td><td>404</td><td>True</td><td>True</td><td>True</td><td>True</td><td>True</td><td>True</td></tr>\n",
       "<tr><td>multi_404_073_071_LL</td><td>214.86745</td><td>52.86629</td><td>20220401011_1_multi_404_073_071_LL_094</td><td>1306330399</td><td>LL</td><td>20220401</td><td>20220401v011</td><td>1</td><td>93</td><td>94</td><td>160.153</td><td>139.168</td><td>071</td><td>073</td><td>10.17</td><td>-11.02</td><td>20220401011</td><td>404</td><td>True</td><td>True</td><td>True</td><td>True</td><td>True</td><td>True</td></tr>\n",
       "<tr><td>multi_404_073_071_LL</td><td>214.8686</td><td>52.86729</td><td>20220401011_1_multi_404_073_071_LL_112</td><td>1306330399</td><td>LL</td><td>20220401</td><td>20220401v011</td><td>1</td><td>111</td><td>112</td><td>163.963</td><td>136.968</td><td>071</td><td>073</td><td>13.98</td><td>-13.22</td><td>20220401011</td><td>404</td><td>True</td><td>True</td><td>True</td><td>True</td><td>True</td><td>True</td></tr>\n",
       "<tr><td>multi_404_073_071_LU</td><td>214.8682</td><td>52.86696</td><td>20220401011_3_multi_404_073_071_LU_001</td><td>1306330399</td><td>LU</td><td>20220401</td><td>20220401v011</td><td>3</td><td>0</td><td>1</td><td>162.638</td><td>137.668</td><td>071</td><td>073</td><td>11.44</td><td>-13.22</td><td>20220401011</td><td>404</td><td>True</td><td>True</td><td>True</td><td>True</td><td>True</td><td>True</td></tr>\n",
       "<tr><td>multi_404_073_071_LU</td><td>214.86714</td><td>52.86666</td><td>20220401011_3_multi_404_073_071_LU_002</td><td>1306330399</td><td>LU</td><td>20220401</td><td>20220401v011</td><td>3</td><td>1</td><td>2</td><td>160.098</td><td>137.668</td><td>071</td><td>073</td><td>8.9</td><td>-13.22</td><td>20220401011</td><td>404</td><td>True</td><td>True</td><td>True</td><td>True</td><td>True</td><td>True</td></tr>\n",
       "<tr><td>multi_404_073_071_LU</td><td>214.8683</td><td>52.86766</td><td>20220401011_3_multi_404_073_071_LU_020</td><td>1306330399</td><td>LU</td><td>20220401</td><td>20220401v011</td><td>3</td><td>19</td><td>20</td><td>163.908</td><td>135.468</td><td>071</td><td>073</td><td>12.71</td><td>-15.42</td><td>20220401011</td><td>404</td><td>True</td><td>True</td><td>True</td><td>True</td><td>True</td><td>True</td></tr>\n",
       "<tr><td>multi_404_073_071_LL</td><td>214.86916</td><td>52.866554</td><td>20220401011_3_multi_404_073_071_LL_093</td><td>1306330399</td><td>LL</td><td>20220401</td><td>20220401v011</td><td>3</td><td>92</td><td>93</td><td>163.908</td><td>139.868</td><td>071</td><td>073</td><td>12.71</td><td>-11.02</td><td>20220401011</td><td>404</td><td>True</td><td>True</td><td>True</td><td>True</td><td>True</td><td>True</td></tr>\n",
       "<tr><td>multi_404_073_071_LL</td><td>214.86809</td><td>52.866257</td><td>20220401011_3_multi_404_073_071_LL_094</td><td>1306330399</td><td>LL</td><td>20220401</td><td>20220401v011</td><td>3</td><td>93</td><td>94</td><td>161.368</td><td>139.868</td><td>071</td><td>073</td><td>10.17</td><td>-11.02</td><td>20220401011</td><td>404</td><td>True</td><td>True</td><td>True</td><td>True</td><td>True</td><td>True</td></tr>\n",
       "<tr><td>multi_404_073_071_LL</td><td>214.86926</td><td>52.867256</td><td>20220401011_3_multi_404_073_071_LL_112</td><td>1306330399</td><td>LL</td><td>20220401</td><td>20220401v011</td><td>3</td><td>111</td><td>112</td><td>165.178</td><td>137.668</td><td>071</td><td>073</td><td>13.98</td><td>-13.22</td><td>20220401011</td><td>404</td><td>True</td><td>True</td><td>True</td><td>True</td><td>True</td><td>True</td></tr>\n",
       "</table></div>"
      ],
      "text/plain": [
       "<Table length=79>\n",
       "     multiframe          ra       dec    ... gal_flag shot_flag throughput_flag\n",
       "      bytes20         float32   float32  ...   bool      bool         bool     \n",
       "-------------------- --------- --------- ... -------- --------- ---------------\n",
       "multi_012_106_033_LL 214.86722 52.867176 ...     True     False            True\n",
       "multi_012_106_033_LL 214.86678  52.86685 ...     True     False            True\n",
       "multi_038_096_014_LL 214.86717  52.86709 ...     True      True            True\n",
       "multi_038_096_014_LL 214.86777  52.86781 ...     True      True            True\n",
       "multi_038_096_014_LL  214.8668 52.867413 ...     True      True            True\n",
       "multi_038_096_014_LL  214.8675 52.867462 ...     True      True            True\n",
       "multi_038_096_014_LL 214.86652  52.86706 ...     True      True            True\n",
       "multi_024_083_023_LU 214.86671  52.86696 ...     True      True            True\n",
       "multi_024_083_023_LU  214.8675  52.86761 ...     True      True            True\n",
       "multi_024_083_023_LU  214.8671 52.867268 ...     True      True            True\n",
       "                 ...       ...       ... ...      ...       ...             ...\n",
       "multi_404_073_071_LL 214.86957 52.866886 ...     True      True            True\n",
       "multi_404_073_071_LL 214.86852  52.86659 ...     True      True            True\n",
       "multi_404_073_071_LL 214.86745  52.86629 ...     True      True            True\n",
       "multi_404_073_071_LL  214.8686  52.86729 ...     True      True            True\n",
       "multi_404_073_071_LU  214.8682  52.86696 ...     True      True            True\n",
       "multi_404_073_071_LU 214.86714  52.86666 ...     True      True            True\n",
       "multi_404_073_071_LU  214.8683  52.86766 ...     True      True            True\n",
       "multi_404_073_071_LL 214.86916 52.866554 ...     True      True            True\n",
       "multi_404_073_071_LL 214.86809 52.866257 ...     True      True            True\n",
       "multi_404_073_071_LL 214.86926 52.867256 ...     True      True            True"
      ]
     },
     "execution_count": 5,
     "metadata": {},
     "output_type": "execute_result"
    }
   ],
   "source": [
    "fibtab"
   ]
  },
  {
   "cell_type": "code",
   "execution_count": null,
   "id": "72535e53",
   "metadata": {},
   "outputs": [],
   "source": [
    "# close the FiberIndex class (and associated open h5 files) when done\n",
    "F.close()"
   ]
  },
  {
   "cell_type": "markdown",
   "id": "b8304c2b",
   "metadata": {},
   "source": [
    "# To access individual fibers use get_fibers_table. To extract a PSF-weighted spectrum please see GetSpectra.ipynb notebook. To generate line flux maps please see LineFluxMaps.ipynb. To make a data cube and display it please see CubeWidget.ipynb. "
   ]
  },
  {
   "cell_type": "markdown",
   "id": "66f1f86d-fea9-4855-bf31-c74a197399fe",
   "metadata": {},
   "source": [
    "Please use the get_fibers_table funtion to extract single fiber spectra. Calibration updates and adjustments are accessed through this function. For example, the raw h5 files are in native 2AA binning and do not have the white dwarf calibration correction applied. You may access those arrays by setting the option rawh5=True. Note that get_fibers_table offers the ability to retrieve fibers within a specified aperture (provide coords + radius option), a specified amp (multiframe option), a specified ifuslot. Please see help(get_fibers_table). The fiber_flux_offset is applicable to stacking analyses."
   ]
  },
  {
   "cell_type": "code",
   "execution_count": 6,
   "id": "df8841c0",
   "metadata": {},
   "outputs": [],
   "source": [
    "from hetdex_api.shot import get_fibers_table"
   ]
  },
  {
   "cell_type": "code",
   "execution_count": 7,
   "id": "9489b733-14f7-4100-98f6-30fe792a1059",
   "metadata": {},
   "outputs": [],
   "source": [
    "wave = np.linspace(3470, 5540, 1036)"
   ]
  },
  {
   "cell_type": "code",
   "execution_count": 8,
   "id": "6dc03529-634d-4171-950f-22d6efcce28e",
   "metadata": {},
   "outputs": [],
   "source": [
    "shotlist = list(np.unique( fibtab['shotid']))"
   ]
  },
  {
   "cell_type": "code",
   "execution_count": 9,
   "id": "15e26904-165b-44ca-b15f-9db1a4439abd",
   "metadata": {},
   "outputs": [
    {
     "name": "stdout",
     "output_type": "stream",
     "text": [
      "Fiber coverage is available in the following shotids: [20170222012, 20170326008, 20170328019, 20170331007, 20220401011]\n"
     ]
    }
   ],
   "source": [
    "print('Fiber coverage is available in the following shotids: {}'.format(shotlist))"
   ]
  },
  {
   "cell_type": "code",
   "execution_count": 10,
   "id": "bb86e22b",
   "metadata": {},
   "outputs": [],
   "source": [
    "# example of grabbing all fibers in single shot:\n",
    "spec_tab = get_fibers_table(shotlist[0], coord)"
   ]
  },
  {
   "cell_type": "code",
   "execution_count": 11,
   "id": "f2811843-16cc-443c-82b3-bc26c2924d18",
   "metadata": {},
   "outputs": [],
   "source": [
    "spec_tab = get_fibers_table(20170328019, coord)"
   ]
  },
  {
   "cell_type": "code",
   "execution_count": 12,
   "id": "ef715ec1-a57d-457f-86ed-a070465b2f1d",
   "metadata": {},
   "outputs": [
    {
     "data": {
      "text/html": [
       "<div><i>Table length=22</i>\n",
       "<table id=\"table140200225951456\" class=\"table-striped table-bordered table-condensed\">\n",
       "<thead><tr><th>multiframe</th><th>ra</th><th>dec</th><th>fiber_id</th><th>amp</th><th>calfib</th><th>calfib_counts</th><th>calfib_ffsky</th><th>calfibe</th><th>calfibe_counts</th><th>chi2</th><th>contid</th><th>error1D</th><th>expnum</th><th>fiber_to_fiber</th><th>fibidx</th><th>fibnum</th><th>fpx</th><th>fpy</th><th>ifuid</th><th>ifuslot</th><th>ifux</th><th>ifuy</th><th>obsind</th><th>rms</th><th>sky_spectrum</th><th>sky_subtracted</th><th>specid</th><th>spectrum</th><th>trace</th><th>wavelength</th></tr></thead>\n",
       "<thead><tr><th></th><th>deg</th><th>deg</th><th></th><th></th><th>1e-17 erg / (Angstrom s cm2)</th><th></th><th>1e-17 erg / (Angstrom s cm2)</th><th>1e-17 erg / (Angstrom s cm2)</th><th></th><th></th><th></th><th></th><th></th><th></th><th></th><th></th><th></th><th></th><th></th><th></th><th></th><th></th><th></th><th></th><th></th><th></th><th></th><th></th><th></th><th>Angstrom</th></tr></thead>\n",
       "<thead><tr><th>bytes20</th><th>float32</th><th>float32</th><th>bytes38</th><th>bytes2</th><th>float32[1036]</th><th>float32[1036]</th><th>float32[1036]</th><th>float32[1036]</th><th>float32[1036]</th><th>float32[1032]</th><th>bytes8</th><th>float32[1032]</th><th>int32</th><th>float32[1032]</th><th>int32</th><th>int32</th><th>float32</th><th>float32</th><th>bytes3</th><th>bytes3</th><th>float32</th><th>float32</th><th>int32</th><th>float32[1032]</th><th>float32[1032]</th><th>float32[1032]</th><th>bytes3</th><th>float32[1032]</th><th>float32[1032]</th><th>float32[1032]</th></tr></thead>\n",
       "<tr><td>multi_038_096_014_LU</td><td>214.86725</td><td>52.866386</td><td>20170328019_1_multi_038_096_014_LU_011</td><td>LU</td><td>0.0 .. 0.0</td><td>0.0 .. 0.0</td><td>-0.0 .. 0.0</td><td>0.0 .. 0.0</td><td>0.0 .. 0.0</td><td>0.49361202 .. 0.0</td><td>S/N 0062</td><td>10.353426 .. 0.0</td><td>1</td><td>1.0468221 .. 1.0525457</td><td>10</td><td>11</td><td>-164.03</td><td>337.22</td><td>014</td><td>096</td><td>-13.98</td><td>-13.22</td><td>1</td><td>2.6071157 .. 0.0</td><td>44.81641 .. 101.20159</td><td>-7.3431015 .. 0.0</td><td>038</td><td>36.954346 .. 0.0</td><td>109.99775 .. 110.96723</td><td>3496.9666 .. 5532.3706</td></tr>\n",
       "<tr><td>multi_038_096_014_LU</td><td>214.8683</td><td>52.866077</td><td>20170328019_1_multi_038_096_014_LU_012</td><td>LU</td><td>0.0 .. 0.0</td><td>0.0 .. 0.0</td><td>-0.0 .. 0.0</td><td>0.0 .. 0.0</td><td>0.0 .. 0.0</td><td>0.74705076 .. 0.0</td><td>S/N 0062</td><td>10.232976 .. 0.0</td><td>1</td><td>1.0629021 .. 1.0487591</td><td>11</td><td>12</td><td>-166.58</td><td>337.22</td><td>014</td><td>096</td><td>-16.53</td><td>-13.22</td><td>1</td><td>3.53001 .. 0.0</td><td>42.75574 .. 100.83752</td><td>10.764469 .. 0.0</td><td>038</td><td>53.001247 .. 0.0</td><td>118.62403 .. 119.399055</td><td>3496.8274 .. 5532.4756</td></tr>\n",
       "<tr><td>multi_038_096_014_LL</td><td>214.86813</td><td>52.86749</td><td>20170328019_1_multi_038_096_014_LL_084</td><td>LL</td><td>0.0 .. 0.0</td><td>0.0 .. 0.0</td><td>-0.0 .. 0.0</td><td>0.0 .. 0.0</td><td>0.0 .. 0.0</td><td>2.235634 .. 1.116288</td><td>S/N 0062</td><td>10.255308 .. 13.302069</td><td>1</td><td>1.0164843 .. 1.0595466</td><td>83</td><td>84</td><td>-164.03</td><td>341.63</td><td>014</td><td>096</td><td>-13.98</td><td>-8.81</td><td>1</td><td>5.422447 .. 4.8358264</td><td>41.558987 .. 111.71777</td><td>5.6329513 .. 9.413663</td><td>038</td><td>46.627666 .. 120.66008</td><td>774.1244 .. 773.9677</td><td>3494.845 .. 5529.3564</td></tr>\n",
       "<tr><td>multi_038_096_014_LL</td><td>214.86919</td><td>52.86718</td><td>20170328019_1_multi_038_096_014_LL_085</td><td>LL</td><td>0.0 .. 0.0</td><td>0.0 .. 0.0</td><td>-0.0 .. 0.0</td><td>0.0 .. 0.0</td><td>0.0 .. 0.0</td><td>0.2580263 .. 1.3683447</td><td>S/N 0062</td><td>10.19586 .. 13.311006</td><td>1</td><td>1.0183488 .. 1.078725</td><td>84</td><td>85</td><td>-166.58</td><td>341.63</td><td>014</td><td>096</td><td>-16.53</td><td>-8.81</td><td>1</td><td>2.289226 .. 5.919907</td><td>41.92962 .. 113.199684</td><td>-7.249541 .. 6.185773</td><td>038</td><td>34.115807 .. 118.9141</td><td>782.7318 .. 782.8103</td><td>3494.8875 .. 5529.6025</td></tr>\n",
       "<tr><td>multi_038_096_014_LL</td><td>214.86717</td><td>52.86709</td><td>20170328019_1_multi_038_096_014_LL_103</td><td>LL</td><td>0.0 .. 0.0</td><td>0.0 .. 0.0</td><td>-0.0 .. 0.0</td><td>0.0 .. 0.0</td><td>0.0 .. 0.0</td><td>0.20342751 .. 0.57253</td><td>S/N 0062</td><td>10.142443 .. 13.25517</td><td>1</td><td>1.0166605 .. 1.0749569</td><td>102</td><td>103</td><td>-162.76</td><td>339.42</td><td>014</td><td>096</td><td>-12.71</td><td>-11.02</td><td>1</td><td>1.4695027 .. 3.923648</td><td>40.75558 .. 110.674736</td><td>-17.820374 .. -5.417552</td><td>038</td><td>22.370935 .. 104.78583</td><td>940.79706 .. 941.1109</td><td>3496.2039 .. 5531.81</td></tr>\n",
       "<tr><td>multi_038_096_014_LL</td><td>214.86823</td><td>52.866783</td><td>20170328019_1_multi_038_096_014_LL_104</td><td>LL</td><td>0.0 .. 0.0</td><td>0.0 .. 0.0</td><td>-0.0 .. 0.0</td><td>0.0 .. 0.0</td><td>0.0 .. 0.0</td><td>1.600854 .. 0.3364232</td><td>S/N 0062</td><td>10.103776 .. 13.077105</td><td>1</td><td>0.99852425 .. 1.045745</td><td>103</td><td>104</td><td>-165.3</td><td>339.42</td><td>014</td><td>096</td><td>-15.25</td><td>-11.02</td><td>1</td><td>4.4009695 .. 2.6472855</td><td>39.69113 .. 106.192215</td><td>0.955957 .. 15.456609</td><td>038</td><td>40.082817 .. 121.17747</td><td>949.2233 .. 949.91986</td><td>3496.2502 .. 5531.972</td></tr>\n",
       "<tr><td>multi_038_096_014_LL</td><td>214.86928</td><td>52.866474</td><td>20170328019_1_multi_038_096_014_LL_105</td><td>LL</td><td>0.0 .. 0.0</td><td>0.0 .. 0.0</td><td>-0.0 .. 0.0</td><td>0.0 .. 0.0</td><td>0.0 .. 0.0</td><td>0.945409 .. 1.0778105</td><td>S/N 0062</td><td>10.19649 .. 13.09245</td><td>1</td><td>1.024942 .. 1.0717425</td><td>104</td><td>105</td><td>-167.85</td><td>339.42</td><td>014</td><td>096</td><td>-17.8</td><td>-11.02</td><td>1</td><td>3.6841044 .. 4.240425</td><td>40.805386 .. 107.270485</td><td>3.483068 .. -24.56582</td><td>038</td><td>43.724182 .. 82.23331</td><td>958.1178 .. 958.614</td><td>3496.2993 .. 5532.1396</td></tr>\n",
       "<tr><td>multi_038_096_014_LU</td><td>214.86688</td><td>52.866707</td><td>20170328019_3_multi_038_096_014_LU_011</td><td>LU</td><td>0.0 .. 0.0</td><td>0.0 .. 0.0</td><td>-0.0 .. 0.0</td><td>0.0 .. 0.0</td><td>0.0 .. 0.0</td><td>1.6824778 .. 0.0</td><td>S/N 0062</td><td>10.775489 .. 0.0</td><td>3</td><td>1.0468221 .. 1.0525457</td><td>10</td><td>11</td><td>-162.815</td><td>337.92</td><td>014</td><td>096</td><td>-13.98</td><td>-13.22</td><td>1</td><td>4.4720187 .. 0.0</td><td>54.015682 .. 133.7149</td><td>-22.202087 .. 0.0</td><td>038</td><td>31.34752 .. 0.0</td><td>109.89529 .. 111.05413</td><td>3496.9546 .. 5532.565</td></tr>\n",
       "<tr><td>multi_038_096_014_LU</td><td>214.86795</td><td>52.866398</td><td>20170328019_3_multi_038_096_014_LU_012</td><td>LU</td><td>0.0 .. 0.0</td><td>0.0 .. 0.0</td><td>-0.0 .. 0.0</td><td>0.0 .. 0.0</td><td>0.0 .. 0.0</td><td>0.36960652 .. 0.0</td><td>S/N 0062</td><td>10.642557 .. 0.0</td><td>3</td><td>1.0629021 .. 1.0487591</td><td>11</td><td>12</td><td>-165.365</td><td>337.92</td><td>014</td><td>096</td><td>-16.53</td><td>-13.22</td><td>1</td><td>2.9983854 .. 0.0</td><td>51.31101 .. 133.23386</td><td>-9.807852 .. 0.0</td><td>038</td><td>41.037083 .. 0.0</td><td>118.576614 .. 119.438545</td><td>3496.8135 .. 5532.6763</td></tr>\n",
       "<tr><td>...</td><td>...</td><td>...</td><td>...</td><td>...</td><td>...</td><td>...</td><td>...</td><td>...</td><td>...</td><td>...</td><td>...</td><td>...</td><td>...</td><td>...</td><td>...</td><td>...</td><td>...</td><td>...</td><td>...</td><td>...</td><td>...</td><td>...</td><td>...</td><td>...</td><td>...</td><td>...</td><td>...</td><td>...</td><td>...</td><td>...</td></tr>\n",
       "<tr><td>multi_038_096_014_LL</td><td>214.8668</td><td>52.867413</td><td>20170328019_3_multi_038_096_014_LL_103</td><td>LL</td><td>0.0 .. 0.0</td><td>0.0 .. 0.0</td><td>-0.0 .. 0.0</td><td>0.0 .. 0.0</td><td>0.0 .. 0.0</td><td>0.48927978 .. 1.3090754</td><td>S/N 0062</td><td>10.942235 .. 14.054614</td><td>3</td><td>1.0166605 .. 1.0749569</td><td>102</td><td>103</td><td>-161.545</td><td>340.12</td><td>014</td><td>096</td><td>-12.71</td><td>-11.02</td><td>1</td><td>2.9103246 .. 5.983346</td><td>57.57487 .. 132.54097</td><td>1.3782439 .. -12.762393</td><td>038</td><td>58.32966 .. 119.1364</td><td>940.80273 .. 941.30035</td><td>3496.4907 .. 5531.869</td></tr>\n",
       "<tr><td>multi_038_096_014_LL</td><td>214.86786</td><td>52.867104</td><td>20170328019_3_multi_038_096_014_LL_104</td><td>LL</td><td>0.0 .. 0.0</td><td>0.0 .. 0.0</td><td>-0.0 .. 0.0</td><td>0.0 .. 0.0</td><td>0.0 .. 0.0</td><td>0.49733743 .. 0.80791813</td><td>S/N 0062</td><td>11.008657 .. 13.948715</td><td>3</td><td>0.99852425 .. 1.045745</td><td>103</td><td>104</td><td>-164.085</td><td>340.12</td><td>014</td><td>096</td><td>-15.25</td><td>-11.02</td><td>1</td><td>2.911065 .. 3.6819966</td><td>58.94247 .. 129.66055</td><td>0.8143211 .. -8.42895</td><td>038</td><td>59.133335 .. 120.589424</td><td>949.3643 .. 949.74646</td><td>3496.5447 .. 5532.068</td></tr>\n",
       "<tr><td>multi_038_096_014_LL</td><td>214.86891</td><td>52.866795</td><td>20170328019_3_multi_038_096_014_LL_105</td><td>LL</td><td>0.0 .. 0.0</td><td>0.0 .. 0.0</td><td>-0.0 .. 0.0</td><td>0.0 .. 0.0</td><td>0.0 .. 0.0</td><td>0.52767813 .. 0.34057194</td><td>S/N 0062</td><td>11.123145 .. 14.060738</td><td>3</td><td>1.024942 .. 1.0717425</td><td>104</td><td>105</td><td>-166.635</td><td>340.12</td><td>014</td><td>096</td><td>-17.8</td><td>-11.02</td><td>1</td><td>2.4592273 .. 3.233785</td><td>60.396034 .. 133.4502</td><td>-23.563044 .. 15.3178835</td><td>038</td><td>36.209534 .. 148.1259</td><td>958.18823 .. 958.56244</td><td>3496.6016 .. 5532.276</td></tr>\n",
       "<tr><td>multi_038_096_014_LU</td><td>214.86766</td><td>52.86605</td><td>20170328019_2_multi_038_096_014_LU_012</td><td>LU</td><td>0.0 .. 0.0</td><td>0.0 .. 0.0</td><td>-0.0 .. 0.0</td><td>0.0 .. 0.0</td><td>0.0 .. 0.0</td><td>1.250029 .. 0.0</td><td>S/N 0062</td><td>10.521151 .. 0.0</td><td>2</td><td>1.0629021 .. 1.0487591</td><td>11</td><td>12</td><td>-165.365</td><td>336.52</td><td>014</td><td>096</td><td>-16.53</td><td>-13.22</td><td>1</td><td>4.7309093 .. 0.0</td><td>48.841984 .. 131.75513</td><td>-7.475971 .. 0.0</td><td>038</td><td>40.764214 .. 0.0</td><td>118.262215 .. 119.85544</td><td>3496.844 .. 5532.5356</td></tr>\n",
       "<tr><td>multi_038_096_014_LL</td><td>214.8675</td><td>52.867462</td><td>20170328019_2_multi_038_096_014_LL_084</td><td>LL</td><td>0.0 .. 0.0</td><td>0.0 .. 0.0</td><td>-0.0 .. 0.0</td><td>0.0 .. 0.0</td><td>0.0 .. 0.0</td><td>0.3061462 .. 1.7899914</td><td>S/N 0062</td><td>10.385473 .. 13.568425</td><td>2</td><td>1.0164843 .. 1.0595466</td><td>83</td><td>84</td><td>-162.815</td><td>340.93</td><td>014</td><td>096</td><td>-13.98</td><td>-8.81</td><td>1</td><td>2.6785438 .. 6.6066275</td><td>46.337925 .. 119.71167</td><td>23.652782 .. 8.6587</td><td>038</td><td>69.36573 .. 127.99633</td><td>773.9841 .. 774.401</td><td>3495.0117 .. 5529.2646</td></tr>\n",
       "<tr><td>multi_038_096_014_LL</td><td>214.86855</td><td>52.867153</td><td>20170328019_2_multi_038_096_014_LL_085</td><td>LL</td><td>0.0 .. 0.0</td><td>0.0 .. 0.0</td><td>-0.0 .. 0.0</td><td>0.0 .. 0.0</td><td>0.0 .. 0.0</td><td>2.4408748 .. 1.0464001</td><td>S/N 0062</td><td>10.277309 .. 13.5939865</td><td>2</td><td>1.0183488 .. 1.078725</td><td>84</td><td>85</td><td>-165.365</td><td>340.93</td><td>014</td><td>096</td><td>-16.53</td><td>-8.81</td><td>1</td><td>6.718975 .. 5.3963914</td><td>44.71071 .. 120.74047</td><td>29.388428 .. 41.311623</td><td>038</td><td>73.47416 .. 161.67805</td><td>783.21436 .. 782.8194</td><td>3495.0615 .. 5529.5117</td></tr>\n",
       "<tr><td>multi_038_096_014_LL</td><td>214.8696</td><td>52.866844</td><td>20170328019_2_multi_038_096_014_LL_086</td><td>LL</td><td>0.0 .. 0.0</td><td>0.0 .. 0.0</td><td>-0.0 .. 0.0</td><td>0.0 .. 0.0</td><td>0.0 .. 0.0</td><td>0.9200577 .. 1.2624013</td><td>S/N 0062</td><td>10.286294 .. 13.790991</td><td>2</td><td>1.0264549 .. 1.0802741</td><td>85</td><td>86</td><td>-167.905</td><td>340.93</td><td>014</td><td>096</td><td>-19.07</td><td>-8.81</td><td>1</td><td>4.098392 .. 5.386619</td><td>43.77648 .. 120.506485</td><td>-4.1713448 .. 11.059571</td><td>038</td><td>38.98016 .. 131.19202</td><td>791.4388 .. 791.7174</td><td>3495.1392 .. 5529.69</td></tr>\n",
       "<tr><td>multi_038_096_014_LL</td><td>214.86652</td><td>52.86706</td><td>20170328019_2_multi_038_096_014_LL_103</td><td>LL</td><td>0.0 .. 0.0</td><td>0.0 .. 0.0</td><td>-0.0 .. 0.0</td><td>0.0 .. 0.0</td><td>0.0 .. 0.0</td><td>0.6968451 .. 0.4897609</td><td>S/N 0062</td><td>10.693393 .. 13.301068</td><td>2</td><td>1.0166605 .. 1.0749569</td><td>102</td><td>103</td><td>-161.545</td><td>338.72</td><td>014</td><td>096</td><td>-12.71</td><td>-11.02</td><td>1</td><td>3.2848816 .. 4.431438</td><td>52.340168 .. 111.94417</td><td>22.472897 .. 6.86155</td><td>038</td><td>74.18809 .. 118.43168</td><td>940.8624 .. 941.20715</td><td>3496.5195 .. 5531.791</td></tr>\n",
       "<tr><td>multi_038_096_014_LL</td><td>214.86757</td><td>52.866756</td><td>20170328019_2_multi_038_096_014_LL_104</td><td>LL</td><td>0.0 .. 0.0</td><td>0.0 .. 0.0</td><td>-0.0 .. 0.0</td><td>0.0 .. 0.0</td><td>0.0 .. 0.0</td><td>0.7222602 .. 0.28210482</td><td>S/N 0062</td><td>10.723101 .. 13.148683</td><td>2</td><td>0.99852425 .. 1.045745</td><td>103</td><td>104</td><td>-164.085</td><td>338.72</td><td>014</td><td>096</td><td>-15.25</td><td>-11.02</td><td>1</td><td>3.0796165 .. 3.0858684</td><td>52.653828 .. 108.182655</td><td>-4.5853844 .. 30.417503</td><td>038</td><td>47.443466 .. 138.22612</td><td>949.3105 .. 949.7477</td><td>3496.5737 .. 5531.958</td></tr>\n",
       "<tr><td>multi_038_096_014_LL</td><td>214.86864</td><td>52.866444</td><td>20170328019_2_multi_038_096_014_LL_105</td><td>LL</td><td>0.0 .. 0.0</td><td>0.0 .. 0.0</td><td>-0.0 .. 0.0</td><td>0.0 .. 0.0</td><td>0.0 .. 0.0</td><td>1.0314416 .. 0.384758</td><td>S/N 0062</td><td>10.744365 .. 13.256732</td><td>2</td><td>1.024942 .. 1.0717425</td><td>104</td><td>105</td><td>-166.635</td><td>338.72</td><td>014</td><td>096</td><td>-17.8</td><td>-11.02</td><td>1</td><td>3.841805 .. 2.7008026</td><td>52.274437 .. 110.87211</td><td>-3.1216888 .. -24.854324</td><td>038</td><td>48.52777 .. 85.643745</td><td>958.0569 .. 958.55194</td><td>3496.6309 .. 5532.1313</td></tr>\n",
       "</table></div>"
      ],
      "text/plain": [
       "<Table length=22>\n",
       "     multiframe          ra    ...       wavelength      \n",
       "                        deg    ...        Angstrom       \n",
       "      bytes20         float32  ...     float32[1032]     \n",
       "-------------------- --------- ... ----------------------\n",
       "multi_038_096_014_LU 214.86725 ... 3496.9666 .. 5532.3706\n",
       "multi_038_096_014_LU  214.8683 ... 3496.8274 .. 5532.4756\n",
       "multi_038_096_014_LL 214.86813 ...  3494.845 .. 5529.3564\n",
       "multi_038_096_014_LL 214.86919 ... 3494.8875 .. 5529.6025\n",
       "multi_038_096_014_LL 214.86717 ...   3496.2039 .. 5531.81\n",
       "multi_038_096_014_LL 214.86823 ...  3496.2502 .. 5531.972\n",
       "multi_038_096_014_LL 214.86928 ... 3496.2993 .. 5532.1396\n",
       "multi_038_096_014_LU 214.86688 ...  3496.9546 .. 5532.565\n",
       "multi_038_096_014_LU 214.86795 ... 3496.8135 .. 5532.6763\n",
       "                 ...       ... ...                    ...\n",
       "multi_038_096_014_LL  214.8668 ...  3496.4907 .. 5531.869\n",
       "multi_038_096_014_LL 214.86786 ...  3496.5447 .. 5532.068\n",
       "multi_038_096_014_LL 214.86891 ...  3496.6016 .. 5532.276\n",
       "multi_038_096_014_LU 214.86766 ...  3496.844 .. 5532.5356\n",
       "multi_038_096_014_LL  214.8675 ... 3495.0117 .. 5529.2646\n",
       "multi_038_096_014_LL 214.86855 ... 3495.0615 .. 5529.5117\n",
       "multi_038_096_014_LL  214.8696 ...   3495.1392 .. 5529.69\n",
       "multi_038_096_014_LL 214.86652 ...  3496.5195 .. 5531.791\n",
       "multi_038_096_014_LL 214.86757 ...  3496.5737 .. 5531.958\n",
       "multi_038_096_014_LL 214.86864 ... 3496.6309 .. 5532.1313"
      ]
     },
     "execution_count": 12,
     "metadata": {},
     "output_type": "execute_result"
    }
   ],
   "source": [
    "spec_tab"
   ]
  },
  {
   "cell_type": "code",
   "execution_count": 2,
   "id": "095376ab-3ebe-47fc-b101-0dcc45cba74b",
   "metadata": {},
   "outputs": [
    {
     "name": "stdout",
     "output_type": "stream",
     "text": [
      "Help on function get_fibers_table in module hetdex_api.shot:\n",
      "\n",
      "get_fibers_table(shot, coords=None, ifuslot=None, multiframe=None, expnum=None, radius=<Quantity 3.5 arcsec>, survey='hdr4', astropy=True, verbose=False, rawh5=False, F=None, fiber_flux_offset=None)\n",
      "    Returns fiber specta for a given shot.\n",
      "    \n",
      "    Parameters\n",
      "    ---------\n",
      "    shot\n",
      "        either shotid or datevobs\n",
      "    coords\n",
      "        astropy coordinate object\n",
      "    radius\n",
      "        an astropy quantity object\n",
      "    astropy\n",
      "        flag to make it an astropy table\n",
      "    survey\n",
      "        data release you want to access\n",
      "    rawh5: bool\n",
      "        if True, this will simply return the fibers from the specified shoth5\n",
      "        file. If False (the default), any relevent correcctions\n",
      "        are applied.\n",
      "    verbose\n",
      "        print out warnings. Default is False\n",
      "    F   Fibers class object\n",
      "        a pre-intiated fibers class object\n",
      "    fiber_flux_offset: 1036 array\n",
      "        array of values in units of 10**-17 ergs/s/cm2/AA to add\n",
      "        to each fiber spectrum used in the extraction. Defaults\n",
      "        to None\n",
      "    \n",
      "    Returns\n",
      "    -------\n",
      "    A table of fibers within the defined aperture. Will be an astropy table\n",
      "    object if astropy=True is set\n",
      "\n"
     ]
    }
   ],
   "source": [
    "help( get_fibers_table)"
   ]
  },
  {
   "cell_type": "code",
   "execution_count": null,
   "id": "2986c25b-45fa-4ea5-bdcc-6d2ad413b3be",
   "metadata": {},
   "outputs": [],
   "source": [
    "spec_tab"
   ]
  },
  {
   "cell_type": "code",
   "execution_count": null,
   "id": "d3cf7ceb",
   "metadata": {},
   "outputs": [],
   "source": [
    "%matplotlib inline"
   ]
  },
  {
   "cell_type": "code",
   "execution_count": null,
   "id": "cf8bcb5b",
   "metadata": {},
   "outputs": [],
   "source": [
    "# Here is every fiber in the 3.5 arcsec aperture\n",
    "plt.figure(figsize=(10,5))\n",
    "for row in spec_tab:\n",
    "    plt.plot(wave, row['calfib'], label='FiberID is {}'.format(row['fiber_id']))\n",
    "    \n",
    "#plt.legend()"
   ]
  },
  {
   "cell_type": "markdown",
   "id": "7ff8e8a0",
   "metadata": {},
   "source": [
    "# Query a table with < 10 K Sources"
   ]
  },
  {
   "cell_type": "code",
   "execution_count": null,
   "id": "2764d1fe",
   "metadata": {},
   "outputs": [],
   "source": [
    "# Open the pared down SDSS AGN catalog. See below for how this was done."
   ]
  },
  {
   "cell_type": "code",
   "execution_count": null,
   "id": "31bae7da-e5d1-4d69-a547-d70d9a7d8d14",
   "metadata": {},
   "outputs": [],
   "source": [
    "from hetdex_api.config import HDRconfig\n",
    "import os.path as op"
   ]
  },
  {
   "cell_type": "code",
   "execution_count": null,
   "id": "70ffedd8-d7c6-46d4-9c5d-ac6c20f1bc02",
   "metadata": {},
   "outputs": [],
   "source": [
    "config = HDRconfig()"
   ]
  },
  {
   "cell_type": "code",
   "execution_count": null,
   "id": "1366b9e7",
   "metadata": {},
   "outputs": [],
   "source": [
    "sdss_agn = Table.read(op.join( config.host_dir, 'imaging', 'catalogs', 'sdss-dex-agn_hdr4.fits'))\n",
    "agn_coords = SkyCoord(ra = sdss_agn['RA'], dec= sdss_agn['DEC'], unit='deg')"
   ]
  },
  {
   "cell_type": "code",
   "execution_count": null,
   "id": "c48d70d2",
   "metadata": {},
   "outputs": [],
   "source": [
    "from multiprocessing import Pool"
   ]
  },
  {
   "cell_type": "code",
   "execution_count": null,
   "id": "76177179",
   "metadata": {},
   "outputs": [],
   "source": [
    "def get_fiber_table(coord):\n",
    "    F = FiberIndex()\n",
    "    tab = F.query_region(coord, radius=3.5*u.arcsec)\n",
    "    F.close()\n",
    "    return tab"
   ]
  },
  {
   "cell_type": "code",
   "execution_count": null,
   "id": "9aafe0ab",
   "metadata": {},
   "outputs": [],
   "source": [
    "t0 = time.time()\n",
    "p = Pool()\n",
    "res = p.map(get_fiber_table, agn_coords)\n",
    "p.close()\n",
    "t1 = time.time()\n",
    "\n",
    "print((t1-t0)/60)"
   ]
  },
  {
   "cell_type": "code",
   "execution_count": null,
   "id": "3c92700b",
   "metadata": {},
   "outputs": [],
   "source": [
    "res[0]"
   ]
  },
  {
   "cell_type": "markdown",
   "id": "568d1cc0",
   "metadata": {},
   "source": [
    "The output from multiprocessing will be a list of the astropy table object printed above for each coordinate. Loop through the results and do what you like with the data or change the function to do it faster with multiprocessing. For example this will go through the AGN catalog and return a list of shotid's for a given coordinate and will provide the net 'flag' value for that aperture"
   ]
  },
  {
   "cell_type": "code",
   "execution_count": null,
   "id": "e4052994",
   "metadata": {},
   "outputs": [],
   "source": [
    "def get_nobs(coord):\n",
    "    \n",
    "    F = FiberIndex()\n",
    "    fib_table = F.query_region(coord, radius=3.5*u.arcsec)\n",
    "    F.close()\n",
    "    \n",
    "    # check how many fibers in aperture for each shotid\n",
    "    shotlist, nfib_list = np.unique(fib_table['shotid'], return_counts=True)\n",
    "    n_obs = np.size(shotlist)\n",
    "    \n",
    "    flag_list = []\n",
    "    for shot in shotlist:\n",
    "        flag_list.append( int(np.all(fib_table['flag'][fib_table['shotid']==shot])) )\n",
    "    n_obs_good = np.sum(flag_list)\n",
    "    \n",
    "    return n_obs, n_obs_good, list(shotlist), list(nfib_list), list(flag_list)"
   ]
  },
  {
   "cell_type": "code",
   "execution_count": null,
   "id": "dffd8510",
   "metadata": {},
   "outputs": [],
   "source": [
    "get_nobs(agn_coords[10])"
   ]
  },
  {
   "cell_type": "code",
   "execution_count": null,
   "id": "aad2346c",
   "metadata": {},
   "outputs": [],
   "source": [
    "t0 = time.time()\n",
    "p = Pool()\n",
    "res = p.map(get_nobs, agn_coords)\n",
    "p.close()\n",
    "t1 = time.time()\n",
    "\n",
    "print((t1-t0)/60)"
   ]
  },
  {
   "cell_type": "code",
   "execution_count": null,
   "id": "1e26d674",
   "metadata": {},
   "outputs": [],
   "source": [
    "n_obs = []\n",
    "n_obs_good = []\n",
    "shots_for_src = []\n",
    "nfib_for_src = []\n",
    "shotflags = []\n",
    "\n",
    "for r in res:\n",
    "    n_obs.append(r[0])\n",
    "    n_obs_good.append(r[1])\n",
    "    shots_for_src.append(r[2]) \n",
    "    nfib_for_src.append(r[3]) \n",
    "    shotflags.append(r[4])"
   ]
  },
  {
   "cell_type": "code",
   "execution_count": null,
   "id": "2b04dbec",
   "metadata": {},
   "outputs": [],
   "source": [
    "print('{} sources have at least one good observation'.format(np.sum( np.array(n_obs_good) > 0)))"
   ]
  },
  {
   "cell_type": "markdown",
   "id": "53151e8f",
   "metadata": {},
   "source": [
    "# Query a very large catalog by loading the full fibers table. Use astropy search_around_sky for faster querying through kdtree. This is best done on an HPC processor like ls6 (please email Karl to get an allocation if desired)\n"
   ]
  },
  {
   "cell_type": "code",
   "execution_count": null,
   "id": "c874c753",
   "metadata": {},
   "outputs": [],
   "source": [
    "#https://docs.astropy.org/en/stable/coordinates/matchsep.html#searching-around-coordinates"
   ]
  },
  {
   "cell_type": "code",
   "execution_count": null,
   "id": "34e02642-b044-4150-b6b8-a15f99954433",
   "metadata": {},
   "outputs": [],
   "source": [
    "sdss_agn = Table.read(op.join( config.host_dir,'imaging','catalogs','DR16Q_v4.fits'))"
   ]
  },
  {
   "cell_type": "code",
   "execution_count": null,
   "id": "02d529dd",
   "metadata": {},
   "outputs": [],
   "source": [
    "agn_coords = SkyCoord(ra = sdss_agn['RA'], dec= sdss_agn['DEC'], unit='deg')"
   ]
  },
  {
   "cell_type": "code",
   "execution_count": null,
   "id": "e16693b9",
   "metadata": {},
   "outputs": [],
   "source": [
    "# If you set load_fiber_table=True, the full fiber table will load. This takes some time,\n",
    "# takes loads of memory. Best done on ls6 and takes 20-30 minutes\n",
    "F = FiberIndex(load_fiber_table=True)"
   ]
  },
  {
   "cell_type": "code",
   "execution_count": null,
   "id": "39e8361e",
   "metadata": {},
   "outputs": [],
   "source": [
    "# The full array of fiber coordinates are here:\n",
    "F.coords"
   ]
  },
  {
   "cell_type": "code",
   "execution_count": null,
   "id": "5af02913-4b26-4468-a24e-1918345cbb5e",
   "metadata": {},
   "outputs": [],
   "source": [
    "F.mask_table"
   ]
  },
  {
   "cell_type": "code",
   "execution_count": null,
   "id": "6a2d38f3",
   "metadata": {},
   "outputs": [],
   "source": [
    "sel_good = np.isfinite(F.coords.ra.value) & F.mask_table['flag'] # some values are NaN so this gets rid of them"
   ]
  },
  {
   "cell_type": "code",
   "execution_count": null,
   "id": "d8cb8b59",
   "metadata": {},
   "outputs": [],
   "source": [
    "t0 = time.time()\n",
    "idxagn, idxF, sep2d, dist3d = F.coords[sel_good].search_around_sky(agn_coords, seplimit=1.0*u.arcsec)\n",
    "t1 = time.time()\n",
    "print(t1-t0)"
   ]
  },
  {
   "cell_type": "code",
   "execution_count": null,
   "id": "971e1a01",
   "metadata": {},
   "outputs": [],
   "source": [
    "# save table for AGN that have at least one fiber coverage.write\n",
    "sdss_agn[np.unique(idxagn)].write('sdss-dex-agn_hdr4.fits', overwrite=True)"
   ]
  },
  {
   "cell_type": "code",
   "execution_count": null,
   "id": "5102e833",
   "metadata": {},
   "outputs": [],
   "source": [
    "# Combined the tables with hstack"
   ]
  },
  {
   "cell_type": "code",
   "execution_count": null,
   "id": "7c583932",
   "metadata": {},
   "outputs": [],
   "source": [
    "matched_fiber_table = hstack([sdss_agn[idxagn], F.fiber_table[sel_good][idxF]])"
   ]
  },
  {
   "cell_type": "code",
   "execution_count": null,
   "id": "148bbb7d",
   "metadata": {},
   "outputs": [],
   "source": [
    "import matplotlib.pyplot as plt"
   ]
  },
  {
   "cell_type": "code",
   "execution_count": null,
   "id": "822b2a90",
   "metadata": {},
   "outputs": [],
   "source": [
    "#quick check to make sure coordinates matched\n",
    "plt.scatter( matched_fiber_table['RA'], matched_fiber_table['ra'])"
   ]
  },
  {
   "cell_type": "code",
   "execution_count": null,
   "id": "472938a9",
   "metadata": {},
   "outputs": [],
   "source": [
    "plt.scatter( matched_fiber_table['DEC'], matched_fiber_table['dec'])"
   ]
  }
 ],
 "metadata": {
  "kernelspec": {
   "display_name": "Python 3 (ipykernel)",
   "language": "python",
   "name": "python3"
  },
  "language_info": {
   "codemirror_mode": {
    "name": "ipython",
    "version": 3
   },
   "file_extension": ".py",
   "mimetype": "text/x-python",
   "name": "python",
   "nbconvert_exporter": "python",
   "pygments_lexer": "ipython3",
   "version": "3.10.5"
  },
  "widgets": {
   "application/vnd.jupyter.widget-state+json": {
    "state": {},
    "version_major": 2,
    "version_minor": 0
   }
  }
 },
 "nbformat": 4,
 "nbformat_minor": 5
}
