{
 "cells": [
  {
   "cell_type": "markdown",
   "metadata": {},
   "source": [
    "# Amp Widget "
   ]
  },
  {
   "cell_type": "code",
   "execution_count": null,
   "metadata": {},
   "outputs": [],
   "source": [
    "from hetdex_api.amp_widget import AmpWidget"
   ]
  },
  {
   "cell_type": "code",
   "execution_count": null,
   "metadata": {},
   "outputs": [],
   "source": [
    "# Can either input a detectid. A red circle will indicate the region on the detector where the emission line is found on the highest weight fiber\n",
    "AW = AmpWidget(detectid = 4013993285)"
   ]
  },
  {
   "cell_type": "code",
   "execution_count": null,
   "metadata": {},
   "outputs": [],
   "source": [
    "# or a shotid/multiframe combo. A red border will appear around widget if the amplifier is flagged as a bad amp\n",
    "AW = AmpWidget(multiframe='multi_322_084_062_RL', shotid=20200306026)"
   ]
  },
  {
   "cell_type": "markdown",
   "metadata": {},
   "source": [
    "## Basic API behind AmpWidget"
   ]
  },
  {
   "cell_type": "code",
   "execution_count": null,
   "metadata": {},
   "outputs": [],
   "source": [
    "from astrowidgets import ImageWidget\n",
    "from hetdex_api.shot import get_image2D_amp"
   ]
  },
  {
   "cell_type": "code",
   "execution_count": null,
   "metadata": {},
   "outputs": [],
   "source": [
    "mf = 'multi_322_084_062_RL'\n",
    "shotid =  20200227016"
   ]
  },
  {
   "cell_type": "code",
   "execution_count": null,
   "metadata": {},
   "outputs": [],
   "source": [
    "# 2D frame you want to grab. Options are: \n",
    "# 'image' - this is the 2D frame, bias, flat corrected in counts\n",
    "# 'clean_image' - this is the 2D sky subtracted frame in counts\n",
    "# 'error' - this is the 2D error image in counts\n",
    "imtype = 'clean_image'"
   ]
  },
  {
   "cell_type": "code",
   "execution_count": null,
   "metadata": {},
   "outputs": [],
   "source": [
    "im = get_image2D_amp(shotid, multiframe=mf, imtype=imtype, survey='hdr2.1', expnum=3)\n",
    "imw = ImageWidget()\n",
    "imw.load_array(im)\n",
    "imw"
   ]
  }
 ],
 "metadata": {
  "kernelspec": {
   "display_name": "Python 3 (ipykernel)",
   "language": "python",
   "name": "python3"
  },
  "language_info": {
   "codemirror_mode": {
    "name": "ipython",
    "version": 3
   },
   "file_extension": ".py",
   "mimetype": "text/x-python",
   "name": "python",
   "nbconvert_exporter": "python",
   "pygments_lexer": "ipython3",
   "version": "3.9.7"
  },
  "widgets": {
   "application/vnd.jupyter.widget-state+json": {
    "state": {},
    "version_major": 2,
    "version_minor": 0
   }
  }
 },
 "nbformat": 4,
 "nbformat_minor": 4
}
