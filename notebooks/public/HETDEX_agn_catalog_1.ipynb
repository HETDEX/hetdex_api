{
 "cells": [
  {
   "cell_type": "markdown",
   "id": "ba4ba2b3-2349-4725-8801-2cc957ae878b",
   "metadata": {},
   "source": [
    "# HETDEX AGN Catalog 1"
   ]
  },
  {
   "cell_type": "code",
   "execution_count": 1,
   "id": "14e1d094",
   "metadata": {},
   "outputs": [],
   "source": [
    "import os.path as op\n",
    "import numpy as np\n",
    "from astropy.io import ascii, fits\n",
    "from astropy.io.fits import getdata\n",
    "from astropy.table import Table, Column,join"
   ]
  },
  {
   "cell_type": "code",
   "execution_count": 2,
   "id": "d55faaf8-2d17-46ff-9121-95defb7f1299",
   "metadata": {},
   "outputs": [],
   "source": [
    "# fill in the path to the HETDEX AGN Catalog 1 file\n",
    "\n",
    "path_to_agn1 = \"/home/jovyan/Hobby-Eberly-Public/HETDEX/catalogs/agn_catalog_v1.0/\"\n",
    "\n",
    "if op.exists(path_to_agn1):\n",
    "    pass\n",
    "else:\n",
    "    path_to_agn1 = \"/corral-repl/utexas/Hobby-Eberly-Telesco/public/HETDEX/catalogs/agn_catalog_v1.0/\""
   ]
  },
  {
   "cell_type": "markdown",
   "id": "589f1cc2",
   "metadata": {},
   "source": [
    "# Check basic info of the fits file\n",
    "### There are six extensions, 1 & 4 are table extensions, 2,3 & 5,6 are image extensions for spectra and their errors.\n",
    "\n",
    "There are three major differences between ext2&3 and ext5&6.\n",
    "\n",
    "(1) We provide two types of spectra with their errors in ext 2&3 and ext5&6: \n",
    "As an IFU survey, some spacially extended AGNs can be spacially resolved with multiple detections in the hetdex catalog. We do flux weighted friend-of-friend grouping for all AGN detectids with linking length of delta_r=5 arcsec, and delta_redshift = 0.1 to make the unqiue AGN catalog (extension 1). For each AGN, we pick up the detectid closest to the fof center as detectid_best.\n",
    "\n",
    "ext 2&3 are the spectra for the detectid_best in the hetdex catalog. \\\n",
    "ext5&6 are extracted spectra at the flux weighted friend-of-friend center.\n",
    "\n",
    "(2) Aonther difference between ext2&3 and ext5&6 is the number of rows are different. \\\n",
    "ext2&3 have 5322 rows, one row for one agn, arranged in the same order with extension 1.\\\n",
    "ext5&6 have 6004 rows. This is because there are some AGNs that have repeat observations (identified by \"shotid\" in the table of extension 4). We provide all the spectra for repeated observations in ext 5&6. In the table of extension 4, each observation has one row, and the row number of ext5&6 are arranged following extension4.\n",
    "\n",
    "(3) A minor difference is:\\\n",
    "    ext2&3 spectra with errors are applied with universal extinction correction of E(B-V)=0.02.\\\n",
    "    ext5&6 are raw data with no extinction applied.\\\n",
    "    The extinction correction only makes a <10% difference."
   ]
  },
  {
   "cell_type": "code",
   "execution_count": 3,
   "id": "292a8213",
   "metadata": {},
   "outputs": [
    {
     "name": "stdout",
     "output_type": "stream",
     "text": [
      "Filename: /corral-repl/utexas/Hobby-Eberly-Telesco/public/HETDEX/catalogs/agn_catalog_v1.0/hetdex_agn.fits\n",
      "No.    Name      Ver    Type      Cards   Dimensions   Format\n",
      "  0  PRIMARY       1 PrimaryHDU       4   ()      \n",
      "  1  basic_info    1 BinTableHDU    735   5322R x 159C   [K, E, E, E, E, K, 10A, K, K, E, E, E, K, E, E, E, E, E, E, E, E, E, E, E, E, E, E, E, E, E, E, E, E, E, E, E, E, E, E, E, E, E, E, E, E, E, E, E, E, E, E, E, E, E, E, E, E, E, E, E, E, E, E, E, E, E, E, E, E, E, E, E, E, E, E, E, E, E, E, E, E, E, E, E, E, E, E, E, E, E, E, E, E, E, E, E, E, E, E, E, E, E, E, E, E, E, E, E, E, E, E, E, E, E, E, E, E, E, E, E, E, E, E, E, E, E, E, E, E, E, E, E, E, 38A, E, E, E, E, 16A, E, E, E, E, 16A, E, E, E, E, 16A, E, 15A, E, E, K, K, K, E, K, E]   \n",
      "  2  flux_array    1 ImageHDU        11   (1036, 5322)   float32   \n",
      "  3  error_array    1 ImageHDU        11   (1036, 5322)   float32   \n",
      "  4  repeat_info    1 BinTableHDU     15   6004R x 3C   [K, K, K]   \n",
      "  5  flux_array_repeat    1 ImageHDU        11   (1036, 6004)   float32   \n",
      "  6  error_array_repeat    1 ImageHDU        11   (1036, 6004)   float32   \n"
     ]
    }
   ],
   "source": [
    "fname = op.join( path_to_agn1, 'hetdex_agn.fits')\n",
    "hdul = fits.open(fname)\n",
    "hdul.info()"
   ]
  },
  {
   "cell_type": "markdown",
   "id": "ac873fe5",
   "metadata": {},
   "source": [
    "# Read extension 1 as a table\n",
    "extension 1 has the basic information for each unique AGN, one row per AGN."
   ]
  },
  {
   "cell_type": "code",
   "execution_count": 4,
   "id": "f50baa80",
   "metadata": {},
   "outputs": [
    {
     "data": {
      "text/html": [
       "<div><i>Table length=5322</i>\n",
       "<table id=\"table22703448573168\" class=\"table-striped table-bordered table-condensed\">\n",
       "<thead><tr><th>agnid</th><th>ra</th><th>dec</th><th>z</th><th>z_er</th><th>zflag</th><th>field</th><th>nshots</th><th>detectid_best</th><th>ra_best</th><th>dec_best</th><th>roff</th><th>nmem</th><th>alpha</th><th>alpha_er</th><th>fpl0</th><th>fpl0_er</th><th>slope</th><th>slope_er</th><th>intercept</th><th>intercept_er</th><th>L1350</th><th>L1350_er</th><th>L1450</th><th>L1450_er</th><th>L3000</th><th>L3000_er</th><th>L5100</th><th>L5100_er</th><th>fwhm_LyA</th><th>fwhm_LyA_er</th><th>ew_LyA</th><th>ew_LyA_er</th><th>flux_LyA</th><th>flux_LyA_er</th><th>cont_LyA</th><th>cont_LyA_er</th><th>snr_LyA</th><th>snr_LyA_er</th><th>chi2_LyA</th><th>chi2_LyA_er</th><th>fwhm_NV</th><th>fwhm_NV_er</th><th>ew_NV</th><th>ew_NV_er</th><th>flux_NV</th><th>flux_NV_er</th><th>cont_NV</th><th>cont_NV_er</th><th>fwhm_SiO</th><th>fwhm_SiO_er</th><th>ew_SiO</th><th>ew_SiO_er</th><th>flux_SiO</th><th>flux_SiO_er</th><th>cont_SiO</th><th>cont_SiO_er</th><th>snr_SiO</th><th>snr_SiO_er</th><th>chi2_SiO</th><th>chi2_SiO_er</th><th>fwhm_CIV</th><th>fwhm_CIV_er</th><th>ew_CIV</th><th>ew_CIV_er</th><th>flux_CIV</th><th>flux_CIV_er</th><th>cont_CIV</th><th>cont_CIV_er</th><th>snr_CIV</th><th>snr_CIV_er</th><th>chi2_CIV</th><th>chi2_CIV_er</th><th>fwhm_HeII</th><th>fwhm_HeII_er</th><th>ew_HeII</th><th>ew_HeII_er</th><th>flux_HeII</th><th>flux_HeII_er</th><th>cont_HeII</th><th>cont_HeII_er</th><th>snr_HeII</th><th>snr_HeII_er</th><th>chi2_HeII</th><th>chi2_HeII_er</th><th>fwhm_CIII</th><th>fwhm_CIII_er</th><th>ew_CIII</th><th>ew_CIII_er</th><th>flux_CIII</th><th>flux_CIII_er</th><th>cont_CIII</th><th>cont_CIII_er</th><th>snr_CIII</th><th>snr_CIII_er</th><th>chi2_CIII</th><th>chi2_CIII_er</th><th>fwhm_MgII</th><th>fwhm_MgII_er</th><th>ew_MgII</th><th>ew_MgII_er</th><th>flux_MgII</th><th>flux_MgII_er</th><th>cont_MgII</th><th>cont_MgII_er</th><th>snr_MgII</th><th>snr_MgII_er</th><th>chi2_MgII</th><th>chi2_MgII_er</th><th>fwhm_OII</th><th>fwhm_OII_er</th><th>ew_OII</th><th>ew_OII_er</th><th>flux_OII</th><th>flux_OII_er</th><th>cont_OII</th><th>cont_OII_er</th><th>snr_OII</th><th>snr_OII_er</th><th>chi2_OII</th><th>chi2_OII_er</th><th>fwhm_OVI</th><th>fwhm_OVI_er</th><th>ew_OVI</th><th>ew_OVI_er</th><th>flux_OVI</th><th>flux_OVI_er</th><th>cont_OVI</th><th>cont_OVI_er</th><th>snr_OVI</th><th>snr_OVI_er</th><th>chi2_OVI</th><th>chi2_OVI_er</th><th>fiberid</th><th>r_aper</th><th>r_aper_er</th><th>r_radius</th><th>r_depth</th><th>r_cat</th><th>g_aper</th><th>g_aper_er</th><th>g_radius</th><th>g_depth</th><th>g_cat</th><th>u_aper</th><th>u_aper_er</th><th>u_radius</th><th>u_depth</th><th>u_cat</th><th>rsep_dr14q</th><th>id_dr14q</th><th>z_dr14q</th><th>rsep_dr16</th><th>plate_dr16</th><th>fiber_dr16</th><th>mjd_dr16</th><th>z_dr16</th><th>sflag</th><th>apcor</th></tr></thead>\n",
       "<thead><tr><th></th><th>deg</th><th>deg</th><th></th><th></th><th></th><th></th><th></th><th></th><th>deg</th><th>deg</th><th>arcsec</th><th></th><th></th><th></th><th></th><th></th><th></th><th></th><th></th><th></th><th>1e+44 erg / s</th><th>1e+44 erg / s</th><th>1e+44 erg / s</th><th>1e+44 erg / s</th><th>1e+44 erg / s</th><th>1e+44 erg / s</th><th>1e+44 erg / s</th><th>1e+44 erg / s</th><th>km / s</th><th>km / s</th><th>Angstrom</th><th>Angstrom</th><th>1e-17 erg / (s cm2)</th><th>1e-17 erg / (s cm2)</th><th>1e-17 erg / (Angstrom s cm2)</th><th>1e-17 erg / (Angstrom s cm2)</th><th></th><th></th><th></th><th></th><th>km / s</th><th>km / s</th><th>Angstrom</th><th>Angstrom</th><th>1e-17 erg / (s cm2)</th><th>1e-17 erg / (s cm2)</th><th>1e-17 erg / (Angstrom s cm2)</th><th>1e-17 erg / (Angstrom s cm2)</th><th>km / s</th><th>km / s</th><th>Angstrom</th><th>Angstrom</th><th>1e-17 erg / (s cm2)</th><th>1e-17 erg / (s cm2)</th><th>1e-17 erg / (Angstrom s cm2)</th><th>1e-17 erg / (Angstrom s cm2)</th><th></th><th></th><th></th><th></th><th>km / s</th><th>km / s</th><th>Angstrom</th><th>Angstrom</th><th>1e-17 erg / (s cm2)</th><th>1e-17 erg / (s cm2)</th><th>1e-17 erg / (Angstrom s cm2)</th><th>1e-17 erg / (Angstrom s cm2)</th><th></th><th></th><th></th><th></th><th>km / s</th><th>km / s</th><th>Angstrom</th><th>Angstrom</th><th>1e-17 erg / (s cm2)</th><th>1e-17 erg / (s cm2)</th><th>1e-17 erg / (Angstrom s cm2)</th><th>1e-17 erg / (Angstrom s cm2)</th><th></th><th></th><th></th><th></th><th>km / s</th><th>km / s</th><th>Angstrom</th><th>Angstrom</th><th>1e-17 erg / (s cm2)</th><th>1e-17 erg / (s cm2)</th><th>1e-17 erg / (Angstrom s cm2)</th><th>1e-17 erg / (Angstrom s cm2)</th><th></th><th></th><th></th><th></th><th>km / s</th><th>km / s</th><th>Angstrom</th><th>Angstrom</th><th>1e-17 erg / (s cm2)</th><th>1e-17 erg / (s cm2)</th><th>1e-17 erg / (Angstrom s cm2)</th><th>1e-17 erg / (Angstrom s cm2)</th><th></th><th></th><th></th><th></th><th>km / s</th><th>km / s</th><th>Angstrom</th><th>Angstrom</th><th>1e-17 erg / (s cm2)</th><th>1e-17 erg / (s cm2)</th><th>1e-17 erg / (Angstrom s cm2)</th><th>1e-17 erg / (Angstrom s cm2)</th><th></th><th></th><th></th><th></th><th>km / s</th><th>km / s</th><th>Angstrom</th><th>Angstrom</th><th>1e-17 erg / (s cm2)</th><th>1e-17 erg / (s cm2)</th><th>1e-17 erg / (Angstrom s cm2)</th><th>1e-17 erg / (Angstrom s cm2)</th><th></th><th></th><th></th><th></th><th></th><th>mag</th><th>mag</th><th>arcsec</th><th>arcsec</th><th></th><th>mag</th><th>mag</th><th>arcsec</th><th>arcsec</th><th></th><th>mag</th><th>mag</th><th>arcsec</th><th>arcsec</th><th></th><th>arcsec</th><th></th><th></th><th>arcsec</th><th></th><th></th><th></th><th></th><th></th><th></th></tr></thead>\n",
       "<thead><tr><th>int64</th><th>float32</th><th>float32</th><th>float32</th><th>float32</th><th>int64</th><th>bytes10</th><th>int64</th><th>int64</th><th>float32</th><th>float32</th><th>float32</th><th>int64</th><th>float32</th><th>float32</th><th>float32</th><th>float32</th><th>float32</th><th>float32</th><th>float32</th><th>float32</th><th>float32</th><th>float32</th><th>float32</th><th>float32</th><th>float32</th><th>float32</th><th>float32</th><th>float32</th><th>float32</th><th>float32</th><th>float32</th><th>float32</th><th>float32</th><th>float32</th><th>float32</th><th>float32</th><th>float32</th><th>float32</th><th>float32</th><th>float32</th><th>float32</th><th>float32</th><th>float32</th><th>float32</th><th>float32</th><th>float32</th><th>float32</th><th>float32</th><th>float32</th><th>float32</th><th>float32</th><th>float32</th><th>float32</th><th>float32</th><th>float32</th><th>float32</th><th>float32</th><th>float32</th><th>float32</th><th>float32</th><th>float32</th><th>float32</th><th>float32</th><th>float32</th><th>float32</th><th>float32</th><th>float32</th><th>float32</th><th>float32</th><th>float32</th><th>float32</th><th>float32</th><th>float32</th><th>float32</th><th>float32</th><th>float32</th><th>float32</th><th>float32</th><th>float32</th><th>float32</th><th>float32</th><th>float32</th><th>float32</th><th>float32</th><th>float32</th><th>float32</th><th>float32</th><th>float32</th><th>float32</th><th>float32</th><th>float32</th><th>float32</th><th>float32</th><th>float32</th><th>float32</th><th>float32</th><th>float32</th><th>float32</th><th>float32</th><th>float32</th><th>float32</th><th>float32</th><th>float32</th><th>float32</th><th>float32</th><th>float32</th><th>float32</th><th>float32</th><th>float32</th><th>float32</th><th>float32</th><th>float32</th><th>float32</th><th>float32</th><th>float32</th><th>float32</th><th>float32</th><th>float32</th><th>float32</th><th>float32</th><th>float32</th><th>float32</th><th>float32</th><th>float32</th><th>float32</th><th>float32</th><th>float32</th><th>float32</th><th>float32</th><th>float32</th><th>float32</th><th>float32</th><th>bytes38</th><th>float32</th><th>float32</th><th>float32</th><th>float32</th><th>bytes16</th><th>float32</th><th>float32</th><th>float32</th><th>float32</th><th>bytes16</th><th>float32</th><th>float32</th><th>float32</th><th>float32</th><th>bytes16</th><th>float32</th><th>bytes15</th><th>float32</th><th>float32</th><th>int64</th><th>int64</th><th>int64</th><th>float32</th><th>int64</th><th>float32</th></tr></thead>\n",
       "<tr><td>1</td><td>12.274719</td><td>-0.5261988</td><td>4.165</td><td>0.00128</td><td>1</td><td>dex-fall</td><td>1</td><td>2101370146</td><td>12.274748</td><td>-0.526209</td><td>0.1103</td><td>5</td><td>3.7</td><td>0.22726992</td><td>3.2810827e-12</td><td>0.509423</td><td>0.0236397</td><td>0.0015818</td><td>-19.9886</td><td>1.3526</td><td>28.65</td><td>2.604</td><td>40.09</td><td>3.621</td><td>1221.91</td><td>111.7</td><td>14796.17</td><td>1368.549</td><td>-99.0</td><td>-99.0</td><td>-99.0</td><td>-99.0</td><td>-99.0</td><td>-99.0</td><td>-99.0</td><td>-99.0</td><td>-99.0</td><td>-99.0</td><td>-99.0</td><td>-99.0</td><td>-99.0</td><td>-99.0</td><td>-99.0</td><td>-99.0</td><td>-99.0</td><td>-99.0</td><td>-99.0</td><td>-99.0</td><td>-99.0</td><td>-99.0</td><td>-99.0</td><td>-99.0</td><td>-99.0</td><td>-99.0</td><td>-99.0</td><td>-99.0</td><td>-99.0</td><td>-99.0</td><td>-99.0</td><td>-99.0</td><td>-99.0</td><td>-99.0</td><td>-99.0</td><td>-99.0</td><td>-99.0</td><td>-99.0</td><td>-99.0</td><td>-99.0</td><td>-99.0</td><td>-99.0</td><td>-99.0</td><td>-99.0</td><td>-99.0</td><td>-99.0</td><td>-99.0</td><td>-99.0</td><td>-99.0</td><td>-99.0</td><td>-99.0</td><td>-99.0</td><td>-99.0</td><td>-99.0</td><td>-99.0</td><td>-99.0</td><td>-99.0</td><td>-99.0</td><td>-99.0</td><td>-99.0</td><td>-99.0</td><td>-99.0</td><td>-99.0</td><td>-99.0</td><td>-99.0</td><td>-99.0</td><td>-99.0</td><td>-99.0</td><td>-99.0</td><td>-99.0</td><td>-99.0</td><td>-99.0</td><td>-99.0</td><td>-99.0</td><td>-99.0</td><td>-99.0</td><td>-99.0</td><td>-99.0</td><td>-99.0</td><td>-99.0</td><td>-99.0</td><td>-99.0</td><td>-99.0</td><td>-99.0</td><td>-99.0</td><td>-99.0</td><td>-99.0</td><td>-99.0</td><td>-99.0</td><td>-99.0</td><td>-99.0</td><td>-99.0</td><td>23484.55</td><td>47.786</td><td>2292.5</td><td>551.564</td><td>1070.96</td><td>7.341</td><td>0.47</td><td>0.044</td><td>60.321</td><td>0.356</td><td>4.14</td><td>0.053</td><td>20191006024_1_multi_323_043_040_LU_070</td><td>-99.0</td><td>-99.0</td><td>-99.0</td><td>-99.0</td><td>?</td><td>22.0072</td><td>0.0205</td><td>1.8639</td><td>24.7</td><td>DECAM/SHELA</td><td>-99.0</td><td>-99.0</td><td>-99.0</td><td>-99.0</td><td>?</td><td>0.06878143</td><td>3590-55201-0222</td><td>4.165</td><td>0.06878143</td><td>3590</td><td>222</td><td>55201</td><td>4.165187</td><td>0</td><td>0.943</td></tr>\n",
       "<tr><td>2</td><td>210.3998</td><td>51.95324</td><td>4.148</td><td>8e-05</td><td>1</td><td>dex-spring</td><td>1</td><td>2101001922</td><td>210.39957</td><td>51.953056</td><td>0.8342</td><td>7</td><td>-99.0</td><td>0.40755767</td><td>-99.0</td><td>52674527000.0</td><td>-0.0016423</td><td>0.0010959</td><td>1.307</td><td>0.9362</td><td>-20.6</td><td>7.385</td><td>-26.11</td><td>9.506</td><td>-182.04</td><td>73.009</td><td>-604.31</td><td>315.057</td><td>-99.0</td><td>-99.0</td><td>-99.0</td><td>-99.0</td><td>-99.0</td><td>-99.0</td><td>-99.0</td><td>-99.0</td><td>-99.0</td><td>-99.0</td><td>-99.0</td><td>-99.0</td><td>-99.0</td><td>-99.0</td><td>-99.0</td><td>-99.0</td><td>-99.0</td><td>-99.0</td><td>-99.0</td><td>-99.0</td><td>-99.0</td><td>-99.0</td><td>-99.0</td><td>-99.0</td><td>-99.0</td><td>-99.0</td><td>-99.0</td><td>-99.0</td><td>-99.0</td><td>-99.0</td><td>-99.0</td><td>-99.0</td><td>-99.0</td><td>-99.0</td><td>-99.0</td><td>-99.0</td><td>-99.0</td><td>-99.0</td><td>-99.0</td><td>-99.0</td><td>-99.0</td><td>-99.0</td><td>-99.0</td><td>-99.0</td><td>-99.0</td><td>-99.0</td><td>-99.0</td><td>-99.0</td><td>-99.0</td><td>-99.0</td><td>-99.0</td><td>-99.0</td><td>-99.0</td><td>-99.0</td><td>-99.0</td><td>-99.0</td><td>-99.0</td><td>-99.0</td><td>-99.0</td><td>-99.0</td><td>-99.0</td><td>-99.0</td><td>-99.0</td><td>-99.0</td><td>-99.0</td><td>-99.0</td><td>-99.0</td><td>-99.0</td><td>-99.0</td><td>-99.0</td><td>-99.0</td><td>-99.0</td><td>-99.0</td><td>-99.0</td><td>-99.0</td><td>-99.0</td><td>-99.0</td><td>-99.0</td><td>-99.0</td><td>-99.0</td><td>-99.0</td><td>-99.0</td><td>-99.0</td><td>-99.0</td><td>-99.0</td><td>-99.0</td><td>-99.0</td><td>-99.0</td><td>-99.0</td><td>-99.0</td><td>-99.0</td><td>-99.0</td><td>24464.0</td><td>0.0</td><td>9999.0</td><td>1596.571</td><td>1538.96</td><td>16.232</td><td>-0.39</td><td>0.123</td><td>95.12</td><td>1.001</td><td>8.59</td><td>0.066</td><td>20190504027_3_multi_203_086_031_RL_020</td><td>19.6638</td><td>0.0022</td><td>1.5286</td><td>26.0</td><td>MegaPrime/CFHTLS</td><td>21.2174</td><td>0.0038</td><td>1.3656</td><td>26.0</td><td>MegaPrime/CFHTLS</td><td>-99.0</td><td>-99.0</td><td>-99.0</td><td>-99.0</td><td>?</td><td>1.3860204</td><td>6739-56393-0402</td><td>4.148</td><td>1.1737028</td><td>1044</td><td>192</td><td>52468</td><td>4.1502028</td><td>0</td><td>0.952</td></tr>\n",
       "<tr><td>3</td><td>194.16838</td><td>51.994675</td><td>3.93</td><td>0.00047</td><td>1</td><td>dex-spring</td><td>1</td><td>2100842829</td><td>194.16832</td><td>51.994694</td><td>0.1689</td><td>2</td><td>-0.78924</td><td>0.33032688</td><td>-9.998769</td><td>6499248000.0</td><td>0.0014873</td><td>0.0011787</td><td>-1.3231</td><td>1.0091</td><td>-0.67</td><td>4.193</td><td>-0.68</td><td>5.423</td><td>-0.8</td><td>51.348</td><td>-0.89</td><td>399.417</td><td>-99.0</td><td>-99.0</td><td>-99.0</td><td>-99.0</td><td>-99.0</td><td>-99.0</td><td>-99.0</td><td>-99.0</td><td>-99.0</td><td>-99.0</td><td>-99.0</td><td>-99.0</td><td>-99.0</td><td>-99.0</td><td>-99.0</td><td>-99.0</td><td>-99.0</td><td>-99.0</td><td>-99.0</td><td>-99.0</td><td>-99.0</td><td>-99.0</td><td>-99.0</td><td>-99.0</td><td>-99.0</td><td>-99.0</td><td>-99.0</td><td>-99.0</td><td>-99.0</td><td>-99.0</td><td>-99.0</td><td>-99.0</td><td>-99.0</td><td>-99.0</td><td>-99.0</td><td>-99.0</td><td>-99.0</td><td>-99.0</td><td>-99.0</td><td>-99.0</td><td>-99.0</td><td>-99.0</td><td>-99.0</td><td>-99.0</td><td>-99.0</td><td>-99.0</td><td>-99.0</td><td>-99.0</td><td>-99.0</td><td>-99.0</td><td>-99.0</td><td>-99.0</td><td>-99.0</td><td>-99.0</td><td>-99.0</td><td>-99.0</td><td>-99.0</td><td>-99.0</td><td>-99.0</td><td>-99.0</td><td>-99.0</td><td>-99.0</td><td>-99.0</td><td>-99.0</td><td>-99.0</td><td>-99.0</td><td>-99.0</td><td>-99.0</td><td>-99.0</td><td>-99.0</td><td>-99.0</td><td>-99.0</td><td>-99.0</td><td>-99.0</td><td>-99.0</td><td>-99.0</td><td>-99.0</td><td>-99.0</td><td>-99.0</td><td>-99.0</td><td>-99.0</td><td>-99.0</td><td>-99.0</td><td>-99.0</td><td>-99.0</td><td>-99.0</td><td>-99.0</td><td>-99.0</td><td>-99.0</td><td>-99.0</td><td>-99.0</td><td>-99.0</td><td>10560.4</td><td>446.506</td><td>9999.0</td><td>38563.977</td><td>908.63</td><td>11.373</td><td>-0.04</td><td>0.079</td><td>64.97</td><td>1.243</td><td>5.23</td><td>0.042</td><td>20190403022_3_multi_326_082_034_LL_096</td><td>-99.0</td><td>-99.0</td><td>-99.0</td><td>-99.0</td><td>?</td><td>21.1224</td><td>0.0249</td><td>2.1935</td><td>24.7</td><td>MOSAIC/KPNO</td><td>-99.0</td><td>-99.0</td><td>-99.0</td><td>-99.0</td><td>?</td><td>0.37794486</td><td>6673-56419-0158</td><td>3.93</td><td>0.37794486</td><td>6673</td><td>158</td><td>56419</td><td>3.9429967</td><td>1</td><td>0.93</td></tr>\n",
       "<tr><td>4</td><td>242.78114</td><td>53.702232</td><td>3.929</td><td>0.00074</td><td>1</td><td>dex-spring</td><td>2</td><td>2102444492</td><td>242.78114</td><td>53.702232</td><td>0.0</td><td>1</td><td>-2.36664</td><td>0.50077295</td><td>3186625.0</td><td>524702220000.0</td><td>-0.0035677</td><td>0.0023944</td><td>3.42</td><td>2.0522</td><td>2.48</td><td>7.686</td><td>2.25</td><td>9.926</td><td>0.83</td><td>106.982</td><td>0.4</td><td>995.467</td><td>-99.0</td><td>-99.0</td><td>-99.0</td><td>-99.0</td><td>-99.0</td><td>-99.0</td><td>-99.0</td><td>-99.0</td><td>-99.0</td><td>-99.0</td><td>-99.0</td><td>-99.0</td><td>-99.0</td><td>-99.0</td><td>-99.0</td><td>-99.0</td><td>-99.0</td><td>-99.0</td><td>-99.0</td><td>-99.0</td><td>-99.0</td><td>-99.0</td><td>-99.0</td><td>-99.0</td><td>-99.0</td><td>-99.0</td><td>-99.0</td><td>-99.0</td><td>-99.0</td><td>-99.0</td><td>-99.0</td><td>-99.0</td><td>-99.0</td><td>-99.0</td><td>-99.0</td><td>-99.0</td><td>-99.0</td><td>-99.0</td><td>-99.0</td><td>-99.0</td><td>-99.0</td><td>-99.0</td><td>-99.0</td><td>-99.0</td><td>-99.0</td><td>-99.0</td><td>-99.0</td><td>-99.0</td><td>-99.0</td><td>-99.0</td><td>-99.0</td><td>-99.0</td><td>-99.0</td><td>-99.0</td><td>-99.0</td><td>-99.0</td><td>-99.0</td><td>-99.0</td><td>-99.0</td><td>-99.0</td><td>-99.0</td><td>-99.0</td><td>-99.0</td><td>-99.0</td><td>-99.0</td><td>-99.0</td><td>-99.0</td><td>-99.0</td><td>-99.0</td><td>-99.0</td><td>-99.0</td><td>-99.0</td><td>-99.0</td><td>-99.0</td><td>-99.0</td><td>-99.0</td><td>-99.0</td><td>-99.0</td><td>-99.0</td><td>-99.0</td><td>-99.0</td><td>-99.0</td><td>-99.0</td><td>-99.0</td><td>-99.0</td><td>-99.0</td><td>-99.0</td><td>-99.0</td><td>-99.0</td><td>-99.0</td><td>-99.0</td><td>-99.0</td><td>1761.81</td><td>993.613</td><td>2853.96</td><td>1158259300000.0</td><td>667.86</td><td>23.069</td><td>0.23</td><td>0.148</td><td>15.964</td><td>1.73</td><td>1.45</td><td>0.026</td><td>20200527024_1_multi_326_082_034_LU_062</td><td>20.9136</td><td>0.0122</td><td>1.8493</td><td>24.0</td><td>DECaLS</td><td>22.2278</td><td>0.0251</td><td>2.478</td><td>24.0</td><td>DECaLS</td><td>-99.0</td><td>-99.0</td><td>-99.0</td><td>-99.0</td><td>?</td><td>0.47564432</td><td>6312-56487-0721</td><td>3.929</td><td>0.47564432</td><td>6312</td><td>721</td><td>56487</td><td>3.9316654</td><td>0</td><td>0.888</td></tr>\n",
       "<tr><td>5</td><td>165.8053</td><td>51.27956</td><td>3.912</td><td>0.00077</td><td>1</td><td>dex-spring</td><td>2</td><td>2100958103</td><td>165.8053</td><td>51.279537</td><td>0.0768</td><td>6</td><td>-2.79708</td><td>0.30297083</td><td>73525080.0</td><td>589500000000.0</td><td>-0.0053573</td><td>0.0014661</td><td>5.0513</td><td>1.2598</td><td>2.54</td><td>3.373</td><td>2.23</td><td>4.309</td><td>0.61</td><td>41.681</td><td>0.23</td><td>382.316</td><td>-99.0</td><td>-99.0</td><td>-99.0</td><td>-99.0</td><td>-99.0</td><td>-99.0</td><td>-99.0</td><td>-99.0</td><td>-99.0</td><td>-99.0</td><td>-99.0</td><td>-99.0</td><td>-99.0</td><td>-99.0</td><td>-99.0</td><td>-99.0</td><td>-99.0</td><td>-99.0</td><td>-99.0</td><td>-99.0</td><td>-99.0</td><td>-99.0</td><td>-99.0</td><td>-99.0</td><td>-99.0</td><td>-99.0</td><td>-99.0</td><td>-99.0</td><td>-99.0</td><td>-99.0</td><td>-99.0</td><td>-99.0</td><td>-99.0</td><td>-99.0</td><td>-99.0</td><td>-99.0</td><td>-99.0</td><td>-99.0</td><td>-99.0</td><td>-99.0</td><td>-99.0</td><td>-99.0</td><td>-99.0</td><td>-99.0</td><td>-99.0</td><td>-99.0</td><td>-99.0</td><td>-99.0</td><td>-99.0</td><td>-99.0</td><td>-99.0</td><td>-99.0</td><td>-99.0</td><td>-99.0</td><td>-99.0</td><td>-99.0</td><td>-99.0</td><td>-99.0</td><td>-99.0</td><td>-99.0</td><td>-99.0</td><td>-99.0</td><td>-99.0</td><td>-99.0</td><td>-99.0</td><td>-99.0</td><td>-99.0</td><td>-99.0</td><td>-99.0</td><td>-99.0</td><td>-99.0</td><td>-99.0</td><td>-99.0</td><td>-99.0</td><td>-99.0</td><td>-99.0</td><td>-99.0</td><td>-99.0</td><td>-99.0</td><td>-99.0</td><td>-99.0</td><td>-99.0</td><td>-99.0</td><td>-99.0</td><td>-99.0</td><td>-99.0</td><td>-99.0</td><td>-99.0</td><td>-99.0</td><td>-99.0</td><td>-99.0</td><td>-99.0</td><td>16104.86</td><td>406.605</td><td>2930.8</td><td>271.181</td><td>797.58</td><td>10.982</td><td>0.27</td><td>0.069</td><td>61.425</td><td>0.857</td><td>3.47</td><td>0.043</td><td>20190501017_1_multi_308_047_024_LU_084</td><td>20.2565</td><td>0.0039</td><td>2.2142</td><td>26.2</td><td>HSC-DEX</td><td>-99.0</td><td>-99.0</td><td>-99.0</td><td>-99.0</td><td>?</td><td>-99.0</td><td>-99.0</td><td>-99.0</td><td>-99.0</td><td>?</td><td>0.5949936</td><td>8161-57127-0750</td><td>3.912</td><td>0.5949936</td><td>6706</td><td>116</td><td>56385</td><td>3.912013</td><td>1</td><td>0.936</td></tr>\n",
       "<tr><td>6</td><td>9.84455</td><td>0.4451806</td><td>3.844</td><td>0.0002</td><td>1</td><td>dex-fall</td><td>1</td><td>2101392594</td><td>9.844523</td><td>0.445109</td><td>0.275</td><td>3</td><td>-99.0</td><td>0.55153126</td><td>-99.0</td><td>428311940000.0</td><td>0.00104</td><td>0.0017264</td><td>-0.3605</td><td>1.4737</td><td>19.71</td><td>5.628</td><td>23.28</td><td>7.331</td><td>115.84</td><td>137.866</td><td>352.77</td><td>1685.902</td><td>-99.0</td><td>-99.0</td><td>-99.0</td><td>-99.0</td><td>-99.0</td><td>-99.0</td><td>-99.0</td><td>-99.0</td><td>-99.0</td><td>-99.0</td><td>-99.0</td><td>-99.0</td><td>-99.0</td><td>-99.0</td><td>-99.0</td><td>-99.0</td><td>-99.0</td><td>-99.0</td><td>-99.0</td><td>-99.0</td><td>-99.0</td><td>-99.0</td><td>-99.0</td><td>-99.0</td><td>-99.0</td><td>-99.0</td><td>-99.0</td><td>-99.0</td><td>-99.0</td><td>-99.0</td><td>-99.0</td><td>-99.0</td><td>-99.0</td><td>-99.0</td><td>-99.0</td><td>-99.0</td><td>-99.0</td><td>-99.0</td><td>-99.0</td><td>-99.0</td><td>-99.0</td><td>-99.0</td><td>-99.0</td><td>-99.0</td><td>-99.0</td><td>-99.0</td><td>-99.0</td><td>-99.0</td><td>-99.0</td><td>-99.0</td><td>-99.0</td><td>-99.0</td><td>-99.0</td><td>-99.0</td><td>-99.0</td><td>-99.0</td><td>-99.0</td><td>-99.0</td><td>-99.0</td><td>-99.0</td><td>-99.0</td><td>-99.0</td><td>-99.0</td><td>-99.0</td><td>-99.0</td><td>-99.0</td><td>-99.0</td><td>-99.0</td><td>-99.0</td><td>-99.0</td><td>-99.0</td><td>-99.0</td><td>-99.0</td><td>-99.0</td><td>-99.0</td><td>-99.0</td><td>-99.0</td><td>-99.0</td><td>-99.0</td><td>-99.0</td><td>-99.0</td><td>-99.0</td><td>-99.0</td><td>-99.0</td><td>-99.0</td><td>-99.0</td><td>-99.0</td><td>-99.0</td><td>-99.0</td><td>-99.0</td><td>-99.0</td><td>-99.0</td><td>14561.13</td><td>606.153</td><td>1492.25</td><td>363000630000.0</td><td>1066.47</td><td>17.86</td><td>0.71</td><td>0.117</td><td>64.173</td><td>1.52</td><td>4.47</td><td>0.038</td><td>20191024024_1_multi_410_015_038_LU_043</td><td>-99.0</td><td>-99.0</td><td>-99.0</td><td>-99.0</td><td>?</td><td>21.8485</td><td>0.0277</td><td>1.8117</td><td>24.7</td><td>DECAM/SHELA</td><td>-99.0</td><td>-99.0</td><td>-99.0</td><td>-99.0</td><td>?</td><td>0.5357903</td><td>4222-55444-0658</td><td>3.844</td><td>0.5357903</td><td>3589</td><td>528</td><td>55186</td><td>3.8397486</td><td>0</td><td>0.961</td></tr>\n",
       "<tr><td>7</td><td>11.8217</td><td>-0.014904</td><td>3.767</td><td>0.00017</td><td>1</td><td>dex-fall</td><td>1</td><td>2100094844</td><td>11.8217</td><td>-0.014904</td><td>0.0</td><td>1</td><td>1.35604</td><td>0.1330209</td><td>0.00017614399</td><td>94.48662</td><td>0.002858</td><td>0.0002763</td><td>-0.7849</td><td>0.2696</td><td>55.72</td><td>2.289</td><td>65.94</td><td>3.221</td><td>365.66</td><td>63.31</td><td>1276.53</td><td>503.414</td><td>-99.0</td><td>-99.0</td><td>-99.0</td><td>-99.0</td><td>-99.0</td><td>-99.0</td><td>-99.0</td><td>-99.0</td><td>-99.0</td><td>-99.0</td><td>-99.0</td><td>-99.0</td><td>-99.0</td><td>-99.0</td><td>-99.0</td><td>-99.0</td><td>-99.0</td><td>-99.0</td><td>-99.0</td><td>-99.0</td><td>-99.0</td><td>-99.0</td><td>-99.0</td><td>-99.0</td><td>-99.0</td><td>-99.0</td><td>-99.0</td><td>-99.0</td><td>-99.0</td><td>-99.0</td><td>-99.0</td><td>-99.0</td><td>-99.0</td><td>-99.0</td><td>-99.0</td><td>-99.0</td><td>-99.0</td><td>-99.0</td><td>-99.0</td><td>-99.0</td><td>-99.0</td><td>-99.0</td><td>-99.0</td><td>-99.0</td><td>-99.0</td><td>-99.0</td><td>-99.0</td><td>-99.0</td><td>-99.0</td><td>-99.0</td><td>-99.0</td><td>-99.0</td><td>-99.0</td><td>-99.0</td><td>-99.0</td><td>-99.0</td><td>-99.0</td><td>-99.0</td><td>-99.0</td><td>-99.0</td><td>-99.0</td><td>-99.0</td><td>-99.0</td><td>-99.0</td><td>-99.0</td><td>-99.0</td><td>-99.0</td><td>-99.0</td><td>-99.0</td><td>-99.0</td><td>-99.0</td><td>-99.0</td><td>-99.0</td><td>-99.0</td><td>-99.0</td><td>-99.0</td><td>-99.0</td><td>-99.0</td><td>-99.0</td><td>-99.0</td><td>-99.0</td><td>-99.0</td><td>-99.0</td><td>-99.0</td><td>-99.0</td><td>-99.0</td><td>-99.0</td><td>-99.0</td><td>-99.0</td><td>-99.0</td><td>-99.0</td><td>-99.0</td><td>1078.34</td><td>133.976</td><td>172.06</td><td>8.45</td><td>370.89</td><td>8.364</td><td>2.16</td><td>0.045</td><td>7.713</td><td>0.187</td><td>0.91</td><td>0.024</td><td>20171115010_3_multi_027_085_001_RU_018</td><td>-99.0</td><td>-99.0</td><td>-99.0</td><td>-99.0</td><td>?</td><td>22.3022</td><td>0.0192</td><td>1.9476</td><td>24.7</td><td>DECAM/SHELA</td><td>-99.0</td><td>-99.0</td><td>-99.0</td><td>-99.0</td><td>?</td><td>0.1456584</td><td>3590-55201-0314</td><td>3.767</td><td>0.14389646</td><td>3589</td><td>118</td><td>55186</td><td>3.7854643</td><td>0</td><td>0.472</td></tr>\n",
       "<tr><td>8</td><td>176.67075</td><td>52.125137</td><td>3.732</td><td>0.00017</td><td>1</td><td>dex-spring</td><td>1</td><td>2101918986</td><td>176.6708</td><td>52.125084</td><td>0.2418</td><td>4</td><td>3.7</td><td>2.479328e-10</td><td>1.931566e-11</td><td>1.8884091e-13</td><td>0.0127527</td><td>0.000208</td><td>-10.2972</td><td>0.2112</td><td>129.96</td><td>1.271</td><td>181.83</td><td>1.778</td><td>5542.65</td><td>54.188</td><td>67116.2</td><td>656.166</td><td>-99.0</td><td>-99.0</td><td>-99.0</td><td>-99.0</td><td>-99.0</td><td>-99.0</td><td>-99.0</td><td>-99.0</td><td>-99.0</td><td>-99.0</td><td>-99.0</td><td>-99.0</td><td>-99.0</td><td>-99.0</td><td>-99.0</td><td>-99.0</td><td>-99.0</td><td>-99.0</td><td>-99.0</td><td>-99.0</td><td>-99.0</td><td>-99.0</td><td>-99.0</td><td>-99.0</td><td>-99.0</td><td>-99.0</td><td>-99.0</td><td>-99.0</td><td>-99.0</td><td>-99.0</td><td>-99.0</td><td>-99.0</td><td>-99.0</td><td>-99.0</td><td>-99.0</td><td>-99.0</td><td>-99.0</td><td>-99.0</td><td>-99.0</td><td>-99.0</td><td>-99.0</td><td>-99.0</td><td>-99.0</td><td>-99.0</td><td>-99.0</td><td>-99.0</td><td>-99.0</td><td>-99.0</td><td>-99.0</td><td>-99.0</td><td>-99.0</td><td>-99.0</td><td>-99.0</td><td>-99.0</td><td>-99.0</td><td>-99.0</td><td>-99.0</td><td>-99.0</td><td>-99.0</td><td>-99.0</td><td>-99.0</td><td>-99.0</td><td>-99.0</td><td>-99.0</td><td>-99.0</td><td>-99.0</td><td>-99.0</td><td>-99.0</td><td>-99.0</td><td>-99.0</td><td>-99.0</td><td>-99.0</td><td>-99.0</td><td>-99.0</td><td>-99.0</td><td>-99.0</td><td>-99.0</td><td>-99.0</td><td>-99.0</td><td>-99.0</td><td>-99.0</td><td>-99.0</td><td>-99.0</td><td>-99.0</td><td>-99.0</td><td>-99.0</td><td>-99.0</td><td>-99.0</td><td>-99.0</td><td>-99.0</td><td>-99.0</td><td>-99.0</td><td>3289.47</td><td>66.819</td><td>163.33</td><td>3.319</td><td>449.18</td><td>5.775</td><td>2.75</td><td>0.027</td><td>28.733</td><td>0.18</td><td>1.98</td><td>0.03</td><td>20200325031_2_multi_329_088_029_RL_079</td><td>-99.0</td><td>-99.0</td><td>-99.0</td><td>-99.0</td><td>?</td><td>20.8898</td><td>0.0164</td><td>1.5864</td><td>24.7</td><td>MOSAIC/KPNO</td><td>-99.0</td><td>-99.0</td><td>-99.0</td><td>-99.0</td><td>?</td><td>0.4745277</td><td>6683-56416-0558</td><td>3.729</td><td>0.4745277</td><td>6683</td><td>558</td><td>56416</td><td>3.7293863</td><td>1</td><td>0.896</td></tr>\n",
       "<tr><td>9</td><td>27.704254</td><td>0.691078</td><td>3.706</td><td>0.00019</td><td>1</td><td>dex-fall</td><td>1</td><td>2101428801</td><td>27.704254</td><td>0.691078</td><td>0.0</td><td>1</td><td>1.70769</td><td>0.056082614</td><td>3.605734e-05</td><td>0.0009842182</td><td>0.0082225</td><td>0.0002657</td><td>-3.3741</td><td>0.2586</td><td>138.38</td><td>2.314</td><td>167.92</td><td>3.36</td><td>1202.41</td><td>68.038</td><td>5058.67</td><td>444.509</td><td>-99.0</td><td>-99.0</td><td>-99.0</td><td>-99.0</td><td>-99.0</td><td>-99.0</td><td>-99.0</td><td>-99.0</td><td>-99.0</td><td>-99.0</td><td>-99.0</td><td>-99.0</td><td>-99.0</td><td>-99.0</td><td>-99.0</td><td>-99.0</td><td>-99.0</td><td>-99.0</td><td>-99.0</td><td>-99.0</td><td>-99.0</td><td>-99.0</td><td>-99.0</td><td>-99.0</td><td>-99.0</td><td>-99.0</td><td>-99.0</td><td>-99.0</td><td>-99.0</td><td>-99.0</td><td>-99.0</td><td>-99.0</td><td>-99.0</td><td>-99.0</td><td>-99.0</td><td>-99.0</td><td>-99.0</td><td>-99.0</td><td>-99.0</td><td>-99.0</td><td>-99.0</td><td>-99.0</td><td>-99.0</td><td>-99.0</td><td>-99.0</td><td>-99.0</td><td>-99.0</td><td>-99.0</td><td>-99.0</td><td>-99.0</td><td>-99.0</td><td>-99.0</td><td>-99.0</td><td>-99.0</td><td>-99.0</td><td>-99.0</td><td>-99.0</td><td>-99.0</td><td>-99.0</td><td>-99.0</td><td>-99.0</td><td>-99.0</td><td>-99.0</td><td>-99.0</td><td>-99.0</td><td>-99.0</td><td>-99.0</td><td>-99.0</td><td>-99.0</td><td>-99.0</td><td>-99.0</td><td>-99.0</td><td>-99.0</td><td>-99.0</td><td>-99.0</td><td>-99.0</td><td>-99.0</td><td>-99.0</td><td>-99.0</td><td>-99.0</td><td>-99.0</td><td>-99.0</td><td>-99.0</td><td>-99.0</td><td>-99.0</td><td>-99.0</td><td>-99.0</td><td>-99.0</td><td>-99.0</td><td>-99.0</td><td>-99.0</td><td>-99.0</td><td>2029.52</td><td>29.228</td><td>48.2</td><td>2.481</td><td>244.21</td><td>10.729</td><td>5.07</td><td>0.041</td><td>15.601</td><td>0.135</td><td>2.43</td><td>0.035</td><td>20191101016_3_multi_330_092_075_LU_036</td><td>-99.0</td><td>-99.0</td><td>-99.0</td><td>-99.0</td><td>?</td><td>20.5277</td><td>0.0035</td><td>2.9</td><td>24.7</td><td>DECAM/SHELA</td><td>-99.0</td><td>-99.0</td><td>-99.0</td><td>-99.0</td><td>?</td><td>196.33844</td><td>0700-52199-0388</td><td>1.6773</td><td>3.273165</td><td>4233</td><td>556</td><td>55449</td><td>3.702474</td><td>1</td><td>0.856</td></tr>\n",
       "<tr><td>...</td><td>...</td><td>...</td><td>...</td><td>...</td><td>...</td><td>...</td><td>...</td><td>...</td><td>...</td><td>...</td><td>...</td><td>...</td><td>...</td><td>...</td><td>...</td><td>...</td><td>...</td><td>...</td><td>...</td><td>...</td><td>...</td><td>...</td><td>...</td><td>...</td><td>...</td><td>...</td><td>...</td><td>...</td><td>...</td><td>...</td><td>...</td><td>...</td><td>...</td><td>...</td><td>...</td><td>...</td><td>...</td><td>...</td><td>...</td><td>...</td><td>...</td><td>...</td><td>...</td><td>...</td><td>...</td><td>...</td><td>...</td><td>...</td><td>...</td><td>...</td><td>...</td><td>...</td><td>...</td><td>...</td><td>...</td><td>...</td><td>...</td><td>...</td><td>...</td><td>...</td><td>...</td><td>...</td><td>...</td><td>...</td><td>...</td><td>...</td><td>...</td><td>...</td><td>...</td><td>...</td><td>...</td><td>...</td><td>...</td><td>...</td><td>...</td><td>...</td><td>...</td><td>...</td><td>...</td><td>...</td><td>...</td><td>...</td><td>...</td><td>...</td><td>...</td><td>...</td><td>...</td><td>...</td><td>...</td><td>...</td><td>...</td><td>...</td><td>...</td><td>...</td><td>...</td><td>...</td><td>...</td><td>...</td><td>...</td><td>...</td><td>...</td><td>...</td><td>...</td><td>...</td><td>...</td><td>...</td><td>...</td><td>...</td><td>...</td><td>...</td><td>...</td><td>...</td><td>...</td><td>...</td><td>...</td><td>...</td><td>...</td><td>...</td><td>...</td><td>...</td><td>...</td><td>...</td><td>...</td><td>...</td><td>...</td><td>...</td><td>...</td><td>...</td><td>...</td><td>...</td><td>...</td><td>...</td><td>...</td><td>...</td><td>...</td><td>...</td><td>...</td><td>...</td><td>...</td><td>...</td><td>...</td><td>...</td><td>...</td><td>...</td><td>...</td><td>...</td><td>...</td><td>...</td><td>...</td><td>...</td><td>...</td><td>...</td><td>...</td><td>...</td><td>...</td><td>...</td><td>...</td><td>...</td></tr>\n",
       "<tr><td>5369</td><td>220.18811</td><td>51.25882</td><td>0.26</td><td>0.00017</td><td>1</td><td>dex-spring</td><td>1</td><td>2100296414</td><td>220.18817</td><td>51.259144</td><td>1.1702</td><td>4</td><td>1.14608</td><td>0.006971624</td><td>0.0005440151</td><td>3.547415e-05</td><td>0.0020567</td><td>1.31e-05</td><td>-0.9199</td><td>0.0445</td><td>0.06</td><td>0.0</td><td>0.07</td><td>0.0</td><td>0.33</td><td>0.0</td><td>1.02</td><td>0.003</td><td>-99.0</td><td>-99.0</td><td>-99.0</td><td>-99.0</td><td>-99.0</td><td>-99.0</td><td>-99.0</td><td>-99.0</td><td>-99.0</td><td>-99.0</td><td>-99.0</td><td>-99.0</td><td>-99.0</td><td>-99.0</td><td>-99.0</td><td>-99.0</td><td>-99.0</td><td>-99.0</td><td>-99.0</td><td>-99.0</td><td>-99.0</td><td>-99.0</td><td>-99.0</td><td>-99.0</td><td>-99.0</td><td>-99.0</td><td>-99.0</td><td>-99.0</td><td>-99.0</td><td>-99.0</td><td>-99.0</td><td>-99.0</td><td>-99.0</td><td>-99.0</td><td>-99.0</td><td>-99.0</td><td>-99.0</td><td>-99.0</td><td>-99.0</td><td>-99.0</td><td>-99.0</td><td>-99.0</td><td>-99.0</td><td>-99.0</td><td>-99.0</td><td>-99.0</td><td>-99.0</td><td>-99.0</td><td>-99.0</td><td>-99.0</td><td>-99.0</td><td>-99.0</td><td>-99.0</td><td>-99.0</td><td>-99.0</td><td>-99.0</td><td>-99.0</td><td>-99.0</td><td>-99.0</td><td>-99.0</td><td>-99.0</td><td>-99.0</td><td>-99.0</td><td>-99.0</td><td>-99.0</td><td>-99.0</td><td>-99.0</td><td>-99.0</td><td>116.82</td><td>159.976</td><td>29.38</td><td>0.779</td><td>142.65</td><td>3.775</td><td>4.85</td><td>0.008</td><td>4.337</td><td>0.21</td><td>0.95</td><td>0.054</td><td>449.78</td><td>5.15</td><td>6.04</td><td>0.073</td><td>40.76</td><td>0.481</td><td>6.75</td><td>0.006</td><td>14.543</td><td>0.153</td><td>2.09</td><td>0.065</td><td>-99.0</td><td>-99.0</td><td>-99.0</td><td>-99.0</td><td>-99.0</td><td>-99.0</td><td>-99.0</td><td>-99.0</td><td>-99.0</td><td>-99.0</td><td>-99.0</td><td>-99.0</td><td>20180511009_1_multi_032_094_028_LL_010</td><td>18.5924</td><td>0.002</td><td>2.6021</td><td>26.2</td><td>HSC-DEX</td><td>-99.0</td><td>-99.0</td><td>-99.0</td><td>-99.0</td><td>?</td><td>-99.0</td><td>-99.0</td><td>-99.0</td><td>-99.0</td><td>?</td><td>0.85573226</td><td>1328-52786-0351</td><td>0.26</td><td>0.85573226</td><td>1328</td><td>351</td><td>52786</td><td>0.26008368</td><td>2</td><td>0.631</td></tr>\n",
       "<tr><td>5370</td><td>22.692274</td><td>-0.1335406</td><td>0.254</td><td>3e-05</td><td>1</td><td>dex-fall</td><td>1</td><td>2100641342</td><td>22.69228</td><td>-0.133544</td><td>0.0239</td><td>3</td><td>-2.53498</td><td>0.003344833</td><td>15290446000.0</td><td>445417800.0</td><td>-0.0113178</td><td>1.33e-05</td><td>56.3999</td><td>0.0475</td><td>4.72</td><td>0.014</td><td>4.23</td><td>0.012</td><td>1.39</td><td>0.001</td><td>0.61</td><td>0.001</td><td>-99.0</td><td>-99.0</td><td>-99.0</td><td>-99.0</td><td>-99.0</td><td>-99.0</td><td>-99.0</td><td>-99.0</td><td>-99.0</td><td>-99.0</td><td>-99.0</td><td>-99.0</td><td>-99.0</td><td>-99.0</td><td>-99.0</td><td>-99.0</td><td>-99.0</td><td>-99.0</td><td>-99.0</td><td>-99.0</td><td>-99.0</td><td>-99.0</td><td>-99.0</td><td>-99.0</td><td>-99.0</td><td>-99.0</td><td>-99.0</td><td>-99.0</td><td>-99.0</td><td>-99.0</td><td>-99.0</td><td>-99.0</td><td>-99.0</td><td>-99.0</td><td>-99.0</td><td>-99.0</td><td>-99.0</td><td>-99.0</td><td>-99.0</td><td>-99.0</td><td>-99.0</td><td>-99.0</td><td>-99.0</td><td>-99.0</td><td>-99.0</td><td>-99.0</td><td>-99.0</td><td>-99.0</td><td>-99.0</td><td>-99.0</td><td>-99.0</td><td>-99.0</td><td>-99.0</td><td>-99.0</td><td>-99.0</td><td>-99.0</td><td>-99.0</td><td>-99.0</td><td>-99.0</td><td>-99.0</td><td>-99.0</td><td>-99.0</td><td>-99.0</td><td>-99.0</td><td>-99.0</td><td>-99.0</td><td>-99.0</td><td>-99.0</td><td>1164.74</td><td>40.963</td><td>3.47</td><td>0.204</td><td>96.89</td><td>5.657</td><td>27.94</td><td>0.018</td><td>7.068</td><td>0.125</td><td>0.7</td><td>0.053</td><td>410.2</td><td>10.652</td><td>2.6</td><td>0.152</td><td>35.06</td><td>2.04</td><td>13.5</td><td>0.008</td><td>5.737</td><td>0.143</td><td>0.62</td><td>0.038</td><td>-99.0</td><td>-99.0</td><td>-99.0</td><td>-99.0</td><td>-99.0</td><td>-99.0</td><td>-99.0</td><td>-99.0</td><td>-99.0</td><td>-99.0</td><td>-99.0</td><td>-99.0</td><td>20190101013_1_multi_032_094_028_LU_107</td><td>19.0405</td><td>0.0013</td><td>1.5705</td><td>26.4</td><td>HSC-SSP</td><td>19.3279</td><td>0.0014</td><td>1.6979</td><td>26.8</td><td>HSC-SSP</td><td>19.4798</td><td>0.001</td><td>2.0743</td><td>25.7</td><td>DECAM/SHELA</td><td>48.31098</td><td>4229-55501-0117</td><td>2.895</td><td>0.1862989</td><td>400</td><td>271</td><td>51820</td><td>0.25381678</td><td>2</td><td>0.904</td></tr>\n",
       "<tr><td>5371</td><td>9.347875</td><td>0.1367988</td><td>0.252</td><td>1e-05</td><td>1</td><td>dex-fall</td><td>1</td><td>2100516315</td><td>9.347902</td><td>0.136783</td><td>0.1157</td><td>17</td><td>-2.92435</td><td>0.0022384499</td><td>859391600000.0</td><td>16009678000.0</td><td>-0.0301868</td><td>2.25e-05</td><td>145.6705</td><td>0.0814</td><td>15.74</td><td>0.032</td><td>13.72</td><td>0.026</td><td>3.39</td><td>0.001</td><td>1.22</td><td>0.001</td><td>-99.0</td><td>-99.0</td><td>-99.0</td><td>-99.0</td><td>-99.0</td><td>-99.0</td><td>-99.0</td><td>-99.0</td><td>-99.0</td><td>-99.0</td><td>-99.0</td><td>-99.0</td><td>-99.0</td><td>-99.0</td><td>-99.0</td><td>-99.0</td><td>-99.0</td><td>-99.0</td><td>-99.0</td><td>-99.0</td><td>-99.0</td><td>-99.0</td><td>-99.0</td><td>-99.0</td><td>-99.0</td><td>-99.0</td><td>-99.0</td><td>-99.0</td><td>-99.0</td><td>-99.0</td><td>-99.0</td><td>-99.0</td><td>-99.0</td><td>-99.0</td><td>-99.0</td><td>-99.0</td><td>-99.0</td><td>-99.0</td><td>-99.0</td><td>-99.0</td><td>-99.0</td><td>-99.0</td><td>-99.0</td><td>-99.0</td><td>-99.0</td><td>-99.0</td><td>-99.0</td><td>-99.0</td><td>-99.0</td><td>-99.0</td><td>-99.0</td><td>-99.0</td><td>-99.0</td><td>-99.0</td><td>-99.0</td><td>-99.0</td><td>-99.0</td><td>-99.0</td><td>-99.0</td><td>-99.0</td><td>-99.0</td><td>-99.0</td><td>-99.0</td><td>-99.0</td><td>-99.0</td><td>-99.0</td><td>-99.0</td><td>-99.0</td><td>2048.34</td><td>13.83</td><td>33.74</td><td>0.328</td><td>2409.89</td><td>23.233</td><td>71.43</td><td>0.033</td><td>37.581</td><td>0.133</td><td>0.94</td><td>0.074</td><td>573.79</td><td>11.702</td><td>8.24</td><td>0.093</td><td>254.28</td><td>2.83</td><td>30.85</td><td>0.009</td><td>13.741</td><td>0.141</td><td>1.78</td><td>0.057</td><td>-99.0</td><td>-99.0</td><td>-99.0</td><td>-99.0</td><td>-99.0</td><td>-99.0</td><td>-99.0</td><td>-99.0</td><td>-99.0</td><td>-99.0</td><td>-99.0</td><td>-99.0</td><td>20181106013_1_multi_318_026_078_RU_061</td><td>-99.0</td><td>-99.0</td><td>-99.0</td><td>-99.0</td><td>?</td><td>18.1815</td><td>0.0023</td><td>2.7577</td><td>24.7</td><td>DECAM/SHELA</td><td>-99.0</td><td>-99.0</td><td>-99.0</td><td>-99.0</td><td>?</td><td>0.1457751</td><td>7868-57006-0816</td><td>0.2519668</td><td>0.1457751</td><td>7868</td><td>816</td><td>57006</td><td>0.25196669</td><td>2</td><td>0.925</td></tr>\n",
       "<tr><td>5372</td><td>205.14743</td><td>55.82529</td><td>0.246</td><td>1e-05</td><td>1</td><td>dex-spring</td><td>1</td><td>2101986017</td><td>205.14742</td><td>55.825287</td><td>0.0385</td><td>7</td><td>-1.82085</td><td>0.0024260175</td><td>86809544.0</td><td>1790615.4</td><td>-0.0155844</td><td>1.91e-05</td><td>86.1609</td><td>0.0695</td><td>4.28</td><td>0.01</td><td>4.04</td><td>0.009</td><td>2.22</td><td>0.001</td><td>1.44</td><td>0.001</td><td>-99.0</td><td>-99.0</td><td>-99.0</td><td>-99.0</td><td>-99.0</td><td>-99.0</td><td>-99.0</td><td>-99.0</td><td>-99.0</td><td>-99.0</td><td>-99.0</td><td>-99.0</td><td>-99.0</td><td>-99.0</td><td>-99.0</td><td>-99.0</td><td>-99.0</td><td>-99.0</td><td>-99.0</td><td>-99.0</td><td>-99.0</td><td>-99.0</td><td>-99.0</td><td>-99.0</td><td>-99.0</td><td>-99.0</td><td>-99.0</td><td>-99.0</td><td>-99.0</td><td>-99.0</td><td>-99.0</td><td>-99.0</td><td>-99.0</td><td>-99.0</td><td>-99.0</td><td>-99.0</td><td>-99.0</td><td>-99.0</td><td>-99.0</td><td>-99.0</td><td>-99.0</td><td>-99.0</td><td>-99.0</td><td>-99.0</td><td>-99.0</td><td>-99.0</td><td>-99.0</td><td>-99.0</td><td>-99.0</td><td>-99.0</td><td>-99.0</td><td>-99.0</td><td>-99.0</td><td>-99.0</td><td>-99.0</td><td>-99.0</td><td>-99.0</td><td>-99.0</td><td>-99.0</td><td>-99.0</td><td>-99.0</td><td>-99.0</td><td>-99.0</td><td>-99.0</td><td>-99.0</td><td>-99.0</td><td>-99.0</td><td>-99.0</td><td>4128.8</td><td>32.178</td><td>25.23</td><td>0.412</td><td>1158.6</td><td>18.812</td><td>45.93</td><td>0.025</td><td>6.401</td><td>0.074</td><td>0.44</td><td>0.064</td><td>516.83</td><td>7.764</td><td>2.1</td><td>0.025</td><td>57.32</td><td>0.676</td><td>27.23</td><td>0.009</td><td>12.338</td><td>0.127</td><td>1.05</td><td>0.043</td><td>-99.0</td><td>-99.0</td><td>-99.0</td><td>-99.0</td><td>-99.0</td><td>-99.0</td><td>-99.0</td><td>-99.0</td><td>-99.0</td><td>-99.0</td><td>-99.0</td><td>-99.0</td><td>20200413019_2_multi_422_078_069_LU_105</td><td>17.9946</td><td>0.0016</td><td>2.6537</td><td>26.2</td><td>HSC-DEX</td><td>-99.0</td><td>-99.0</td><td>-99.0</td><td>-99.0</td><td>?</td><td>-99.0</td><td>-99.0</td><td>-99.0</td><td>-99.0</td><td>?</td><td>0.8978812</td><td>1322-52791-0389</td><td>0.2464</td><td>0.8978812</td><td>1322</td><td>389</td><td>52791</td><td>0.24669994</td><td>2</td><td>0.861</td></tr>\n",
       "<tr><td>5373</td><td>13.692243</td><td>0.701108</td><td>0.234</td><td>5e-05</td><td>1</td><td>dex-fall</td><td>1</td><td>2101402277</td><td>13.692243</td><td>0.701108</td><td>0.0</td><td>1</td><td>-2.18995</td><td>0.004559054</td><td>1375639000.0</td><td>50706564.0</td><td>-0.0141752</td><td>2.79e-05</td><td>74.477</td><td>0.0998</td><td>4.24</td><td>0.018</td><td>3.89</td><td>0.015</td><td>1.64</td><td>0.001</td><td>0.87</td><td>0.002</td><td>-99.0</td><td>-99.0</td><td>-99.0</td><td>-99.0</td><td>-99.0</td><td>-99.0</td><td>-99.0</td><td>-99.0</td><td>-99.0</td><td>-99.0</td><td>-99.0</td><td>-99.0</td><td>-99.0</td><td>-99.0</td><td>-99.0</td><td>-99.0</td><td>-99.0</td><td>-99.0</td><td>-99.0</td><td>-99.0</td><td>-99.0</td><td>-99.0</td><td>-99.0</td><td>-99.0</td><td>-99.0</td><td>-99.0</td><td>-99.0</td><td>-99.0</td><td>-99.0</td><td>-99.0</td><td>-99.0</td><td>-99.0</td><td>-99.0</td><td>-99.0</td><td>-99.0</td><td>-99.0</td><td>-99.0</td><td>-99.0</td><td>-99.0</td><td>-99.0</td><td>-99.0</td><td>-99.0</td><td>-99.0</td><td>-99.0</td><td>-99.0</td><td>-99.0</td><td>-99.0</td><td>-99.0</td><td>-99.0</td><td>-99.0</td><td>-99.0</td><td>-99.0</td><td>-99.0</td><td>-99.0</td><td>-99.0</td><td>-99.0</td><td>-99.0</td><td>-99.0</td><td>-99.0</td><td>-99.0</td><td>-99.0</td><td>-99.0</td><td>-99.0</td><td>-99.0</td><td>-99.0</td><td>-99.0</td><td>-99.0</td><td>-99.0</td><td>-99.0</td><td>-99.0</td><td>-99.0</td><td>-99.0</td><td>-99.0</td><td>-99.0</td><td>-99.0</td><td>-99.0</td><td>-99.0</td><td>-99.0</td><td>-99.0</td><td>-99.0</td><td>467.76</td><td>18.423</td><td>2.43</td><td>0.164</td><td>50.32</td><td>3.388</td><td>20.73</td><td>0.013</td><td>5.024</td><td>0.147</td><td>0.57</td><td>0.044</td><td>-99.0</td><td>-99.0</td><td>-99.0</td><td>-99.0</td><td>-99.0</td><td>-99.0</td><td>-99.0</td><td>-99.0</td><td>-99.0</td><td>-99.0</td><td>-99.0</td><td>-99.0</td><td>20191027016_1_multi_330_092_075_LL_006</td><td>-99.0</td><td>-99.0</td><td>-99.0</td><td>-99.0</td><td>?</td><td>19.1446</td><td>0.0042</td><td>2.4601</td><td>24.7</td><td>DECAM/SHELA</td><td>-99.0</td><td>-99.0</td><td>-99.0</td><td>-99.0</td><td>?</td><td>60.330315</td><td>4224-55481-0796</td><td>3.995</td><td>0.4018406</td><td>394</td><td>616</td><td>51812</td><td>0.23403154</td><td>0</td><td>0.839</td></tr>\n",
       "<tr><td>5374</td><td>165.21265</td><td>51.583958</td><td>0.214</td><td>3e-05</td><td>1</td><td>dex-spring</td><td>1</td><td>2100935227</td><td>165.21255</td><td>51.58395</td><td>0.2078</td><td>8</td><td>-1.6822</td><td>0.001743967</td><td>46059370.0</td><td>662251.3</td><td>-0.0234842</td><td>2.49e-05</td><td>133.9755</td><td>0.0896</td><td>4.51</td><td>0.007</td><td>4.29</td><td>0.006</td><td>2.61</td><td>0.001</td><td>1.82</td><td>0.001</td><td>-99.0</td><td>-99.0</td><td>-99.0</td><td>-99.0</td><td>-99.0</td><td>-99.0</td><td>-99.0</td><td>-99.0</td><td>-99.0</td><td>-99.0</td><td>-99.0</td><td>-99.0</td><td>-99.0</td><td>-99.0</td><td>-99.0</td><td>-99.0</td><td>-99.0</td><td>-99.0</td><td>-99.0</td><td>-99.0</td><td>-99.0</td><td>-99.0</td><td>-99.0</td><td>-99.0</td><td>-99.0</td><td>-99.0</td><td>-99.0</td><td>-99.0</td><td>-99.0</td><td>-99.0</td><td>-99.0</td><td>-99.0</td><td>-99.0</td><td>-99.0</td><td>-99.0</td><td>-99.0</td><td>-99.0</td><td>-99.0</td><td>-99.0</td><td>-99.0</td><td>-99.0</td><td>-99.0</td><td>-99.0</td><td>-99.0</td><td>-99.0</td><td>-99.0</td><td>-99.0</td><td>-99.0</td><td>-99.0</td><td>-99.0</td><td>-99.0</td><td>-99.0</td><td>-99.0</td><td>-99.0</td><td>-99.0</td><td>-99.0</td><td>-99.0</td><td>-99.0</td><td>-99.0</td><td>-99.0</td><td>-99.0</td><td>-99.0</td><td>-99.0</td><td>-99.0</td><td>-99.0</td><td>-99.0</td><td>-99.0</td><td>-99.0</td><td>-99.0</td><td>-99.0</td><td>-99.0</td><td>-99.0</td><td>-99.0</td><td>-99.0</td><td>-99.0</td><td>-99.0</td><td>-99.0</td><td>-99.0</td><td>-99.0</td><td>-99.0</td><td>407.22</td><td>9.413</td><td>2.3</td><td>0.104</td><td>104.02</td><td>4.689</td><td>45.19</td><td>0.012</td><td>4.363</td><td>0.094</td><td>1.39</td><td>0.053</td><td>-99.0</td><td>-99.0</td><td>-99.0</td><td>-99.0</td><td>-99.0</td><td>-99.0</td><td>-99.0</td><td>-99.0</td><td>-99.0</td><td>-99.0</td><td>-99.0</td><td>-99.0</td><td>20190428024_2_multi_312_045_065_RL_059</td><td>-99.0</td><td>-99.0</td><td>-99.0</td><td>-99.0</td><td>?</td><td>17.3521</td><td>0.0033</td><td>2.8126</td><td>24.7</td><td>MOSAIC/KPNO</td><td>-99.0</td><td>-99.0</td><td>-99.0</td><td>-99.0</td><td>?</td><td>0.1500075</td><td>8161-57127-0653</td><td>0.214</td><td>0.14844422</td><td>6706</td><td>220</td><td>56385</td><td>0.2138869</td><td>0</td><td>0.925</td></tr>\n",
       "<tr><td>5375</td><td>36.272396</td><td>0.094684</td><td>0.213</td><td>1e-05</td><td>1</td><td>dex-fall</td><td>1</td><td>2100541228</td><td>36.272396</td><td>0.094684</td><td>0.0</td><td>1</td><td>-1.34181</td><td>0.003746944</td><td>913636.7</td><td>29419.219</td><td>-0.005808</td><td>1.69e-05</td><td>36.667</td><td>0.0628</td><td>1.03</td><td>0.004</td><td>1.0</td><td>0.003</td><td>0.78</td><td>0.001</td><td>0.65</td><td>0.001</td><td>-99.0</td><td>-99.0</td><td>-99.0</td><td>-99.0</td><td>-99.0</td><td>-99.0</td><td>-99.0</td><td>-99.0</td><td>-99.0</td><td>-99.0</td><td>-99.0</td><td>-99.0</td><td>-99.0</td><td>-99.0</td><td>-99.0</td><td>-99.0</td><td>-99.0</td><td>-99.0</td><td>-99.0</td><td>-99.0</td><td>-99.0</td><td>-99.0</td><td>-99.0</td><td>-99.0</td><td>-99.0</td><td>-99.0</td><td>-99.0</td><td>-99.0</td><td>-99.0</td><td>-99.0</td><td>-99.0</td><td>-99.0</td><td>-99.0</td><td>-99.0</td><td>-99.0</td><td>-99.0</td><td>-99.0</td><td>-99.0</td><td>-99.0</td><td>-99.0</td><td>-99.0</td><td>-99.0</td><td>-99.0</td><td>-99.0</td><td>-99.0</td><td>-99.0</td><td>-99.0</td><td>-99.0</td><td>-99.0</td><td>-99.0</td><td>-99.0</td><td>-99.0</td><td>-99.0</td><td>-99.0</td><td>-99.0</td><td>-99.0</td><td>-99.0</td><td>-99.0</td><td>-99.0</td><td>-99.0</td><td>-99.0</td><td>-99.0</td><td>-99.0</td><td>-99.0</td><td>-99.0</td><td>-99.0</td><td>-99.0</td><td>-99.0</td><td>-99.0</td><td>-99.0</td><td>-99.0</td><td>-99.0</td><td>-99.0</td><td>-99.0</td><td>-99.0</td><td>-99.0</td><td>-99.0</td><td>-99.0</td><td>-99.0</td><td>-99.0</td><td>506.27</td><td>4.153</td><td>5.63</td><td>0.039</td><td>82.9</td><td>0.565</td><td>14.73</td><td>0.008</td><td>22.013</td><td>0.15</td><td>2.45</td><td>0.071</td><td>-99.0</td><td>-99.0</td><td>-99.0</td><td>-99.0</td><td>-99.0</td><td>-99.0</td><td>-99.0</td><td>-99.0</td><td>-99.0</td><td>-99.0</td><td>-99.0</td><td>-99.0</td><td>20181114017_3_multi_323_043_040_LU_071</td><td>18.8282</td><td>0.0012</td><td>2.2068</td><td>26.4</td><td>HSC-SSP</td><td>19.2781</td><td>0.0012</td><td>2.4001</td><td>26.8</td><td>HSC-SSP</td><td>-99.0</td><td>-99.0</td><td>-99.0</td><td>-99.0</td><td>?</td><td>137.94528</td><td>6780-56605-0600</td><td>1.822</td><td>0.33331427</td><td>406</td><td>118</td><td>51817</td><td>0.2133588</td><td>0</td><td>0.936</td></tr>\n",
       "<tr><td>5376</td><td>183.5177</td><td>55.68013</td><td>0.211</td><td>3e-05</td><td>1</td><td>dex-spring</td><td>1</td><td>2101989501</td><td>183.5177</td><td>55.68013</td><td>0.0</td><td>1</td><td>-3.37246</td><td>0.0053467685</td><td>12540706000000.0</td><td>553263370000.0</td><td>-0.0125274</td><td>1.93e-05</td><td>59.0864</td><td>0.0696</td><td>6.08</td><td>0.03</td><td>5.14</td><td>0.023</td><td>0.92</td><td>0.001</td><td>0.26</td><td>0.001</td><td>-99.0</td><td>-99.0</td><td>-99.0</td><td>-99.0</td><td>-99.0</td><td>-99.0</td><td>-99.0</td><td>-99.0</td><td>-99.0</td><td>-99.0</td><td>-99.0</td><td>-99.0</td><td>-99.0</td><td>-99.0</td><td>-99.0</td><td>-99.0</td><td>-99.0</td><td>-99.0</td><td>-99.0</td><td>-99.0</td><td>-99.0</td><td>-99.0</td><td>-99.0</td><td>-99.0</td><td>-99.0</td><td>-99.0</td><td>-99.0</td><td>-99.0</td><td>-99.0</td><td>-99.0</td><td>-99.0</td><td>-99.0</td><td>-99.0</td><td>-99.0</td><td>-99.0</td><td>-99.0</td><td>-99.0</td><td>-99.0</td><td>-99.0</td><td>-99.0</td><td>-99.0</td><td>-99.0</td><td>-99.0</td><td>-99.0</td><td>-99.0</td><td>-99.0</td><td>-99.0</td><td>-99.0</td><td>-99.0</td><td>-99.0</td><td>-99.0</td><td>-99.0</td><td>-99.0</td><td>-99.0</td><td>-99.0</td><td>-99.0</td><td>-99.0</td><td>-99.0</td><td>-99.0</td><td>-99.0</td><td>-99.0</td><td>-99.0</td><td>-99.0</td><td>-99.0</td><td>-99.0</td><td>-99.0</td><td>-99.0</td><td>-99.0</td><td>-99.0</td><td>-99.0</td><td>-99.0</td><td>-99.0</td><td>-99.0</td><td>-99.0</td><td>-99.0</td><td>-99.0</td><td>-99.0</td><td>-99.0</td><td>-99.0</td><td>-99.0</td><td>492.38</td><td>7.62</td><td>2.56</td><td>0.037</td><td>28.9</td><td>0.414</td><td>11.3</td><td>0.008</td><td>8.211</td><td>0.101</td><td>0.89</td><td>0.037</td><td>-99.0</td><td>-99.0</td><td>-99.0</td><td>-99.0</td><td>-99.0</td><td>-99.0</td><td>-99.0</td><td>-99.0</td><td>-99.0</td><td>-99.0</td><td>-99.0</td><td>-99.0</td><td>20200414015_2_multi_311_053_025_RU_001</td><td>18.0692</td><td>0.0042</td><td>2.7476</td><td>26.2</td><td>HSC-DEX</td><td>-99.0</td><td>-99.0</td><td>-99.0</td><td>-99.0</td><td>?</td><td>-99.0</td><td>-99.0</td><td>-99.0</td><td>-99.0</td><td>?</td><td>301.8894</td><td>6833-56413-0504</td><td>0.939</td><td>1.0024536</td><td>1018</td><td>613</td><td>52672</td><td>0.21136948</td><td>0</td><td>0.658</td></tr>\n",
       "<tr><td>5377</td><td>28.867453</td><td>0.068565</td><td>0.186</td><td>2e-05</td><td>1</td><td>dex-fall</td><td>1</td><td>2100094558</td><td>28.867453</td><td>0.068565</td><td>0.0</td><td>1</td><td>-0.41791</td><td>0.008291629</td><td>330.36908</td><td>31.295057</td><td>-0.00126</td><td>2.46e-05</td><td>15.3587</td><td>0.0876</td><td>0.21</td><td>0.002</td><td>0.22</td><td>0.002</td><td>0.34</td><td>0.001</td><td>0.46</td><td>0.002</td><td>-99.0</td><td>-99.0</td><td>-99.0</td><td>-99.0</td><td>-99.0</td><td>-99.0</td><td>-99.0</td><td>-99.0</td><td>-99.0</td><td>-99.0</td><td>-99.0</td><td>-99.0</td><td>-99.0</td><td>-99.0</td><td>-99.0</td><td>-99.0</td><td>-99.0</td><td>-99.0</td><td>-99.0</td><td>-99.0</td><td>-99.0</td><td>-99.0</td><td>-99.0</td><td>-99.0</td><td>-99.0</td><td>-99.0</td><td>-99.0</td><td>-99.0</td><td>-99.0</td><td>-99.0</td><td>-99.0</td><td>-99.0</td><td>-99.0</td><td>-99.0</td><td>-99.0</td><td>-99.0</td><td>-99.0</td><td>-99.0</td><td>-99.0</td><td>-99.0</td><td>-99.0</td><td>-99.0</td><td>-99.0</td><td>-99.0</td><td>-99.0</td><td>-99.0</td><td>-99.0</td><td>-99.0</td><td>-99.0</td><td>-99.0</td><td>-99.0</td><td>-99.0</td><td>-99.0</td><td>-99.0</td><td>-99.0</td><td>-99.0</td><td>-99.0</td><td>-99.0</td><td>-99.0</td><td>-99.0</td><td>-99.0</td><td>-99.0</td><td>-99.0</td><td>-99.0</td><td>-99.0</td><td>-99.0</td><td>-99.0</td><td>-99.0</td><td>-99.0</td><td>-99.0</td><td>-99.0</td><td>-99.0</td><td>-99.0</td><td>-99.0</td><td>-99.0</td><td>-99.0</td><td>-99.0</td><td>-99.0</td><td>-99.0</td><td>-99.0</td><td>787.0</td><td>10.924</td><td>10.66</td><td>0.113</td><td>113.24</td><td>1.161</td><td>10.63</td><td>0.012</td><td>15.172</td><td>0.112</td><td>2.46</td><td>0.062</td><td>-99.0</td><td>-99.0</td><td>-99.0</td><td>-99.0</td><td>-99.0</td><td>-99.0</td><td>-99.0</td><td>-99.0</td><td>-99.0</td><td>-99.0</td><td>-99.0</td><td>-99.0</td><td>20171114010_1_multi_017_086_022_RL_088</td><td>18.2431</td><td>0.0019</td><td>2.8756</td><td>26.4</td><td>HSC-SSP</td><td>19.0351</td><td>0.0024</td><td>2.8629</td><td>26.8</td><td>HSC-SSP</td><td>-99.0</td><td>-99.0</td><td>-99.0</td><td>-99.0</td><td>?</td><td>159.61917</td><td>1505-52941-0231</td><td>1.5631</td><td>0.11709731</td><td>403</td><td>425</td><td>51871</td><td>0.18609864</td><td>0</td><td>0.931</td></tr>\n",
       "<tr><td>5378</td><td>165.08255</td><td>51.6671</td><td>0.181</td><td>1e-05</td><td>1</td><td>dex-spring</td><td>1</td><td>2100775690</td><td>165.08255</td><td>51.667107</td><td>0.035</td><td>4</td><td>-1.78022</td><td>0.0048941295</td><td>42569388.0</td><td>1711833.9</td><td>-0.009764</td><td>2.46e-05</td><td>55.6402</td><td>0.0871</td><td>1.41</td><td>0.006</td><td>1.34</td><td>0.006</td><td>0.76</td><td>0.001</td><td>0.5</td><td>0.001</td><td>-99.0</td><td>-99.0</td><td>-99.0</td><td>-99.0</td><td>-99.0</td><td>-99.0</td><td>-99.0</td><td>-99.0</td><td>-99.0</td><td>-99.0</td><td>-99.0</td><td>-99.0</td><td>-99.0</td><td>-99.0</td><td>-99.0</td><td>-99.0</td><td>-99.0</td><td>-99.0</td><td>-99.0</td><td>-99.0</td><td>-99.0</td><td>-99.0</td><td>-99.0</td><td>-99.0</td><td>-99.0</td><td>-99.0</td><td>-99.0</td><td>-99.0</td><td>-99.0</td><td>-99.0</td><td>-99.0</td><td>-99.0</td><td>-99.0</td><td>-99.0</td><td>-99.0</td><td>-99.0</td><td>-99.0</td><td>-99.0</td><td>-99.0</td><td>-99.0</td><td>-99.0</td><td>-99.0</td><td>-99.0</td><td>-99.0</td><td>-99.0</td><td>-99.0</td><td>-99.0</td><td>-99.0</td><td>-99.0</td><td>-99.0</td><td>-99.0</td><td>-99.0</td><td>-99.0</td><td>-99.0</td><td>-99.0</td><td>-99.0</td><td>-99.0</td><td>-99.0</td><td>-99.0</td><td>-99.0</td><td>-99.0</td><td>-99.0</td><td>-99.0</td><td>-99.0</td><td>-99.0</td><td>-99.0</td><td>-99.0</td><td>-99.0</td><td>-99.0</td><td>-99.0</td><td>-99.0</td><td>-99.0</td><td>-99.0</td><td>-99.0</td><td>-99.0</td><td>-99.0</td><td>-99.0</td><td>-99.0</td><td>-99.0</td><td>-99.0</td><td>591.71</td><td>4.326</td><td>5.12</td><td>0.042</td><td>95.46</td><td>0.765</td><td>18.65</td><td>0.012</td><td>18.915</td><td>0.137</td><td>10.49</td><td>0.147</td><td>-99.0</td><td>-99.0</td><td>-99.0</td><td>-99.0</td><td>-99.0</td><td>-99.0</td><td>-99.0</td><td>-99.0</td><td>-99.0</td><td>-99.0</td><td>-99.0</td><td>-99.0</td><td>20190301014_3_multi_013_103_019_LU_027</td><td>-99.0</td><td>-99.0</td><td>-99.0</td><td>-99.0</td><td>?</td><td>18.1692</td><td>0.0026</td><td>2.104</td><td>24.7</td><td>MOSAIC/KPNO</td><td>-99.0</td><td>-99.0</td><td>-99.0</td><td>-99.0</td><td>?</td><td>0.1048321</td><td>8165-57374-0460</td><td>0.1809709</td><td>0.1048321</td><td>8165</td><td>460</td><td>57374</td><td>0.18094175</td><td>0</td><td>0.925</td></tr>\n",
       "</table></div>"
      ],
      "text/plain": [
       "<Table length=5322>\n",
       "agnid     ra       dec        z      z_er  ... mjd_dr16   z_dr16   sflag  apcor \n",
       "         deg       deg                     ...                                  \n",
       "int64  float32   float32   float32 float32 ...  int64    float32   int64 float32\n",
       "----- --------- ---------- ------- ------- ... -------- ---------- ----- -------\n",
       "    1 12.274719 -0.5261988   4.165 0.00128 ...    55201   4.165187     0   0.943\n",
       "    2  210.3998   51.95324   4.148   8e-05 ...    52468  4.1502028     0   0.952\n",
       "    3 194.16838  51.994675    3.93 0.00047 ...    56419  3.9429967     1    0.93\n",
       "    4 242.78114  53.702232   3.929 0.00074 ...    56487  3.9316654     0   0.888\n",
       "    5  165.8053   51.27956   3.912 0.00077 ...    56385   3.912013     1   0.936\n",
       "    6   9.84455  0.4451806   3.844  0.0002 ...    55186  3.8397486     0   0.961\n",
       "    7   11.8217  -0.014904   3.767 0.00017 ...    55186  3.7854643     0   0.472\n",
       "    8 176.67075  52.125137   3.732 0.00017 ...    56416  3.7293863     1   0.896\n",
       "    9 27.704254   0.691078   3.706 0.00019 ...    55449   3.702474     1   0.856\n",
       "  ...       ...        ...     ...     ... ...      ...        ...   ...     ...\n",
       " 5369 220.18811   51.25882    0.26 0.00017 ...    52786 0.26008368     2   0.631\n",
       " 5370 22.692274 -0.1335406   0.254   3e-05 ...    51820 0.25381678     2   0.904\n",
       " 5371  9.347875  0.1367988   0.252   1e-05 ...    57006 0.25196669     2   0.925\n",
       " 5372 205.14743   55.82529   0.246   1e-05 ...    52791 0.24669994     2   0.861\n",
       " 5373 13.692243   0.701108   0.234   5e-05 ...    51812 0.23403154     0   0.839\n",
       " 5374 165.21265  51.583958   0.214   3e-05 ...    56385  0.2138869     0   0.925\n",
       " 5375 36.272396   0.094684   0.213   1e-05 ...    51817  0.2133588     0   0.936\n",
       " 5376  183.5177   55.68013   0.211   3e-05 ...    52672 0.21136948     0   0.658\n",
       " 5377 28.867453   0.068565   0.186   2e-05 ...    51871 0.18609864     0   0.931\n",
       " 5378 165.08255    51.6671   0.181   1e-05 ...    57374 0.18094175     0   0.925"
      ]
     },
     "execution_count": 4,
     "metadata": {},
     "output_type": "execute_result"
    }
   ],
   "source": [
    "agn = Table.read( fname, format = 'fits', hdu = 1 )\n",
    "agn"
   ]
  },
  {
   "cell_type": "markdown",
   "id": "4b5a0c79",
   "metadata": {},
   "source": [
    "### check the header of the table"
   ]
  },
  {
   "cell_type": "code",
   "execution_count": 5,
   "id": "4d6a2883",
   "metadata": {},
   "outputs": [
    {
     "data": {
      "text/plain": [
       "<Table length=5322>\n",
       "     name      dtype              unit                               description                  \n",
       "------------- ------- ---------------------------- -----------------------------------------------\n",
       "        agnid   int64                                   artificial sequential numbers for each AGN\n",
       "           ra float32                          deg    RA  of the AGN (center of flux weighted fof)\n",
       "          dec float32                          deg    DEC of the AGN (center of flux weighted fof)\n",
       "            z float32                                                                     redshift\n",
       "         z_er float32                                                            error of redshift\n",
       "        zflag   int64                                        zflag=0/1: 1 confirmed z; 0 guessed z\n",
       "        field bytes10                                                   field in the HETDEX survey\n",
       "       nshots   int64                                                number of repeat observations\n",
       "detectid_best   int64                               ID in the hetdex catalog closest to fof center\n",
       "      ra_best float32                          deg                            RA  of detectid_best\n",
       "     dec_best float32                          deg                            DEC of detectid_best\n",
       "         roff float32                       arcsec offsec between ra_best,dec_best with fof center\n",
       "         nmem   int64                                                   number of member detectids\n",
       "        alpha float32                               alpha_lambda of the power-law fitted continuum\n",
       "     alpha_er float32                                                               error of alpha\n",
       "         fpl0 float32                                   power-law continuum = fpl0 * lambda^alpha \n",
       "      fpl0_er float32                                                                error of fpl0\n",
       "        slope float32                                         slope of the linear fitted continuum\n",
       "     slope_er float32                                                               error of slope\n",
       "    intercept float32                                     intercept of the linear fitted continuum\n",
       " intercept_er float32                                                           error of intercept\n",
       "        L1350 float32                1e+44 erg / s  monochromatic luminosity at rest-frame 1350 AA\n",
       "     L1350_er float32                1e+44 erg / s                                  error of L1350\n",
       "        L1450 float32                1e+44 erg / s  monochromatic luminosity at rest-frame 1450 AA\n",
       "     L1450_er float32                1e+44 erg / s                                  error of L1450\n",
       "        L3000 float32                1e+44 erg / s  monochromatic luminosity at rest-frame 3000 AA\n",
       "     L3000_er float32                1e+44 erg / s                                  error of L3000\n",
       "        L5100 float32                1e+44 erg / s  monochromatic luminosity at rest-frame 5100 AA\n",
       "     L5100_er float32                1e+44 erg / s                                  error of L5100\n",
       "     fwhm_LyA float32                       km / s             rest-frame FWHM of the LyA emission\n",
       "  fwhm_LyA_er float32                       km / s                               error of fwhm_LyA\n",
       "       ew_LyA float32                     Angstrom               rest-frame EW of the LyA emission\n",
       "    ew_LyA_er float32                     Angstrom                                 error of ew_LyA\n",
       "     flux_LyA float32          1e-17 erg / (s cm2)             rest-frame flux of the LyA emission\n",
       "  flux_LyA_er float32          1e-17 erg / (s cm2)                               error of flux_LyA\n",
       "     cont_LyA float32 1e-17 erg / (Angstrom s cm2)        rest-frame continuum at the LyA emission\n",
       "  cont_LyA_er float32 1e-17 erg / (Angstrom s cm2)                               error of cont_LyA\n",
       "      snr_LyA float32                                                        S/N of the LyA region\n",
       "   snr_LyA_er float32                                                             error of snr_LyA\n",
       "     chi2_LyA float32                                                       chi2 of the LyA region\n",
       "  chi2_LyA_er float32                                                            error of chi2_LyA\n",
       "      fwhm_NV float32                       km / s              rest-frame FWHM of the NV emission\n",
       "   fwhm_NV_er float32                       km / s                                error of fwhm_NV\n",
       "        ew_NV float32                     Angstrom                rest-frame EW of the NV emission\n",
       "     ew_NV_er float32                     Angstrom                                  error of ew_NV\n",
       "      flux_NV float32          1e-17 erg / (s cm2)              rest-frame flux of the NV emission\n",
       "   flux_NV_er float32          1e-17 erg / (s cm2)                                error of flux_NV\n",
       "      cont_NV float32 1e-17 erg / (Angstrom s cm2)         rest-frame continuum at the NV emission\n",
       "   cont_NV_er float32 1e-17 erg / (Angstrom s cm2)                                error of cont_NV\n",
       "     fwhm_SiO float32                       km / s             rest-frame FWHM of the SiO emission\n",
       "  fwhm_SiO_er float32                       km / s                               error of fwhm_SiO\n",
       "       ew_SiO float32                     Angstrom               rest-frame EW of the SiO emission\n",
       "    ew_SiO_er float32                     Angstrom                                 error of ew_SiO\n",
       "     flux_SiO float32          1e-17 erg / (s cm2)             rest-frame flux of the SiO emission\n",
       "  flux_SiO_er float32          1e-17 erg / (s cm2)                               error of flux_SiO\n",
       "     cont_SiO float32 1e-17 erg / (Angstrom s cm2)        rest-frame continuum at the SiO emission\n",
       "  cont_SiO_er float32 1e-17 erg / (Angstrom s cm2)                               error of cont_SiO\n",
       "      snr_SiO float32                                                        S/N of the SiO region\n",
       "   snr_SiO_er float32                                                             error of snr_SiO\n",
       "     chi2_SiO float32                                                       chi2 of the SiO region\n",
       "  chi2_SiO_er float32                                                            error of chi2_SiO\n",
       "     fwhm_CIV float32                       km / s             rest-frame FWHM of the CIV emission\n",
       "  fwhm_CIV_er float32                       km / s                               error of fwhm_CIV\n",
       "       ew_CIV float32                     Angstrom               rest-frame EW of the CIV emission\n",
       "    ew_CIV_er float32                     Angstrom                                 error of ew_CIV\n",
       "     flux_CIV float32          1e-17 erg / (s cm2)             rest-frame flux of the CIV emission\n",
       "  flux_CIV_er float32          1e-17 erg / (s cm2)                               error of flux_CIV\n",
       "     cont_CIV float32 1e-17 erg / (Angstrom s cm2)        rest-frame continuum at the CIV emission\n",
       "  cont_CIV_er float32 1e-17 erg / (Angstrom s cm2)                               error of cont_CIV\n",
       "      snr_CIV float32                                                        S/N of the CIV region\n",
       "   snr_CIV_er float32                                                             error of snr_CIV\n",
       "     chi2_CIV float32                                                       chi2 of the CIV region\n",
       "  chi2_CIV_er float32                                                            error of chi2_CIV\n",
       "    fwhm_HeII float32                       km / s            rest-frame FWHM of the HeII emission\n",
       " fwhm_HeII_er float32                       km / s                              error of fwhm_HeII\n",
       "      ew_HeII float32                     Angstrom              rest-frame EW of the HeII emission\n",
       "   ew_HeII_er float32                     Angstrom                                error of ew_HeII\n",
       "    flux_HeII float32          1e-17 erg / (s cm2)            rest-frame flux of the HeII emission\n",
       " flux_HeII_er float32          1e-17 erg / (s cm2)                              error of flux_HeII\n",
       "    cont_HeII float32 1e-17 erg / (Angstrom s cm2)       rest-frame continuum at the HeII emission\n",
       " cont_HeII_er float32 1e-17 erg / (Angstrom s cm2)                              error of cont_HeII\n",
       "     snr_HeII float32                                                       S/N of the HeII region\n",
       "  snr_HeII_er float32                                                            error of snr_HeII\n",
       "    chi2_HeII float32                                                      chi2 of the HeII region\n",
       " chi2_HeII_er float32                                                           error of chi2_HeII\n",
       "    fwhm_CIII float32                       km / s            rest-frame FWHM of the CIII emission\n",
       " fwhm_CIII_er float32                       km / s                              error of fwhm_CIII\n",
       "      ew_CIII float32                     Angstrom              rest-frame EW of the CIII emission\n",
       "   ew_CIII_er float32                     Angstrom                                error of ew_CIII\n",
       "    flux_CIII float32          1e-17 erg / (s cm2)            rest-frame flux of the CIII emission\n",
       " flux_CIII_er float32          1e-17 erg / (s cm2)                              error of flux_CIII\n",
       "    cont_CIII float32 1e-17 erg / (Angstrom s cm2)       rest-frame continuum at the CIII emission\n",
       " cont_CIII_er float32 1e-17 erg / (Angstrom s cm2)                              error of cont_CIII\n",
       "     snr_CIII float32                                                       S/N of the CIII region\n",
       "  snr_CIII_er float32                                                            error of snr_CIII\n",
       "    chi2_CIII float32                                                      chi2 of the CIII region\n",
       " chi2_CIII_er float32                                                           error of chi2_CIII\n",
       "    fwhm_MgII float32                       km / s            rest-frame FWHM of the MgII emission\n",
       " fwhm_MgII_er float32                       km / s                              error of fwhm_MgII\n",
       "      ew_MgII float32                     Angstrom              rest-frame EW of the MgII emission\n",
       "   ew_MgII_er float32                     Angstrom                                error of ew_MgII\n",
       "    flux_MgII float32          1e-17 erg / (s cm2)            rest-frame flux of the MgII emission\n",
       " flux_MgII_er float32          1e-17 erg / (s cm2)                              error of flux_MgII\n",
       "    cont_MgII float32 1e-17 erg / (Angstrom s cm2)       rest-frame continuum at the MgII emission\n",
       " cont_MgII_er float32 1e-17 erg / (Angstrom s cm2)                              error of cont_MgII\n",
       "     snr_MgII float32                                                       S/N of the MgII region\n",
       "  snr_MgII_er float32                                                            error of snr_MgII\n",
       "    chi2_MgII float32                                                      chi2 of the MgII region\n",
       " chi2_MgII_er float32                                                           error of chi2_MgII\n",
       "     fwhm_OII float32                       km / s             rest-frame FWHM of the OII emission\n",
       "  fwhm_OII_er float32                       km / s                               error of fwhm_OII\n",
       "       ew_OII float32                     Angstrom               rest-frame EW of the OII emission\n",
       "    ew_OII_er float32                     Angstrom                                 error of ew_OII\n",
       "     flux_OII float32          1e-17 erg / (s cm2)             rest-frame flux of the OII emission\n",
       "  flux_OII_er float32          1e-17 erg / (s cm2)                               error of flux_OII\n",
       "     cont_OII float32 1e-17 erg / (Angstrom s cm2)        rest-frame continuum at the OII emission\n",
       "  cont_OII_er float32 1e-17 erg / (Angstrom s cm2)                               error of cont_OII\n",
       "      snr_OII float32                                                        S/N of the OII region\n",
       "   snr_OII_er float32                                                             error of snr_OII\n",
       "     chi2_OII float32                                                       chi2 of the OII region\n",
       "  chi2_OII_er float32                                                            error of chi2_OII\n",
       "     fwhm_OVI float32                       km / s             rest-frame FWHM of the OVI emission\n",
       "  fwhm_OVI_er float32                       km / s                               error of fwhm_OVI\n",
       "       ew_OVI float32                     Angstrom               rest-frame EW of the OVI emission\n",
       "    ew_OVI_er float32                     Angstrom                                 error of ew_OVI\n",
       "     flux_OVI float32          1e-17 erg / (s cm2)             rest-frame flux of the OVI emission\n",
       "  flux_OVI_er float32          1e-17 erg / (s cm2)                               error of flux_OVI\n",
       "     cont_OVI float32 1e-17 erg / (Angstrom s cm2)        rest-frame continuum at the OVI emission\n",
       "  cont_OVI_er float32 1e-17 erg / (Angstrom s cm2)                               error of cont_OVI\n",
       "      snr_OVI float32                                                        S/N of the OVI region\n",
       "   snr_OVI_er float32                                                             error of snr_OVI\n",
       "     chi2_OVI float32                                                       chi2 of the OVI region\n",
       "  chi2_OVI_er float32                                                            error of chi2_OVI\n",
       "      fiberid bytes38                                               fiberid in hetdex fiber design\n",
       "       r_aper float32                          mag                       r-band aperture magnitude\n",
       "    r_aper_er float32                          mag                                 error of r_aper\n",
       "     r_radius float32                       arcsec                          r-band aperture radius\n",
       "      r_depth float32                       arcsec                      r-band depth of this field\n",
       "        r_cat bytes16                                                             survey of r_aper\n",
       "       g_aper float32                          mag                       g-band aperture magnitude\n",
       "    g_aper_er float32                          mag                                 error of g_aper\n",
       "     g_radius float32                       arcsec                          g-band aperture radius\n",
       "      g_depth float32                       arcsec                      g-band depth of this field\n",
       "        g_cat bytes16                                                             survey of g_aper\n",
       "       u_aper float32                          mag                       u-band aperture magnitude\n",
       "    u_aper_er float32                          mag                                 error of u_aper\n",
       "     u_radius float32                       arcsec                          u-band aperture radius\n",
       "      u_depth float32                       arcsec                      u-band depth of this field\n",
       "        u_cat bytes16                                                             survey of u_aper\n",
       "   rsep_dr14q float32                       arcsec                    smallest separation to dr14q\n",
       "     id_dr14q bytes15                                               ID of the closest AGN in dr14q\n",
       "      z_dr14q float32                                                spectral redshift of id_dr14q\n",
       "    rsep_dr16 float32                       arcsec                     smallest separation to dr16\n",
       "   plate_dr16   int64                                             plate of the closest AGN in dr16\n",
       "   fiber_dr16   int64                                             fiber of the closest AGN in dr16\n",
       "     mjd_dr16   int64                                              mjd  of the closest AGN in dr16\n",
       "       z_dr16 float32                                                 spectral redshift of id_dr16\n",
       "        sflag   int64                                                2em=2, sBL=1, boss=0, else=-1\n",
       "        apcor float32                                                          aperture correction"
      ]
     },
     "execution_count": 5,
     "metadata": {},
     "output_type": "execute_result"
    }
   ],
   "source": [
    "agn.info"
   ]
  },
  {
   "cell_type": "markdown",
   "id": "0575a686",
   "metadata": {},
   "source": [
    "## Read extension 2 in as a 2-d array"
   ]
  },
  {
   "cell_type": "code",
   "execution_count": 6,
   "id": "13c624a3",
   "metadata": {},
   "outputs": [
    {
     "name": "stdout",
     "output_type": "stream",
     "text": [
      "XTENSION= 'IMAGE   '           / Image extension                                BITPIX  =                  -32 / array data type                                NAXIS   =                    2 / number of array dimensions                     NAXIS1  =                 1036                                                  NAXIS2  =                 5322                                                  PCOUNT  =                    0 / number of parameters                           GCOUNT  =                    1 / number of groups                               EXTNAME = 'flux_array'                                                          HIERARCH wave_start = '3470.0 AA'                                               HIERARCH wave_step = '   2.0 AA'                                                HIERARCH flux_unit = '1.0e-17 * erg / (cm^2 * s * AA)'                          END                                                                                                                                                                                                                                                                                                                                                                                                                                                                                                                                                                                                                                                                                                                                                                                                                                                                                                                                                                                                                                                                                                                                                                                                                                                                                                                                                                                                                                                                                                                                                                                                                                                                                                                                                                                                                                                                                                                                                                                                                                                                             \n"
     ]
    },
    {
     "data": {
      "application/vnd.jupyter.widget-view+json": {
       "model_id": "49bfad77c9064261bcffc2d8aef303c6",
       "version_major": 2,
       "version_minor": 0
      },
      "text/plain": [
       "ImageWidget(children=(Image(value=b'\\xff\\xd8\\xff\\xe0\\x00\\x10JFIF\\x00\\x01\\x01\\x00\\x00\\x01\\x00\\x01\\x00\\x00\\xff\\x…"
      ]
     },
     "metadata": {},
     "output_type": "display_data"
    }
   ],
   "source": [
    "from astrowidgets import ImageWidget\n",
    "\n",
    "#hdu2, hdr2 = getdata( fname, 2, header = True )\n",
    "print(hdul[2].header)\n",
    "im    = hdul[2].data # read spectra in from extension 2\n",
    "im_er = hdul[3].data # read errors  in from extension 3 if needed\n",
    "\n",
    "imw = ImageWidget()\n",
    "imw.cuts = (-1, 25)\n",
    "imw.load_array(im)\n",
    "display(imw)"
   ]
  },
  {
   "cell_type": "markdown",
   "id": "e2d6dbd9",
   "metadata": {},
   "source": [
    "the information of the wave_array corresponds to the flux_array in each row can be found in the header: \n",
    "\n",
    "wave_start = 3470.0, wave_step = 2.0"
   ]
  },
  {
   "cell_type": "code",
   "execution_count": 7,
   "id": "2fba912d",
   "metadata": {},
   "outputs": [
    {
     "data": {
      "text/plain": [
       "('3470.0 AA', '   2.0 AA', '1.0e-17 * erg / (cm^2 * s * AA)')"
      ]
     },
     "execution_count": 7,
     "metadata": {},
     "output_type": "execute_result"
    }
   ],
   "source": [
    "hdul[2].header['wave_start'], hdul[2].header['wave_step'], hdul[2].header['flux_unit']"
   ]
  },
  {
   "cell_type": "code",
   "execution_count": 8,
   "id": "f3d3e43f",
   "metadata": {},
   "outputs": [
    {
     "data": {
      "text/plain": [
       "array([3470., 3472., 3474., ..., 5536., 5538., 5540.])"
      ]
     },
     "execution_count": 8,
     "metadata": {},
     "output_type": "execute_result"
    }
   ],
   "source": [
    "# prepare wavelength array for the spectra\n",
    "wave_start = 3470.0\n",
    "wave_step  = 2.0\n",
    "n_elements = hdul[2].header['NAXIS1'] #1036\n",
    "wave_arr = wave_start + wave_step * np.arange( 0, n_elements )\n",
    "wave_arr"
   ]
  },
  {
   "cell_type": "code",
   "execution_count": 9,
   "id": "ab1287c9",
   "metadata": {},
   "outputs": [],
   "source": [
    "from IPython.display import Image\n",
    "import matplotlib.pyplot as plt\n",
    "\n",
    "# ............\n",
    "w_CIIIa = 977.030\n",
    "w_NIII  = 991.514\n",
    "w_OVIa  = 1031.912\n",
    "w_OVIb  = 1037.613\n",
    "w_LyA   = 1215.24 \n",
    "w_NV    = 1240.81\n",
    "w_OI    = 1305.53\n",
    "w_CIIa  = 1335.31\n",
    "w_SiO   = 1399.8\n",
    "w_CIV   = 1549.48\n",
    "w_HeII  = 1640.40\n",
    "w_OIII  = 1665.85\n",
    "w_CIIIb = 1908.734\n",
    "w_CIIb  = 2326.0\n",
    "w_NeIV  = 2439.5\n",
    "w_MgII  = 2799.117\n",
    "w_OII   = 3729.875\n",
    "w_NeVI  = 3426.85\n",
    "w_NeIII = 3868.760\n",
    "w_Hg    = 4341.68\n",
    "# ............\n",
    "\n",
    "fontsize = 15\n",
    "xl, xh = 3450, 5550 \n",
    "\n",
    "# plot some example spectra at the following redshifts\n",
    "z_sel = np.array( [ 0.9, 1.3, 1.8, 2.2, 2.5, 3.9 ] )\n",
    "\n",
    "for i in range(np.size(z_sel)):\n",
    "    sel  = agn['z'] < z_sel[i]\n",
    "    dtmp = im[sel]\n",
    "    flux_arr = dtmp[0]\n",
    "    \n",
    "    fig, ax = plt.subplots( figsize = ( 10., 5.)  )\n",
    "    \n",
    "    plt.plot( wave_arr, flux_arr, 'k' )\n",
    "    \n",
    "    lines   = np.array( [  w_OVIa, w_OVIb, w_LyA,   w_NV,   w_SiO,  w_CIV, w_HeII,   w_CIIb, w_CIIIb,  w_MgII, w_OII, w_NeVI, w_NeIII  ] )\n",
    "    labels  = np.array( [  ' ',     'OVI',  'LyA','    NV', 'Si+O',   'CIV', 'HeII',    'C2', 'C III]', 'MgII', 'OII', 'NeVI', 'NeIII' ] )    \n",
    "\n",
    "    yl, yh = np.min(flux_arr), np.max(flux_arr)\n",
    "    for i in range( np.size(lines) ):\n",
    "        wline = lines[i] * ( 1 + agn[sel]['z'][0] )\n",
    "        if( ( wline >= xl ) and (wline <= xh ) ):\n",
    "            wline = np.full( 2, wline )     \n",
    "            plt.text( wline[0]+10, 0.9 * yh, labels[i], color = 'blue', fontsize=14 )\n",
    "            plt.plot( wline,  np.array([yl,yh]), color = 'blue', linestyle = '--', linewidth = 1.0 )\n",
    "    \n",
    "    plt.xlim( xl, xh )\n",
    "    plt.tick_params( which = 'both', bottom=True, top=True, left=True, right=True )\n",
    "\n",
    "    plt.xlabel('$\\mathrm{\\lambda_{obs}\\ (\\AA)}$',fontsize=fontsize)\n",
    "    plt.ylabel('$\\mathrm{f_{\\lambda,obs}\\ (10^{-17} ergs/s/cm^2/\\AA)}$',fontsize=fontsize)\n",
    "    plt.xticks(fontsize=fontsize)\n",
    "    plt.yticks(fontsize=fontsize)\n",
    "\n",
    "    stitle = 'agnid=%d, detectid_best=%d, z=%.2f' % (agn[sel]['agnid'][0], agn[sel]['detectid_best'][0], agn[sel]['z'][0])\n",
    "    plt.title( stitle, fontsize=fontsize )\n",
    "    plt.show()\n",
    "    #plt.savefig( 'tmp.png', format='png')\n",
    "    #Image('tmp.png')"
   ]
  },
  {
   "cell_type": "markdown",
   "id": "327200b8",
   "metadata": {},
   "source": [
    "# read extension 4 in as a table of repeat observation info\n",
    "### There are some repeat observations for some agns. In this table, each observation has one entry with a unique \"shotid\", nshots shows the number of repeat observations for each unique AGN."
   ]
  },
  {
   "cell_type": "code",
   "execution_count": 10,
   "id": "7c193579",
   "metadata": {},
   "outputs": [
    {
     "data": {
      "text/html": [
       "<div><i>Table length=6004</i>\n",
       "<table id=\"table22703198906496\" class=\"table-striped table-bordered table-condensed\">\n",
       "<thead><tr><th>agnid</th><th>nshots</th><th>shotid</th></tr></thead>\n",
       "<thead><tr><th>int64</th><th>int64</th><th>int64</th></tr></thead>\n",
       "<tr><td>1</td><td>1</td><td>20191006024</td></tr>\n",
       "<tr><td>2</td><td>1</td><td>20190504027</td></tr>\n",
       "<tr><td>3</td><td>1</td><td>20190403022</td></tr>\n",
       "<tr><td>4</td><td>2</td><td>20200414024</td></tr>\n",
       "<tr><td>4</td><td>2</td><td>20200527024</td></tr>\n",
       "<tr><td>5</td><td>2</td><td>20190501017</td></tr>\n",
       "<tr><td>5</td><td>2</td><td>20190429016</td></tr>\n",
       "<tr><td>6</td><td>1</td><td>20191024024</td></tr>\n",
       "<tr><td>7</td><td>1</td><td>20171115010</td></tr>\n",
       "<tr><td>8</td><td>1</td><td>20200325031</td></tr>\n",
       "<tr><td>...</td><td>...</td><td>...</td></tr>\n",
       "<tr><td>5369</td><td>1</td><td>20180511009</td></tr>\n",
       "<tr><td>5370</td><td>1</td><td>20190101013</td></tr>\n",
       "<tr><td>5371</td><td>1</td><td>20181106013</td></tr>\n",
       "<tr><td>5372</td><td>1</td><td>20200413019</td></tr>\n",
       "<tr><td>5373</td><td>1</td><td>20191027016</td></tr>\n",
       "<tr><td>5374</td><td>1</td><td>20190428024</td></tr>\n",
       "<tr><td>5375</td><td>1</td><td>20181114017</td></tr>\n",
       "<tr><td>5376</td><td>1</td><td>20200414015</td></tr>\n",
       "<tr><td>5377</td><td>1</td><td>20171114010</td></tr>\n",
       "<tr><td>5378</td><td>1</td><td>20190301014</td></tr>\n",
       "</table></div>"
      ],
      "text/plain": [
       "<Table length=6004>\n",
       "agnid nshots    shotid  \n",
       "int64 int64     int64   \n",
       "----- ------ -----------\n",
       "    1      1 20191006024\n",
       "    2      1 20190504027\n",
       "    3      1 20190403022\n",
       "    4      2 20200414024\n",
       "    4      2 20200527024\n",
       "    5      2 20190501017\n",
       "    5      2 20190429016\n",
       "    6      1 20191024024\n",
       "    7      1 20171115010\n",
       "    8      1 20200325031\n",
       "  ...    ...         ...\n",
       " 5369      1 20180511009\n",
       " 5370      1 20190101013\n",
       " 5371      1 20181106013\n",
       " 5372      1 20200413019\n",
       " 5373      1 20191027016\n",
       " 5374      1 20190428024\n",
       " 5375      1 20181114017\n",
       " 5376      1 20200414015\n",
       " 5377      1 20171114010\n",
       " 5378      1 20190301014"
      ]
     },
     "execution_count": 10,
     "metadata": {},
     "output_type": "execute_result"
    }
   ],
   "source": [
    "tab = Table.read( fname, format = 'fits', hdu = 4 )\n",
    "tab"
   ]
  },
  {
   "cell_type": "code",
   "execution_count": 11,
   "id": "228f7963",
   "metadata": {},
   "outputs": [
    {
     "name": "stdout",
     "output_type": "stream",
     "text": [
      "There are 4799 AGNs that are only observed once\n",
      "There are 437 AGNs that are observed twice\n",
      "There are 74 AGNs that are observed more than twice\n"
     ]
    }
   ],
   "source": [
    "sel = tab['nshots'] == 1\n",
    "print(\"There are %d AGNs that are only observed once\" % np.sum(sel))\n",
    "\n",
    "sel = tab['nshots'] == 2\n",
    "dtmp = np.unique( tab[sel]['agnid'] )\n",
    "print(\"There are %d AGNs that are observed twice\" % np.size(dtmp) )\n",
    "\n",
    "sel = tab['nshots'] > 2\n",
    "dtmp = np.unique( tab[sel]['agnid'] )\n",
    "print(\"There are %d AGNs that are observed more than twice\" % np.size(dtmp) )"
   ]
  },
  {
   "cell_type": "markdown",
   "id": "c9908009",
   "metadata": {},
   "source": [
    "# Find all spectra and their error of a certain AGN in extension 5 and 6"
   ]
  },
  {
   "cell_type": "markdown",
   "id": "6fe7c9db",
   "metadata": {},
   "source": [
    "### find some strong agns (big nmem) with secure redshifts (z!=0) with more than five repeat observations"
   ]
  },
  {
   "cell_type": "code",
   "execution_count": 12,
   "id": "36d0c437",
   "metadata": {},
   "outputs": [
    {
     "data": {
      "text/html": [
       "<div><i>Table length=10</i>\n",
       "<table id=\"table22704203352096\" class=\"table-striped table-bordered table-condensed\">\n",
       "<thead><tr><th>agnid</th><th>ra</th><th>dec</th><th>z</th><th>z_er</th><th>zflag</th><th>field</th><th>nshots</th><th>detectid_best</th><th>ra_best</th><th>dec_best</th><th>roff</th><th>nmem</th><th>alpha</th><th>alpha_er</th><th>fpl0</th><th>fpl0_er</th><th>slope</th><th>slope_er</th><th>intercept</th><th>intercept_er</th><th>L1350</th><th>L1350_er</th><th>L1450</th><th>L1450_er</th><th>L3000</th><th>L3000_er</th><th>L5100</th><th>L5100_er</th><th>fwhm_LyA</th><th>fwhm_LyA_er</th><th>ew_LyA</th><th>ew_LyA_er</th><th>flux_LyA</th><th>flux_LyA_er</th><th>cont_LyA</th><th>cont_LyA_er</th><th>snr_LyA</th><th>snr_LyA_er</th><th>chi2_LyA</th><th>chi2_LyA_er</th><th>fwhm_NV</th><th>fwhm_NV_er</th><th>ew_NV</th><th>ew_NV_er</th><th>flux_NV</th><th>flux_NV_er</th><th>cont_NV</th><th>cont_NV_er</th><th>fwhm_SiO</th><th>fwhm_SiO_er</th><th>ew_SiO</th><th>ew_SiO_er</th><th>flux_SiO</th><th>flux_SiO_er</th><th>cont_SiO</th><th>cont_SiO_er</th><th>snr_SiO</th><th>snr_SiO_er</th><th>chi2_SiO</th><th>chi2_SiO_er</th><th>fwhm_CIV</th><th>fwhm_CIV_er</th><th>ew_CIV</th><th>ew_CIV_er</th><th>flux_CIV</th><th>flux_CIV_er</th><th>cont_CIV</th><th>cont_CIV_er</th><th>snr_CIV</th><th>snr_CIV_er</th><th>chi2_CIV</th><th>chi2_CIV_er</th><th>fwhm_HeII</th><th>fwhm_HeII_er</th><th>ew_HeII</th><th>ew_HeII_er</th><th>flux_HeII</th><th>flux_HeII_er</th><th>cont_HeII</th><th>cont_HeII_er</th><th>snr_HeII</th><th>snr_HeII_er</th><th>chi2_HeII</th><th>chi2_HeII_er</th><th>fwhm_CIII</th><th>fwhm_CIII_er</th><th>ew_CIII</th><th>ew_CIII_er</th><th>flux_CIII</th><th>flux_CIII_er</th><th>cont_CIII</th><th>cont_CIII_er</th><th>snr_CIII</th><th>snr_CIII_er</th><th>chi2_CIII</th><th>chi2_CIII_er</th><th>fwhm_MgII</th><th>fwhm_MgII_er</th><th>ew_MgII</th><th>ew_MgII_er</th><th>flux_MgII</th><th>flux_MgII_er</th><th>cont_MgII</th><th>cont_MgII_er</th><th>snr_MgII</th><th>snr_MgII_er</th><th>chi2_MgII</th><th>chi2_MgII_er</th><th>fwhm_OII</th><th>fwhm_OII_er</th><th>ew_OII</th><th>ew_OII_er</th><th>flux_OII</th><th>flux_OII_er</th><th>cont_OII</th><th>cont_OII_er</th><th>snr_OII</th><th>snr_OII_er</th><th>chi2_OII</th><th>chi2_OII_er</th><th>fwhm_OVI</th><th>fwhm_OVI_er</th><th>ew_OVI</th><th>ew_OVI_er</th><th>flux_OVI</th><th>flux_OVI_er</th><th>cont_OVI</th><th>cont_OVI_er</th><th>snr_OVI</th><th>snr_OVI_er</th><th>chi2_OVI</th><th>chi2_OVI_er</th><th>fiberid</th><th>r_aper</th><th>r_aper_er</th><th>r_radius</th><th>r_depth</th><th>r_cat</th><th>g_aper</th><th>g_aper_er</th><th>g_radius</th><th>g_depth</th><th>g_cat</th><th>u_aper</th><th>u_aper_er</th><th>u_radius</th><th>u_depth</th><th>u_cat</th><th>rsep_dr14q</th><th>id_dr14q</th><th>z_dr14q</th><th>rsep_dr16</th><th>plate_dr16</th><th>fiber_dr16</th><th>mjd_dr16</th><th>z_dr16</th><th>sflag</th><th>apcor</th></tr></thead>\n",
       "<thead><tr><th></th><th>deg</th><th>deg</th><th></th><th></th><th></th><th></th><th></th><th></th><th>deg</th><th>deg</th><th>arcsec</th><th></th><th></th><th></th><th></th><th></th><th></th><th></th><th></th><th></th><th>1e+44 erg / s</th><th>1e+44 erg / s</th><th>1e+44 erg / s</th><th>1e+44 erg / s</th><th>1e+44 erg / s</th><th>1e+44 erg / s</th><th>1e+44 erg / s</th><th>1e+44 erg / s</th><th>km / s</th><th>km / s</th><th>Angstrom</th><th>Angstrom</th><th>1e-17 erg / (s cm2)</th><th>1e-17 erg / (s cm2)</th><th>1e-17 erg / (Angstrom s cm2)</th><th>1e-17 erg / (Angstrom s cm2)</th><th></th><th></th><th></th><th></th><th>km / s</th><th>km / s</th><th>Angstrom</th><th>Angstrom</th><th>1e-17 erg / (s cm2)</th><th>1e-17 erg / (s cm2)</th><th>1e-17 erg / (Angstrom s cm2)</th><th>1e-17 erg / (Angstrom s cm2)</th><th>km / s</th><th>km / s</th><th>Angstrom</th><th>Angstrom</th><th>1e-17 erg / (s cm2)</th><th>1e-17 erg / (s cm2)</th><th>1e-17 erg / (Angstrom s cm2)</th><th>1e-17 erg / (Angstrom s cm2)</th><th></th><th></th><th></th><th></th><th>km / s</th><th>km / s</th><th>Angstrom</th><th>Angstrom</th><th>1e-17 erg / (s cm2)</th><th>1e-17 erg / (s cm2)</th><th>1e-17 erg / (Angstrom s cm2)</th><th>1e-17 erg / (Angstrom s cm2)</th><th></th><th></th><th></th><th></th><th>km / s</th><th>km / s</th><th>Angstrom</th><th>Angstrom</th><th>1e-17 erg / (s cm2)</th><th>1e-17 erg / (s cm2)</th><th>1e-17 erg / (Angstrom s cm2)</th><th>1e-17 erg / (Angstrom s cm2)</th><th></th><th></th><th></th><th></th><th>km / s</th><th>km / s</th><th>Angstrom</th><th>Angstrom</th><th>1e-17 erg / (s cm2)</th><th>1e-17 erg / (s cm2)</th><th>1e-17 erg / (Angstrom s cm2)</th><th>1e-17 erg / (Angstrom s cm2)</th><th></th><th></th><th></th><th></th><th>km / s</th><th>km / s</th><th>Angstrom</th><th>Angstrom</th><th>1e-17 erg / (s cm2)</th><th>1e-17 erg / (s cm2)</th><th>1e-17 erg / (Angstrom s cm2)</th><th>1e-17 erg / (Angstrom s cm2)</th><th></th><th></th><th></th><th></th><th>km / s</th><th>km / s</th><th>Angstrom</th><th>Angstrom</th><th>1e-17 erg / (s cm2)</th><th>1e-17 erg / (s cm2)</th><th>1e-17 erg / (Angstrom s cm2)</th><th>1e-17 erg / (Angstrom s cm2)</th><th></th><th></th><th></th><th></th><th>km / s</th><th>km / s</th><th>Angstrom</th><th>Angstrom</th><th>1e-17 erg / (s cm2)</th><th>1e-17 erg / (s cm2)</th><th>1e-17 erg / (Angstrom s cm2)</th><th>1e-17 erg / (Angstrom s cm2)</th><th></th><th></th><th></th><th></th><th></th><th>mag</th><th>mag</th><th>arcsec</th><th>arcsec</th><th></th><th>mag</th><th>mag</th><th>arcsec</th><th>arcsec</th><th></th><th>mag</th><th>mag</th><th>arcsec</th><th>arcsec</th><th></th><th>arcsec</th><th></th><th></th><th>arcsec</th><th></th><th></th><th></th><th></th><th></th><th></th></tr></thead>\n",
       "<thead><tr><th>int64</th><th>float32</th><th>float32</th><th>float32</th><th>float32</th><th>int64</th><th>bytes10</th><th>int64</th><th>int64</th><th>float32</th><th>float32</th><th>float32</th><th>int64</th><th>float32</th><th>float32</th><th>float32</th><th>float32</th><th>float32</th><th>float32</th><th>float32</th><th>float32</th><th>float32</th><th>float32</th><th>float32</th><th>float32</th><th>float32</th><th>float32</th><th>float32</th><th>float32</th><th>float32</th><th>float32</th><th>float32</th><th>float32</th><th>float32</th><th>float32</th><th>float32</th><th>float32</th><th>float32</th><th>float32</th><th>float32</th><th>float32</th><th>float32</th><th>float32</th><th>float32</th><th>float32</th><th>float32</th><th>float32</th><th>float32</th><th>float32</th><th>float32</th><th>float32</th><th>float32</th><th>float32</th><th>float32</th><th>float32</th><th>float32</th><th>float32</th><th>float32</th><th>float32</th><th>float32</th><th>float32</th><th>float32</th><th>float32</th><th>float32</th><th>float32</th><th>float32</th><th>float32</th><th>float32</th><th>float32</th><th>float32</th><th>float32</th><th>float32</th><th>float32</th><th>float32</th><th>float32</th><th>float32</th><th>float32</th><th>float32</th><th>float32</th><th>float32</th><th>float32</th><th>float32</th><th>float32</th><th>float32</th><th>float32</th><th>float32</th><th>float32</th><th>float32</th><th>float32</th><th>float32</th><th>float32</th><th>float32</th><th>float32</th><th>float32</th><th>float32</th><th>float32</th><th>float32</th><th>float32</th><th>float32</th><th>float32</th><th>float32</th><th>float32</th><th>float32</th><th>float32</th><th>float32</th><th>float32</th><th>float32</th><th>float32</th><th>float32</th><th>float32</th><th>float32</th><th>float32</th><th>float32</th><th>float32</th><th>float32</th><th>float32</th><th>float32</th><th>float32</th><th>float32</th><th>float32</th><th>float32</th><th>float32</th><th>float32</th><th>float32</th><th>float32</th><th>float32</th><th>float32</th><th>float32</th><th>float32</th><th>float32</th><th>float32</th><th>float32</th><th>float32</th><th>bytes38</th><th>float32</th><th>float32</th><th>float32</th><th>float32</th><th>bytes16</th><th>float32</th><th>float32</th><th>float32</th><th>float32</th><th>bytes16</th><th>float32</th><th>float32</th><th>float32</th><th>float32</th><th>bytes16</th><th>float32</th><th>bytes15</th><th>float32</th><th>float32</th><th>int64</th><th>int64</th><th>int64</th><th>float32</th><th>int64</th><th>float32</th></tr></thead>\n",
       "<tr><td>3194</td><td>150.23174</td><td>2.3640766</td><td>1.928</td><td>0.00014</td><td>1</td><td>cosmos</td><td>7</td><td>2100547486</td><td>150.23172</td><td>2.36408</td><td>0.0701</td><td>25</td><td>-2.1382</td><td>0.03705828</td><td>48091710.0</td><td>297371070000.0</td><td>-0.009658</td><td>7.74e-05</td><td>22.5698</td><td>0.1285</td><td>34.75</td><td>0.661</td><td>32.03</td><td>0.47</td><td>14.0</td><td>0.214</td><td>7.65</td><td>0.202</td><td>3083.94</td><td>59.364</td><td>55.94</td><td>1.228</td><td>682.46</td><td>12.089</td><td>12.2</td><td>0.323</td><td>21.895</td><td>0.321</td><td>0.73</td><td>0.14</td><td>3717.99</td><td>144.434</td><td>40.89</td><td>1.506</td><td>477.2</td><td>16.778</td><td>11.67</td><td>0.291</td><td>6514.95</td><td>332.253</td><td>16.74</td><td>0.48</td><td>150.97</td><td>4.085</td><td>9.02</td><td>0.151</td><td>12.903</td><td>0.392</td><td>0.58</td><td>0.35</td><td>5072.21</td><td>56.88</td><td>58.09</td><td>1.23</td><td>421.64</td><td>7.806</td><td>7.26</td><td>0.081</td><td>29.223</td><td>0.347</td><td>0.72</td><td>0.051</td><td>710.33</td><td>624.794</td><td>18.02</td><td>0.621</td><td>115.8</td><td>3.803</td><td>6.43</td><td>0.055</td><td>4.337</td><td>0.375</td><td>0.59</td><td>0.036</td><td>-99.0</td><td>-99.0</td><td>-99.0</td><td>-99.0</td><td>-99.0</td><td>-99.0</td><td>-99.0</td><td>-99.0</td><td>-99.0</td><td>-99.0</td><td>-99.0</td><td>-99.0</td><td>-99.0</td><td>-99.0</td><td>-99.0</td><td>-99.0</td><td>-99.0</td><td>-99.0</td><td>-99.0</td><td>-99.0</td><td>-99.0</td><td>-99.0</td><td>-99.0</td><td>-99.0</td><td>-99.0</td><td>-99.0</td><td>-99.0</td><td>-99.0</td><td>-99.0</td><td>-99.0</td><td>-99.0</td><td>-99.0</td><td>-99.0</td><td>-99.0</td><td>-99.0</td><td>-99.0</td><td>-99.0</td><td>-99.0</td><td>-99.0</td><td>-99.0</td><td>-99.0</td><td>-99.0</td><td>-99.0</td><td>-99.0</td><td>-99.0</td><td>-99.0</td><td>-99.0</td><td>-99.0</td><td>20181119015_2_multi_302_036_041_RL_082</td><td>21.0123</td><td>0.0043</td><td>1.3414</td><td>26.4</td><td>HSC-SSP</td><td>21.0678</td><td>0.003</td><td>1.2799</td><td>26.8</td><td>HSC-SSP</td><td>21.2675</td><td>0.0037</td><td>1.8424</td><td>25.7</td><td>DECAM/COSMOS</td><td>279.98495</td><td>4737-55630-0156</td><td>3.718</td><td>0.37742138</td><td>4737</td><td>159</td><td>55630</td><td>1.9314914</td><td>2</td><td>0.951</td></tr>\n",
       "<tr><td>2832</td><td>150.02542</td><td>2.0879166</td><td>2.052</td><td>3e-05</td><td>1</td><td>cosmos</td><td>6</td><td>2100136927</td><td>150.0254</td><td>2.087955</td><td>0.1567</td><td>6</td><td>1.4064</td><td>0.23558165</td><td>1.209612e-06</td><td>28.467165</td><td>8.42e-05</td><td>7.74e-05</td><td>-0.0982</td><td>0.1288</td><td>0.13</td><td>0.063</td><td>0.15</td><td>0.068</td><td>0.87</td><td>0.674</td><td>3.11</td><td>7.1</td><td>688.78</td><td>6.483</td><td>4483.0</td><td>547.833</td><td>134.49</td><td>1.308</td><td>0.03</td><td>0.016</td><td>21.413</td><td>0.29</td><td>1.24</td><td>0.028</td><td>2418.87</td><td>337.306</td><td>764.0</td><td>660.859</td><td>22.92</td><td>2.658</td><td>0.03</td><td>0.016</td><td>375.86</td><td>70.788</td><td>174.61</td><td>686.237</td><td>5.61</td><td>1.292</td><td>0.03</td><td>0.015</td><td>1.948</td><td>0.098</td><td>0.67</td><td>0.021</td><td>758.97</td><td>19.635</td><td>613.39</td><td>649.746</td><td>22.75</td><td>1.795</td><td>0.04</td><td>0.016</td><td>7.224</td><td>0.118</td><td>0.55</td><td>0.022</td><td>182.24</td><td>20.503</td><td>79.06</td><td>673.3</td><td>3.18</td><td>1.341</td><td>0.04</td><td>0.017</td><td>1.607</td><td>0.085</td><td>0.56</td><td>0.026</td><td>-99.0</td><td>-99.0</td><td>-99.0</td><td>-99.0</td><td>-99.0</td><td>-99.0</td><td>-99.0</td><td>-99.0</td><td>-99.0</td><td>-99.0</td><td>-99.0</td><td>-99.0</td><td>-99.0</td><td>-99.0</td><td>-99.0</td><td>-99.0</td><td>-99.0</td><td>-99.0</td><td>-99.0</td><td>-99.0</td><td>-99.0</td><td>-99.0</td><td>-99.0</td><td>-99.0</td><td>-99.0</td><td>-99.0</td><td>-99.0</td><td>-99.0</td><td>-99.0</td><td>-99.0</td><td>-99.0</td><td>-99.0</td><td>-99.0</td><td>-99.0</td><td>-99.0</td><td>-99.0</td><td>-99.0</td><td>-99.0</td><td>-99.0</td><td>-99.0</td><td>-99.0</td><td>-99.0</td><td>-99.0</td><td>-99.0</td><td>-99.0</td><td>-99.0</td><td>-99.0</td><td>-99.0</td><td>20180209009_2_multi_319_083_023_RL_005</td><td>24.6351</td><td>0.0837</td><td>0.9693</td><td>26.4</td><td>HSC-SSP</td><td>24.601</td><td>0.0655</td><td>1.105</td><td>26.8</td><td>HSC-SSP</td><td>23.7888</td><td>0.0382</td><td>1.6348</td><td>25.7</td><td>DECAM/COSMOS</td><td>282.66797</td><td>4737-55630-0190</td><td>2.288</td><td>129.62094</td><td>3154</td><td>160</td><td>54821</td><td>0.00014259022</td><td>2</td><td>0.724</td></tr>\n",
       "<tr><td>2114</td><td>189.3471</td><td>62.260574</td><td>2.241</td><td>1e-04</td><td>1</td><td>goods-n</td><td>5</td><td>2100326004</td><td>189.34738</td><td>62.26041</td><td>0.7454</td><td>4</td><td>-1.06758</td><td>0.17699678</td><td>728.23206</td><td>9148.29</td><td>-0.0008639</td><td>0.0001364</td><td>1.5365</td><td>0.194</td><td>1.71</td><td>0.075</td><td>1.7</td><td>0.077</td><td>1.62</td><td>1.393</td><td>1.56</td><td>14.29</td><td>1158.12</td><td>50.798</td><td>47.49</td><td>16.184</td><td>17.57</td><td>0.581</td><td>0.37</td><td>0.018</td><td>7.54</td><td>0.218</td><td>0.71</td><td>0.025</td><td>557.51</td><td>388.784</td><td>6.22</td><td>3.607</td><td>2.24</td><td>0.43</td><td>0.36</td><td>0.017</td><td>8.52</td><td>1250.052</td><td>0.0</td><td>12.139</td><td>0.0</td><td>1.296</td><td>0.32</td><td>0.014</td><td>0.0</td><td>0.11</td><td>0.68</td><td>0.027</td><td>30.79</td><td>168.978</td><td>0.13</td><td>0.61</td><td>0.04</td><td>0.13</td><td>0.29</td><td>0.015</td><td>0.069</td><td>0.068</td><td>0.68</td><td>0.026</td><td>0.0</td><td>83.738</td><td>0.0</td><td>0.752</td><td>0.0</td><td>0.087</td><td>0.27</td><td>0.017</td><td>0.0</td><td>0.02</td><td>0.88</td><td>0.031</td><td>-99.0</td><td>-99.0</td><td>-99.0</td><td>-99.0</td><td>-99.0</td><td>-99.0</td><td>-99.0</td><td>-99.0</td><td>-99.0</td><td>-99.0</td><td>-99.0</td><td>-99.0</td><td>-99.0</td><td>-99.0</td><td>-99.0</td><td>-99.0</td><td>-99.0</td><td>-99.0</td><td>-99.0</td><td>-99.0</td><td>-99.0</td><td>-99.0</td><td>-99.0</td><td>-99.0</td><td>-99.0</td><td>-99.0</td><td>-99.0</td><td>-99.0</td><td>-99.0</td><td>-99.0</td><td>-99.0</td><td>-99.0</td><td>-99.0</td><td>-99.0</td><td>-99.0</td><td>-99.0</td><td>-99.0</td><td>-99.0</td><td>-99.0</td><td>-99.0</td><td>-99.0</td><td>-99.0</td><td>-99.0</td><td>-99.0</td><td>-99.0</td><td>-99.0</td><td>-99.0</td><td>-99.0</td><td>20180516012_2_multi_041_084_015_LL_030</td><td>-99.0</td><td>-99.0</td><td>-99.0</td><td>-99.0</td><td>?</td><td>-99.0</td><td>-99.0</td><td>-99.0</td><td>-99.0</td><td>?</td><td>-99.0</td><td>-99.0</td><td>-99.0</td><td>-99.0</td><td>?</td><td>142.95276</td><td>7118-56686-0971</td><td>1.017</td><td>136.67041</td><td>7118</td><td>970</td><td>56686</td><td>-0.00065181305</td><td>1</td><td>0.765</td></tr>\n",
       "<tr><td>2209</td><td>189.26814</td><td>62.246063</td><td>2.216</td><td>3e-05</td><td>1</td><td>goods-n</td><td>6</td><td>2100034488</td><td>189.268</td><td>62.246014</td><td>0.3008</td><td>4</td><td>3.69989</td><td>0.33385694</td><td>-2.3763004e-13</td><td>16.691307</td><td>-0.0003828</td><td>7.39e-05</td><td>0.4334</td><td>0.1101</td><td>-0.45</td><td>0.065</td><td>-0.64</td><td>0.074</td><td>-19.39</td><td>1.33</td><td>-234.8</td><td>15.903</td><td>766.69</td><td>7.714</td><td>9999.0</td><td>422.206</td><td>98.62</td><td>0.65</td><td>-0.06</td><td>0.014</td><td>25.562</td><td>0.146</td><td>0.99</td><td>0.028</td><td>1318.88</td><td>70.222</td><td>9999.0</td><td>489.139</td><td>27.86</td><td>1.354</td><td>-0.07</td><td>0.013</td><td>68.27</td><td>675.832</td><td>9999.0</td><td>382.424</td><td>4.58</td><td>0.851</td><td>-0.1</td><td>0.013</td><td>0.518</td><td>0.113</td><td>0.94</td><td>0.029</td><td>697.14</td><td>37.141</td><td>9999.0</td><td>365.587</td><td>18.04</td><td>2.036</td><td>-0.15</td><td>0.016</td><td>6.495</td><td>0.124</td><td>0.73</td><td>0.028</td><td>1012.17</td><td>281.187</td><td>9999.0</td><td>380.777</td><td>6.56</td><td>2.408</td><td>-0.19</td><td>0.018</td><td>2.328</td><td>0.181</td><td>0.71</td><td>0.027</td><td>-99.0</td><td>-99.0</td><td>-99.0</td><td>-99.0</td><td>-99.0</td><td>-99.0</td><td>-99.0</td><td>-99.0</td><td>-99.0</td><td>-99.0</td><td>-99.0</td><td>-99.0</td><td>-99.0</td><td>-99.0</td><td>-99.0</td><td>-99.0</td><td>-99.0</td><td>-99.0</td><td>-99.0</td><td>-99.0</td><td>-99.0</td><td>-99.0</td><td>-99.0</td><td>-99.0</td><td>-99.0</td><td>-99.0</td><td>-99.0</td><td>-99.0</td><td>-99.0</td><td>-99.0</td><td>-99.0</td><td>-99.0</td><td>-99.0</td><td>-99.0</td><td>-99.0</td><td>-99.0</td><td>-99.0</td><td>-99.0</td><td>-99.0</td><td>-99.0</td><td>-99.0</td><td>-99.0</td><td>-99.0</td><td>-99.0</td><td>-99.0</td><td>-99.0</td><td>-99.0</td><td>-99.0</td><td>20170303012_3_multi_008_093_054_LL_067</td><td>-99.0</td><td>-99.0</td><td>-99.0</td><td>-99.0</td><td>?</td><td>-99.0</td><td>-99.0</td><td>-99.0</td><td>-99.0</td><td>?</td><td>-99.0</td><td>-99.0</td><td>-99.0</td><td>-99.0</td><td>?</td><td>137.65974</td><td>7118-56686-0971</td><td>1.017</td><td>10.047142</td><td>7118</td><td>970</td><td>56686</td><td>-0.00065181305</td><td>2</td><td>0.916</td></tr>\n",
       "<tr><td>2720</td><td>150.23596</td><td>2.2890444</td><td>2.08686</td><td>0.00017</td><td>1</td><td>cosmos</td><td>5</td><td>2100545139</td><td>150.2359</td><td>2.289101</td><td>0.3064</td><td>2</td><td>-0.61483</td><td>0.08710167</td><td>102.40122</td><td>4166.9214</td><td>-0.0005542</td><td>9.95e-05</td><td>1.986</td><td>0.1569</td><td>5.27</td><td>0.103</td><td>5.42</td><td>0.09</td><td>7.17</td><td>0.649</td><td>8.8</td><td>2.355</td><td>680.1</td><td>389.993</td><td>169.18</td><td>9.94</td><td>219.94</td><td>7.66</td><td>1.3</td><td>0.034</td><td>10.807</td><td>0.214</td><td>0.78</td><td>0.024</td><td>270.3</td><td>637.452</td><td>12.66</td><td>8.377</td><td>16.2</td><td>9.947</td><td>1.28</td><td>0.031</td><td>3307.07</td><td>542.856</td><td>42.98</td><td>3.733</td><td>51.2</td><td>3.435</td><td>1.19</td><td>0.021</td><td>3.67</td><td>0.19</td><td>0.78</td><td>0.026</td><td>5583.52</td><td>355.543</td><td>80.46</td><td>3.856</td><td>90.05</td><td>3.314</td><td>1.12</td><td>0.017</td><td>7.001</td><td>0.206</td><td>0.64</td><td>0.025</td><td>2380.44</td><td>507.236</td><td>4.06</td><td>1.205</td><td>4.39</td><td>1.054</td><td>1.08</td><td>0.018</td><td>0.968</td><td>0.128</td><td>0.86</td><td>0.027</td><td>-99.0</td><td>-99.0</td><td>-99.0</td><td>-99.0</td><td>-99.0</td><td>-99.0</td><td>-99.0</td><td>-99.0</td><td>-99.0</td><td>-99.0</td><td>-99.0</td><td>-99.0</td><td>-99.0</td><td>-99.0</td><td>-99.0</td><td>-99.0</td><td>-99.0</td><td>-99.0</td><td>-99.0</td><td>-99.0</td><td>-99.0</td><td>-99.0</td><td>-99.0</td><td>-99.0</td><td>-99.0</td><td>-99.0</td><td>-99.0</td><td>-99.0</td><td>-99.0</td><td>-99.0</td><td>-99.0</td><td>-99.0</td><td>-99.0</td><td>-99.0</td><td>-99.0</td><td>-99.0</td><td>-99.0</td><td>-99.0</td><td>-99.0</td><td>-99.0</td><td>-99.0</td><td>-99.0</td><td>-99.0</td><td>-99.0</td><td>-99.0</td><td>-99.0</td><td>-99.0</td><td>-99.0</td><td>20181116015_1_multi_304_044_045_LU_039</td><td>21.5896</td><td>0.0061</td><td>1.2931</td><td>26.4</td><td>HSC-SSP</td><td>21.4826</td><td>0.0038</td><td>1.289</td><td>26.8</td><td>HSC-SSP</td><td>21.6058</td><td>0.0042</td><td>1.7677</td><td>25.7</td><td>DECAM/COSMOS</td><td>249.20326</td><td>4737-55630-0150</td><td>2.611</td><td>77.323</td><td>4737</td><td>146</td><td>55630</td><td>0.16566485</td><td>1</td><td>0.956</td></tr>\n",
       "<tr><td>1273</td><td>150.18307</td><td>2.247664</td><td>2.487</td><td>8e-05</td><td>1</td><td>cosmos</td><td>7</td><td>2100031956</td><td>150.18307</td><td>2.247664</td><td>0.0</td><td>1</td><td>-2.29929</td><td>0.15141167</td><td>6345365.5</td><td>532300500.0</td><td>-0.0040306</td><td>0.0002532</td><td>5.9028</td><td>0.3449</td><td>2.67</td><td>0.154</td><td>2.43</td><td>0.15</td><td>0.95</td><td>0.612</td><td>0.48</td><td>6.822</td><td>931.2</td><td>12.008</td><td>89.71</td><td>196.56</td><td>45.75</td><td>0.74</td><td>0.51</td><td>0.028</td><td>16.192</td><td>0.157</td><td>0.71</td><td>0.028</td><td>1392.01</td><td>52.632</td><td>0.0</td><td>198.101</td><td>0.0</td><td>1.302</td><td>0.49</td><td>0.027</td><td>170.19</td><td>510.482</td><td>22.9</td><td>198.312</td><td>8.49</td><td>1.319</td><td>0.37</td><td>0.022</td><td>1.013</td><td>0.124</td><td>0.77</td><td>0.023</td><td>605.9</td><td>49.059</td><td>77.56</td><td>197.572</td><td>22.75</td><td>1.204</td><td>0.29</td><td>0.02</td><td>6.796</td><td>0.117</td><td>0.77</td><td>0.025</td><td>-99.0</td><td>-99.0</td><td>-99.0</td><td>-99.0</td><td>-99.0</td><td>-99.0</td><td>-99.0</td><td>-99.0</td><td>-99.0</td><td>-99.0</td><td>-99.0</td><td>-99.0</td><td>-99.0</td><td>-99.0</td><td>-99.0</td><td>-99.0</td><td>-99.0</td><td>-99.0</td><td>-99.0</td><td>-99.0</td><td>-99.0</td><td>-99.0</td><td>-99.0</td><td>-99.0</td><td>-99.0</td><td>-99.0</td><td>-99.0</td><td>-99.0</td><td>-99.0</td><td>-99.0</td><td>-99.0</td><td>-99.0</td><td>-99.0</td><td>-99.0</td><td>-99.0</td><td>-99.0</td><td>-99.0</td><td>-99.0</td><td>-99.0</td><td>-99.0</td><td>-99.0</td><td>-99.0</td><td>-99.0</td><td>-99.0</td><td>-99.0</td><td>-99.0</td><td>-99.0</td><td>-99.0</td><td>55.55</td><td>175.363</td><td>3.78</td><td>197.843</td><td>2.81</td><td>0.601</td><td>0.74</td><td>0.042</td><td>0.046</td><td>0.039</td><td>1.21</td><td>0.033</td><td>20170225007_3_multi_020_095_004_LL_044</td><td>23.6681</td><td>0.0302</td><td>1.0617</td><td>26.4</td><td>HSC-SSP</td><td>23.6216</td><td>0.0271</td><td>1.1485</td><td>26.8</td><td>HSC-SSP</td><td>24.9628</td><td>0.0894</td><td>1.1547</td><td>25.7</td><td>DECAM/COSMOS</td><td>326.56613</td><td>4737-55630-0150</td><td>2.611</td><td>150.0367</td><td>500</td><td>552</td><td>51994</td><td>6.8515124e-05</td><td>-1</td><td>0.913</td></tr>\n",
       "<tr><td>2195</td><td>150.1798</td><td>2.247135</td><td>2.22</td><td>0.00015</td><td>1</td><td>cosmos</td><td>10</td><td>2100031966</td><td>150.1798</td><td>2.247135</td><td>0.0</td><td>1</td><td>1.28083</td><td>0.18453978</td><td>4.3440756e-05</td><td>18.015305</td><td>0.0004963</td><td>9.36e-05</td><td>-0.2341</td><td>0.1379</td><td>2.23</td><td>0.087</td><td>2.63</td><td>0.083</td><td>13.81</td><td>2.03</td><td>46.32</td><td>18.344</td><td>1050.44</td><td>155.575</td><td>140.41</td><td>201.177</td><td>54.76</td><td>2.242</td><td>0.39</td><td>0.023</td><td>6.29</td><td>0.148</td><td>0.72</td><td>0.027</td><td>826.88</td><td>483.865</td><td>16.25</td><td>197.721</td><td>6.5</td><td>0.981</td><td>0.4</td><td>0.022</td><td>0.0</td><td>157.363</td><td>0.0</td><td>0.162</td><td>0.0</td><td>0.062</td><td>0.47</td><td>0.016</td><td>0.0</td><td>0.02</td><td>1.14</td><td>0.03</td><td>808.45</td><td>43.876</td><td>8.46</td><td>0.92</td><td>4.48</td><td>0.336</td><td>0.53</td><td>0.017</td><td>1.838</td><td>0.134</td><td>0.99</td><td>0.04</td><td>152.73</td><td>18.447</td><td>1.05</td><td>0.566</td><td>0.6</td><td>0.166</td><td>0.57</td><td>0.02</td><td>0.358</td><td>0.08</td><td>1.25</td><td>0.034</td><td>-99.0</td><td>-99.0</td><td>-99.0</td><td>-99.0</td><td>-99.0</td><td>-99.0</td><td>-99.0</td><td>-99.0</td><td>-99.0</td><td>-99.0</td><td>-99.0</td><td>-99.0</td><td>-99.0</td><td>-99.0</td><td>-99.0</td><td>-99.0</td><td>-99.0</td><td>-99.0</td><td>-99.0</td><td>-99.0</td><td>-99.0</td><td>-99.0</td><td>-99.0</td><td>-99.0</td><td>-99.0</td><td>-99.0</td><td>-99.0</td><td>-99.0</td><td>-99.0</td><td>-99.0</td><td>-99.0</td><td>-99.0</td><td>-99.0</td><td>-99.0</td><td>-99.0</td><td>-99.0</td><td>-99.0</td><td>-99.0</td><td>-99.0</td><td>-99.0</td><td>-99.0</td><td>-99.0</td><td>-99.0</td><td>-99.0</td><td>-99.0</td><td>-99.0</td><td>-99.0</td><td>-99.0</td><td>20170225007_3_multi_020_095_004_LU_028</td><td>28.3648</td><td>1.1149</td><td>0.875</td><td>26.4</td><td>HSC-SSP</td><td>26.8343</td><td>0.2516</td><td>0.3515</td><td>26.8</td><td>HSC-SSP</td><td>26.8651</td><td>0.1683</td><td>1.0</td><td>25.7</td><td>DECAM/COSMOS</td><td>337.8013</td><td>4737-55630-0150</td><td>2.611</td><td>153.61548</td><td>500</td><td>552</td><td>51994</td><td>6.8515124e-05</td><td>1</td><td>0.908</td></tr>\n",
       "<tr><td>2420</td><td>189.04907</td><td>62.242523</td><td>2.167</td><td>0.00011</td><td>1</td><td>goods-n</td><td>6</td><td>2100029182</td><td>189.04907</td><td>62.242523</td><td>0.0</td><td>1</td><td>-1.39891</td><td>0.19948015</td><td>5507.7104</td><td>434297.2</td><td>-0.0017344</td><td>0.0001503</td><td>2.7822</td><td>0.2305</td><td>1.09</td><td>0.142</td><td>1.06</td><td>0.148</td><td>0.79</td><td>1.062</td><td>0.64</td><td>6.023</td><td>1508.08</td><td>86.066</td><td>144.67</td><td>451.854</td><td>39.06</td><td>1.139</td><td>0.27</td><td>0.034</td><td>5.139</td><td>0.127</td><td>0.84</td><td>0.029</td><td>666.1</td><td>810.404</td><td>0.0</td><td>458.777</td><td>0.0</td><td>2.277</td><td>0.26</td><td>0.033</td><td>8.5</td><td>46.531</td><td>9.93</td><td>763.554</td><td>2.17</td><td>1.272</td><td>0.22</td><td>0.029</td><td>0.397</td><td>0.094</td><td>1.04</td><td>0.03</td><td>583.8</td><td>148.466</td><td>38.84</td><td>1270.944</td><td>7.37</td><td>2.152</td><td>0.19</td><td>0.03</td><td>1.421</td><td>0.15</td><td>0.78</td><td>0.026</td><td>377.3</td><td>181.943</td><td>6.95</td><td>483.094</td><td>1.22</td><td>0.931</td><td>0.18</td><td>0.032</td><td>0.508</td><td>0.089</td><td>0.8</td><td>0.029</td><td>-99.0</td><td>-99.0</td><td>-99.0</td><td>-99.0</td><td>-99.0</td><td>-99.0</td><td>-99.0</td><td>-99.0</td><td>-99.0</td><td>-99.0</td><td>-99.0</td><td>-99.0</td><td>-99.0</td><td>-99.0</td><td>-99.0</td><td>-99.0</td><td>-99.0</td><td>-99.0</td><td>-99.0</td><td>-99.0</td><td>-99.0</td><td>-99.0</td><td>-99.0</td><td>-99.0</td><td>-99.0</td><td>-99.0</td><td>-99.0</td><td>-99.0</td><td>-99.0</td><td>-99.0</td><td>-99.0</td><td>-99.0</td><td>-99.0</td><td>-99.0</td><td>-99.0</td><td>-99.0</td><td>-99.0</td><td>-99.0</td><td>-99.0</td><td>-99.0</td><td>-99.0</td><td>-99.0</td><td>-99.0</td><td>-99.0</td><td>-99.0</td><td>-99.0</td><td>-99.0</td><td>-99.0</td><td>20170221012_2_multi_027_085_001_RU_094</td><td>-99.0</td><td>-99.0</td><td>-99.0</td><td>-99.0</td><td>?</td><td>-99.0</td><td>-99.0</td><td>-99.0</td><td>-99.0</td><td>?</td><td>-99.0</td><td>-99.0</td><td>-99.0</td><td>-99.0</td><td>?</td><td>94.69229</td><td>7118-56686-0929</td><td>2.587</td><td>94.585556</td><td>781</td><td>221</td><td>52373</td><td>2.5859513</td><td>1</td><td>0.912</td></tr>\n",
       "<tr><td>2970</td><td>189.19429</td><td>62.246147</td><td>2.004</td><td>0.00013</td><td>1</td><td>goods-n</td><td>6</td><td>2100034726</td><td>189.19429</td><td>62.246147</td><td>0.0</td><td>1</td><td>-1.32722</td><td>0.032337107</td><td>5704.258</td><td>2335.7236</td><td>-0.0016086</td><td>5.63e-05</td><td>2.8724</td><td>0.0934</td><td>1.57</td><td>0.062</td><td>1.53</td><td>0.06</td><td>1.21</td><td>0.05</td><td>1.01</td><td>0.058</td><td>1068.16</td><td>19.218</td><td>95.93</td><td>6.429</td><td>44.13</td><td>1.13</td><td>0.46</td><td>0.019</td><td>9.308</td><td>0.163</td><td>0.92</td><td>0.022</td><td>4866.02</td><td>289.873</td><td>59.47</td><td>7.956</td><td>26.76</td><td>2.505</td><td>0.45</td><td>0.018</td><td>21260.41</td><td>1434.146</td><td>21.56</td><td>6.885</td><td>8.21</td><td>1.679</td><td>0.38</td><td>0.015</td><td>0.762</td><td>0.151</td><td>0.75</td><td>0.024</td><td>0.0</td><td>922.368</td><td>0.0</td><td>4.613</td><td>0.0</td><td>0.769</td><td>0.33</td><td>0.013</td><td>0.0</td><td>0.082</td><td>0.94</td><td>0.029</td><td>7796.97</td><td>803.528</td><td>14.38</td><td>6.112</td><td>4.44</td><td>1.263</td><td>0.31</td><td>0.012</td><td>0.788</td><td>0.152</td><td>0.94</td><td>0.025</td><td>-99.0</td><td>-99.0</td><td>-99.0</td><td>-99.0</td><td>-99.0</td><td>-99.0</td><td>-99.0</td><td>-99.0</td><td>-99.0</td><td>-99.0</td><td>-99.0</td><td>-99.0</td><td>-99.0</td><td>-99.0</td><td>-99.0</td><td>-99.0</td><td>-99.0</td><td>-99.0</td><td>-99.0</td><td>-99.0</td><td>-99.0</td><td>-99.0</td><td>-99.0</td><td>-99.0</td><td>-99.0</td><td>-99.0</td><td>-99.0</td><td>-99.0</td><td>-99.0</td><td>-99.0</td><td>-99.0</td><td>-99.0</td><td>-99.0</td><td>-99.0</td><td>-99.0</td><td>-99.0</td><td>-99.0</td><td>-99.0</td><td>-99.0</td><td>-99.0</td><td>-99.0</td><td>-99.0</td><td>-99.0</td><td>-99.0</td><td>-99.0</td><td>-99.0</td><td>-99.0</td><td>-99.0</td><td>20170303012_3_multi_041_084_015_LL_038</td><td>-99.0</td><td>-99.0</td><td>-99.0</td><td>-99.0</td><td>?</td><td>-99.0</td><td>-99.0</td><td>-99.0</td><td>-99.0</td><td>?</td><td>-99.0</td><td>-99.0</td><td>-99.0</td><td>-99.0</td><td>?</td><td>170.51578</td><td>7118-56686-0929</td><td>2.587</td><td>126.9574</td><td>7118</td><td>970</td><td>56686</td><td>-0.00065181305</td><td>1</td><td>0.929</td></tr>\n",
       "<tr><td>4611</td><td>189.26724</td><td>62.132046</td><td>1.26</td><td>0.00033</td><td>1</td><td>goods-n</td><td>8</td><td>2190007845</td><td>189.26724</td><td>62.132046</td><td>0.0</td><td>1</td><td>-0.86002</td><td>0.030318093</td><td>680.7762</td><td>47.198917</td><td>-0.0005275</td><td>1.62e-05</td><td>2.0678</td><td>0.0354</td><td>1.73</td><td>0.023</td><td>1.75</td><td>0.02</td><td>1.93</td><td>0.02</td><td>2.08</td><td>0.066</td><td>-99.0</td><td>-99.0</td><td>-99.0</td><td>-99.0</td><td>-99.0</td><td>-99.0</td><td>-99.0</td><td>-99.0</td><td>-99.0</td><td>-99.0</td><td>-99.0</td><td>-99.0</td><td>-99.0</td><td>-99.0</td><td>-99.0</td><td>-99.0</td><td>-99.0</td><td>-99.0</td><td>-99.0</td><td>-99.0</td><td>-99.0</td><td>-99.0</td><td>-99.0</td><td>-99.0</td><td>-99.0</td><td>-99.0</td><td>-99.0</td><td>-99.0</td><td>-99.0</td><td>-99.0</td><td>-99.0</td><td>-99.0</td><td>2751.3</td><td>131.585</td><td>93.28</td><td>2.763</td><td>114.6</td><td>2.25</td><td>1.23</td><td>0.012</td><td>8.559</td><td>0.167</td><td>0.44</td><td>0.032</td><td>4584.18</td><td>296.769</td><td>21.1</td><td>1.345</td><td>24.68</td><td>1.247</td><td>1.17</td><td>0.01</td><td>4.502</td><td>0.2</td><td>0.71</td><td>0.026</td><td>5554.27</td><td>276.593</td><td>52.89</td><td>1.622</td><td>54.3</td><td>1.41</td><td>1.03</td><td>0.005</td><td>9.945</td><td>0.164</td><td>0.97</td><td>0.035</td><td>-99.0</td><td>-99.0</td><td>-99.0</td><td>-99.0</td><td>-99.0</td><td>-99.0</td><td>-99.0</td><td>-99.0</td><td>-99.0</td><td>-99.0</td><td>-99.0</td><td>-99.0</td><td>-99.0</td><td>-99.0</td><td>-99.0</td><td>-99.0</td><td>-99.0</td><td>-99.0</td><td>-99.0</td><td>-99.0</td><td>-99.0</td><td>-99.0</td><td>-99.0</td><td>-99.0</td><td>-99.0</td><td>-99.0</td><td>-99.0</td><td>-99.0</td><td>-99.0</td><td>-99.0</td><td>-99.0</td><td>-99.0</td><td>-99.0</td><td>-99.0</td><td>-99.0</td><td>-99.0</td><td>20180415016_1_multi_312_047_065_RU_059</td><td>-99.0</td><td>-99.0</td><td>-99.0</td><td>-99.0</td><td>?</td><td>-99.0</td><td>-99.0</td><td>-99.0</td><td>-99.0</td><td>?</td><td>-99.0</td><td>-99.0</td><td>-99.0</td><td>-99.0</td><td>?</td><td>284.4289</td><td>0781-52373-0230</td><td>2.0685</td><td>55.133644</td><td>7118</td><td>79</td><td>56686</td><td>0.5605918</td><td>2</td><td>0.896</td></tr>\n",
       "</table></div>"
      ],
      "text/plain": [
       "<Table length=10>\n",
       "agnid     ra       dec       z    ... mjd_dr16     z_dr16     sflag  apcor \n",
       "         deg       deg            ...                                      \n",
       "int64  float32   float32  float32 ...  int64      float32     int64 float32\n",
       "----- --------- --------- ------- ... -------- -------------- ----- -------\n",
       " 3194 150.23174 2.3640766   1.928 ...    55630      1.9314914     2   0.951\n",
       " 2832 150.02542 2.0879166   2.052 ...    54821  0.00014259022     2   0.724\n",
       " 2114  189.3471 62.260574   2.241 ...    56686 -0.00065181305     1   0.765\n",
       " 2209 189.26814 62.246063   2.216 ...    56686 -0.00065181305     2   0.916\n",
       " 2720 150.23596 2.2890444 2.08686 ...    55630     0.16566485     1   0.956\n",
       " 1273 150.18307  2.247664   2.487 ...    51994  6.8515124e-05    -1   0.913\n",
       " 2195  150.1798  2.247135    2.22 ...    51994  6.8515124e-05     1   0.908\n",
       " 2420 189.04907 62.242523   2.167 ...    52373      2.5859513     1   0.912\n",
       " 2970 189.19429 62.246147   2.004 ...    56686 -0.00065181305     1   0.929\n",
       " 4611 189.26724 62.132046    1.26 ...    56686      0.5605918     2   0.896"
      ]
     },
     "execution_count": 12,
     "metadata": {},
     "output_type": "execute_result"
    }
   ],
   "source": [
    "sel1 = agn['nshots'] >= 5\n",
    "sel2 = agn['zflag' ] != 0\n",
    "sel = sel1 * sel2\n",
    "dtmp = agn[sel]\n",
    "sel = np.argsort(-dtmp['nmem'])\n",
    "dtmp[sel]"
   ]
  },
  {
   "cell_type": "markdown",
   "id": "02dd24ad",
   "metadata": {},
   "source": [
    "### take agnid = 3194 as an example"
   ]
  },
  {
   "cell_type": "code",
   "execution_count": 13,
   "id": "e2220022",
   "metadata": {},
   "outputs": [],
   "source": [
    "agnid = 3194\n",
    "\n",
    "im_arr    = hdul[5].data\n",
    "im_er_arr = hdul[6].data\n",
    "\n",
    "sel = np.where( tab['agnid'] == agnid )\n",
    "shotid_arr  = tab[sel]['shotid']\n",
    "flux_arr    = im_arr[sel]\n",
    "flux_er_arr = im_er_arr[sel]\n",
    "\n",
    "# arrange the repeat observations by time\n",
    "sel = np.argsort( shotid_arr )\n",
    "shotid_arr, flux_arr, flux_er_arr = shotid_arr[sel], flux_arr[sel], flux_er_arr[sel]\n",
    "\n",
    "# prepare the wavelength array for the spectra\n",
    "wave_start = 3470.0\n",
    "wave_step  = 2.0\n",
    "n_elements = hdul[5].header['NAXIS1'] #1036\n",
    "wave_arr = wave_start + wave_step * np.arange( 0, n_elements )\n",
    "\n",
    "# plot all repeat observations\n",
    "fig, ax = plt.subplots( figsize = ( 10., 5.)  )\n",
    "\n",
    "for i in range(np.size(shotid_arr)):\n",
    "    \n",
    "    plt.plot( wave_arr, flux_arr[i], label = '%d' % shotid_arr[i])\n",
    "    #plt.errorbar( wave_arr, flux_arr[i], flux_er_arr[i] , capsize = 1.5, label = '%d' % shotid_arr[i] )\n",
    "\n",
    "# overplot with the catalog spectrum for detectid_best in ext 2&3 as black and compare with ext 5&6\n",
    "im_arr    = hdul[2].data\n",
    "im_er_arr = hdul[3].data\n",
    "sel = agn['agnid'] == agnid\n",
    "flux_arr    = im_arr[sel][0]\n",
    "flux_er_arr = im_er_arr[sel][0]\n",
    "plt.errorbar( wave_arr, flux_arr, flux_er_arr, color = 'k',capsize = 1., \\\n",
    "              label = 'ext2&3 spectrum')\n",
    "    \n",
    "plt.xlim( xl, xh )\n",
    "plt.tick_params( which = 'both', bottom=True, top=True, left=True, right=True )\n",
    "\n",
    "plt.xlabel('$\\mathrm{\\lambda_{obs}\\ (\\AA)}$',fontsize=fontsize)\n",
    "plt.ylabel('$\\mathrm{f_{\\lambda,obs}\\ (10^{-17} ergs/s/cm^2/\\AA)}$',fontsize=fontsize)\n",
    "plt.xticks(fontsize=fontsize)\n",
    "plt.yticks(fontsize=fontsize)\n",
    "plt.legend(fontsize=fontsize)\n",
    "stitle = 'agnid=%d' % (agnid)\n",
    "plt.title( stitle, fontsize=fontsize )\n",
    "plt.show()"
   ]
  }
 ],
 "metadata": {
  "kernelspec": {
   "display_name": "Python 3 (ipykernel)",
   "language": "python",
   "name": "python3"
  },
  "language_info": {
   "codemirror_mode": {
    "name": "ipython",
    "version": 3
   },
   "file_extension": ".py",
   "mimetype": "text/x-python",
   "name": "python",
   "nbconvert_exporter": "python",
   "pygments_lexer": "ipython3",
   "version": "3.9.7"
  },
  "widgets": {
   "application/vnd.jupyter.widget-state+json": {
    "state": {
     "1d39fd615a254c6494c4602fc958fd44": {
      "model_module": "@jupyter-widgets/controls",
      "model_module_version": "2.0.0",
      "model_name": "HTMLModel",
      "state": {
       "layout": "IPY_MODEL_384644d7d11d4a6e8fabaa51fd7715ec",
       "style": "IPY_MODEL_5783a399858643a388d9b5163defec82",
       "value": "X: -2143.50, Y: 5321.50, value: N/A"
      }
     },
     "384644d7d11d4a6e8fabaa51fd7715ec": {
      "model_module": "@jupyter-widgets/base",
      "model_module_version": "2.0.0",
      "model_name": "LayoutModel",
      "state": {}
     },
     "43bcd6851c924c78829cc01ab322eade": {
      "model_module": "@jupyter-widgets/output",
      "model_module_version": "1.0.0",
      "model_name": "OutputModel",
      "state": {
       "layout": "IPY_MODEL_e95f3e71925c4c4cbb08d178ec1749bd"
      }
     },
     "49bfad77c9064261bcffc2d8aef303c6": {
      "model_module": "@jupyter-widgets/controls",
      "model_module_version": "2.0.0",
      "model_name": "VBoxModel",
      "state": {
       "children": [
        "IPY_MODEL_a3f8ce0f99f24892a0591e09d440a109",
        "IPY_MODEL_1d39fd615a254c6494c4602fc958fd44"
       ],
       "layout": "IPY_MODEL_f00e5911eb774426842e5b605fe8cdec"
      }
     },
     "5783a399858643a388d9b5163defec82": {
      "model_module": "@jupyter-widgets/controls",
      "model_module_version": "2.0.0",
      "model_name": "HTMLStyleModel",
      "state": {
       "description_width": "",
       "font_size": null,
       "text_color": null
      }
     },
     "a113c7f3dc17484f86df71eae456c006": {
      "model_module": "@jupyter-widgets/base",
      "model_module_version": "2.0.0",
      "model_name": "LayoutModel",
      "state": {
       "margin": "0"
      }
     },
     "a3f8ce0f99f24892a0591e09d440a109": {
      "buffers": [
       {
        "data": "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",
        "encoding": "base64",
        "path": [
         "value"
        ]
       }
      ],
      "model_module": "@jupyter-widgets/controls",
      "model_module_version": "2.0.0",
      "model_name": "ImageModel",
      "state": {
       "_view_count": 1,
       "format": "jpeg",
       "height": "500",
       "layout": "IPY_MODEL_a113c7f3dc17484f86df71eae456c006",
       "width": "500"
      }
     },
     "d55d8c753ff642f2b18405d3a2b81a31": {
      "model_module": "ipyevents",
      "model_module_version": "2.0.1",
      "model_name": "EventModel",
      "state": {
       "_supported_key_events": [
        "keydown",
        "keyup"
       ],
       "_supported_mouse_events": [
        "click",
        "auxclick",
        "dblclick",
        "mouseenter",
        "mouseleave",
        "mousedown",
        "mouseup",
        "mousemove",
        "wheel",
        "contextmenu",
        "dragstart",
        "drag",
        "dragend",
        "dragenter",
        "dragover",
        "dragleave",
        "drop"
       ],
       "_supported_touch_events": [
        "touchstart",
        "touchend",
        "touchmove",
        "touchcancel"
       ],
       "_view_module": "@jupyter-widgets/controls",
       "prevent_default_action": true,
       "source": "IPY_MODEL_a3f8ce0f99f24892a0591e09d440a109",
       "throttle_or_debounce": "",
       "watched_events": [
        "keydown",
        "keyup",
        "mouseenter",
        "mouseleave",
        "mousedown",
        "mouseup",
        "mousemove",
        "wheel",
        "contextmenu"
       ],
       "xy_coordinate_system": ""
      }
     },
     "e95f3e71925c4c4cbb08d178ec1749bd": {
      "model_module": "@jupyter-widgets/base",
      "model_module_version": "2.0.0",
      "model_name": "LayoutModel",
      "state": {}
     },
     "f00e5911eb774426842e5b605fe8cdec": {
      "model_module": "@jupyter-widgets/base",
      "model_module_version": "2.0.0",
      "model_name": "LayoutModel",
      "state": {
       "width": "500"
      }
     }
    },
    "version_major": 2,
    "version_minor": 0
   }
  }
 },
 "nbformat": 4,
 "nbformat_minor": 5
}
