{
 "cells": [
  {
   "cell_type": "markdown",
   "metadata": {},
   "source": [
    "# Making Data Cubes"
   ]
  },
  {
   "cell_type": "markdown",
   "metadata": {},
   "source": [
    "The CubeWidget provides a visual interface to a Fits datacube using ginga/astrowidgets/ipywidgets. It is developed to function on any FITS cube in which the 1st data axis represents the spectral dim provided the WCS is included. Click on any spatial region to see the spectrum at that pixel. Use the play button to scan through wavelength space or the slider to get a specfic wavelength."
   ]
  },
  {
   "cell_type": "code",
   "execution_count": 1,
   "metadata": {},
   "outputs": [],
   "source": [
    "from astropy import units as u\n",
    "\n",
    "from hetdex_tools.interpolate import make_data_cube\n",
    "from hetdex_api.cube_widget import CubeWidget"
   ]
  },
  {
   "cell_type": "markdown",
   "metadata": {},
   "source": [
    "## Make Your own data cube from a Detectid or SkyCoord object"
   ]
  },
  {
   "cell_type": "code",
   "execution_count": 2,
   "metadata": {},
   "outputs": [],
   "source": [
    "# Here's an example low redshift galaxy at z=0.078."
   ]
  },
  {
   "cell_type": "code",
   "execution_count": 3,
   "metadata": {},
   "outputs": [],
   "source": [
    "hdu = make_data_cube(\n",
    "    detectid=3090045971,\n",
    "    pixscale=0.5*u.arcsec,\n",
    "    imsize=30.*u.arcsec, \n",
    "    dwave=10, \n",
    "    fill_value=0.0,\n",
    "    apply_mask=True,\n",
    "    convolve_image=False)"
   ]
  },
  {
   "cell_type": "code",
   "execution_count": 4,
   "metadata": {},
   "outputs": [
    {
     "data": {
      "application/vnd.jupyter.widget-view+json": {
       "model_id": "85edc9e8b78e4024a834b3f97f23d279",
       "version_major": 2,
       "version_minor": 0
      },
      "text/plain": [
       "HBox(children=(VBox(children=(HBox(children=(IntSlider(value=4540, continuous_update=False, description='wave'…"
      ]
     },
     "metadata": {},
     "output_type": "display_data"
    }
   ],
   "source": [
    "w = CubeWidget(hdu=hdu)"
   ]
  },
  {
   "cell_type": "markdown",
   "metadata": {},
   "source": [
    "To save the datacube:"
   ]
  },
  {
   "cell_type": "code",
   "execution_count": 5,
   "metadata": {},
   "outputs": [],
   "source": [
    "hdu.writeto('data_cube.fits', overwrite=True)"
   ]
  },
  {
   "cell_type": "markdown",
   "metadata": {},
   "source": [
    "## For Data Cube Options:"
   ]
  },
  {
   "cell_type": "code",
   "execution_count": 6,
   "metadata": {},
   "outputs": [
    {
     "name": "stdout",
     "output_type": "stream",
     "text": [
      "Help on function make_data_cube in module hetdex_tools.interpolate:\n",
      "\n",
      "make_data_cube(detectid=None, coords=None, shotid=None, pixscale=None, imsize=None, wave_range=[3470, 5540], dwave=2.0, convolve_image=False, ffsky=False, ffsky_rescor=False, survey='hdr5', fiber_flux_offset=None, interp_kind='linear', apply_mask=False, include_error=False, include_bitmask=False, mask_options=None, fill_value=0.0, extract_class=None)\n",
      "    Function to make a datacube from either a detectid or from a\n",
      "    coordinate/shotid combination.\n",
      "    \n",
      "    Paramaters\n",
      "    ----------\n",
      "    detectid: int\n",
      "        detectid from the continuum or lines catalog. Default is\n",
      "        None. Provide a coords/shotid combo if this isn't given\n",
      "    coords: SkyCoords object\n",
      "        coordinates to define the centre of the data cube\n",
      "    pixscale: astropy angle quantity\n",
      "        plate scale\n",
      "    imsize: astropy angle quantity\n",
      "        spatial length of cube (equal dims is only option)\n",
      "    wave_range: list\n",
      "        start and stop value for the wavelength range in Angstrom\n",
      "    dwave\n",
      "        step in wavelength range in Angstrom\n",
      "    convolve_image: bool\n",
      "         option to convolve image with shotid seeing\n",
      "    ffsky: bool\n",
      "        option to use full frame calibrated fibers. Default False\n",
      "    ffsky_rescor: bool\n",
      "        option to use full frame calibrated fibers. Default is False\n",
      "    fiber_flux_offset: 1036 array\n",
      "        array of values in units of 10**-17 ergs/s/cm2/AA to add\n",
      "        to each fiber spectrum used in the extraction. Defaults\n",
      "        to None\n",
      "    interp_kind: str\n",
      "        Kind of interpolation to pixelated grid from fiber intensity.\n",
      "        Options are 'linear', 'cubic', 'nearest'. Default is linear.\n",
      "    add_mask: bool                                                                                        Apply HETDEX fiber mask model. This will mask all fibers contributing\n",
      "        to the spectral extraction before summation. Masked in place according\n",
      "        to fill_value\n",
      "    fill_value: float, optional\n",
      "        Value used to fill in for requested points outside of coverage or in a mask\n",
      "        region. If not provided, then the default is 0.0.\n",
      "    apply_mask: bool\n",
      "        Apply HETDEX fiber mask model. This will mask all fibers contributing\n",
      "        to the spectral extraction before summation. Masked in place as NaN\n",
      "    mask_options\n",
      "        string or array of strings as options to select to mask. Default None\n",
      "        will select all flags. Set this to 'BITMASK' to return the full bitmask array.\n",
      "        Options are 'MAIN', 'FTF', 'CHI2FIB', 'BADPIX', 'BADAMP', 'LARGEGAL', 'METEOR',\n",
      "        'BADSHOT', 'THROUGHPUT', 'BADFIB', 'SAT'\n",
      "        If BITMASK appears as any element in the list, it overrides all others\n",
      "        and returns the full bitmask array.\n",
      "    include_bitmask\n",
      "        option to include additional bitmask array. This will be added in the 3rd\n",
      "        extension. Mask_options will be forced to bitmask. It will be applied in place\n",
      "        if apply_mask==True, otherwise only the pipeline mask will be applied in place.\n",
      "        If this is set, an error array is automatically applied in 2nd extension.\n",
      "    \n",
      "    Returns\n",
      "    -------\n",
      "    hdu: PrimaryHDU object\n",
      "        the data cube 3D array and associated 3d header\n",
      "        Units are '10^-17 erg cm-2 s-1 per spaxel'\n",
      "    \n",
      "    Examples\n",
      "    --------\n",
      "    \n",
      "    Can either pass in a detectid:\n",
      "    \n",
      "    >>> detectid_obj=2101602788\n",
      "    >>> hdu = make_data_cube( detectid=detectid_obj)\n",
      "    >>> hdu.writeto( str(detectid_obj) + '.fits', overwrite=True)\n",
      "    \n",
      "    or can put in an SkyCoord object:\n",
      "    \n",
      "    >>> star_coords = SkyCoord(9.625181, -0.043587, unit='deg')\n",
      "    >>> hdu = make_data_cube( coords=star_coords[0], shotid=20171016108, dwave=2.0)\n",
      "    >>> hdu.writeto( 'star.fits', overwrite=True)\n",
      "\n"
     ]
    }
   ],
   "source": [
    "help(make_data_cube)"
   ]
  },
  {
   "cell_type": "markdown",
   "metadata": {},
   "source": [
    "## How to find a shotid for any coords:"
   ]
  },
  {
   "cell_type": "code",
   "execution_count": 7,
   "metadata": {},
   "outputs": [],
   "source": [
    "# For other examples see FiberIndex.ipynb notebook"
   ]
  },
  {
   "cell_type": "code",
   "execution_count": 8,
   "metadata": {},
   "outputs": [],
   "source": [
    "import numpy as np\n",
    "from hetdex_api.survey import FiberIndex\n",
    "from astropy.coordinates import SkyCoord"
   ]
  },
  {
   "cell_type": "code",
   "execution_count": 9,
   "metadata": {},
   "outputs": [],
   "source": [
    "FibIndex = FiberIndex()"
   ]
  },
  {
   "cell_type": "code",
   "execution_count": 10,
   "metadata": {},
   "outputs": [],
   "source": [
    "star_coords = SkyCoord(176.32574, 51.514133, unit='deg')"
   ]
  },
  {
   "cell_type": "code",
   "execution_count": 11,
   "metadata": {},
   "outputs": [],
   "source": [
    "fiber_table_region = FibIndex.query_region(star_coords, radius=3.*u.arcsec, shotid=None)"
   ]
  },
  {
   "cell_type": "code",
   "execution_count": 12,
   "metadata": {},
   "outputs": [
    {
     "name": "stdout",
     "output_type": "stream",
     "text": [
      "Fibers within 3 arcsec of <SkyCoord (ICRS): (ra, dec) in deg\n",
      "    (176.32574, 51.514133)> are in:\n",
      "    shotid  \n",
      "-----------\n",
      "20190208022\n"
     ]
    }
   ],
   "source": [
    "print(\"Fibers within 3 arcsec of {} are in:\\n {}\".format(star_coords, np.unique(fiber_table_region['shotid'])))"
   ]
  },
  {
   "cell_type": "code",
   "execution_count": 13,
   "metadata": {},
   "outputs": [],
   "source": [
    "hdu_star = make_data_cube(coords=star_coords, shotid=20190208022, fill_value=0.0) "
   ]
  },
  {
   "cell_type": "code",
   "execution_count": 14,
   "metadata": {},
   "outputs": [
    {
     "data": {
      "application/vnd.jupyter.widget-view+json": {
       "model_id": "c57de031f650443dbf5ec5c7189f3bbc",
       "version_major": 2,
       "version_minor": 0
      },
      "text/plain": [
       "HBox(children=(VBox(children=(HBox(children=(IntSlider(value=4540, continuous_update=False, description='wave'…"
      ]
     },
     "metadata": {},
     "output_type": "display_data"
    }
   ],
   "source": [
    "w = CubeWidget(hdu=hdu_star)"
   ]
  },
  {
   "cell_type": "code",
   "execution_count": null,
   "metadata": {},
   "outputs": [],
   "source": []
  },
  {
   "cell_type": "code",
   "execution_count": null,
   "metadata": {},
   "outputs": [],
   "source": []
  }
 ],
 "metadata": {
  "kernelspec": {
   "display_name": "Python 3 (ipykernel)",
   "language": "python",
   "name": "python3"
  },
  "language_info": {
   "codemirror_mode": {
    "name": "ipython",
    "version": 3
   },
   "file_extension": ".py",
   "mimetype": "text/x-python",
   "name": "python",
   "nbconvert_exporter": "python",
   "pygments_lexer": "ipython3",
   "version": "3.9.7"
  },
  "widgets": {
   "application/vnd.jupyter.widget-state+json": {
    "state": {
     "00f86517ed474b1ebae376c044e9e963": {
      "model_module": "@jupyter-widgets/controls",
      "model_module_version": "2.0.0",
      "model_name": "IntSliderModel",
      "state": {
       "behavior": "drag-tap",
       "continuous_update": false,
       "description": "wave",
       "layout": "IPY_MODEL_cb4d3d7a9f044d3db0569196149a7f0e",
       "max": 5550,
       "min": 3470,
       "step": 10,
       "style": "IPY_MODEL_b42bd5b9d4434631abf9552ccb1b7db8",
       "value": 4500
      }
     },
     "01fc15663e0247dfb4180518b5c2d173": {
      "model_module": "@jupyter-widgets/controls",
      "model_module_version": "2.0.0",
      "model_name": "PlayModel",
      "state": {
       "description": "Scan Cube",
       "layout": "IPY_MODEL_7b9e6bf30fb144cea9a9361faab40b12",
       "max": 5550,
       "min": 3470,
       "step": 10,
       "style": "IPY_MODEL_3abb35c6464c4924a9543d9ba3ec0cb1",
       "value": 4500
      }
     },
     "032c545694164bb68ca4cdab1d00b808": {
      "model_module": "@jupyter-widgets/base",
      "model_module_version": "2.0.0",
      "model_name": "LayoutModel",
      "state": {}
     },
     "06d3b6a8715f400da079d589573c4eab": {
      "model_module": "@jupyter-widgets/base",
      "model_module_version": "2.0.0",
      "model_name": "LayoutModel",
      "state": {}
     },
     "107a67ea8ab049a183b8eb2df79b149e": {
      "model_module": "@jupyter-widgets/base",
      "model_module_version": "2.0.0",
      "model_name": "LayoutModel",
      "state": {
       "margin": "0"
      }
     },
     "1e2f912f3b9943f99c72a8dbfb60259d": {
      "model_module": "@jupyter-widgets/controls",
      "model_module_version": "2.0.0",
      "model_name": "VBoxModel",
      "state": {
       "children": [
        "IPY_MODEL_5884ed7b82df4f6dbf0ea52758de8dd1",
        "IPY_MODEL_ac8802c8621c4d0eae9597ddec4a16e0",
        "IPY_MODEL_af488223c3ba43f3976b70c9a79fb77a"
       ],
       "layout": "IPY_MODEL_54a5327c0ecc4654b6191d11be64b22a"
      }
     },
     "1e31c6b57d354ef9b7a0d225c59939a3": {
      "model_module": "@jupyter-widgets/output",
      "model_module_version": "1.0.0",
      "model_name": "OutputModel",
      "state": {
       "layout": "IPY_MODEL_8ff3641914cf4c5b87c7252cda9d010d",
       "outputs": [
        {
         "ename": "NameError",
         "evalue": "name 'viewer' is not defined",
         "output_type": "error",
         "traceback": [
          "\u001b[0;31m---------------------------------------------------------------------------\u001b[0m",
          "\u001b[0;31mNameError\u001b[0m                                 Traceback (most recent call last)",
          "\u001b[0;32m~/.local/lib/python3.9/site-packages/ipywidgets/widgets/interaction.py\u001b[0m in \u001b[0;36mupdate\u001b[0;34m(self, *args)\u001b[0m\n\u001b[1;32m    238\u001b[0m                     \u001b[0mvalue\u001b[0m \u001b[0;34m=\u001b[0m \u001b[0mwidget\u001b[0m\u001b[0;34m.\u001b[0m\u001b[0mget_interact_value\u001b[0m\u001b[0;34m(\u001b[0m\u001b[0;34m)\u001b[0m\u001b[0;34m\u001b[0m\u001b[0;34m\u001b[0m\u001b[0m\n\u001b[1;32m    239\u001b[0m                     \u001b[0mself\u001b[0m\u001b[0;34m.\u001b[0m\u001b[0mkwargs\u001b[0m\u001b[0;34m[\u001b[0m\u001b[0mwidget\u001b[0m\u001b[0;34m.\u001b[0m\u001b[0m_kwarg\u001b[0m\u001b[0;34m]\u001b[0m \u001b[0;34m=\u001b[0m \u001b[0mvalue\u001b[0m\u001b[0;34m\u001b[0m\u001b[0;34m\u001b[0m\u001b[0m\n\u001b[0;32m--> 240\u001b[0;31m                 \u001b[0mself\u001b[0m\u001b[0;34m.\u001b[0m\u001b[0mresult\u001b[0m \u001b[0;34m=\u001b[0m \u001b[0mself\u001b[0m\u001b[0;34m.\u001b[0m\u001b[0mf\u001b[0m\u001b[0;34m(\u001b[0m\u001b[0;34m**\u001b[0m\u001b[0mself\u001b[0m\u001b[0;34m.\u001b[0m\u001b[0mkwargs\u001b[0m\u001b[0;34m)\u001b[0m\u001b[0;34m\u001b[0m\u001b[0;34m\u001b[0m\u001b[0m\n\u001b[0m\u001b[1;32m    241\u001b[0m                 \u001b[0mshow_inline_matplotlib_plots\u001b[0m\u001b[0;34m(\u001b[0m\u001b[0;34m)\u001b[0m\u001b[0;34m\u001b[0m\u001b[0;34m\u001b[0m\u001b[0m\n\u001b[1;32m    242\u001b[0m                 \u001b[0;32mif\u001b[0m \u001b[0mself\u001b[0m\u001b[0;34m.\u001b[0m\u001b[0mauto_display\u001b[0m \u001b[0;32mand\u001b[0m \u001b[0mself\u001b[0m\u001b[0;34m.\u001b[0m\u001b[0mresult\u001b[0m \u001b[0;32mis\u001b[0m \u001b[0;32mnot\u001b[0m \u001b[0;32mNone\u001b[0m\u001b[0;34m:\u001b[0m\u001b[0;34m\u001b[0m\u001b[0;34m\u001b[0m\u001b[0m\n",
          "\u001b[0;32m~/hetdex_api/hetdex_api/cube_widget.py\u001b[0m in \u001b[0;36mshow_slice\u001b[0;34m(self, wave)\u001b[0m\n\u001b[1;32m    318\u001b[0m         \u001b[0mself\u001b[0m\u001b[0;34m.\u001b[0m\u001b[0mimage_show_slice\u001b[0m\u001b[0;34m(\u001b[0m\u001b[0mn\u001b[0m \u001b[0;34m-\u001b[0m \u001b[0;36m1\u001b[0m\u001b[0;34m)\u001b[0m\u001b[0;34m\u001b[0m\u001b[0;34m\u001b[0m\u001b[0m\n\u001b[1;32m    319\u001b[0m         \u001b[0mself\u001b[0m\u001b[0;34m.\u001b[0m\u001b[0mplot_spec\u001b[0m\u001b[0;34m(\u001b[0m\u001b[0mtrace_freeze\u001b[0m\u001b[0;34m=\u001b[0m\u001b[0;32mTrue\u001b[0m\u001b[0;34m)\u001b[0m\u001b[0;34m\u001b[0m\u001b[0;34m\u001b[0m\u001b[0m\n\u001b[0;32m--> 320\u001b[0;31m         \u001b[0msuper\u001b[0m\u001b[0;34m(\u001b[0m\u001b[0;34m)\u001b[0m\u001b[0;34m.\u001b[0m\u001b[0m_mouse_click_cb\u001b[0m\u001b[0;34m(\u001b[0m\u001b[0mviewer\u001b[0m\u001b[0;34m,\u001b[0m \u001b[0mevent\u001b[0m\u001b[0;34m,\u001b[0m \u001b[0mdata_x\u001b[0m\u001b[0;34m,\u001b[0m \u001b[0mdata_y\u001b[0m\u001b[0;34m)\u001b[0m\u001b[0;34m\u001b[0m\u001b[0;34m\u001b[0m\u001b[0m\n\u001b[0m\u001b[1;32m    321\u001b[0m \u001b[0;34m\u001b[0m\u001b[0m\n\u001b[1;32m    322\u001b[0m \u001b[0;34m\u001b[0m\u001b[0m\n",
          "\u001b[0;31mNameError\u001b[0m: name 'viewer' is not defined"
         ]
        }
       ]
      }
     },
     "240dc4b57208401fb6d2eb9b065e4779": {
      "model_module": "@jupyter-widgets/controls",
      "model_module_version": "2.0.0",
      "model_name": "IntSliderModel",
      "state": {
       "behavior": "drag-tap",
       "continuous_update": false,
       "description": "wave",
       "layout": "IPY_MODEL_a1a86bb38a134322a1b4dde3abb8567c",
       "max": 5542,
       "min": 3470,
       "step": 2,
       "style": "IPY_MODEL_420b783f76984f00ba794d6db2b1b6ed",
       "value": 4500
      }
     },
     "2f737b2d39264fb7af34c9b2b281fa32": {
      "model_module": "@jupyter-widgets/controls",
      "model_module_version": "2.0.0",
      "model_name": "VBoxModel",
      "state": {
       "children": [
        "IPY_MODEL_87fe6937563c4f3098f696e865e3b831",
        "IPY_MODEL_e70da659ccd4469a89d518efe6363987",
        "IPY_MODEL_69c9a191b69c4f0fbb4be45d0bb627be"
       ],
       "layout": "IPY_MODEL_e22ceaf3a0d44628bcbb317530289c41"
      }
     },
     "31f76dc3cbff4d54be361dc0d9fc5de2": {
      "model_module": "@jupyter-widgets/base",
      "model_module_version": "2.0.0",
      "model_name": "LayoutModel",
      "state": {}
     },
     "3460b27e8e8b4b5aa7a91cc27761b9aa": {
      "model_module": "@jupyter-widgets/base",
      "model_module_version": "2.0.0",
      "model_name": "LayoutModel",
      "state": {}
     },
     "381d3edba3c44100bd45965dbfddeba6": {
      "model_module": "@jupyter-widgets/controls",
      "model_module_version": "2.0.0",
      "model_name": "LinkModel",
      "state": {
       "source": [
        "IPY_MODEL_01fc15663e0247dfb4180518b5c2d173",
        "value"
       ],
       "target": [
        "IPY_MODEL_00f86517ed474b1ebae376c044e9e963",
        "value"
       ]
      }
     },
     "38c5ab7c2d9349d6bc745fc269891fe2": {
      "model_module": "@jupyter-widgets/base",
      "model_module_version": "2.0.0",
      "model_name": "LayoutModel",
      "state": {}
     },
     "38f6b566e0914d9e92a8f04bd04df069": {
      "model_module": "@jupyter-widgets/base",
      "model_module_version": "2.0.0",
      "model_name": "LayoutModel",
      "state": {
       "width": "500"
      }
     },
     "3abb35c6464c4924a9543d9ba3ec0cb1": {
      "model_module": "@jupyter-widgets/controls",
      "model_module_version": "2.0.0",
      "model_name": "DescriptionStyleModel",
      "state": {
       "description_width": ""
      }
     },
     "3ae9c1d047ba42759ea17e7bd5d4a7b4": {
      "model_module": "@jupyter-widgets/base",
      "model_module_version": "2.0.0",
      "model_name": "LayoutModel",
      "state": {
       "width": "500"
      }
     },
     "420b783f76984f00ba794d6db2b1b6ed": {
      "model_module": "@jupyter-widgets/controls",
      "model_module_version": "2.0.0",
      "model_name": "SliderStyleModel",
      "state": {
       "description_width": ""
      }
     },
     "42557824a1f9480a80877b28a520853b": {
      "model_module": "@jupyter-widgets/base",
      "model_module_version": "2.0.0",
      "model_name": "LayoutModel",
      "state": {}
     },
     "43582d44794349dca4aab5c2b66dba22": {
      "buffers": [
       {
        "data": "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",
        "encoding": "base64",
        "path": [
         "value"
        ]
       }
      ],
      "model_module": "@jupyter-widgets/controls",
      "model_module_version": "2.0.0",
      "model_name": "ImageModel",
      "state": {
       "_view_count": 1,
       "format": "jpeg",
       "height": "500",
       "layout": "IPY_MODEL_9d41fa955e784c47933a485fc11bea27",
       "width": "500"
      }
     },
     "437b7f24f1f8407f8322ca174c393af8": {
      "model_module": "@jupyter-widgets/controls",
      "model_module_version": "2.0.0",
      "model_name": "DescriptionStyleModel",
      "state": {
       "description_width": ""
      }
     },
     "4878aef1d8074be4b5a9f6b2a04cf1d5": {
      "model_module": "@jupyter-widgets/base",
      "model_module_version": "2.0.0",
      "model_name": "LayoutModel",
      "state": {}
     },
     "4ae79595d0f447e3a0b0cf120cf68561": {
      "model_module": "@jupyter-widgets/base",
      "model_module_version": "2.0.0",
      "model_name": "LayoutModel",
      "state": {}
     },
     "519fa1823c1b41e48553d2b1a84c693b": {
      "model_module": "@jupyter-widgets/controls",
      "model_module_version": "2.0.0",
      "model_name": "VBoxModel",
      "state": {
       "children": [
        "IPY_MODEL_93973f0711d549a483233e19d7543583",
        "IPY_MODEL_590be33f38a744f5a418ae017d6b3e0e"
       ],
       "layout": "IPY_MODEL_38f6b566e0914d9e92a8f04bd04df069"
      }
     },
     "52e7a3103fe4434db026f95909fbe38a": {
      "model_module": "@jupyter-widgets/base",
      "model_module_version": "2.0.0",
      "model_name": "LayoutModel",
      "state": {}
     },
     "53c45ddbdd8140789a56962fbe9e64fa": {
      "model_module": "@jupyter-widgets/base",
      "model_module_version": "2.0.0",
      "model_name": "LayoutModel",
      "state": {}
     },
     "54a5327c0ecc4654b6191d11be64b22a": {
      "model_module": "@jupyter-widgets/base",
      "model_module_version": "2.0.0",
      "model_name": "LayoutModel",
      "state": {}
     },
     "55a47c90223443e7afcd80eeebd7d8ec": {
      "model_module": "ipyevents",
      "model_module_version": "2.0.1",
      "model_name": "EventModel",
      "state": {
       "_supported_key_events": [
        "keydown",
        "keyup"
       ],
       "_supported_mouse_events": [
        "click",
        "auxclick",
        "dblclick",
        "mouseenter",
        "mouseleave",
        "mousedown",
        "mouseup",
        "mousemove",
        "wheel",
        "contextmenu",
        "dragstart",
        "drag",
        "dragend",
        "dragenter",
        "dragover",
        "dragleave",
        "drop"
       ],
       "_supported_touch_events": [
        "touchstart",
        "touchend",
        "touchmove",
        "touchcancel"
       ],
       "_view_module": "@jupyter-widgets/controls",
       "prevent_default_action": true,
       "source": "IPY_MODEL_93973f0711d549a483233e19d7543583",
       "throttle_or_debounce": "",
       "watched_events": [
        "keydown",
        "keyup",
        "mouseenter",
        "mouseleave",
        "mousedown",
        "mouseup",
        "mousemove",
        "wheel",
        "contextmenu"
       ],
       "xy_coordinate_system": ""
      }
     },
     "5884ed7b82df4f6dbf0ea52758de8dd1": {
      "model_module": "jupyterlab-plotly",
      "model_module_version": "^5.20.0",
      "model_name": "FigureModel",
      "state": {
       "_config": {
        "editSelection": false,
        "plotlyServerURL": "https://plot.ly"
       },
       "_js2py_pointsCallback": {},
       "_js2py_restyle": {},
       "_js2py_update": {},
       "_last_layout_edit_id": 2,
       "_last_trace_edit_id": 1,
       "_layout": {
        "autosize": true,
        "template": {
         "data": {
          "scatter": [
           {
            "type": "scatter"
           }
          ]
         }
        }
       },
       "_py2js_addTraces": {},
       "_py2js_animate": {},
       "_py2js_deleteTraces": {},
       "_py2js_moveTraces": {},
       "_py2js_removeLayoutProps": {},
       "_py2js_removeTraceProps": {},
       "_py2js_restyle": {},
       "_view_count": 1
      }
     },
     "590be33f38a744f5a418ae017d6b3e0e": {
      "model_module": "@jupyter-widgets/controls",
      "model_module_version": "2.0.0",
      "model_name": "HTMLModel",
      "state": {
       "layout": "IPY_MODEL_e5de0798789c403da1e0f874aa64ce56",
       "style": "IPY_MODEL_ad48c62b3ac449ca920f919fc705b997",
       "value": "X: 19.42, Y: 17.74 (RA: 11:45:16.820, DEC: +51:30:57.00), value:    0.001"
      }
     },
     "5b3f6eed022841e893634e05bc95f82b": {
      "model_module": "@jupyter-widgets/output",
      "model_module_version": "1.0.0",
      "model_name": "OutputModel",
      "state": {
       "layout": "IPY_MODEL_eedc31f028224b1b8537ac1006a63008"
      }
     },
     "5e2876c459b445fda48fa38f870d55a8": {
      "model_module": "@jupyter-widgets/controls",
      "model_module_version": "2.0.0",
      "model_name": "HTMLModel",
      "state": {
       "layout": "IPY_MODEL_e3ba59dcb22340f08ed8e3c791a5de79",
       "style": "IPY_MODEL_8b7b6ae14b5c4f9aa99e976721aa039e",
       "value": "X: 53.62, Y: 14.02 (RA: 02:04:22.114, DEC: -00:10:55.00), value:    0.047"
      }
     },
     "63e5b3caf1bf446e953155deaa619dcb": {
      "model_module": "@jupyter-widgets/base",
      "model_module_version": "2.0.0",
      "model_name": "LayoutModel",
      "state": {}
     },
     "688f1dd11ebe4bd9b36e14610f3a3308": {
      "model_module": "@jupyter-widgets/base",
      "model_module_version": "2.0.0",
      "model_name": "LayoutModel",
      "state": {}
     },
     "69c9a191b69c4f0fbb4be45d0bb627be": {
      "model_module": "@jupyter-widgets/controls",
      "model_module_version": "2.0.0",
      "model_name": "CheckboxModel",
      "state": {
       "description": "Display Single Spectrum",
       "disabled": false,
       "layout": "IPY_MODEL_032c545694164bb68ca4cdab1d00b808",
       "style": "IPY_MODEL_7e6b1829f7f04f2d9840b8dc289354de",
       "tooltip": "Click to plot one line at a time",
       "value": false
      }
     },
     "6f288da7f41c41c28d2705eebb595fe6": {
      "model_module": "@jupyter-widgets/controls",
      "model_module_version": "2.0.0",
      "model_name": "HBoxModel",
      "state": {
       "children": [
        "IPY_MODEL_00f86517ed474b1ebae376c044e9e963",
        "IPY_MODEL_01fc15663e0247dfb4180518b5c2d173"
       ],
       "layout": "IPY_MODEL_63e5b3caf1bf446e953155deaa619dcb"
      }
     },
     "6fba48bfc0ae45ce9a4375bc50014a40": {
      "model_module": "@jupyter-widgets/base",
      "model_module_version": "2.0.0",
      "model_name": "LayoutModel",
      "state": {}
     },
     "70c2da112cf94802a062f278bd1d0818": {
      "model_module": "@jupyter-widgets/controls",
      "model_module_version": "2.0.0",
      "model_name": "VBoxModel",
      "state": {
       "children": [
        "IPY_MODEL_43582d44794349dca4aab5c2b66dba22",
        "IPY_MODEL_5e2876c459b445fda48fa38f870d55a8"
       ],
       "layout": "IPY_MODEL_3ae9c1d047ba42759ea17e7bd5d4a7b4"
      }
     },
     "75fd47106d1747f18b8a6e68e851f7af": {
      "model_module": "@jupyter-widgets/controls",
      "model_module_version": "2.0.0",
      "model_name": "ButtonStyleModel",
      "state": {
       "font_family": null,
       "font_size": null,
       "font_style": null,
       "font_variant": null,
       "font_weight": null,
       "text_color": null,
       "text_decoration": null
      }
     },
     "7b9e6bf30fb144cea9a9361faab40b12": {
      "model_module": "@jupyter-widgets/base",
      "model_module_version": "2.0.0",
      "model_name": "LayoutModel",
      "state": {}
     },
     "7e6b1829f7f04f2d9840b8dc289354de": {
      "model_module": "@jupyter-widgets/controls",
      "model_module_version": "2.0.0",
      "model_name": "CheckboxStyleModel",
      "state": {
       "description_width": ""
      }
     },
     "8228bb2d10f8469bbaf23cae61940e6d": {
      "model_module": "@jupyter-widgets/controls",
      "model_module_version": "2.0.0",
      "model_name": "ButtonModel",
      "state": {
       "button_style": "success",
       "description": "Scan Cube",
       "layout": "IPY_MODEL_06d3b6a8715f400da079d589573c4eab",
       "style": "IPY_MODEL_eb75dec883a7422e9fcf20f0ff4318f5",
       "tooltip": "Click this to scan in wavelength dimension"
      }
     },
     "85edc9e8b78e4024a834b3f97f23d279": {
      "model_module": "@jupyter-widgets/controls",
      "model_module_version": "2.0.0",
      "model_name": "HBoxModel",
      "state": {
       "children": [
        "IPY_MODEL_f3b20e091901413dae5e3ed4ba93a5e8",
        "IPY_MODEL_1e2f912f3b9943f99c72a8dbfb60259d"
       ],
       "layout": "IPY_MODEL_9940a376288c4555aa4cb2d492ac1651"
      }
     },
     "87fe6937563c4f3098f696e865e3b831": {
      "model_module": "jupyterlab-plotly",
      "model_module_version": "^5.20.0",
      "model_name": "FigureModel",
      "state": {
       "_config": {
        "editSelection": false,
        "plotlyServerURL": "https://plot.ly"
       },
       "_js2py_pointsCallback": {},
       "_js2py_restyle": {},
       "_js2py_update": {},
       "_last_layout_edit_id": 2,
       "_last_trace_edit_id": 1,
       "_layout": {
        "autosize": true,
        "template": {
         "data": {
          "scatter": [
           {
            "type": "scatter"
           }
          ]
         }
        }
       },
       "_py2js_addTraces": {},
       "_py2js_animate": {},
       "_py2js_deleteTraces": {},
       "_py2js_moveTraces": {},
       "_py2js_removeLayoutProps": {},
       "_py2js_removeTraceProps": {},
       "_py2js_restyle": {},
       "_view_count": 1
      }
     },
     "8b7b6ae14b5c4f9aa99e976721aa039e": {
      "model_module": "@jupyter-widgets/controls",
      "model_module_version": "2.0.0",
      "model_name": "HTMLStyleModel",
      "state": {
       "description_width": "",
       "font_size": null,
       "text_color": null
      }
     },
     "8ff3641914cf4c5b87c7252cda9d010d": {
      "model_module": "@jupyter-widgets/base",
      "model_module_version": "2.0.0",
      "model_name": "LayoutModel",
      "state": {}
     },
     "9312f20764ad407e8f8e7c95c0a6e4af": {
      "model_module": "@jupyter-widgets/controls",
      "model_module_version": "2.0.0",
      "model_name": "PlayModel",
      "state": {
       "description": "Scan Cube",
       "layout": "IPY_MODEL_3460b27e8e8b4b5aa7a91cc27761b9aa",
       "max": 5542,
       "min": 3470,
       "step": 2,
       "style": "IPY_MODEL_437b7f24f1f8407f8322ca174c393af8",
       "value": 4500
      }
     },
     "93973f0711d549a483233e19d7543583": {
      "buffers": [
       {
        "data": "/9j/4AAQSkZJRgABAQAAAQABAAD/2wBDAAMCAgMCAgMDAwMEAwMEBQgFBQQEBQoHBwYIDAoMDAsKCwsNDhIQDQ4RDgsLEBYQERMUFRUVDA8XGBYUGBIUFRT/2wBDAQMEBAUEBQkFBQkUDQsNFBQUFBQUFBQUFBQUFBQUFBQUFBQUFBQUFBQUFBQUFBQUFBQUFBQUFBQUFBQUFBQUFBT/wAARCAH0AfQDASIAAhEBAxEB/8QAHwAAAQUBAQEBAQEAAAAAAAAAAAECAwQFBgcICQoL/8QAtRAAAgEDAwIEAwUFBAQAAAF9AQIDAAQRBRIhMUEGE1FhByJxFDKBkaEII0KxwRVS0fAkM2JyggkKFhcYGRolJicoKSo0NTY3ODk6Q0RFRkdISUpTVFVWV1hZWmNkZWZnaGlqc3R1dnd4eXqDhIWGh4iJipKTlJWWl5iZmqKjpKWmp6ipqrKztLW2t7i5usLDxMXGx8jJytLT1NXW19jZ2uHi4+Tl5ufo6erx8vP09fb3+Pn6/8QAHwEAAwEBAQEBAQEBAQAAAAAAAAECAwQFBgcICQoL/8QAtREAAgECBAQDBAcFBAQAAQJ3AAECAxEEBSExBhJBUQdhcRMiMoEIFEKRobHBCSMzUvAVYnLRChYkNOEl8RcYGRomJygpKjU2Nzg5OkNERUZHSElKU1RVVldYWVpjZGVmZ2hpanN0dXZ3eHl6goOEhYaHiImKkpOUlZaXmJmaoqOkpaanqKmqsrO0tba3uLm6wsPExcbHyMnK0tPU1dbX2Nna4uPk5ebn6Onq8vP09fb3+Pn6/9oADAMBAAIRAxEAPwD5MqIffapaiH32oAnj6/hUw6VDH1/CphzigBrc0wjtUpHamkdqAIGXrUL/ANKssvWoJB/KgCAtxTd1KwyacsfHWgBAM1IEz3pyJjPNTBM96AK5THek21ZKY70xxgUAQ7acF4pwGacBigBm2pI14FKBmpY14FACxryKnReR9aagxg07zMcYoAnXineZ7VV8z2pvm+360AWzLntVeT5sVE0ntURlx2oARxnFOQYNML57U9W5oAmWnFuKiBpxPFAATTC3NITnNNJ7UAPBzT1TODmkhGcVZRM45oAaE+Q81XkX+VaPl/Kearyp157UAZ7daYtWHXmoVWgCRBnNWEGc1EgzmrCDOaAIn/rUJbk1YkH86ryD+dADC3NODcVF0Jpy80ASrzQ3FID2oJ7UAG6jdTCaTbnmgB+/nGKeBmmKtSoMZoAcBinAYpwGacBmgBAMUtOJxUEj+3egBWO2oTJyeKZJJx071XMnJ4oAsls9qY7dag8z2pQ+TjFACs3WmY3e1SquSKlEXvQBV8vAPNMaPnrWgI+DzUbxZPWgCiTinLUzR+9QbdtAE+6iod1FAFyoh99qlqIffagCePr+FWU7VXiHP4VaQdKAEI70xhmpiKjbvQBCy9aiZanJFNYA9qAKpXmnLHx1qUpz0FOWPjtQAirUu3bQAB2pGNAEbNVeVuv1p8jYxyarSSfXrQA5G+Y1MrVTD896njbOPpQBaXkU7dgVEjcAU13xnk0ATGTHammTPaq7SYHU00y8dTQBYaTnpTTJx0quJC3c1IoJ70AO8z2pN1DLUZyKAJN1PVuarhs1IrZNAFlWpx6VHH1/CpD0FADCaaTilbvTCaALMHO2r0PRfrWfAfu1ehPC/WgC6q/IarzLz+FWE+4ailGfyoAz5V+YfSoFWrkq/MOnSoFX6UACrVgDFMUAdRTwc0ARSN/OqkrdfrVmU9frVSVuv1oAi3fMacvNRE/MaemTigCZTingbqbGOlTxpyOlAEYj561IsfHWpRHnsKkEfsKAIVj4605Y/epxHjsKNuOwoAj+7SM1KwxioC3uaAFL47VDI386Vm471XkYnPJ60ARyt1+tVy3JqRgSTzTNmT2oAVBnBqZOMVGq4xUyDpQBLH0FWY1/nUCDpVhDgUATBdwPNRumD1pwfjvSFx3oAqyL0qvtq8wDY4FVmT6UARbaKk2/SigB1RD77VLUakbzxQBahHT6VZUjAqpG3P4VOp6UASMcConbrSluaYxzmgBp5NFFOAoAaBmjpUgGBTWXmgBm760jN9aRgaYcmgCGRulVpPmzj1qzsJ9KRovYUAVFUg81PGcflTvK+lKIj7UASI2QKbIetKqkCgoSaAIGyc0zaSRzVgx/SgR+woAYq1Mg4oWP6VKsf0oAjZaiZatlM+lNMOfSgCnsPrUiqQan8n6U7yvpQA1O30qUj5RQsePSnEcUAQsvWomGDVhl61GRQA+DjbV6FuF+tU4V+6KuRL9360AXUPyGopDnP0p68IaikPX6UAQueeagBp7nmod1AE26gGowacDQBFK3X61Ulbr9asSt1+tU5jjP1oAjBy5qxEucVURsuatQN92gC1GvI6VYjXkdKjhGcVYHy0APVaeMDtUXmD3pN/uaAJjTWpgf60u6gBsnaq79qsuM4qu4zigCs2QOtRlc1K/SmAZoAjKfSk2fSp8Ck289qAI1TPpT1XHpTuBTSaAHbsUok9zUZNNzQBZEmO5o8z61W3+5oDE9zQBYMn1pQM1EtSA0AP2ewoozRQBDUG7DtzU9VpeCfrQBZjcevarAfgc1nRy4PXtVpZOBzQBMWphfnrTTJx1qNn560ATBuRzUq4NVFfkc1Oj8jnvQBY257UjJz0pyMMdaXINAFdk9qj24qywFRFc0AReWPSl8rPb9al2e1OC0AV/JH939aQoF7VZIxUD9T9aAIj1pQM0h605O1AC+XntSiL2qRFzinmMgE46UARBAvUUhYCh3x1PaoXk560ATo4OcmpggPQVTjfrzVqN+vNAD/K9qXysdR+tSgg1E8hx1oAa5VRUXmcnnimySdcnvUPmcnmgCzkEe9MK1GsnI5p4fI60ATQgDB7VaR1AHNURLt78U4Tf7X6UAaHncdePpUbyjnntVXz+PvfpTGm9W/SgCV3yetQg+tMM2T1/Sk3570ATbs07diogfSnZFAEUzfzqlM/HXvVqY9frVKXnP1oAjjf5zzVqF+V5qkoIYmrET4xzQBqQSfd5qYye9UYZPu881N5nvQBP5nvSeYfWod/vzSgk0ATK+e9PDnuagUkU8NmgCZn96hYinE+tRMRQBGwyKYODTnbAqF5Md6AHlwO9MMvPWoWl96j83nrQBbEmR1pSaqrLz1qRZMnrQBITTSaMmkJxQAZpy9KjzTlJxQBMD6VItQrUyjOaAJKKds9qKAK9QSgc/Wp6ikH86AKpO0mp1l+Uc9qgkGM/WkWTGOlAFjzfekMme9QGQk9qcpJxmgCZX6c1Oknv3qsBinKxB6UAXUl96lEme9U0kx6U8SfSgCzvB70YBqJSanVfrQAYNKBilxRigBjioHH86sMMioH/rQBCRzUkUZJHHFMP36tWyg7c+9AEkUPTj9amMPyN8vb1qWGMcYyanMPyNwelAGNPD147etUZFZT+FbNxD169KzbiPB6HpQBXjfrzVuN+vNVFTHTNToTzQBdV/eoXfjrSo+c9Khkc7eKAIZJOTz3qHfljzT3BbPHembMHvQBIr9OakVunNVxkHpUit0oAlZqYXI70hbmkPNADhKcdaaZfU0bMKetRPkHpQBJ5g9aVZB61X349KVX9xQBcEnoaeGzVVHJzVhaAGSKWz6ZqB4varZGajZPrQBTMXJ4p6xY7VKI+T1pwT60ANjDLipQWNMPHSnxnOKAHquSM+tTqnHSmIBkfWrCrxQBGV9qTBFSleKYRigBrNjFRM/vT2OcVXZqAEd+OtV5H4696e7cdqgkbP50ARyPjv3qPec9acVLHoaPK+tADo2yRViPqKgRMY4NTxjkUASUjdaWmsaAEJ5py9KZnJp69KAJVqePvUC1PH3oAsUUZooAqVHIOPxqSkccUAU5F/nUBU5PBqy65J+tOWDOODQBWUHjg1Mg6VL5HsaURY9aAGgUuKdjFFADR1qVBkUzGTUiDigCwg61YUVFGvWrKgUANxSU4tio2b6UAIxqu/U/Wns30qJm+lADD9+rVt0X8aqZy1WrdsbaANW1/h/GrmAUaqFs3C9O9Ww+EPSgCtcp169Ky7iPOevStSZ856dKpTAHP0oAz1j+tO8vHrUu3FNZvpQA3helNK8UjN9KXd9KAGFPrTCvPep+CKaVA5oAhKfWmEBakZsZ6VBI/J6UASoA2KlWPgdaghfGOlWo2BA5FACbOD1qCVfr0q8VyDUMkXPfpQBnPHz3pig+hq48XPemLF9aABO9Wo+9RLF9alTjOeKAHEU2n0mOaAGMMUwmpmGRULjrQBGxp8R6VE3GadGelAFyI9PrVpCAp5qhG/061YR8jtQBMTmmNSF/pTS+fSgBjVWk7VYfnGOaiaPOODQBWZcimeV7GrRjx2NHlexoArCH604RZPerIj+tKIwD3oAr+Vj1pQm0d6nYAd6jc9aAGHpTD0pxNMJoASnp0qM8kVLHHlehoAlWrABXsabFDnPWrXlfWgCDefaineV9aKAIKV/uikp5X5RQBXCbmPNWEj4HPapYos9+1ThcYoAqmPPemOmMjNW5OhqvJ0NAEBFMIxTz1pKAGjrUydKixgipEOBQBaQ4zVjdVSNutTA5oAVmqJmpWqF2/nQAM1RH5jTuppwT3oAYF5qeEYxTQvNTxL0oAtW7YKjFWt3ymq0QxipQeKAI5G/lVeQfyqy/8ASoGWgCrJ2qBzjFW5F6VVkXpQBAzUu6o2+WnqvNAEinNOf7ooT+lD9KAKkjfe+tQO3Wp5Rwx96qS85oAnibpVqJvu/WqEPBAq7D0X60AXkbihhupiNxTt1AETx89aYsfvVkHNNb5aAGbdtNJzSM1MJxQBKDTttQg1IrUAKy8VE/GamJzUb85oArSDqaavFSPxmmgd6AHxv7d6nR8DpVcCnjpQBMXz2pC+O1Ql/aml8dqALKye1Sbd1U1k9qnR8Z4oAkaPjrQE96erc02R+OnegBp+T3qNpOvFRyydeO9VzJyeKALBbNRv3qLzPagPntQApNJjPFSJHuwc4qwkXI57+lAFdIuRz39Ksxx4Xr3qdIuRz39KspFx1/SgCOKPrzVry/epI4uvP6VI42470AUfL96KfRQBmVYjXAB9qr1YxmNaAJN2B0pC+e1QlgKYWFAExftimMc1GXBFJ1oAU9aY1OPSmHpQA0nNOQ4FMzzT16UATrU26oY161OEIoAiJzUbU9hjFRNQAq9amU8Cq6HBqdKAJkXIFSL8nvio0+6KZIcEmgCwZc9qTzPaqZcZ70eYPegC+svt+tKx3VSWUH1qaM8UALKMYqnI3SrUvaqMrdKAKsjdKkQ5NV3OcVIjc0AXIz/KnOvyioouT+FWB0FAFSRODzUDx9ea0HUkGoXQ89KAKqR9OanjTAHNPRDx0qZVIUUACHin0gGKcvSgBQMUjU4DNJJ2oArNUDNVlxnFVmWgBRJjtSiXPaq70wuAaALnme1Hme1Ut496csgPHNAFljupAO1RpywqUDvQA5Rin44NItOxgGgCF/6VC3y1YcZ/KoWWgBiye1To+M8VXZD7UA4oAvI+T0pkj+3eolcZ702Rxjv1oAZLJ1471WMnJ4qRhv6UCFvUUANT5sVPGvIpqIQR0qeNeRQBNEOFHvV2Ben1qtEv3frV2I7cZ9aALEcWcc96sKm0dagWQEjrUyuMd6AH02U5xTgc02TtQBUooooAzKtR4Kge1VasRngfSgAlTjPHWqrKcnnitAjcoFQPHjPAoAqDrUg6U4x9+KTbQAh6Uw9KeR2o2H2oAhxkipUXilVPpUyR8dqAHxr16VY2/Smxx9elWAvsKAKbx9OlVpF/nV2TAxVSY4z9aAI0HNWIx/Kq6feNWou30oAkQcCmSjrUyDgVHMOtAFKXjNRbjuHJqabjNQfxCgCxF2+tWo+n41Uj6fjVmM8fjQAsrdKz5W6VflGcVUePOOlAGc46VInWpGi+lPSPB6CgCWEdPpVjHAqKNCPyqcDgUANppWnkUlADQtOoApwFADQM08CkApwGKAFprU6kagCBx0qu46VZaomFAFSQfzqB1z09avGEt0xT1siey0AZflsOc09FIIrUay+UcJ+VQyWZBP3aAIIx0NTryKZ5RTrjinrxigByjFSCo91AbnvQA8pn0phjz2FSBxSjBoArGP6Uwx47CrZj+lMK+woArbSKVYyx7fjUrLx2p0a89ulAEYt/ZakFvnHC1ajjBxwOlTCHocCgCiLfHZaUQ7eeKuOoXPAqCTvigBgO2pFl+tQE0mSO9AF5Zfc1Mk3HU1mLKQepqdZcjvQBppL161IzbsVQWX61N5v1oANtFReb9aKAKFTxnGPpUFSof5UAWo/6UjJnPFJGf5VL2oArsnHQUxl4PHNWGA5qFx1oAiC89KcF56Ud6kUZoAQJz0FSonHQUACnBsdKAJUGM5pWb3qHzfekMue9ACSkHGKqTdPxqV5cY5qvI+e/egATrVmNgPyqkHwTzUgm9/0oAuiQDvTZJFIPNVhLx1/SmvL15oAWY5zUH8QpWkzkZpoPIoAsRn+dWIzj86qof51MjZoAsZBqFk9hTt2KTdmgCu0fsKcsfPQVIQDRnFAAq47U6kzS5FABSEUuRSZFAABS5ppbHemF+etAEhbkc04NxVcvkjmnh/egCfOaRqarZFOkBGKAIWOMVCxFPZs4qJiKAL9sisB8oPy+lXY7UkDCDp7VRsz0/wB2tm1IIGf7tAELWh2j92P0qvLbEZyg/Sttli8tcdfxqjdqMPjpxQBh3UYUNhQDx2qmQRWheD7/AK8VRcHmgCPdjvQG560jA0zODg0AThsnrUqd6hiXP51ZjTrxQA/b7VGy+1WCPSmFc0AViKkjXnp2oZcDpSocUAWY8D8qlyNtV1f3p5fjrQAshyDVaQ9akkfg81Xds55oAaTzTTz0pwGakWL2oAjVD6UuCKsLGMdKQxZPSgBofHc1N5nuag2Y7UmWoAf5nuaKjwaKAEpyHmm0KfmNAFqM/wAqf5nbNQhsAYNNL+9AE5k96aTmod59aepJxQAuBmnjFJt46UgyKAJMikJ9KTNITQAm7FNL470mc01qAI2YnFRMTTmJqJiaAEJo3EU3NJzQBIJO2aQsSetCrkZxzS7fY0AAH504CgD86cBQA5QalQ4piingUAO3ZozmkIpORQA+img0tAC0UUUAFFFFADH71Ex61K3eoypJ6GgBgbkVNGhYjjvTUiywyp61dhiH909aAFigyv3e/rUksJ4+X9asRRfKflPWpZ4vu4U0AYcsRGMCqj5GM1rSx9ODWdOgG3igCe1mC45/h9K07e5xj5u3pWErMvSrUM5GMsBxQBvm6+Rfm/Sq01zkEFv0qobg7F+cfpVeWcnPzCgB9y6sGweeKpv3qQuW6nNRSHrQBE5x+VQk5YVK5qEn5hQBZhPT61cj71ShPT61ciOc0AWNuKiY4xipiagagCJzxzTQfShjkUg60ASBj607f71EDTs8UADtyeeKjY05jUZNADkJ4qzHz19arJ2qxGQO/egCwqAjpQUwelIj+4p+4HuKAIGAqHGKsOOmKhxmgBtFOwKKAIqQNhjS1CxO4/WgCYv9KbuJPSmqM1Iq9OtAD413YqxGmMdaZEvTrVqNOB1oAbs+tMZMetWtvy96jZaAKxXFNqVlpm2gBhFMapKQigCswzioXH86ssv1qJl+tAEITJ71IsX1pyJk96njT69KAI0i6dacY8etWFjHHWhlAzzQBV8vnPNGBmpJGwCKh3fMKAJVFSAUxWqVaAEIppFSEUhGaAIsU4DFLigCgBV60pGaUCniNm4Ck/QUAREUCNm6KT9BVyKxZyoKPz6CtK10vhflk79v/rUAYfkN3Vh+FKIfY1vy6Z1+WT8v/rVVewKk4WTj2oAzo4ORw3WrsUHI4brUiWxBGVYc+lWUjA9etABFCAvfrTpk6dakBpsvagDKnTG3rWVOv3etbM/8NZc6/doAq7frRtxUu2mkZoATzCRjHApCcmlIxTcc5oAXOKY/OafTWBPagCCQ/wAqiwdw4NWfK3dQaUQ+xoAZF1H1q5GcZqJIMdj1qZVIzwaALDVA/apzk1CyfWgCBs44pmTVjyvrTGj+tADAcUu6msuKTPGKAFLd6YSTS4zSheO9ADVYjHFSLL9KQrx3qMjFAFtZfpT/ADfpVESEelPEufSgC35v0phb3FV/N+lHm/SgCbzPpRVfzfpRQBNUGfnap6gc4Y/WgCdB/KpVXpVeJ+enarSN0oAmiXpU6HaRVYPjtThJx0oAtFyaYw4NQ+Z7UeZ7UADUynF89qazc0AI1M3UjNUe6gB5GaYVBpVanA5oAYqAGp1UAA0wHFLuoAlzio5D1NJuqKRuTQAyQ5JqLOCKWR+oxUYOWFAFiM/zqwhz+dVU6j61aj6fjQBJSbaWigBlKBmnhN3fFWYrb5j83b0oAgjjDHBz0rSs7ZSRyfu1JBbdPm7elatlbcj5v4fSgBbWyjJTlunr7Vq21jGAvLd+9WLK2+eP5u3p7V0ek6f9plij8zbuzztz60AcxNYxnPLfnVVtPjLEbm59xXocugbJSPPzj/Y/+vUkehcD9/8A+Of/AF6APNZNHh8tjukyAe4/wrJuYVgcKpJBGea9kl0L9xJ+/wD4T/B7fWub1PQvvfv/AOA/wfX3oA88XpTZzjbW7e6LiUfvv4f7v/16xLiLZt5zQBmS9qz5BnFaUoxiqEozigCuRSEYqQimkYoAiIpDzUm2jbQBFtp6qDinbakjXkUAMEY96esYPrUyrUoXigCuIx707YB61KxxUbNQAgOaAgNMBzUgOKAGlQajZB71a+9UcnT8aAKboB+dQ4+arUg/nVc9TQAoXinBeKRO1SrzQAwrxUTLVorxUTLQBVZaiY7TgVaZagdeaAI959qN59qZIvSoicUATbz7UVFRQBq1Xk6n61YqJ+p+tAEaHBqwjdKqtTlbpQBb3UofHaq26noN2KAJvM9qUP7VHs96T7tAE4fPakZuajVuKRm5oAUnNMZqaTmjbQA/dTgaiBxTgaAJCeKN1NJ4pPvUAOLcVGxzTxHnvSOmMjNAELc0ijkVIRikHUUAPRf51YjP86iReR9asIvI+tADqeIs96kjXrVmOPrzQBFFFnPNalvHlzz2qGOLrz+ladvHlzz2oAmt7fOPm7elbOnWfmPjfj5PT6U7TNM+0bR5m35M/dz6e9e3fCHw352p4+0bf9Bz9z/aT3oA57wh8Pf7RutPP9oeX5se7/U5x8hP96voz4a/CP8Ac6cP7V/56f8ALt7t/t17B8P/AIb/AC6NP/aP3rdW2+R6x/71ey6Tp39l2MVv5nm7M/NtxnJJ6fjQB8peL/hJj7X/AMTX+5/y7f7v+3XnGpfD77BLMPt/meWN3+pxnjP96vv24h+0QtHnbnvjPeud1LwX/aDTH7Z5fmLt/wBVnHGPWgD4Ll0P9y/7/wDhP8H/ANeuY1jRtgf99n92f4fr7194618G/tWm3a/2vt3QOufs2ex/26+d/iN8Mf8AhF7lof7S+0/6IZs+Rs7sMfePpQB8w6lpf79f3v8AD/d9z71xWoaX/q/3vr/D9PevcdT0rNwv73+H+77n3ri9R0rPl/vfX+H6e9AHi15YeXs/eZzntWFL2r1PU9M2eX+8z1/h+nvXn+sx7fJ59f6UAY5GaNtS7aNtAEW2jbUu2gjFAEW2noMYoPFKvNAEi9KcOhpgNPHQ0AMaomqVqicZxQBHUi03bS0ATA4prnihetNagCGTn86hPU1LIf51AW5NAEi8Uu6ot1G6gCXdRuqLdSg0AOYZqF15qYHNNcZNAFORelV9tXGWodtADNtFS7aKALlRMMk/WpaY1AEDCm85qRqYo+agCSJc4zzVqJOnAqOBc7elXYY844FADPLyOgqKSPnt0q/5Xy9qgkTGenSgCkVI70zB9ankXmmhc0AM2/Sl208CnbfpQBDt+lBGKkOBUTtyfrQA9VJqVYvpUULc/hV2HBxx2oAakXyjgU14c54FXUiyBgCmyRYz0oAzXixnpTAmGHSrkqdeBUO35h0oAdGmcdOtWY4/p1pkS9OnWrcSZHbrQAsadeBVuOPOeBTI068CrCjGaAJ4Yd+7GOK7DTPDrtcNuEJG3v8AUe1crafx/hXq3hyNHvnDKGHlnqPcUAaGheGPufu7f/VDt9Pave/g14Y/4mp/d2//AB4+n+0ntXKeGNES4SLEUPMAPK/T2r6H+CvhQzauQsdsD9gzyP8Aaj9qAPdfC2mpa6LpREcYZLWMZVf9gD0rbqGzg+zWkEJxmNFT5enAxxU1ABRRRQAjKHUqwBUjBB71i674Q0rW7O5SbS7Ce4eBokknt0YrkHHJBIGTW3RQB81eOP2b9R1PVopdPGi2sIgClPmTLbmOcLHjoR+VfKGr2SR+VlE5z0H0r9Nr5N0wPH3a/NfW0/1PT+L+lAHk+tJjycYH3v6V5hrS/wCp/wCBf0r1XXEx5HT+L+leXa2v+p/4F/SgDIK4oxTyKaelADCMU1jgUrHFMY5zQA0mlU0xjigGgCZTUgPFQK1SA0AOIzTCuafmlxQBBtp236U/b9KQnFACdKjkbj8aVm471DI3HfrQBG7cnr1qAtyetOkf69agLcnrQBJu+tG761Fu+tG760ATA5qRelV1bp1qdGyKAJF6UjdaVelI3WgCFx0qIrip2WmFc0AR0Uu2igCzTGGafSEUAQsKRR81PIoAGaAJ4B92r0HG2qUPGKuQnpQBYP3TUD9D9KmJ4qFz/KgCtIOfwpm2pXAz+FNAzQAgXNBGKdjFDA0AVmbGKru3J69ankB4qtICM/WgCWFue/StCBunXpWXCTn8K0YD0+lAGjAchadIODUUB4WpHPWgCvKuc1Dt+YdKncjmo8DcKAJI1/nVmM4/Oq6nHSpVf3oAtRt1qdTnNVI3681ZVsZoAv2n8f4V6x4a/wCP6T/rmf5ivJbZwN3PpXqPh66C3r4b/lme3uKAPdfBs2wRZz/x7j/2Wvq74LiIzwMkYVzpy5baATylfHvhG9/1fz/8u47f7tfXHwLuPNuYBuz/AMS1T0946APZaKKKACiiigAooooAq3S5kH0r829bT/U8D+L+lfohr3iC00q8SGe48p2jDgbCeMkdh7V+eeuvE3kbD/ez19qAPKNdTHkZx/F/SvKddI/cf8C/pXq2vv8A6jn+9/SvJddf/Uc/3v6UAZrNxTCaRn4603dnvQANUTVJyx4pRFntQBDsJpCpB9qtLF04/WkeEc/L+tAFYHFPVuO9OaLHQfrURyhweKAJVanbvrUO8DvR5g9aAJS+PWmM31pjSD1qNpD60AOZuO9QyNx360pfPQ1G+TQBC5/nUbA81My+1NKcdKAICcUm7609168VE3tQBIrdOtTxtx361UUnipo2/nQBbQ5FP61CjcfjUm7HegBdtM2/SpAfWgj0oAh2/SinYNFADqCKKdjIoAjIpoHNSkU0DmgCSIdKtxdqrR9s1OsiqOvNAFjPHvUMh/lSecPX9KjeTPQ9qAGs3NID6VG789aFfjrQBOCDSkZpinOamC5oApupOKhePPbvV5ox6VG8XtQBVjiwelW4VI7dqSOPJ6VZjjA7dqAJYSQFp7t1pEXAGKjlJGaAGSNyeajL4I5psj9eaj35PWgC0knqalVhkc1URverEWT+dAFlWxmrCvnPNVM4qRXI70Aads+d3PpXouhSkXb4P/LM/wAxXmdvJ97Br0XQ5ALt+f4D/MUAexeEboqY8tx9nHb/AHa+v/2ernztRjXdnGlg9PeOvirw9qMUIjzJg+SB90+3tXsnw/8Aifqvh65V9P1P7OwtfKz5CN8uV4+ZT6CgD7oory3wl8YtNvbfTFv9X33DwKZx9mYZfZluiY6+lek6bqVtq9lHd2knm28mdr7SucEg8EA9QaALNFFFABRRTZG2RuxOAATmgDyf4t3/ANl8R2yeZtzaKcYz/G9fB2rawP3X771/h+ntX2X8cNWVfFloBLj/AEJP4f8AppJ7V8A6trA/dfvvX+H6e1AGbrOoRv5OZM4z/CfavLtclDeTg/3v6V02p6m0nl7Zc4z/AA/T2rjb53k2bjnGaAKxbPelHNNA9aeoxQA5BzU8ag4zUSDmp4+gNAEixdMCkkQLnIqRHAA5qC5l4bn0oAgmZVzg9qoTTZcc9vSpriXg89qzpZfmHPagCwJeetL5g9ap+b705ZCe9AFkvnvSDJ601Oc5qwqA54oAYsYz0oaP2qwsYz0oaP2oAplD6VGwPNW2j9RUbR9eKAKjITnjio2j9qttH14qNo/agCt5Z9KcoIqXZ7Uvl+1ACKTT92aBH6CnBMdqAHA5qSmqBTyPSgCOinYFFADacDxTaKAFJzSZxRQelAC+dt7jNNNx7rVaY4JIqs8xBPTFAGj9q91o+0+61l+f7inpIWI6daAL/mbz1H4VIvSq0Qx+dWk6UATxr161ZVajjXrU4XNAELL9aYygipmqF2x6daABFweKnRf5VWST5j0q1GQcc9qAJF4FRTDrU4UYqGbjNAFGbjNQBjuAqxcfxVW/jFAFmMZx9atxL/Oq0I6fWrsX9aAH7frS4p1IWxQBNAwXdkgfWuw0vWhFcMQ8P3ccn3HvXDmT6VbgmMbkjHTHNAHsOkeIPu/PB/qx3+nvXoHhrxBiRfng/wBT6/T3r570zWZI2AIjACYyc+3vXc+HPEQWQZkgH7rufp70AfUHhrxIUns2DwZCev8As/WvdvAnxWurPTrGwJ09bdd/zvnd1Zuu7HWvjfQvFSo1qRNbZCDq3+z9a9C0LxniOAebafxfxfX3oA+xdO+JFjO8a3Go6bETncPPVSOuOrVv2/ivR541I1awYtwNtynPP1r4e1Px01tNLIslmSuOrcdB/tVQi+ON9p1zHGp0vy42B3Pu+vPz0Afe769pqQvJ/aFrtUEljMuBj15rgPHPxhsPD8c6W+qaO4Fq0v724U8/N6OOOK+X7v8AaSlXRr6M3WgiRon2oZDk/L2HmV4T44+M2o6xclNmnOj2/lM0QY4yW/2zzzQB7j8TPjbHrmvQTtfaOStsqfuphj7zn++fWvk6/vTL5f3DjPT8Kq3mrNdyh38sEDHy/wD66z5b3pyn50AUbwfc/Gueux9z8a3p5lfb8y/nWJdAHbg560AVQtOApeB3prybe4oAepAPWniTAxkVT87k9KcJcjtQBdEvHUVXuZeG6dqjEvPUVBcSE7sYNAEVxLwenSs6VyW/CrUmW6jtVZ0570AIhJ61KnemKn1p6g+lAFmPvVqPvVSM9atIetAFpFGaUpn1pqHmpR0oAgaP61G0eM8GrhUUxo+O9AFJk9jUTx9etXnj69agdMZ60AVvL+tOEf1qQLz3qQJn1oAgCfWlEf1qcJ9aXYPWgCAJj1p1POBUZNADcUUu76UUAR0UUUAFI/3TS0jcigCrN0NU5ULZ4NX5I855qMxcdf0oAoCIg9DU0SkEcHrU/le/6U5Yvf8ASgB8Xb61bjGV/GqyJt796sI20dKALiEc81OHx6VTVqm8z2oAHfp0qtK3Xp1p7vjHFVpHznjvQBIjc9qtRPj06Vno/wAx4qwkvt29aANBZflHIqOZwQeRVcS8dP1pry5zxQAyY9fSq+fmFPlkyCMVED8woAuQnp9avROAOo61mxvjHHerUcnHTvQBdMme4qNn+lReZ7U0vjtQA/d9KtI/PaqG6phNjt+tAGpHKAByOnrV+z1R7Zsr5Z+XHP8A+usBZ/8AZ/Wp45+fu9vWgD0DSvFkkcsAY26gLjJz6fWu40TxnhIR5tp/F/F9fevEopuVOO3rWtYat9m8v91u25/ix6+1AHq2teMyfOAktCfl/i+nvXH6h4pllllwbcgjGRn0+tc1eap9pZz5W3dj+LP9KovdYJ+X9aANe61MztuYxggY4/8A11RkvfdOnrWfJdZz8vb1qrJc/wCz29aANF77nqlVpb3GOU/Os97vn7n61Xebdj5cfjQBbkvDxgqarNKW64qHdRuoAHkx6darvN9OtOlbr9aqSPjPHegCQy89qUSn2qqJMsRipY+cUAWUO7FKy5pIl6VIR2oAgdPr0qBo+e9XCKjZMsOaAK4i5707yvrU4j5608RZ70AQCLb61KhPPFSiLPelEWO9AD0bJqZTUCrtPWpFOKAJgaUniowadnjNACMMiopF4NSk5prcigCEJ9acF4pw4ooAMYBqNutSleKicYNAETGoi2Ke4xioWoAXNFJtooAWk3UtNPWgAJzTd1KTioi3JoAsIcqBTvLyOtQRv0GKsxckUAN8r3/Sk2be9WCvBqF/6UARNSA5oZqQHFAEitUofHaoAcU6gBGbdUZ61I1NbpQBGetJuwelKRTSKAJFkx2pryZJ4qMjNOUYoAByc04ClUZp4XmgAXipo39u9R7aWgCdpPajdUIOKeDigCSombin1E5wKAFE2O361NFPk/d7etU2+ahPlNAGxFPyo29vWrsMvC8frWJFLgrxV6GXheP1oAuTS/eOKqvPjPy/rTJpfvHFUpZcluKALL3PB+Xt61Xe4z/D29aqseaTdQBYD57UofHaq4fHanbqALG6jdUAfHanA5oASQ5z9ahKZPWrQXPegpjvQBUEfJ5qVFxjmpQnPWpEj6c0AJEvSpG4pQuKa5xmgBjHFRE5YU6Q/wAqh3fMKALkR4x71OiZzzVSJuR9auRt1oAk8v3prLtqR5c44qtI3SgBkj4Xp3pEfnpUDycdKRH56UAXVan1VR89u1TBuKAHMcUwtxTXbrUZftigCUP7VIrVVDc1KrUATnpUTjJp6tSkZoAqstRlM96tMtR7aAIdtFTbaKAKtNPWnVGzYoAY7AfnUJOSae4JpoXmgCWEZxV2FeFqvCvC9KuwrwvSgB235TVeVev0q7t+U9Kryr16dKAKTDFNBzUzrwenSottAADinVGBShs0AOJxSE5pu6jdQAEZpNtKDmlAzQA08UqjJp22lAxQAAdqeBikBAo3UAKTimk0hNNLYoAerU8HFQg09WoAlpNh9qFqUdaAIth9qUIRUwTPpSiP6UARBDU0fy4pduKQmgBspySarvyTUrnOaibvQBE1MJzSucmm0AFOBzTScUimgCepFqIHNSrQBItSgZqJakDYoAeBilqPd9aN31oAcT2qKQ9RTy2aic5yO9AETnFQsfmBqZlJqMp9KAJI5B79anWQHPWqWCp604OV7mgDQaUehqu0gGOtRtL9ahLFu5oAc7jHeiNhmm7Saeq4oAnjP8qsA5UVVQ4NTA8CgAfvUTcGnsc5qM5oAA3NSoc1CBUinFAFhaduqJDkU/dQA+k20macDmgAop+KKAMymNySKfUOfnPNACsvHakC89qfkUoxmgCWFeF6VciIUDiqaMAo5qVJOnJoAu7gV6VDIuc/So/N/wBo0nmZ7mgBjrwenSodv0qwSGBpm3HagCvt+lMKHtVop7Uwp7UAVScU3NSunTAqJgRQAoOKcGqIHB5pwNAEoNO3VGDS5FAD91JupuRRnigAJptFIetAC1ItRLUlAEoNTK3NQA4p4YetAFlWp26q4f3p28etAEpORTSe1M3j1oJzQA1zjNQsck1Kw55pjL14oAgYU09KlIpjCgCOlWgihRnNAEq1Og61Eg65qwg65oAYTigP9acwz2qJgaAJd/1o3fWoMn1p6npQBLnNG3NNHWn7gBzQBG/BxTKfIQzcUygBCuaaUz6U+nKM0AQ4NKq/SpQntS7fagCNV57U9V57U8IQelGQKAEC4pd1NLY70wtz1oAl6009aQOPWlyCPegAFPApAOKeBQAoFOpAKdg0AC09aaBigtjvQBLuoqHzR60UAU6rlsSN9asVSdv3r89zQBODmnA1Cr+9SAigB249jTlkI71ETRk0AT+b705WJPXioF5xViMfzoAlQZp+3PakQenrUmDQA0oOwppix2qbAoOO9AFJ4+mBUDx+3er7JnGBUEkft3oApMmCeKZyKtNH6io2j9BQBEG7U4Ek0eX83SpEj5HFAAqZ7U7y+DgVIkfTipPL4PFAFRlIPSmN1qy6e3aoHUA/hQA1aeDmo84p+cUASZzRuxTc4ooAfvx3pwfPeocinJgmgCZSSRUyLnFMRRxxViNOBxQBE6deKjK1adOvFQuAM0AQMtRsPWpHcA9ajZgaAI2wDSRkc0jHJpI+9AFpBnNWVXOarR96tocZoAYy47VGVyasHBqNloAgKc9KAMVLt9qNntQA0dadjPBpMYo3UAI6YPA4qOpt2eKNi+lAESjLAe9WREB0FMVFHOORUm/3oAbsz2oCDuKepFLtzQBHg1G4I/OrGBUMg/nQBVdsfnTd/vT5Fz+dQ4O6gCRW5qVBnFRIOlWIx09KAHAVIozSAU4CgBwFGcUhYDvUTy4PWgCQuB3qKSXpzUbS+9QSS9OaAJfN96Kq+b70UAWqzpD++f6mtGsuQ4nk/wB4/wA6AJkP8qmB4qsrfSp05xQA6ilxQBQA5O1WYv61XUdKsRnH50AWUGKfUaHinbqAHZppNJmmk5oAUmmMAaUtimF+e1ADSue1MZPapQwPcU7aCOtAFbZ7U5I+nBqYx855p6J0zmgBqJyOKeVAB4p3Cmmu3B6dKAK8gxn6VVk6/hVmQ5z9KrS9/pQBFTgc0xaetADwaTd70lMJxQApbnrT4m+Y89qgLc06JvmPTpQBoRNyvNXYQCBWfEeV+lXYW4FAD5sAGqU0nLcjpU9y+A3TtWfNJy3TpQAySTn7wpvme4qtLL8w6dKQSkntQBZ3A9xSx96hBzUyd6ALUZ61ZQ5zVRO9WUPWgCSjGabuo3UALgU1jigtxTGNACMTzTMmhmpuTQA8Gl3e9NUE9qlEWVPBoAZ5mO4pfM9xUciFTwD0qPdigCysnuKlWQ+tUFk+lWFfGelAFsYJqNx/OlRsmhzkUAVpB7d6gK89KtSAYqHHNABGOlToMYqNBjFSBqAJMgDrTfMwOopjHg1E0mPSgCRpPcVC8hz1qNpfpUZkJPagBzSe4qF3JxzRgnqKd5f1oAiyaKl8v60UAXKx5m/0iT/eP862Kw5z/pMv+8f50ATxnP5VcjHC/SqUHb6Vej52/SgB9GKdtpwXigBqg4qVD/OkC8UoXmgCZGp5OaiXjilJxQA8timmTHcVGzn2qIuTQBMz+4qJm+lRlyaaXNAEqtz2qZJD7dKqK3NTof5UAWkbIFKzYqNOQKVuM0ABf6U124PTpTS3NMc0AMduD9KrsSamIzUZFAES09aNtKBigApjdKfTG6UARNSRE7jStQnWgC7C3K/SrsJyBWfF95auQnGKAC6bG78KzpiTu+lX5xuLA1UkjAz1oAzXUlhwacin0PWrDRjPegIM96AEQcVYQdajCgVKDigCZamBC9xVYORS7z7UAWd/0oLZqurnPanByaAJScVGzdaCc0Dk0AMOTUkaZIPNG2poVBIoAVIs44PWrKxfIetLEg/WrKoNh60AZ0sXB69KpyRdOta0qDB69KpyIOOtAGcFI7GplPXNOKAUuwe9AEqNzTmbio1ODStQA1mplPIzTTQAbsUobntTCO9J0oAe7delQO3B+lOY5zTdooAhwTShPrUmwU9V4oAYI/rT/L+tSBAak2D3oAr+X9aKsbB70UAR1gzDN3N/vH+db1c/O3+lzf77fzoAtQdvpV2Nvu/Ss+E9PpVuNuRQBeTnFSAZqvG3AqxEc4oAcF4pwT3py9BTwKAIyvFROvNWyvFQuvNAFFmqNpPapZF6VVagB26lUZNKq1Iq0ACrUsfX8KVVp6rzQA9DwBSscUgGBTWOKAEbmoycUrc0wnmgB3XmmkZpaAM0AN20lOcYxUTNQAM1MJxTWams3FACtTYxljSA5qRBzQBYj/h+lW4u1VY+oq1EOAaAJG5FQtHnJzU55pp4oAqPFk9aTy8DrVlqYwxQBXIxUbVYbrUTUAQl8dqTzPakcYxULUAWFk56VPGd35VXiXp9KuxLwPpQBIF4FOCd809UyBz2p4XHegCLbU8KfdOaQDFBbb2oAsqdvvUgkz2qj5vt+tKJM9qALrNuBqCSPpzUXme1OEue1AEBTPelKY71K1QM1ADWbimk5prtxTN1AElNPWko3Z4xQAHpTacelMPSgBaXbTV6Cnqc0AJtp6x8daevSgnFAABilBxTKUHFAElFNooAhrAuR/pMv++f51v1jXCZnk4H3j/OgBkXb6Vbjb7v0qsgwasR9RQBbi5xVqLtVSLtVmM8igC0vapVqFOgqUHFAEmMg1DIMN+FOMo96jeQE96AKcvaqRGauyfNiqjUASIM5qeMfyqCPvUyUATKMU6mKafQAv8ADUb96k/hqN+9AET96ZT3700dRQA5VqVVoRc/nU6JgdqAK8qYxzVSRelaUidOlU5Y+nSgCg5xilUbjUzw5x0oWLntQAix+9SomO/anLH9KlSP6dKABU6c1YiGABTVXGKkXpQAp4qNm60rtjNRM3XrQAM3NNJpjNz3pC1ADt1McZxQDSM1AETLUDVYIzUTL9KAJIF6fSr8I6fSqkI6fSrkRAx9KALKrhQfalPSmiQYHWkLZoAD0qJ+9SE5qN+9AEbUwvz0qQjNIIj7UACc8+9Tx96jRCPSpkHWgB8naq0i9KtNVdxnFAFVzgVHv9qlccVA4x+dAC7qTfzjFRFiO5pvmc96ALAbHanbsiqyvk9TU6AnFAD16CnqMUiqRinqKAHr0oIzTlHFB60ARNQtBNNQ9aAJNtFSYooAr1lzL++f/eNalUJI8yP06mgCvtqWPqKXy/pTguKAJ4u1WY+oqtFxirCHpQBOGwKQzfWmE8VG5oAlMvHeo2l571CZPc1GxJPBNADml+tRU4D1pdv0oAVamRv5VHtp6jFAEwOaeDUQ6U9TigB+eMUx+9O601+M0AQucZpgPzClfkmmA4YUAWoj0+tWo/61Tjbj8asxtx360ATsA2OBVdovYVLu+tKCD2oAotF9KUQ49KsmPPYUpUDsKAIVjx2FOC4p5FJtoASlBxSUUANkPU1A55NTPyDURHWgCFjzTS2KkZc1GRQAbvrSbqQjFN69KAFLYpMZpQPWnBcUAKjY/KrCP069KgC1IuRQBaDcDrS7vrUIbgUuc0AS7s09V3CoVNTxnOKAHLF7CnCHPpUkYz+dThARnAoArCH2FO8vHYVKxCg8VXeTp1oAViD0qF16VG0vuaXzQfWgCJ147VXkX+dWyc1E0ZPpQBRdeT9ai8s5zmtBoPYU37PnstAFaNeRVqJenSnLBjHC1MkRGOlACBOO1PVPpTgMCms2KAF4UUxm5pjP7mmb/rQArNTFaml/rSK1AFvNFReZ9aKAEqs6/O3HerNRleTxQBDs9qQjAqbbjtUTDk0ACHpU8Z6etRIBxUijFAEpJxUTk0/nFMagCJutAGaUj1oxigA2e1OC5padjFACAetOoooAcDTx0qNetPBoAeOlRydSKkBpCuTQBXZeaaU5HFWCntTdntQA1cipo2x3700J7UuMUAS7/elD471DuxRv96AJxJ6mnbgarb/enh8HrQBPgUmKRXB70pcdjQA0gU1j6U4kYqJjQAH3prAHNBakzQAxlxTGXPQVNjIpNntQBXKeopNmO1WNme1N8s+lAEOz2p+3NP8ALPpScCgBAKeBSDmnUAFOGfwpAKdQAoNTxdqrbsU5ZsDr+lAF9HA796l87AODx9Kzlnz/ABfpT/P+U/N+lAE8sw5+bt6VVlm6Yb9Kikm/2u3pUDy5xg0AP87Pf9KUOx6Gq6hjnNWY068UATICTzUqxg9qRE56VOqe1AERgz0X9aBb8/d/WrSrjtSkKB70AVvIxyV/WkYBamdutQSHr6UARs3XmoXcjvTnPJqF2z+VADWk96YZPQ01iaj3Y70ASF896TfjvUO/3o3570AWfMPrRUHmD1ooAvUoTPakqYDCg0AV5Bj86gYcmrEvf61XZuSKAFTtUq9qiQ9KmTtQA7tUbdakPSo260AMbrRjNKetA6UAOAzTqatPAoASijFGKAAHBp4NMxTh0oAeDTqYOlPB4oAcACKQoM9KN2KN30oACMdKaTTic009aAGtUeTUjVETigBN5HenCXJ61G1NzigC0smO9O8zjrVUSHHanCXjtQBOZPekLg9+ai3k05Fzg0ALSgUu360uMUAAFOA4po60+gBNue1BAHWngYpsnagCItioGf3pzuRioGf6UATq/vUikGqyt9KlVvpQBMSAKY0gGeaHb5RVaWQgnpigB8k/X5v0pgn/ANr9KrSTdelNE3bIoAvCf/a/SnifIPzc/SqKyEkdMZqwgz+dADyWY+1GzPanqop4T60ANVM54qyiYzxUaJ161aROvWgCRE56VIMCkUYNDHFACmTHQ01pODzUbPj0pjP9KAHPIOeaid855prN1ppNADXPJqJgc1KQD3ppAzQBAy1Eyc9KtMtQuMGgCoQRTFJqdl+tRiP60ALg0VLs9jRQBdqYk+WtQ1YwGjUUAVJW6/WqrH5jVq4XA4z1qm3BNAEqHGKmRulVo+cVYj4IoAl6imkU/HFJQBGRQBTiMGlC5oAAKdigLmpNv1oAioqRl+tN20ANpQKXGKTdQAvQUm6kJpCaAHg0uaj3UbqAJM0UxcmpFWgBrVC1WXXpUDL9aAI2pjdKe1NIzQAw0qjNO2fWnon1oAci9OtTxrwOtIidOtTxp060AN2/WkMf1qcp9aTZ7GgCAKR2NAHNTleO9MKfWgBtNk7U/B9KY4zigCpJ2qq4PHFXWjzjg1EYfY0AQKSKmQ/ypDF9aUIR2NAEjn5BVSdvvVYfJUADNQPEWzkGgClLk54pkaksMg1cNv7NSrb4PRqAGQjGPrVyNePxqNIcdj1qxGmB360APVakVaaop60ASKBU6mq4OalWgCwp5prnH50i9aG5oAgeoz3qZlqNlxmgCI0h6U8r3qMjmgBKKXFKFoATFRsmT3qcLmkK80AVGj+tMEf1q0U+tM2Y9aAE2exoqWigAqdfuj6UUUAQzdPxqg/32+tFFADo+oqxH1FFFAEw+7TaKKAEPUU9elFFADlqSiigBGprdKKKAGN0ptFFADT1ooooAQ9KFoooAlWpV6UUUADVE1FFAFdqWiigBV61InWiigCdOoqdO1FFAEg6Up6UUUAMpG60UUAMbrUdFFAEbU1qKKAIz1ooooAaOpoPWiigBh60DrRRQBItPoooAcvSnLRRQA9alWiigCVetK3SiigCM9aY3eiigBh6VE/eiigBB0p69KKKAHDoaSiigCNqY1FFAC0UUUAf/9k=",
        "encoding": "base64",
        "path": [
         "value"
        ]
       }
      ],
      "model_module": "@jupyter-widgets/controls",
      "model_module_version": "2.0.0",
      "model_name": "ImageModel",
      "state": {
       "_view_count": 1,
       "format": "jpeg",
       "height": "500",
       "layout": "IPY_MODEL_107a67ea8ab049a183b8eb2df79b149e",
       "width": "500"
      }
     },
     "97d4c80b02764600a1b5393237586689": {
      "model_module": "@jupyter-widgets/controls",
      "model_module_version": "2.0.0",
      "model_name": "VBoxModel",
      "state": {
       "children": [
        "IPY_MODEL_bec22b24704345dc88229c9ea30232a3",
        "IPY_MODEL_519fa1823c1b41e48553d2b1a84c693b"
       ],
       "layout": "IPY_MODEL_fefc0f168b7741c09460bc4692d9f6a2"
      }
     },
     "9940a376288c4555aa4cb2d492ac1651": {
      "model_module": "@jupyter-widgets/base",
      "model_module_version": "2.0.0",
      "model_name": "LayoutModel",
      "state": {}
     },
     "9d41fa955e784c47933a485fc11bea27": {
      "model_module": "@jupyter-widgets/base",
      "model_module_version": "2.0.0",
      "model_name": "LayoutModel",
      "state": {
       "margin": "0"
      }
     },
     "9f33a04669674924ba4e6fdd115237f2": {
      "model_module": "@jupyter-widgets/base",
      "model_module_version": "2.0.0",
      "model_name": "LayoutModel",
      "state": {}
     },
     "a1a86bb38a134322a1b4dde3abb8567c": {
      "model_module": "@jupyter-widgets/base",
      "model_module_version": "2.0.0",
      "model_name": "LayoutModel",
      "state": {}
     },
     "a460e093ad0b49e185a862cdb0a06f16": {
      "model_module": "@jupyter-widgets/controls",
      "model_module_version": "2.0.0",
      "model_name": "LinkModel",
      "state": {
       "source": [
        "IPY_MODEL_9312f20764ad407e8f8e7c95c0a6e4af",
        "value"
       ],
       "target": [
        "IPY_MODEL_240dc4b57208401fb6d2eb9b065e4779",
        "value"
       ]
      }
     },
     "ac8802c8621c4d0eae9597ddec4a16e0": {
      "model_module": "@jupyter-widgets/controls",
      "model_module_version": "2.0.0",
      "model_name": "IntSliderModel",
      "state": {
       "behavior": "drag-tap",
       "continuous_update": false,
       "description": "Smooth σ",
       "layout": "IPY_MODEL_688f1dd11ebe4bd9b36e14610f3a3308",
       "max": 10,
       "style": "IPY_MODEL_ed0080ff686545a89db816614769949d"
      }
     },
     "ad48c62b3ac449ca920f919fc705b997": {
      "model_module": "@jupyter-widgets/controls",
      "model_module_version": "2.0.0",
      "model_name": "HTMLStyleModel",
      "state": {
       "description_width": "",
       "font_size": null,
       "text_color": null
      }
     },
     "af488223c3ba43f3976b70c9a79fb77a": {
      "model_module": "@jupyter-widgets/controls",
      "model_module_version": "2.0.0",
      "model_name": "CheckboxModel",
      "state": {
       "description": "Display Single Spectrum",
       "disabled": false,
       "layout": "IPY_MODEL_53c45ddbdd8140789a56962fbe9e64fa",
       "style": "IPY_MODEL_b70119c4795645b5b17d6961d67bdd39",
       "tooltip": "Click to plot one line at a time",
       "value": false
      }
     },
     "b193e4d0aa204fa092e11921cd983b4b": {
      "model_module": "@jupyter-widgets/controls",
      "model_module_version": "2.0.0",
      "model_name": "VBoxModel",
      "state": {
       "_dom_classes": [
        "widget-interact"
       ],
       "children": [
        "IPY_MODEL_00f86517ed474b1ebae376c044e9e963",
        "IPY_MODEL_ee3c93de63ea4c9cbe2ef02ad5414970"
       ],
       "layout": "IPY_MODEL_31f76dc3cbff4d54be361dc0d9fc5de2"
      }
     },
     "b42bd5b9d4434631abf9552ccb1b7db8": {
      "model_module": "@jupyter-widgets/controls",
      "model_module_version": "2.0.0",
      "model_name": "SliderStyleModel",
      "state": {
       "description_width": ""
      }
     },
     "b5d18d182b494052a0b3e10d1a9bff6a": {
      "model_module": "@jupyter-widgets/controls",
      "model_module_version": "2.0.0",
      "model_name": "ButtonModel",
      "state": {
       "button_style": "success",
       "description": "Scan Cube",
       "layout": "IPY_MODEL_c94a439b750b4ec09166fe408d8d4d24",
       "style": "IPY_MODEL_75fd47106d1747f18b8a6e68e851f7af",
       "tooltip": "Click this to scan in wavelength dimension"
      }
     },
     "b70119c4795645b5b17d6961d67bdd39": {
      "model_module": "@jupyter-widgets/controls",
      "model_module_version": "2.0.0",
      "model_name": "CheckboxStyleModel",
      "state": {
       "description_width": ""
      }
     },
     "bec22b24704345dc88229c9ea30232a3": {
      "model_module": "@jupyter-widgets/controls",
      "model_module_version": "2.0.0",
      "model_name": "HBoxModel",
      "state": {
       "children": [
        "IPY_MODEL_240dc4b57208401fb6d2eb9b065e4779",
        "IPY_MODEL_9312f20764ad407e8f8e7c95c0a6e4af"
       ],
       "layout": "IPY_MODEL_4878aef1d8074be4b5a9f6b2a04cf1d5"
      }
     },
     "c463819a4f2f4941bd0cb65f420a02c2": {
      "model_module": "@jupyter-widgets/output",
      "model_module_version": "1.0.0",
      "model_name": "OutputModel",
      "state": {
       "layout": "IPY_MODEL_42557824a1f9480a80877b28a520853b"
      }
     },
     "c57de031f650443dbf5ec5c7189f3bbc": {
      "model_module": "@jupyter-widgets/controls",
      "model_module_version": "2.0.0",
      "model_name": "HBoxModel",
      "state": {
       "children": [
        "IPY_MODEL_97d4c80b02764600a1b5393237586689",
        "IPY_MODEL_2f737b2d39264fb7af34c9b2b281fa32"
       ],
       "layout": "IPY_MODEL_4ae79595d0f447e3a0b0cf120cf68561"
      }
     },
     "c94a439b750b4ec09166fe408d8d4d24": {
      "model_module": "@jupyter-widgets/base",
      "model_module_version": "2.0.0",
      "model_name": "LayoutModel",
      "state": {}
     },
     "cb4d3d7a9f044d3db0569196149a7f0e": {
      "model_module": "@jupyter-widgets/base",
      "model_module_version": "2.0.0",
      "model_name": "LayoutModel",
      "state": {}
     },
     "de18f875f4eb41e789fd7558c55e1c51": {
      "model_module": "@jupyter-widgets/controls",
      "model_module_version": "2.0.0",
      "model_name": "SliderStyleModel",
      "state": {
       "description_width": ""
      }
     },
     "e22ceaf3a0d44628bcbb317530289c41": {
      "model_module": "@jupyter-widgets/base",
      "model_module_version": "2.0.0",
      "model_name": "LayoutModel",
      "state": {}
     },
     "e3ba59dcb22340f08ed8e3c791a5de79": {
      "model_module": "@jupyter-widgets/base",
      "model_module_version": "2.0.0",
      "model_name": "LayoutModel",
      "state": {}
     },
     "e5de0798789c403da1e0f874aa64ce56": {
      "model_module": "@jupyter-widgets/base",
      "model_module_version": "2.0.0",
      "model_name": "LayoutModel",
      "state": {}
     },
     "e5eb2c046e65449faa81c155fd66530d": {
      "model_module": "@jupyter-widgets/controls",
      "model_module_version": "2.0.0",
      "model_name": "VBoxModel",
      "state": {
       "_dom_classes": [
        "widget-interact"
       ],
       "children": [
        "IPY_MODEL_240dc4b57208401fb6d2eb9b065e4779",
        "IPY_MODEL_1e31c6b57d354ef9b7a0d225c59939a3"
       ],
       "layout": "IPY_MODEL_38c5ab7c2d9349d6bc745fc269891fe2"
      }
     },
     "e70da659ccd4469a89d518efe6363987": {
      "model_module": "@jupyter-widgets/controls",
      "model_module_version": "2.0.0",
      "model_name": "IntSliderModel",
      "state": {
       "behavior": "drag-tap",
       "continuous_update": false,
       "description": "Smooth σ",
       "layout": "IPY_MODEL_6fba48bfc0ae45ce9a4375bc50014a40",
       "max": 10,
       "style": "IPY_MODEL_de18f875f4eb41e789fd7558c55e1c51"
      }
     },
     "ea1e84f974304b9589871889def67c68": {
      "model_module": "ipyevents",
      "model_module_version": "2.0.1",
      "model_name": "EventModel",
      "state": {
       "_supported_key_events": [
        "keydown",
        "keyup"
       ],
       "_supported_mouse_events": [
        "click",
        "auxclick",
        "dblclick",
        "mouseenter",
        "mouseleave",
        "mousedown",
        "mouseup",
        "mousemove",
        "wheel",
        "contextmenu",
        "dragstart",
        "drag",
        "dragend",
        "dragenter",
        "dragover",
        "dragleave",
        "drop"
       ],
       "_supported_touch_events": [
        "touchstart",
        "touchend",
        "touchmove",
        "touchcancel"
       ],
       "_view_module": "@jupyter-widgets/controls",
       "prevent_default_action": true,
       "source": "IPY_MODEL_43582d44794349dca4aab5c2b66dba22",
       "throttle_or_debounce": "",
       "watched_events": [
        "keydown",
        "keyup",
        "mouseenter",
        "mouseleave",
        "mousedown",
        "mouseup",
        "mousemove",
        "wheel",
        "contextmenu"
       ],
       "xy_coordinate_system": ""
      }
     },
     "eb75dec883a7422e9fcf20f0ff4318f5": {
      "model_module": "@jupyter-widgets/controls",
      "model_module_version": "2.0.0",
      "model_name": "ButtonStyleModel",
      "state": {
       "font_family": null,
       "font_size": null,
       "font_style": null,
       "font_variant": null,
       "font_weight": null,
       "text_color": null,
       "text_decoration": null
      }
     },
     "ed0080ff686545a89db816614769949d": {
      "model_module": "@jupyter-widgets/controls",
      "model_module_version": "2.0.0",
      "model_name": "SliderStyleModel",
      "state": {
       "description_width": ""
      }
     },
     "ee3c93de63ea4c9cbe2ef02ad5414970": {
      "model_module": "@jupyter-widgets/output",
      "model_module_version": "1.0.0",
      "model_name": "OutputModel",
      "state": {
       "layout": "IPY_MODEL_52e7a3103fe4434db026f95909fbe38a",
       "outputs": [
        {
         "ename": "NameError",
         "evalue": "name 'viewer' is not defined",
         "output_type": "error",
         "traceback": [
          "\u001b[0;31m---------------------------------------------------------------------------\u001b[0m",
          "\u001b[0;31mNameError\u001b[0m                                 Traceback (most recent call last)",
          "\u001b[0;32m~/.local/lib/python3.9/site-packages/ipywidgets/widgets/interaction.py\u001b[0m in \u001b[0;36mupdate\u001b[0;34m(self, *args)\u001b[0m\n\u001b[1;32m    238\u001b[0m                     \u001b[0mvalue\u001b[0m \u001b[0;34m=\u001b[0m \u001b[0mwidget\u001b[0m\u001b[0;34m.\u001b[0m\u001b[0mget_interact_value\u001b[0m\u001b[0;34m(\u001b[0m\u001b[0;34m)\u001b[0m\u001b[0;34m\u001b[0m\u001b[0;34m\u001b[0m\u001b[0m\n\u001b[1;32m    239\u001b[0m                     \u001b[0mself\u001b[0m\u001b[0;34m.\u001b[0m\u001b[0mkwargs\u001b[0m\u001b[0;34m[\u001b[0m\u001b[0mwidget\u001b[0m\u001b[0;34m.\u001b[0m\u001b[0m_kwarg\u001b[0m\u001b[0;34m]\u001b[0m \u001b[0;34m=\u001b[0m \u001b[0mvalue\u001b[0m\u001b[0;34m\u001b[0m\u001b[0;34m\u001b[0m\u001b[0m\n\u001b[0;32m--> 240\u001b[0;31m                 \u001b[0mself\u001b[0m\u001b[0;34m.\u001b[0m\u001b[0mresult\u001b[0m \u001b[0;34m=\u001b[0m \u001b[0mself\u001b[0m\u001b[0;34m.\u001b[0m\u001b[0mf\u001b[0m\u001b[0;34m(\u001b[0m\u001b[0;34m**\u001b[0m\u001b[0mself\u001b[0m\u001b[0;34m.\u001b[0m\u001b[0mkwargs\u001b[0m\u001b[0;34m)\u001b[0m\u001b[0;34m\u001b[0m\u001b[0;34m\u001b[0m\u001b[0m\n\u001b[0m\u001b[1;32m    241\u001b[0m                 \u001b[0mshow_inline_matplotlib_plots\u001b[0m\u001b[0;34m(\u001b[0m\u001b[0;34m)\u001b[0m\u001b[0;34m\u001b[0m\u001b[0;34m\u001b[0m\u001b[0m\n\u001b[1;32m    242\u001b[0m                 \u001b[0;32mif\u001b[0m \u001b[0mself\u001b[0m\u001b[0;34m.\u001b[0m\u001b[0mauto_display\u001b[0m \u001b[0;32mand\u001b[0m \u001b[0mself\u001b[0m\u001b[0;34m.\u001b[0m\u001b[0mresult\u001b[0m \u001b[0;32mis\u001b[0m \u001b[0;32mnot\u001b[0m \u001b[0;32mNone\u001b[0m\u001b[0;34m:\u001b[0m\u001b[0;34m\u001b[0m\u001b[0;34m\u001b[0m\u001b[0m\n",
          "\u001b[0;32m~/hetdex_api/hetdex_api/cube_widget.py\u001b[0m in \u001b[0;36mshow_slice\u001b[0;34m(self, wave)\u001b[0m\n\u001b[1;32m    318\u001b[0m         \u001b[0mself\u001b[0m\u001b[0;34m.\u001b[0m\u001b[0mimage_show_slice\u001b[0m\u001b[0;34m(\u001b[0m\u001b[0mn\u001b[0m \u001b[0;34m-\u001b[0m \u001b[0;36m1\u001b[0m\u001b[0;34m)\u001b[0m\u001b[0;34m\u001b[0m\u001b[0;34m\u001b[0m\u001b[0m\n\u001b[1;32m    319\u001b[0m         \u001b[0mself\u001b[0m\u001b[0;34m.\u001b[0m\u001b[0mplot_spec\u001b[0m\u001b[0;34m(\u001b[0m\u001b[0mtrace_freeze\u001b[0m\u001b[0;34m=\u001b[0m\u001b[0;32mTrue\u001b[0m\u001b[0;34m)\u001b[0m\u001b[0;34m\u001b[0m\u001b[0;34m\u001b[0m\u001b[0m\n\u001b[0;32m--> 320\u001b[0;31m         \u001b[0msuper\u001b[0m\u001b[0;34m(\u001b[0m\u001b[0;34m)\u001b[0m\u001b[0;34m.\u001b[0m\u001b[0m_mouse_click_cb\u001b[0m\u001b[0;34m(\u001b[0m\u001b[0mviewer\u001b[0m\u001b[0;34m,\u001b[0m \u001b[0mevent\u001b[0m\u001b[0;34m,\u001b[0m \u001b[0mdata_x\u001b[0m\u001b[0;34m,\u001b[0m \u001b[0mdata_y\u001b[0m\u001b[0;34m)\u001b[0m\u001b[0;34m\u001b[0m\u001b[0;34m\u001b[0m\u001b[0m\n\u001b[0m\u001b[1;32m    321\u001b[0m \u001b[0;34m\u001b[0m\u001b[0m\n\u001b[1;32m    322\u001b[0m \u001b[0;34m\u001b[0m\u001b[0m\n",
          "\u001b[0;31mNameError\u001b[0m: name 'viewer' is not defined"
         ]
        }
       ]
      }
     },
     "eedc31f028224b1b8537ac1006a63008": {
      "model_module": "@jupyter-widgets/base",
      "model_module_version": "2.0.0",
      "model_name": "LayoutModel",
      "state": {}
     },
     "f3b20e091901413dae5e3ed4ba93a5e8": {
      "model_module": "@jupyter-widgets/controls",
      "model_module_version": "2.0.0",
      "model_name": "VBoxModel",
      "state": {
       "children": [
        "IPY_MODEL_6f288da7f41c41c28d2705eebb595fe6",
        "IPY_MODEL_70c2da112cf94802a062f278bd1d0818"
       ],
       "layout": "IPY_MODEL_9f33a04669674924ba4e6fdd115237f2"
      }
     },
     "fefc0f168b7741c09460bc4692d9f6a2": {
      "model_module": "@jupyter-widgets/base",
      "model_module_version": "2.0.0",
      "model_name": "LayoutModel",
      "state": {}
     }
    },
    "version_major": 2,
    "version_minor": 0
   }
  }
 },
 "nbformat": 4,
 "nbformat_minor": 4
}
