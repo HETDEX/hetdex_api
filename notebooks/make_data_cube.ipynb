{
 "cells": [
  {
   "cell_type": "markdown",
   "metadata": {},
   "source": [
    "# Making Data Cubes"
   ]
  },
  {
   "cell_type": "markdown",
   "metadata": {},
   "source": [
    "The CubeWidget provides a visual interface to a Fits datacube using ginga/astrowidgets/ipywidgets. It is developed to function on any FITS cube in which the 1st data axis represents the spectral dim provided the WCS is included. Click on any spatial region to see the spectrum at that pixel. Use the play button to scan through wavelength space or the slider to get a specfic wavelength."
   ]
  },
  {
   "cell_type": "code",
   "execution_count": 1,
   "metadata": {},
   "outputs": [],
   "source": [
    "from astropy import units as u\n",
    "\n",
    "from hetdex_tools.interpolate import make_data_cube\n",
    "from hetdex_api.cube_widget import CubeWidget"
   ]
  },
  {
   "cell_type": "markdown",
   "metadata": {},
   "source": [
    "## Make Your own data cube from a Detectid or SkyCoord object"
   ]
  },
  {
   "cell_type": "code",
   "execution_count": 2,
   "metadata": {},
   "outputs": [],
   "source": [
    "# Here's an example low redshift galaxy at z=0.078."
   ]
  },
  {
   "cell_type": "code",
   "execution_count": 3,
   "metadata": {},
   "outputs": [],
   "source": [
    "hdu = make_data_cube(\n",
    "    detectid=3090045971,\n",
    "    pixscale=0.5*u.arcsec,\n",
    "    imsize=30.*u.arcsec, \n",
    "    dwave=10, \n",
    "    fill_value=0.0,\n",
    "    apply_mask=True,\n",
    "    convolve_image=False)"
   ]
  },
  {
   "cell_type": "code",
   "execution_count": 4,
   "metadata": {},
   "outputs": [
    {
     "data": {
      "application/vnd.jupyter.widget-view+json": {
       "model_id": "9bfecce7f80a40db88c720c007febadb",
       "version_major": 2,
       "version_minor": 0
      },
      "text/plain": [
       "HBox(children=(VBox(children=(HBox(children=(IntSlider(value=4540, continuous_update=False, description='wave'…"
      ]
     },
     "metadata": {},
     "output_type": "display_data"
    }
   ],
   "source": [
    "w = CubeWidget(hdu=hdu)"
   ]
  },
  {
   "cell_type": "markdown",
   "metadata": {},
   "source": [
    "To save the datacube:"
   ]
  },
  {
   "cell_type": "code",
   "execution_count": 5,
   "metadata": {},
   "outputs": [],
   "source": [
    "hdu.writeto('data_cube.fits', overwrite=True)"
   ]
  },
  {
   "cell_type": "markdown",
   "metadata": {},
   "source": [
    "## For Data Cube Options:"
   ]
  },
  {
   "cell_type": "code",
   "execution_count": 6,
   "metadata": {},
   "outputs": [
    {
     "name": "stdout",
     "output_type": "stream",
     "text": [
      "Help on function make_data_cube in module hetdex_tools.interpolate:\n",
      "\n",
      "make_data_cube(detectid=None, coords=None, shotid=None, pixscale=<Quantity 0.25 arcsec>, imsize=<Quantity 30. arcsec>, wave_range=[3470, 5540], dwave=2.0, dcont=50.0, convolve_image=False, ffsky=False, subcont=False, survey='hdr4', fiber_flux_offset=None, interp_kind='linear', apply_mask=False, fill_value=nan)\n",
      "    Function to make a datacube from either a detectid or from a\n",
      "    coordinate/shotid combination.\n",
      "    \n",
      "    Paramaters\n",
      "    ----------\n",
      "    detectid: int\n",
      "        detectid from the continuum or lines catalog. Default is\n",
      "        None. Provide a coords/shotid combo if this isn't given\n",
      "    coords: SkyCoords object\n",
      "        coordinates to define the centre of the data cube\n",
      "    pixscale: astropy angle quantity\n",
      "        plate scale\n",
      "    imsize: astropy angle quantity\n",
      "        spatial length of cube (equal dims is only option)\n",
      "    wave_range: list\n",
      "        start and stop value for the wavelength range in Angstrom\n",
      "    dwave\n",
      "        step in wavelength range in Angstrom\n",
      "    convolve_image: bool\n",
      "         option to convolve image with shotid seeing\n",
      "    ffsky: bool\n",
      "        option to use full frame calibrated fibers. Default is\n",
      "        True.\n",
      "    subcont: bool\n",
      "        option to subtract continuum. Default is False. This\n",
      "        will measure the continuum 50AA below and above the\n",
      "        input wave_range\n",
      "    dcont: float\n",
      "        width in angstrom to measure the continuum. Default is to\n",
      "        measure 50 AA wide regions on either side of the line\n",
      "    fiber_flux_offset: 1036 array\n",
      "        array of values in units of 10**-17 ergs/s/cm2/AA to add\n",
      "        to each fiber spectrum used in the extraction. Defaults\n",
      "        to None\n",
      "    interp_kind: str\n",
      "        Kind of interpolation to pixelated grid from fiber intensity.\n",
      "        Options are 'linear', 'cubic', 'nearest'. Default is linear.\n",
      "    apply_mask: bool                                                                                            Apply HETDEX fiber mask model. This will mask all fibers contributing\n",
      "         to the spectral extraction before summation. Masked in place as NaNs                               fill_value: float, optional                                                                                Value used to fill in for requested points outside of coverage or in a mask                            region. If not provided, then the default is nan.\n",
      "    \n",
      "    Returns\n",
      "    -------\n",
      "    hdu: PrimaryHDU object\n",
      "        the data cube 3D array and associated 3d header\n",
      "        Units are '10^-17 erg cm-2 s-1 per spaxel'\n",
      "    \n",
      "    Examples\n",
      "    --------\n",
      "    \n",
      "    Can either pass in a detectid:\n",
      "    \n",
      "    >>> detectid_obj=2101602788\n",
      "    >>> hdu = make_data_cube( detectid=detectid_obj)\n",
      "    >>> hdu.writeto( str(detectid_obj) + '.fits', overwrite=True)\n",
      "    \n",
      "    or can put in an SkyCoord object:\n",
      "    \n",
      "    >>> star_coords = SkyCoord(9.625181, -0.043587, unit='deg')\n",
      "    >>> hdu = make_data_cube( coords=star_coords[0], shotid=20171016108, dwave=2.0)\n",
      "    >>> hdu.writeto( 'star.fits', overwrite=True)\n",
      "\n"
     ]
    }
   ],
   "source": [
    "help(make_data_cube)"
   ]
  },
  {
   "cell_type": "markdown",
   "metadata": {},
   "source": [
    "## How to find a shotid for any coords:"
   ]
  },
  {
   "cell_type": "code",
   "execution_count": 7,
   "metadata": {},
   "outputs": [],
   "source": [
    "# For other examples see FiberIndex.ipynb notebook"
   ]
  },
  {
   "cell_type": "code",
   "execution_count": 8,
   "metadata": {},
   "outputs": [],
   "source": [
    "import numpy as np\n",
    "from hetdex_api.survey import FiberIndex\n",
    "from astropy.coordinates import SkyCoord"
   ]
  },
  {
   "cell_type": "code",
   "execution_count": 9,
   "metadata": {},
   "outputs": [],
   "source": [
    "FibIndex = FiberIndex()"
   ]
  },
  {
   "cell_type": "code",
   "execution_count": 10,
   "metadata": {},
   "outputs": [],
   "source": [
    "star_coords = SkyCoord(176.32574, 51.514133, unit='deg')"
   ]
  },
  {
   "cell_type": "code",
   "execution_count": 11,
   "metadata": {},
   "outputs": [],
   "source": [
    "fiber_table_region = FibIndex.query_region(star_coords, radius=3.*u.arcsec, shotid=None)"
   ]
  },
  {
   "cell_type": "code",
   "execution_count": 12,
   "metadata": {},
   "outputs": [
    {
     "name": "stdout",
     "output_type": "stream",
     "text": [
      "Fibers within 3 arcsec of <SkyCoord (ICRS): (ra, dec) in deg\n",
      "    (176.32574, 51.514133)> are in:\n",
      "    shotid  \n",
      "-----------\n",
      "20190208022\n"
     ]
    }
   ],
   "source": [
    "print(\"Fibers within 3 arcsec of {} are in:\\n {}\".format(star_coords, np.unique(fiber_table_region['shotid'])))"
   ]
  },
  {
   "cell_type": "code",
   "execution_count": 19,
   "metadata": {},
   "outputs": [],
   "source": [
    "hdu_star = make_data_cube(coords=star_coords, shotid=20190208022, fill_value=0.0) "
   ]
  },
  {
   "cell_type": "code",
   "execution_count": 20,
   "metadata": {},
   "outputs": [
    {
     "data": {
      "application/vnd.jupyter.widget-view+json": {
       "model_id": "3a979128fac4482ab6e0ed177dc3a733",
       "version_major": 2,
       "version_minor": 0
      },
      "text/plain": [
       "HBox(children=(VBox(children=(HBox(children=(IntSlider(value=4540, continuous_update=False, description='wave'…"
      ]
     },
     "metadata": {},
     "output_type": "display_data"
    }
   ],
   "source": [
    "w = CubeWidget(hdu=hdu_star)"
   ]
  },
  {
   "cell_type": "code",
   "execution_count": null,
   "metadata": {},
   "outputs": [],
   "source": []
  }
 ],
 "metadata": {
  "kernelspec": {
   "display_name": "Python 3 (ipykernel)",
   "language": "python",
   "name": "python3"
  },
  "language_info": {
   "codemirror_mode": {
    "name": "ipython",
    "version": 3
   },
   "file_extension": ".py",
   "mimetype": "text/x-python",
   "name": "python",
   "nbconvert_exporter": "python",
   "pygments_lexer": "ipython3",
   "version": "3.9.7"
  },
  "widgets": {
   "application/vnd.jupyter.widget-state+json": {
    "state": {
     "004fa8a65d3942f889e41c51570f5763": {
      "model_module": "@jupyter-widgets/output",
      "model_module_version": "1.0.0",
      "model_name": "OutputModel",
      "state": {
       "layout": "IPY_MODEL_9d7184cbc49d4488b0c310b1679e020d"
      }
     },
     "0293eb188f45498f93f0c6ac48fee415": {
      "model_module": "@jupyter-widgets/controls",
      "model_module_version": "2.0.0",
      "model_name": "DescriptionStyleModel",
      "state": {
       "description_width": ""
      }
     },
     "03c91d3eb5d74264a450f8cc6ce1d557": {
      "model_module": "@jupyter-widgets/controls",
      "model_module_version": "2.0.0",
      "model_name": "HTMLModel",
      "state": {
       "layout": "IPY_MODEL_156bd6a7b9ea46469810f7993e36fb3a",
       "style": "IPY_MODEL_12c830ae516a4e7282bea46bba5e13ee",
       "value": "X: 2.14, Y: 49.18 (RA: 11:45:16.650, DEC: +51:30:48.00), value:   -0.000"
      }
     },
     "09bb46ed244c452f90518ab1d3f518b5": {
      "model_module": "@jupyter-widgets/controls",
      "model_module_version": "2.0.0",
      "model_name": "HTMLModel",
      "state": {
       "layout": "IPY_MODEL_c038318d3a484583874851faeb70f85c",
       "style": "IPY_MODEL_631f5fecd11c4ca7a2c95a4c7a2217d5",
       "value": "X: 8.86, Y: 116.62 (RA: 11:45:17.396, DEC: +51:30:33.00), value:    0.003"
      }
     },
     "0b0545d2928740b4ac5df947eec1a6ea": {
      "model_module": "@jupyter-widgets/controls",
      "model_module_version": "2.0.0",
      "model_name": "HTMLModel",
      "state": {
       "layout": "IPY_MODEL_9cd7cbe0c13f47b08e6b1499f92c2d12",
       "style": "IPY_MODEL_16d558b737ab44a88cfd76a1d77ab72d",
       "value": "X: 73.66, Y: 118.30 (RA: 11:45:19.055, DEC: +51:30:37.00), value:    0.002"
      }
     },
     "0b4b16791b9f4dbca3291baae443e5d8": {
      "model_module": "@jupyter-widgets/controls",
      "model_module_version": "2.0.0",
      "model_name": "VBoxModel",
      "state": {
       "children": [
        "IPY_MODEL_f2be997a2f524491b615862bc46be8c7",
        "IPY_MODEL_e32ee95060104401a668c8fd66778732"
       ],
       "layout": "IPY_MODEL_482f167d2f704690b0e381842841e0ff"
      }
     },
     "0cfbe13017fc4a67bc578d7a477a681b": {
      "model_module": "@jupyter-widgets/base",
      "model_module_version": "2.0.0",
      "model_name": "LayoutModel",
      "state": {
       "margin": "0"
      }
     },
     "0d35af862d9941478a12129b15a5ce7d": {
      "model_module": "@jupyter-widgets/base",
      "model_module_version": "2.0.0",
      "model_name": "LayoutModel",
      "state": {}
     },
     "102d88d4591c4f5fb7a28c648abb42e1": {
      "model_module": "@jupyter-widgets/base",
      "model_module_version": "2.0.0",
      "model_name": "LayoutModel",
      "state": {
       "width": "500"
      }
     },
     "109e021085c14ce989ca4b3a71887847": {
      "model_module": "@jupyter-widgets/base",
      "model_module_version": "2.0.0",
      "model_name": "LayoutModel",
      "state": {}
     },
     "11668ef385b44200bbea166294e3cffd": {
      "buffers": [
       {
        "data": "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",
        "encoding": "base64",
        "path": [
         "_data",
         0,
         "x",
         "value"
        ]
       },
       {
        "data": "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",
        "encoding": "base64",
        "path": [
         "_data",
         0,
         "y",
         "value"
        ]
       },
       {
        "data": "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",
        "encoding": "base64",
        "path": [
         "_data",
         1,
         "x",
         "value"
        ]
       },
       {
        "data": "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",
        "encoding": "base64",
        "path": [
         "_data",
         1,
         "y",
         "value"
        ]
       },
       {
        "data": "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",
        "encoding": "base64",
        "path": [
         "_data",
         2,
         "x",
         "value"
        ]
       },
       {
        "data": "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",
        "encoding": "base64",
        "path": [
         "_data",
         2,
         "y",
         "value"
        ]
       }
      ],
      "model_module": "jupyterlab-plotly",
      "model_module_version": "^5.20.0",
      "model_name": "FigureModel",
      "state": {
       "_config": {
        "editSelection": false,
        "plotlyServerURL": "https://plot.ly"
       },
       "_data": [
        {
         "hoverinfo": "text+name",
         "mode": "lines",
         "name": "X=30 Y=30",
         "type": "scatter",
         "uid": "9e32f038-51ed-40a9-a025-d25f825c36ab",
         "x": {
          "dtype": "float64",
          "shape": [
           208
          ]
         },
         "y": {
          "dtype": "float64",
          "shape": [
           208
          ]
         }
        },
        {
         "hoverinfo": "text+name",
         "mode": "lines",
         "name": "X=27 Y=34",
         "type": "scatter",
         "uid": "7b3cc4e1-685f-4fd3-9fe4-a3120ccb1640",
         "x": {
          "dtype": "float64",
          "shape": [
           208
          ]
         },
         "y": {
          "dtype": "float64",
          "shape": [
           208
          ]
         }
        },
        {
         "hoverinfo": "text+name",
         "mode": "lines",
         "name": "X=22 Y=39",
         "type": "scatter",
         "uid": "dfbbf5da-8de8-4913-9815-06f2dcd5f110",
         "x": {
          "dtype": "float64",
          "shape": [
           208
          ]
         },
         "y": {
          "dtype": "float64",
          "shape": [
           208
          ]
         }
        }
       ],
       "_js2py_pointsCallback": {},
       "_js2py_restyle": {},
       "_js2py_update": {},
       "_last_layout_edit_id": 23,
       "_last_trace_edit_id": 14,
       "_layout": {
        "autosize": true,
        "shapes": [
         {
          "line": {
           "color": "grey",
           "width": 2
          },
          "type": "line",
          "x0": 4490,
          "x1": 4490,
          "xref": "x",
          "y0": 0,
          "y1": 1,
          "yref": "y domain"
         }
        ],
        "template": {
         "data": {
          "scatter": [
           {
            "type": "scatter"
           }
          ]
         }
        },
        "xaxis": {
         "title": {
          "text": "wavelength (A)"
         }
        },
        "yaxis": {
         "title": {
          "text": "f_lambda (1e-17 ergs/s/cm^2/A)"
         }
        }
       },
       "_py2js_animate": {},
       "_py2js_deleteTraces": {},
       "_py2js_moveTraces": {},
       "_py2js_removeLayoutProps": {},
       "_py2js_removeTraceProps": {},
       "_py2js_restyle": {},
       "_view_count": 1
      }
     },
     "11f7476cba4d483dbe49335a44d66c60": {
      "model_module": "@jupyter-widgets/controls",
      "model_module_version": "2.0.0",
      "model_name": "VBoxModel",
      "state": {
       "children": [
        "IPY_MODEL_65a717d6638844b39cc5a19993b6a6d7",
        "IPY_MODEL_430d5957b6c44486a87df9719d368ef2"
       ],
       "layout": "IPY_MODEL_48793b21be57427b89155416f4d0dbae"
      }
     },
     "126275e888f343599b6283e908d33f3b": {
      "model_module": "@jupyter-widgets/controls",
      "model_module_version": "2.0.0",
      "model_name": "CheckboxModel",
      "state": {
       "description": "Display Single Spectrum",
       "disabled": false,
       "layout": "IPY_MODEL_d14e25d140984166b916115ac0e04ca2",
       "style": "IPY_MODEL_ff1ddc30e1c74f4a943315190f13958b",
       "tooltip": "Click to plot one line at a time",
       "value": false
      }
     },
     "12c830ae516a4e7282bea46bba5e13ee": {
      "model_module": "@jupyter-widgets/controls",
      "model_module_version": "2.0.0",
      "model_name": "HTMLStyleModel",
      "state": {
       "description_width": "",
       "font_size": null,
       "text_color": null
      }
     },
     "13aeac2981a14796b8c74c93f7fb118d": {
      "model_module": "@jupyter-widgets/base",
      "model_module_version": "2.0.0",
      "model_name": "LayoutModel",
      "state": {
       "margin": "0"
      }
     },
     "13dc40557dc3437780acd29b435bfbfb": {
      "model_module": "@jupyter-widgets/controls",
      "model_module_version": "2.0.0",
      "model_name": "ButtonModel",
      "state": {
       "button_style": "success",
       "description": "Scan Cube",
       "layout": "IPY_MODEL_ce5522b8baa74d15853dcce864eecff4",
       "style": "IPY_MODEL_ab7519cc67594d50834de130503901b8",
       "tooltip": "Click this to scan in wavelength dimension"
      }
     },
     "14ece4352ee04c4aa84411742ef15d2b": {
      "model_module": "ipyevents",
      "model_module_version": "2.0.1",
      "model_name": "EventModel",
      "state": {
       "_supported_key_events": [
        "keydown",
        "keyup"
       ],
       "_supported_mouse_events": [
        "click",
        "auxclick",
        "dblclick",
        "mouseenter",
        "mouseleave",
        "mousedown",
        "mouseup",
        "mousemove",
        "wheel",
        "contextmenu",
        "dragstart",
        "drag",
        "dragend",
        "dragenter",
        "dragover",
        "dragleave",
        "drop"
       ],
       "_supported_touch_events": [
        "touchstart",
        "touchend",
        "touchmove",
        "touchcancel"
       ],
       "_view_module": "@jupyter-widgets/controls",
       "prevent_default_action": true,
       "source": "IPY_MODEL_7a7f57f6a43f4c7dab223f837789e312",
       "throttle_or_debounce": "",
       "watched_events": [
        "keydown",
        "keyup",
        "mouseenter",
        "mouseleave",
        "mousedown",
        "mouseup",
        "mousemove",
        "wheel",
        "contextmenu"
       ],
       "xy_coordinate_system": ""
      }
     },
     "156bd6a7b9ea46469810f7993e36fb3a": {
      "model_module": "@jupyter-widgets/base",
      "model_module_version": "2.0.0",
      "model_name": "LayoutModel",
      "state": {}
     },
     "15db51a1456a42af8e682c6e8ae43f09": {
      "model_module": "@jupyter-widgets/base",
      "model_module_version": "2.0.0",
      "model_name": "LayoutModel",
      "state": {}
     },
     "160f6c31dbb249f4b784d1cc975d1135": {
      "model_module": "@jupyter-widgets/controls",
      "model_module_version": "2.0.0",
      "model_name": "DescriptionStyleModel",
      "state": {
       "description_width": ""
      }
     },
     "1696b2469522434fb412c3b75a7fbaf3": {
      "model_module": "@jupyter-widgets/base",
      "model_module_version": "2.0.0",
      "model_name": "LayoutModel",
      "state": {}
     },
     "16d558b737ab44a88cfd76a1d77ab72d": {
      "model_module": "@jupyter-widgets/controls",
      "model_module_version": "2.0.0",
      "model_name": "HTMLStyleModel",
      "state": {
       "description_width": "",
       "font_size": null,
       "text_color": null
      }
     },
     "179d52940c9541a9859469576d522eb0": {
      "model_module": "@jupyter-widgets/base",
      "model_module_version": "2.0.0",
      "model_name": "LayoutModel",
      "state": {}
     },
     "17a358f095234e82bb08de3e73ace4da": {
      "model_module": "@jupyter-widgets/base",
      "model_module_version": "2.0.0",
      "model_name": "LayoutModel",
      "state": {}
     },
     "19017c6be2134592a2cd041331315a34": {
      "model_module": "@jupyter-widgets/base",
      "model_module_version": "2.0.0",
      "model_name": "LayoutModel",
      "state": {}
     },
     "1927e7049f9542e986986b611019204e": {
      "buffers": [
       {
        "data": "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",
        "encoding": "base64",
        "path": [
         "value"
        ]
       }
      ],
      "model_module": "@jupyter-widgets/controls",
      "model_module_version": "2.0.0",
      "model_name": "ImageModel",
      "state": {
       "_view_count": 1,
       "format": "jpeg",
       "height": "500",
       "layout": "IPY_MODEL_13aeac2981a14796b8c74c93f7fb118d",
       "width": "500"
      }
     },
     "193e3ba6f52a4083b5afc62146e2de8f": {
      "model_module": "@jupyter-widgets/controls",
      "model_module_version": "2.0.0",
      "model_name": "VBoxModel",
      "state": {
       "_dom_classes": [
        "widget-interact"
       ],
       "children": [
        "IPY_MODEL_bc712d1b2b9d40e38ab4798049ee50be",
        "IPY_MODEL_d28cc4363cbc4acda7b4e9f6276ea221"
       ],
       "layout": "IPY_MODEL_316c8da6019a4afd828d1abbbd16d35c"
      }
     },
     "1971a14393394aa7b2d69a8db74a95a1": {
      "model_module": "@jupyter-widgets/controls",
      "model_module_version": "2.0.0",
      "model_name": "LinkModel",
      "state": {
       "source": [
        "IPY_MODEL_c3bf6b32c0284e549ba3da0823ebb3b8",
        "value"
       ],
       "target": [
        "IPY_MODEL_cfe691edaa8b4ef3ae64d384b0c5d6a5",
        "value"
       ]
      }
     },
     "19c61639fcea414a9b1c497b0ae082aa": {
      "model_module": "jupyterlab-plotly",
      "model_module_version": "^5.20.0",
      "model_name": "FigureModel",
      "state": {
       "_config": {
        "editSelection": false,
        "plotlyServerURL": "https://plot.ly"
       },
       "_js2py_pointsCallback": {},
       "_js2py_restyle": {},
       "_js2py_update": {},
       "_last_layout_edit_id": 2,
       "_last_trace_edit_id": 1,
       "_layout": {
        "autosize": true,
        "template": {
         "data": {
          "scatter": [
           {
            "type": "scatter"
           }
          ]
         }
        }
       },
       "_py2js_addTraces": {},
       "_py2js_animate": {},
       "_py2js_deleteTraces": {},
       "_py2js_moveTraces": {},
       "_py2js_removeLayoutProps": {},
       "_py2js_removeTraceProps": {},
       "_py2js_restyle": {},
       "_view_count": 0
      }
     },
     "19dfdfed94914c2fa08d3eae44295971": {
      "model_module": "@jupyter-widgets/base",
      "model_module_version": "2.0.0",
      "model_name": "LayoutModel",
      "state": {}
     },
     "1a080129e8274156a09c568b804c2099": {
      "model_module": "@jupyter-widgets/controls",
      "model_module_version": "2.0.0",
      "model_name": "VBoxModel",
      "state": {
       "children": [
        "IPY_MODEL_8a1135a5855741f6a15e167a578052b4",
        "IPY_MODEL_50ea22e498094eb3b8229c0b140b089f"
       ],
       "layout": "IPY_MODEL_7d14aefd544b44fdad489d380c32fc1e"
      }
     },
     "1bc1ed5461cd4d469d33bcbf6e974061": {
      "model_module": "@jupyter-widgets/base",
      "model_module_version": "2.0.0",
      "model_name": "LayoutModel",
      "state": {}
     },
     "1d50b6f76841429bab4ef5fa8a34200f": {
      "model_module": "@jupyter-widgets/base",
      "model_module_version": "2.0.0",
      "model_name": "LayoutModel",
      "state": {
       "margin": "0"
      }
     },
     "1e6600c5f27447a7a69b47c653df44be": {
      "model_module": "@jupyter-widgets/controls",
      "model_module_version": "2.0.0",
      "model_name": "ButtonStyleModel",
      "state": {
       "font_family": null,
       "font_size": null,
       "font_style": null,
       "font_variant": null,
       "font_weight": null,
       "text_color": null,
       "text_decoration": null
      }
     },
     "1e928ad0d7a742a68efe39adae8416d5": {
      "model_module": "@jupyter-widgets/base",
      "model_module_version": "2.0.0",
      "model_name": "LayoutModel",
      "state": {}
     },
     "2072d828674046cc9fbdad9527bdd895": {
      "model_module": "@jupyter-widgets/controls",
      "model_module_version": "2.0.0",
      "model_name": "DescriptionStyleModel",
      "state": {
       "description_width": ""
      }
     },
     "22a2c93d45a64ed5b976b6a1a08e96b6": {
      "model_module": "@jupyter-widgets/controls",
      "model_module_version": "2.0.0",
      "model_name": "ButtonStyleModel",
      "state": {
       "font_family": null,
       "font_size": null,
       "font_style": null,
       "font_variant": null,
       "font_weight": null,
       "text_color": null,
       "text_decoration": null
      }
     },
     "2534de88bf0d48d2b162e6786b9742da": {
      "model_module": "@jupyter-widgets/base",
      "model_module_version": "2.0.0",
      "model_name": "LayoutModel",
      "state": {}
     },
     "25e6bc19aff94712a2b95f4389f83447": {
      "model_module": "@jupyter-widgets/controls",
      "model_module_version": "2.0.0",
      "model_name": "HTMLModel",
      "state": {
       "layout": "IPY_MODEL_284db39045c447f7b61c9e107f454ffd",
       "style": "IPY_MODEL_ba0a4b8cf9c2499f956ceeba60e11b0e",
       "value": "X: -0.02, Y: 115.90 (RA: 11:45:17.165, DEC: +51:30:32.00), value: N/A"
      }
     },
     "284db39045c447f7b61c9e107f454ffd": {
      "model_module": "@jupyter-widgets/base",
      "model_module_version": "2.0.0",
      "model_name": "LayoutModel",
      "state": {}
     },
     "28e2437f0535439ca11a0733a7bc64ff": {
      "model_module": "@jupyter-widgets/controls",
      "model_module_version": "2.0.0",
      "model_name": "CheckboxModel",
      "state": {
       "description": "Display Single Spectrum",
       "disabled": false,
       "layout": "IPY_MODEL_b92ff80e43764272ba14718c1f860cc3",
       "style": "IPY_MODEL_fcd1c7d9fa3c456aa3230096ec4d5209",
       "tooltip": "Click to plot one line at a time",
       "value": false
      }
     },
     "298da438a7464230903acc68414633f8": {
      "model_module": "@jupyter-widgets/base",
      "model_module_version": "2.0.0",
      "model_name": "LayoutModel",
      "state": {}
     },
     "2c81cf28a5054d5e91da87052887afc4": {
      "model_module": "@jupyter-widgets/controls",
      "model_module_version": "2.0.0",
      "model_name": "VBoxModel",
      "state": {
       "children": [
        "IPY_MODEL_933567664fa24e8a874cdea53c65ca91",
        "IPY_MODEL_03c91d3eb5d74264a450f8cc6ce1d557"
       ],
       "layout": "IPY_MODEL_102d88d4591c4f5fb7a28c648abb42e1"
      }
     },
     "2d67e7c00fc8436c91a2db489e27600d": {
      "model_module": "@jupyter-widgets/base",
      "model_module_version": "2.0.0",
      "model_name": "LayoutModel",
      "state": {}
     },
     "2d88b6f2245f44bcb0f403b3d418894d": {
      "model_module": "@jupyter-widgets/output",
      "model_module_version": "1.0.0",
      "model_name": "OutputModel",
      "state": {
       "layout": "IPY_MODEL_3373946a6e444727855a686f7c2e7e8d",
       "outputs": [
        {
         "ename": "NameError",
         "evalue": "name 'viewer' is not defined",
         "output_type": "error",
         "traceback": [
          "\u001b[0;31m---------------------------------------------------------------------------\u001b[0m",
          "\u001b[0;31mNameError\u001b[0m                                 Traceback (most recent call last)",
          "\u001b[0;32m~/.local/lib/python3.9/site-packages/ipywidgets/widgets/interaction.py\u001b[0m in \u001b[0;36mupdate\u001b[0;34m(self, *args)\u001b[0m\n\u001b[1;32m    238\u001b[0m                     \u001b[0mvalue\u001b[0m \u001b[0;34m=\u001b[0m \u001b[0mwidget\u001b[0m\u001b[0;34m.\u001b[0m\u001b[0mget_interact_value\u001b[0m\u001b[0;34m(\u001b[0m\u001b[0;34m)\u001b[0m\u001b[0;34m\u001b[0m\u001b[0;34m\u001b[0m\u001b[0m\n\u001b[1;32m    239\u001b[0m                     \u001b[0mself\u001b[0m\u001b[0;34m.\u001b[0m\u001b[0mkwargs\u001b[0m\u001b[0;34m[\u001b[0m\u001b[0mwidget\u001b[0m\u001b[0;34m.\u001b[0m\u001b[0m_kwarg\u001b[0m\u001b[0;34m]\u001b[0m \u001b[0;34m=\u001b[0m \u001b[0mvalue\u001b[0m\u001b[0;34m\u001b[0m\u001b[0;34m\u001b[0m\u001b[0m\n\u001b[0;32m--> 240\u001b[0;31m                 \u001b[0mself\u001b[0m\u001b[0;34m.\u001b[0m\u001b[0mresult\u001b[0m \u001b[0;34m=\u001b[0m \u001b[0mself\u001b[0m\u001b[0;34m.\u001b[0m\u001b[0mf\u001b[0m\u001b[0;34m(\u001b[0m\u001b[0;34m**\u001b[0m\u001b[0mself\u001b[0m\u001b[0;34m.\u001b[0m\u001b[0mkwargs\u001b[0m\u001b[0;34m)\u001b[0m\u001b[0;34m\u001b[0m\u001b[0;34m\u001b[0m\u001b[0m\n\u001b[0m\u001b[1;32m    241\u001b[0m                 \u001b[0mshow_inline_matplotlib_plots\u001b[0m\u001b[0;34m(\u001b[0m\u001b[0;34m)\u001b[0m\u001b[0;34m\u001b[0m\u001b[0;34m\u001b[0m\u001b[0m\n\u001b[1;32m    242\u001b[0m                 \u001b[0;32mif\u001b[0m \u001b[0mself\u001b[0m\u001b[0;34m.\u001b[0m\u001b[0mauto_display\u001b[0m \u001b[0;32mand\u001b[0m \u001b[0mself\u001b[0m\u001b[0;34m.\u001b[0m\u001b[0mresult\u001b[0m \u001b[0;32mis\u001b[0m \u001b[0;32mnot\u001b[0m \u001b[0;32mNone\u001b[0m\u001b[0;34m:\u001b[0m\u001b[0;34m\u001b[0m\u001b[0;34m\u001b[0m\u001b[0m\n",
          "\u001b[0;32m~/hetdex_api/hetdex_api/cube_widget.py\u001b[0m in \u001b[0;36mshow_slice\u001b[0;34m(self, wave)\u001b[0m\n\u001b[1;32m    291\u001b[0m         \u001b[0mself\u001b[0m\u001b[0;34m.\u001b[0m\u001b[0mimage_show_slice\u001b[0m\u001b[0;34m(\u001b[0m\u001b[0mn\u001b[0m \u001b[0;34m-\u001b[0m \u001b[0;36m1\u001b[0m\u001b[0;34m)\u001b[0m\u001b[0;34m\u001b[0m\u001b[0;34m\u001b[0m\u001b[0m\n\u001b[1;32m    292\u001b[0m         \u001b[0mself\u001b[0m\u001b[0;34m.\u001b[0m\u001b[0mplot_spec\u001b[0m\u001b[0;34m(\u001b[0m\u001b[0mtrace_freeze\u001b[0m\u001b[0;34m=\u001b[0m\u001b[0;32mTrue\u001b[0m\u001b[0;34m)\u001b[0m\u001b[0;34m\u001b[0m\u001b[0;34m\u001b[0m\u001b[0m\n\u001b[0;32m--> 293\u001b[0;31m         \u001b[0msuper\u001b[0m\u001b[0;34m(\u001b[0m\u001b[0;34m)\u001b[0m\u001b[0;34m.\u001b[0m\u001b[0m_mouse_click_cb\u001b[0m\u001b[0;34m(\u001b[0m\u001b[0mviewer\u001b[0m\u001b[0;34m,\u001b[0m \u001b[0mevent\u001b[0m\u001b[0;34m,\u001b[0m \u001b[0mdata_x\u001b[0m\u001b[0;34m,\u001b[0m \u001b[0mdata_y\u001b[0m\u001b[0;34m)\u001b[0m\u001b[0;34m\u001b[0m\u001b[0;34m\u001b[0m\u001b[0m\n\u001b[0m",
          "\u001b[0;31mNameError\u001b[0m: name 'viewer' is not defined"
         ]
        }
       ]
      }
     },
     "2e57abb766a8481aac598548bc7b2fed": {
      "model_module": "@jupyter-widgets/base",
      "model_module_version": "2.0.0",
      "model_name": "LayoutModel",
      "state": {}
     },
     "30339e693b2f4984bdc4dfa52acf5a32": {
      "model_module": "@jupyter-widgets/controls",
      "model_module_version": "2.0.0",
      "model_name": "HBoxModel",
      "state": {
       "children": [
        "IPY_MODEL_11f7476cba4d483dbe49335a44d66c60",
        "IPY_MODEL_0b4b16791b9f4dbca3291baae443e5d8"
       ],
       "layout": "IPY_MODEL_d61f8eb3af274585b64a7121f02bf52c"
      }
     },
     "316c8da6019a4afd828d1abbbd16d35c": {
      "model_module": "@jupyter-widgets/base",
      "model_module_version": "2.0.0",
      "model_name": "LayoutModel",
      "state": {}
     },
     "3192d1dd421e47128934409d96ae3ba2": {
      "model_module": "@jupyter-widgets/controls",
      "model_module_version": "2.0.0",
      "model_name": "CheckboxStyleModel",
      "state": {
       "description_width": ""
      }
     },
     "31a41532313d4520a30f4ddc86d7bde3": {
      "model_module": "@jupyter-widgets/base",
      "model_module_version": "2.0.0",
      "model_name": "LayoutModel",
      "state": {}
     },
     "32dbb39c7c294cacbcafbbb68798bd61": {
      "model_module": "@jupyter-widgets/controls",
      "model_module_version": "2.0.0",
      "model_name": "VBoxModel",
      "state": {
       "children": [
        "IPY_MODEL_9fb33c82e8c2465895c9fd551108f1f6",
        "IPY_MODEL_518f09b280934e358b24c5a5854ee7bd"
       ],
       "layout": "IPY_MODEL_31a41532313d4520a30f4ddc86d7bde3"
      }
     },
     "3373946a6e444727855a686f7c2e7e8d": {
      "model_module": "@jupyter-widgets/base",
      "model_module_version": "2.0.0",
      "model_name": "LayoutModel",
      "state": {}
     },
     "35c01da5a1bf41939158c3a7f4ba1a14": {
      "model_module": "@jupyter-widgets/base",
      "model_module_version": "2.0.0",
      "model_name": "LayoutModel",
      "state": {}
     },
     "35d6349b3cc24ca28553589f4545ef9d": {
      "model_module": "@jupyter-widgets/controls",
      "model_module_version": "2.0.0",
      "model_name": "LinkModel",
      "state": {
       "source": [
        "IPY_MODEL_67632192398340808ec4c26787ec03ff",
        "value"
       ],
       "target": [
        "IPY_MODEL_ab08cd010c9d4985a728933faa8a74e9",
        "value"
       ]
      }
     },
     "3685b168a6a74b9182088ae7fc82e1e7": {
      "model_module": "@jupyter-widgets/controls",
      "model_module_version": "2.0.0",
      "model_name": "CheckboxStyleModel",
      "state": {
       "description_width": ""
      }
     },
     "389ae83f70f34f828bc96c8e1ae62a7f": {
      "model_module": "@jupyter-widgets/base",
      "model_module_version": "2.0.0",
      "model_name": "LayoutModel",
      "state": {}
     },
     "3a979128fac4482ab6e0ed177dc3a733": {
      "model_module": "@jupyter-widgets/controls",
      "model_module_version": "2.0.0",
      "model_name": "HBoxModel",
      "state": {
       "children": [
        "IPY_MODEL_e00db5f43c2946fab921684ab53ea23f",
        "IPY_MODEL_99e79b28110042268643f31db5613391"
       ],
       "layout": "IPY_MODEL_15db51a1456a42af8e682c6e8ae43f09"
      }
     },
     "3c899b4532ee457d8a5e2255dc69625b": {
      "model_module": "@jupyter-widgets/output",
      "model_module_version": "1.0.0",
      "model_name": "OutputModel",
      "state": {
       "layout": "IPY_MODEL_9e097f84a61544da984f070b1736d76a"
      }
     },
     "3e5d35a89c314868b0f3eb46225312f6": {
      "model_module": "@jupyter-widgets/controls",
      "model_module_version": "2.0.0",
      "model_name": "SliderStyleModel",
      "state": {
       "description_width": ""
      }
     },
     "417382eb49b140c69bb8b442310de94d": {
      "model_module": "@jupyter-widgets/base",
      "model_module_version": "2.0.0",
      "model_name": "LayoutModel",
      "state": {}
     },
     "430d5957b6c44486a87df9719d368ef2": {
      "model_module": "@jupyter-widgets/controls",
      "model_module_version": "2.0.0",
      "model_name": "VBoxModel",
      "state": {
       "children": [
        "IPY_MODEL_fbecc64c478e40388aa2b0b4b29c9618",
        "IPY_MODEL_25e6bc19aff94712a2b95f4389f83447"
       ],
       "layout": "IPY_MODEL_febb64eb3ee1477abb29a0f1192c13cf"
      }
     },
     "482f167d2f704690b0e381842841e0ff": {
      "model_module": "@jupyter-widgets/base",
      "model_module_version": "2.0.0",
      "model_name": "LayoutModel",
      "state": {}
     },
     "48793b21be57427b89155416f4d0dbae": {
      "model_module": "@jupyter-widgets/base",
      "model_module_version": "2.0.0",
      "model_name": "LayoutModel",
      "state": {}
     },
     "4abbad8a384a460986aa0f3a39085ffe": {
      "model_module": "@jupyter-widgets/base",
      "model_module_version": "2.0.0",
      "model_name": "LayoutModel",
      "state": {}
     },
     "4b0bdb3559f544a9acd5dea32d71f205": {
      "model_module": "@jupyter-widgets/base",
      "model_module_version": "2.0.0",
      "model_name": "LayoutModel",
      "state": {}
     },
     "4cf4f99946e44c668e429547c47c3d0c": {
      "model_module": "@jupyter-widgets/controls",
      "model_module_version": "2.0.0",
      "model_name": "HBoxModel",
      "state": {
       "children": [
        "IPY_MODEL_a3370e5b04c8499b8c241f8e43c8f291",
        "IPY_MODEL_4d7527053dc942b3920fdca8ffdc8b52"
       ],
       "layout": "IPY_MODEL_92061b010dcb4223a3f4f690bf56b9cc"
      }
     },
     "4d7527053dc942b3920fdca8ffdc8b52": {
      "model_module": "@jupyter-widgets/controls",
      "model_module_version": "2.0.0",
      "model_name": "PlayModel",
      "state": {
       "description": "Scan Cube",
       "layout": "IPY_MODEL_599df0a0c84a4afb98bf7d0291343b60",
       "max": 5550,
       "min": 3470,
       "step": 10,
       "style": "IPY_MODEL_0293eb188f45498f93f0c6ac48fee415",
       "value": 4500
      }
     },
     "4e89f5bd1592458faabe95f3203d14de": {
      "model_module": "@jupyter-widgets/controls",
      "model_module_version": "2.0.0",
      "model_name": "VBoxModel",
      "state": {
       "children": [
        "IPY_MODEL_11668ef385b44200bbea166294e3cffd",
        "IPY_MODEL_eb0b4cdfbdaa48a0ba7b6b5cc483e17f"
       ],
       "layout": "IPY_MODEL_2d67e7c00fc8436c91a2db489e27600d"
      }
     },
     "4ed33e27148b4fe296765e72704ba33f": {
      "model_module": "@jupyter-widgets/output",
      "model_module_version": "1.0.0",
      "model_name": "OutputModel",
      "state": {
       "layout": "IPY_MODEL_0d35af862d9941478a12129b15a5ce7d"
      }
     },
     "50ea22e498094eb3b8229c0b140b089f": {
      "model_module": "@jupyter-widgets/controls",
      "model_module_version": "2.0.0",
      "model_name": "VBoxModel",
      "state": {
       "children": [
        "IPY_MODEL_d1398064f5944c8780c10d36a1e295a4",
        "IPY_MODEL_0b0545d2928740b4ac5df947eec1a6ea"
       ],
       "layout": "IPY_MODEL_98ee0f0afc914483bc0cba6cb0d7425d"
      }
     },
     "518f09b280934e358b24c5a5854ee7bd": {
      "model_module": "@jupyter-widgets/controls",
      "model_module_version": "2.0.0",
      "model_name": "CheckboxModel",
      "state": {
       "description": "Display Single Spectrum",
       "disabled": false,
       "layout": "IPY_MODEL_ebea0752fe714241abf3df683226b556",
       "style": "IPY_MODEL_b23544b47b9346b987d8edefe0921cd0",
       "tooltip": "Click to plot one line at a time",
       "value": false
      }
     },
     "529217314e03424fb9acbf2cf11b6b5a": {
      "model_module": "@jupyter-widgets/controls",
      "model_module_version": "2.0.0",
      "model_name": "PlayModel",
      "state": {
       "description": "Scan Cube",
       "layout": "IPY_MODEL_417382eb49b140c69bb8b442310de94d",
       "max": 5542,
       "min": 3470,
       "step": 2,
       "style": "IPY_MODEL_d33be96c764446c58b6b828b349f5fe9",
       "value": 4626
      }
     },
     "52db67b27670403187218775cee39e0f": {
      "model_module": "@jupyter-widgets/base",
      "model_module_version": "2.0.0",
      "model_name": "LayoutModel",
      "state": {}
     },
     "546c60c31b7c40a487d5e78ed7d694fc": {
      "model_module": "@jupyter-widgets/controls",
      "model_module_version": "2.0.0",
      "model_name": "VBoxModel",
      "state": {
       "children": [
        "IPY_MODEL_f451f28cd62348dab28ad4e7f686aedd",
        "IPY_MODEL_d687932f58a543d19e55cf2f895abeb4"
       ],
       "layout": "IPY_MODEL_17a358f095234e82bb08de3e73ace4da"
      }
     },
     "585e50e8b97f47b79cee7a2db8959971": {
      "model_module": "@jupyter-widgets/base",
      "model_module_version": "2.0.0",
      "model_name": "LayoutModel",
      "state": {}
     },
     "58f543a91de94221ac6107a538bc9992": {
      "model_module": "@jupyter-widgets/base",
      "model_module_version": "2.0.0",
      "model_name": "LayoutModel",
      "state": {}
     },
     "599df0a0c84a4afb98bf7d0291343b60": {
      "model_module": "@jupyter-widgets/base",
      "model_module_version": "2.0.0",
      "model_name": "LayoutModel",
      "state": {}
     },
     "5b5ca00668414ef1868b9b3da0cf31c2": {
      "model_module": "@jupyter-widgets/controls",
      "model_module_version": "2.0.0",
      "model_name": "VBoxModel",
      "state": {
       "_dom_classes": [
        "widget-interact"
       ],
       "children": [
        "IPY_MODEL_ff870052ab8244198ab1d58449fe9298",
        "IPY_MODEL_2d88b6f2245f44bcb0f403b3d418894d"
       ],
       "layout": "IPY_MODEL_e92ca51e9cf143be8bdc0c7ddc8be7eb"
      }
     },
     "5c4f851cfbae4a35b74c1e25abf446e0": {
      "model_module": "@jupyter-widgets/base",
      "model_module_version": "2.0.0",
      "model_name": "LayoutModel",
      "state": {}
     },
     "5c676115582f4674ae1f3456960cc262": {
      "model_module": "@jupyter-widgets/output",
      "model_module_version": "1.0.0",
      "model_name": "OutputModel",
      "state": {
       "layout": "IPY_MODEL_179d52940c9541a9859469576d522eb0"
      }
     },
     "5ddfeaccbaab43e9ad6cc742b7b8d150": {
      "model_module": "@jupyter-widgets/controls",
      "model_module_version": "2.0.0",
      "model_name": "ButtonStyleModel",
      "state": {
       "font_family": null,
       "font_size": null,
       "font_style": null,
       "font_variant": null,
       "font_weight": null,
       "text_color": null,
       "text_decoration": null
      }
     },
     "631f5fecd11c4ca7a2c95a4c7a2217d5": {
      "model_module": "@jupyter-widgets/controls",
      "model_module_version": "2.0.0",
      "model_name": "HTMLStyleModel",
      "state": {
       "description_width": "",
       "font_size": null,
       "text_color": null
      }
     },
     "653326591ac5491483f2da07b3a53687": {
      "model_module": "@jupyter-widgets/base",
      "model_module_version": "2.0.0",
      "model_name": "LayoutModel",
      "state": {}
     },
     "65a717d6638844b39cc5a19993b6a6d7": {
      "model_module": "@jupyter-widgets/controls",
      "model_module_version": "2.0.0",
      "model_name": "HBoxModel",
      "state": {
       "children": [
        "IPY_MODEL_cfe691edaa8b4ef3ae64d384b0c5d6a5",
        "IPY_MODEL_c3bf6b32c0284e549ba3da0823ebb3b8"
       ],
       "layout": "IPY_MODEL_298da438a7464230903acc68414633f8"
      }
     },
     "673279242f0f41f6bf66155e921774a7": {
      "model_module": "@jupyter-widgets/base",
      "model_module_version": "2.0.0",
      "model_name": "LayoutModel",
      "state": {}
     },
     "67632192398340808ec4c26787ec03ff": {
      "model_module": "@jupyter-widgets/controls",
      "model_module_version": "2.0.0",
      "model_name": "PlayModel",
      "state": {
       "description": "Scan Cube",
       "layout": "IPY_MODEL_2534de88bf0d48d2b162e6786b9742da",
       "max": 5542,
       "min": 3470,
       "step": 2,
       "style": "IPY_MODEL_160f6c31dbb249f4b784d1cc975d1135",
       "value": 4500
      }
     },
     "6ab8afdc2b8245e1b2795829457ff22a": {
      "model_module": "@jupyter-widgets/base",
      "model_module_version": "2.0.0",
      "model_name": "LayoutModel",
      "state": {}
     },
     "7169a1d4117e44358cf43e7ceb8fb602": {
      "model_module": "ipyevents",
      "model_module_version": "2.0.1",
      "model_name": "EventModel",
      "state": {
       "_supported_key_events": [
        "keydown",
        "keyup"
       ],
       "_supported_mouse_events": [
        "click",
        "auxclick",
        "dblclick",
        "mouseenter",
        "mouseleave",
        "mousedown",
        "mouseup",
        "mousemove",
        "wheel",
        "contextmenu",
        "dragstart",
        "drag",
        "dragend",
        "dragenter",
        "dragover",
        "dragleave",
        "drop"
       ],
       "_supported_touch_events": [
        "touchstart",
        "touchend",
        "touchmove",
        "touchcancel"
       ],
       "_view_module": "@jupyter-widgets/controls",
       "prevent_default_action": true,
       "source": "IPY_MODEL_1927e7049f9542e986986b611019204e",
       "throttle_or_debounce": "",
       "watched_events": [
        "keydown",
        "keyup",
        "mouseenter",
        "mouseleave",
        "mousedown",
        "mouseup",
        "mousemove",
        "wheel",
        "contextmenu"
       ],
       "xy_coordinate_system": ""
      }
     },
     "735b7bb5c36a40e8a0d0a733dd6a1fc8": {
      "model_module": "@jupyter-widgets/controls",
      "model_module_version": "2.0.0",
      "model_name": "VBoxModel",
      "state": {
       "children": [
        "IPY_MODEL_19c61639fcea414a9b1c497b0ae082aa",
        "IPY_MODEL_126275e888f343599b6283e908d33f3b"
       ],
       "layout": "IPY_MODEL_19017c6be2134592a2cd041331315a34"
      }
     },
     "7566d8a1e5b74e2bb89f618ff72214b0": {
      "model_module": "@jupyter-widgets/controls",
      "model_module_version": "2.0.0",
      "model_name": "VBoxModel",
      "state": {
       "_dom_classes": [
        "widget-interact"
       ],
       "children": [
        "IPY_MODEL_cec7630e2cdc4bc4b41427ff4fcc10df",
        "IPY_MODEL_80df7a914efd45b8ac63b150fdcca861"
       ],
       "layout": "IPY_MODEL_5c4f851cfbae4a35b74c1e25abf446e0"
      }
     },
     "767e0bf27e1e477eb3be33af79f07226": {
      "buffers": [
       {
        "data": "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",
        "encoding": "base64",
        "path": [
         "value"
        ]
       }
      ],
      "model_module": "@jupyter-widgets/controls",
      "model_module_version": "2.0.0",
      "model_name": "ImageModel",
      "state": {
       "_view_count": 0,
       "format": "jpeg",
       "height": "500",
       "layout": "IPY_MODEL_1d50b6f76841429bab4ef5fa8a34200f",
       "width": "500"
      }
     },
     "78161830ab4d4173aac0e3d08598eaa6": {
      "model_module": "@jupyter-widgets/base",
      "model_module_version": "2.0.0",
      "model_name": "LayoutModel",
      "state": {}
     },
     "787051b3313742f5bd9c446238ab00ac": {
      "model_module": "@jupyter-widgets/base",
      "model_module_version": "2.0.0",
      "model_name": "LayoutModel",
      "state": {}
     },
     "79d5478b90fb43c1be19cce308ebfd05": {
      "model_module": "@jupyter-widgets/base",
      "model_module_version": "2.0.0",
      "model_name": "LayoutModel",
      "state": {}
     },
     "79ef6747700744b18337280f3c24e97c": {
      "model_module": "@jupyter-widgets/controls",
      "model_module_version": "2.0.0",
      "model_name": "VBoxModel",
      "state": {
       "_dom_classes": [
        "widget-interact"
       ],
       "children": [
        "IPY_MODEL_cfe691edaa8b4ef3ae64d384b0c5d6a5",
        "IPY_MODEL_978f523c03ff406d9beffd3cf458bdbd"
       ],
       "layout": "IPY_MODEL_aef4fc0b26c44ce3a97f6ee5fb37f607"
      }
     },
     "7a7f57f6a43f4c7dab223f837789e312": {
      "buffers": [
       {
        "data": "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",
        "encoding": "base64",
        "path": [
         "value"
        ]
       }
      ],
      "model_module": "@jupyter-widgets/controls",
      "model_module_version": "2.0.0",
      "model_name": "ImageModel",
      "state": {
       "_view_count": 1,
       "format": "jpeg",
       "height": "500",
       "layout": "IPY_MODEL_ff74b58a2eba4b9990a375c67414c010",
       "width": "500"
      }
     },
     "7c44bb9a3f184375b3c5fda83a43c56a": {
      "model_module": "@jupyter-widgets/base",
      "model_module_version": "2.0.0",
      "model_name": "LayoutModel",
      "state": {}
     },
     "7c79b2ebb34744809380fea1dd7e19e7": {
      "model_module": "@jupyter-widgets/controls",
      "model_module_version": "2.0.0",
      "model_name": "HBoxModel",
      "state": {
       "children": [
        "IPY_MODEL_ab08cd010c9d4985a728933faa8a74e9",
        "IPY_MODEL_67632192398340808ec4c26787ec03ff"
       ],
       "layout": "IPY_MODEL_ae95406367104b71a8983fe88034c091"
      }
     },
     "7d14aefd544b44fdad489d380c32fc1e": {
      "model_module": "@jupyter-widgets/base",
      "model_module_version": "2.0.0",
      "model_name": "LayoutModel",
      "state": {}
     },
     "7da8e087c26f4a0f8f522cd159871b9d": {
      "model_module": "@jupyter-widgets/controls",
      "model_module_version": "2.0.0",
      "model_name": "LinkModel",
      "state": {
       "source": [
        "IPY_MODEL_aadb6a419db1412e9f99cc5e805b5c2d",
        "value"
       ],
       "target": [
        "IPY_MODEL_bc712d1b2b9d40e38ab4798049ee50be",
        "value"
       ]
      }
     },
     "8032daa168f94848acb46da953502887": {
      "model_module": "@jupyter-widgets/controls",
      "model_module_version": "2.0.0",
      "model_name": "SliderStyleModel",
      "state": {
       "description_width": ""
      }
     },
     "80df7a914efd45b8ac63b150fdcca861": {
      "model_module": "@jupyter-widgets/output",
      "model_module_version": "1.0.0",
      "model_name": "OutputModel",
      "state": {
       "layout": "IPY_MODEL_db9d00ff547846f2bf8ffdb3e124f217",
       "outputs": [
        {
         "ename": "NameError",
         "evalue": "name 'viewer' is not defined",
         "output_type": "error",
         "traceback": [
          "\u001b[0;31m---------------------------------------------------------------------------\u001b[0m",
          "\u001b[0;31mNameError\u001b[0m                                 Traceback (most recent call last)",
          "\u001b[0;32m~/.local/lib/python3.9/site-packages/ipywidgets/widgets/interaction.py\u001b[0m in \u001b[0;36mupdate\u001b[0;34m(self, *args)\u001b[0m\n\u001b[1;32m    238\u001b[0m                     \u001b[0mvalue\u001b[0m \u001b[0;34m=\u001b[0m \u001b[0mwidget\u001b[0m\u001b[0;34m.\u001b[0m\u001b[0mget_interact_value\u001b[0m\u001b[0;34m(\u001b[0m\u001b[0;34m)\u001b[0m\u001b[0;34m\u001b[0m\u001b[0;34m\u001b[0m\u001b[0m\n\u001b[1;32m    239\u001b[0m                     \u001b[0mself\u001b[0m\u001b[0;34m.\u001b[0m\u001b[0mkwargs\u001b[0m\u001b[0;34m[\u001b[0m\u001b[0mwidget\u001b[0m\u001b[0;34m.\u001b[0m\u001b[0m_kwarg\u001b[0m\u001b[0;34m]\u001b[0m \u001b[0;34m=\u001b[0m \u001b[0mvalue\u001b[0m\u001b[0;34m\u001b[0m\u001b[0;34m\u001b[0m\u001b[0m\n\u001b[0;32m--> 240\u001b[0;31m                 \u001b[0mself\u001b[0m\u001b[0;34m.\u001b[0m\u001b[0mresult\u001b[0m \u001b[0;34m=\u001b[0m \u001b[0mself\u001b[0m\u001b[0;34m.\u001b[0m\u001b[0mf\u001b[0m\u001b[0;34m(\u001b[0m\u001b[0;34m**\u001b[0m\u001b[0mself\u001b[0m\u001b[0;34m.\u001b[0m\u001b[0mkwargs\u001b[0m\u001b[0;34m)\u001b[0m\u001b[0;34m\u001b[0m\u001b[0;34m\u001b[0m\u001b[0m\n\u001b[0m\u001b[1;32m    241\u001b[0m                 \u001b[0mshow_inline_matplotlib_plots\u001b[0m\u001b[0;34m(\u001b[0m\u001b[0;34m)\u001b[0m\u001b[0;34m\u001b[0m\u001b[0;34m\u001b[0m\u001b[0m\n\u001b[1;32m    242\u001b[0m                 \u001b[0;32mif\u001b[0m \u001b[0mself\u001b[0m\u001b[0;34m.\u001b[0m\u001b[0mauto_display\u001b[0m \u001b[0;32mand\u001b[0m \u001b[0mself\u001b[0m\u001b[0;34m.\u001b[0m\u001b[0mresult\u001b[0m \u001b[0;32mis\u001b[0m \u001b[0;32mnot\u001b[0m \u001b[0;32mNone\u001b[0m\u001b[0;34m:\u001b[0m\u001b[0;34m\u001b[0m\u001b[0;34m\u001b[0m\u001b[0m\n",
          "\u001b[0;32m~/hetdex_api/hetdex_api/cube_widget.py\u001b[0m in \u001b[0;36mshow_slice\u001b[0;34m(self, wave)\u001b[0m\n\u001b[1;32m    291\u001b[0m         \u001b[0mself\u001b[0m\u001b[0;34m.\u001b[0m\u001b[0mimage_show_slice\u001b[0m\u001b[0;34m(\u001b[0m\u001b[0mn\u001b[0m \u001b[0;34m-\u001b[0m \u001b[0;36m1\u001b[0m\u001b[0;34m)\u001b[0m\u001b[0;34m\u001b[0m\u001b[0;34m\u001b[0m\u001b[0m\n\u001b[1;32m    292\u001b[0m         \u001b[0mself\u001b[0m\u001b[0;34m.\u001b[0m\u001b[0mplot_spec\u001b[0m\u001b[0;34m(\u001b[0m\u001b[0mtrace_freeze\u001b[0m\u001b[0;34m=\u001b[0m\u001b[0;32mTrue\u001b[0m\u001b[0;34m)\u001b[0m\u001b[0;34m\u001b[0m\u001b[0;34m\u001b[0m\u001b[0m\n\u001b[0;32m--> 293\u001b[0;31m         \u001b[0msuper\u001b[0m\u001b[0;34m(\u001b[0m\u001b[0;34m)\u001b[0m\u001b[0;34m.\u001b[0m\u001b[0m_mouse_click_cb\u001b[0m\u001b[0;34m(\u001b[0m\u001b[0mviewer\u001b[0m\u001b[0;34m,\u001b[0m \u001b[0mevent\u001b[0m\u001b[0;34m,\u001b[0m \u001b[0mdata_x\u001b[0m\u001b[0;34m,\u001b[0m \u001b[0mdata_y\u001b[0m\u001b[0;34m)\u001b[0m\u001b[0;34m\u001b[0m\u001b[0;34m\u001b[0m\u001b[0m\n\u001b[0m",
          "\u001b[0;31mNameError\u001b[0m: name 'viewer' is not defined"
         ]
        }
       ]
      }
     },
     "81ab48fcc7b54484976811d9c8f2230d": {
      "model_module": "@jupyter-widgets/controls",
      "model_module_version": "2.0.0",
      "model_name": "CheckboxStyleModel",
      "state": {
       "description_width": ""
      }
     },
     "84f326f3d7f640049e22353a570dfbe8": {
      "model_module": "@jupyter-widgets/controls",
      "model_module_version": "2.0.0",
      "model_name": "ButtonModel",
      "state": {
       "button_style": "success",
       "description": "Scan Cube",
       "layout": "IPY_MODEL_d09a6b423a4b4734ae90e8fafcff9ac6",
       "style": "IPY_MODEL_a16c1ef1fe9242e087ccaba9c9a32207",
       "tooltip": "Click this to scan in wavelength dimension"
      }
     },
     "8a1135a5855741f6a15e167a578052b4": {
      "model_module": "@jupyter-widgets/controls",
      "model_module_version": "2.0.0",
      "model_name": "HBoxModel",
      "state": {
       "children": [
        "IPY_MODEL_cec7630e2cdc4bc4b41427ff4fcc10df",
        "IPY_MODEL_529217314e03424fb9acbf2cf11b6b5a"
       ],
       "layout": "IPY_MODEL_78161830ab4d4173aac0e3d08598eaa6"
      }
     },
     "8a191d119bb3459fbb7e15bc68cf974b": {
      "model_module": "@jupyter-widgets/base",
      "model_module_version": "2.0.0",
      "model_name": "LayoutModel",
      "state": {}
     },
     "8d70ec6e1c844da2af0362f110284495": {
      "model_module": "@jupyter-widgets/base",
      "model_module_version": "2.0.0",
      "model_name": "LayoutModel",
      "state": {}
     },
     "8dc8a78ffeed4efe89504b6866636c41": {
      "model_module": "@jupyter-widgets/controls",
      "model_module_version": "2.0.0",
      "model_name": "CheckboxModel",
      "state": {
       "description": "Display Single Spectrum",
       "disabled": false,
       "layout": "IPY_MODEL_52db67b27670403187218775cee39e0f",
       "style": "IPY_MODEL_3192d1dd421e47128934409d96ae3ba2",
       "tooltip": "Click to plot one line at a time",
       "value": false
      }
     },
     "912e8e4780284907b1a1c57b0b6ed194": {
      "model_module": "@jupyter-widgets/controls",
      "model_module_version": "2.0.0",
      "model_name": "HTMLStyleModel",
      "state": {
       "description_width": "",
       "font_size": null,
       "text_color": null
      }
     },
     "92061b010dcb4223a3f4f690bf56b9cc": {
      "model_module": "@jupyter-widgets/base",
      "model_module_version": "2.0.0",
      "model_name": "LayoutModel",
      "state": {}
     },
     "933567664fa24e8a874cdea53c65ca91": {
      "buffers": [
       {
        "data": "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",
        "encoding": "base64",
        "path": [
         "value"
        ]
       }
      ],
      "model_module": "@jupyter-widgets/controls",
      "model_module_version": "2.0.0",
      "model_name": "ImageModel",
      "state": {
       "_view_count": 0,
       "format": "jpeg",
       "height": "500",
       "layout": "IPY_MODEL_bf7189f9febc4f10a7c34e2c1c5d7b25",
       "width": "500"
      }
     },
     "9358c8b7fd2740f4994a66bc952df940": {
      "model_module": "@jupyter-widgets/controls",
      "model_module_version": "2.0.0",
      "model_name": "VBoxModel",
      "state": {
       "children": [
        "IPY_MODEL_ac6e18bd692f4da6aaabbb2b6814af57",
        "IPY_MODEL_8dc8a78ffeed4efe89504b6866636c41"
       ],
       "layout": "IPY_MODEL_d108347344c241cc96c5d51ff4084d06"
      }
     },
     "978380c2e5f147c0b8b50be3ae5296b7": {
      "model_module": "@jupyter-widgets/controls",
      "model_module_version": "2.0.0",
      "model_name": "LinkModel",
      "state": {
       "source": [
        "IPY_MODEL_cbf1a8f78afb43b297ba1127926cb820",
        "value"
       ],
       "target": [
        "IPY_MODEL_ff870052ab8244198ab1d58449fe9298",
        "value"
       ]
      }
     },
     "978f523c03ff406d9beffd3cf458bdbd": {
      "model_module": "@jupyter-widgets/output",
      "model_module_version": "1.0.0",
      "model_name": "OutputModel",
      "state": {
       "layout": "IPY_MODEL_9f59a65229e24f0ebd4736a9a9bfb92b",
       "outputs": [
        {
         "ename": "NameError",
         "evalue": "name 'viewer' is not defined",
         "output_type": "error",
         "traceback": [
          "\u001b[0;31m---------------------------------------------------------------------------\u001b[0m",
          "\u001b[0;31mNameError\u001b[0m                                 Traceback (most recent call last)",
          "\u001b[0;32m~/.local/lib/python3.9/site-packages/ipywidgets/widgets/interaction.py\u001b[0m in \u001b[0;36mupdate\u001b[0;34m(self, *args)\u001b[0m\n\u001b[1;32m    238\u001b[0m                     \u001b[0mvalue\u001b[0m \u001b[0;34m=\u001b[0m \u001b[0mwidget\u001b[0m\u001b[0;34m.\u001b[0m\u001b[0mget_interact_value\u001b[0m\u001b[0;34m(\u001b[0m\u001b[0;34m)\u001b[0m\u001b[0;34m\u001b[0m\u001b[0;34m\u001b[0m\u001b[0m\n\u001b[1;32m    239\u001b[0m                     \u001b[0mself\u001b[0m\u001b[0;34m.\u001b[0m\u001b[0mkwargs\u001b[0m\u001b[0;34m[\u001b[0m\u001b[0mwidget\u001b[0m\u001b[0;34m.\u001b[0m\u001b[0m_kwarg\u001b[0m\u001b[0;34m]\u001b[0m \u001b[0;34m=\u001b[0m \u001b[0mvalue\u001b[0m\u001b[0;34m\u001b[0m\u001b[0;34m\u001b[0m\u001b[0m\n\u001b[0;32m--> 240\u001b[0;31m                 \u001b[0mself\u001b[0m\u001b[0;34m.\u001b[0m\u001b[0mresult\u001b[0m \u001b[0;34m=\u001b[0m \u001b[0mself\u001b[0m\u001b[0;34m.\u001b[0m\u001b[0mf\u001b[0m\u001b[0;34m(\u001b[0m\u001b[0;34m**\u001b[0m\u001b[0mself\u001b[0m\u001b[0;34m.\u001b[0m\u001b[0mkwargs\u001b[0m\u001b[0;34m)\u001b[0m\u001b[0;34m\u001b[0m\u001b[0;34m\u001b[0m\u001b[0m\n\u001b[0m\u001b[1;32m    241\u001b[0m                 \u001b[0mshow_inline_matplotlib_plots\u001b[0m\u001b[0;34m(\u001b[0m\u001b[0;34m)\u001b[0m\u001b[0;34m\u001b[0m\u001b[0;34m\u001b[0m\u001b[0m\n\u001b[1;32m    242\u001b[0m                 \u001b[0;32mif\u001b[0m \u001b[0mself\u001b[0m\u001b[0;34m.\u001b[0m\u001b[0mauto_display\u001b[0m \u001b[0;32mand\u001b[0m \u001b[0mself\u001b[0m\u001b[0;34m.\u001b[0m\u001b[0mresult\u001b[0m \u001b[0;32mis\u001b[0m \u001b[0;32mnot\u001b[0m \u001b[0;32mNone\u001b[0m\u001b[0;34m:\u001b[0m\u001b[0;34m\u001b[0m\u001b[0;34m\u001b[0m\u001b[0m\n",
          "\u001b[0;32m~/hetdex_api/hetdex_api/cube_widget.py\u001b[0m in \u001b[0;36mshow_slice\u001b[0;34m(self, wave)\u001b[0m\n\u001b[1;32m    291\u001b[0m         \u001b[0mself\u001b[0m\u001b[0;34m.\u001b[0m\u001b[0mimage_show_slice\u001b[0m\u001b[0;34m(\u001b[0m\u001b[0mn\u001b[0m \u001b[0;34m-\u001b[0m \u001b[0;36m1\u001b[0m\u001b[0;34m)\u001b[0m\u001b[0;34m\u001b[0m\u001b[0;34m\u001b[0m\u001b[0m\n\u001b[1;32m    292\u001b[0m         \u001b[0mself\u001b[0m\u001b[0;34m.\u001b[0m\u001b[0mplot_spec\u001b[0m\u001b[0;34m(\u001b[0m\u001b[0mtrace_freeze\u001b[0m\u001b[0;34m=\u001b[0m\u001b[0;32mTrue\u001b[0m\u001b[0;34m)\u001b[0m\u001b[0;34m\u001b[0m\u001b[0;34m\u001b[0m\u001b[0m\n\u001b[0;32m--> 293\u001b[0;31m         \u001b[0msuper\u001b[0m\u001b[0;34m(\u001b[0m\u001b[0;34m)\u001b[0m\u001b[0;34m.\u001b[0m\u001b[0m_mouse_click_cb\u001b[0m\u001b[0;34m(\u001b[0m\u001b[0mviewer\u001b[0m\u001b[0;34m,\u001b[0m \u001b[0mevent\u001b[0m\u001b[0;34m,\u001b[0m \u001b[0mdata_x\u001b[0m\u001b[0;34m,\u001b[0m \u001b[0mdata_y\u001b[0m\u001b[0;34m)\u001b[0m\u001b[0;34m\u001b[0m\u001b[0;34m\u001b[0m\u001b[0m\n\u001b[0m",
          "\u001b[0;31mNameError\u001b[0m: name 'viewer' is not defined"
         ]
        }
       ]
      }
     },
     "9793f9ce20594ee2958e3882637d6a20": {
      "model_module": "@jupyter-widgets/controls",
      "model_module_version": "2.0.0",
      "model_name": "LinkModel",
      "state": {
       "source": [
        "IPY_MODEL_529217314e03424fb9acbf2cf11b6b5a",
        "value"
       ],
       "target": [
        "IPY_MODEL_cec7630e2cdc4bc4b41427ff4fcc10df",
        "value"
       ]
      }
     },
     "98dc2a0d145145f4b2eb725e7c0ff5cb": {
      "model_module": "ipyevents",
      "model_module_version": "2.0.1",
      "model_name": "EventModel",
      "state": {
       "_supported_key_events": [
        "keydown",
        "keyup"
       ],
       "_supported_mouse_events": [
        "click",
        "auxclick",
        "dblclick",
        "mouseenter",
        "mouseleave",
        "mousedown",
        "mouseup",
        "mousemove",
        "wheel",
        "contextmenu",
        "dragstart",
        "drag",
        "dragend",
        "dragenter",
        "dragover",
        "dragleave",
        "drop"
       ],
       "_supported_touch_events": [
        "touchstart",
        "touchend",
        "touchmove",
        "touchcancel"
       ],
       "_view_module": "@jupyter-widgets/controls",
       "prevent_default_action": true,
       "source": "IPY_MODEL_767e0bf27e1e477eb3be33af79f07226",
       "throttle_or_debounce": "",
       "watched_events": [
        "keydown",
        "keyup",
        "mouseenter",
        "mouseleave",
        "mousedown",
        "mouseup",
        "mousemove",
        "wheel",
        "contextmenu"
       ],
       "xy_coordinate_system": ""
      }
     },
     "98ee0f0afc914483bc0cba6cb0d7425d": {
      "model_module": "@jupyter-widgets/base",
      "model_module_version": "2.0.0",
      "model_name": "LayoutModel",
      "state": {
       "width": "500"
      }
     },
     "99e79b28110042268643f31db5613391": {
      "model_module": "@jupyter-widgets/controls",
      "model_module_version": "2.0.0",
      "model_name": "VBoxModel",
      "state": {
       "children": [
        "IPY_MODEL_c55f1f020c95462f984bffa79e83b08d",
        "IPY_MODEL_28e2437f0535439ca11a0733a7bc64ff"
       ],
       "layout": "IPY_MODEL_d5c1ab7fa3f24f1fa83ef426d4058d70"
      }
     },
     "9bfecce7f80a40db88c720c007febadb": {
      "model_module": "@jupyter-widgets/controls",
      "model_module_version": "2.0.0",
      "model_name": "HBoxModel",
      "state": {
       "children": [
        "IPY_MODEL_d4ac54897a9f4b1d8d01a109dd395462",
        "IPY_MODEL_4e89f5bd1592458faabe95f3203d14de"
       ],
       "layout": "IPY_MODEL_787051b3313742f5bd9c446238ab00ac"
      }
     },
     "9cca7585349847df8533d86bee91ac92": {
      "model_module": "@jupyter-widgets/controls",
      "model_module_version": "2.0.0",
      "model_name": "HBoxModel",
      "state": {
       "children": [
        "IPY_MODEL_1a080129e8274156a09c568b804c2099",
        "IPY_MODEL_735b7bb5c36a40e8a0d0a733dd6a1fc8"
       ],
       "layout": "IPY_MODEL_b1ca71925f914c4590f4f46493afebab"
      }
     },
     "9cd7cbe0c13f47b08e6b1499f92c2d12": {
      "model_module": "@jupyter-widgets/base",
      "model_module_version": "2.0.0",
      "model_name": "LayoutModel",
      "state": {}
     },
     "9d7184cbc49d4488b0c310b1679e020d": {
      "model_module": "@jupyter-widgets/base",
      "model_module_version": "2.0.0",
      "model_name": "LayoutModel",
      "state": {}
     },
     "9e097f84a61544da984f070b1736d76a": {
      "model_module": "@jupyter-widgets/base",
      "model_module_version": "2.0.0",
      "model_name": "LayoutModel",
      "state": {}
     },
     "9f59a65229e24f0ebd4736a9a9bfb92b": {
      "model_module": "@jupyter-widgets/base",
      "model_module_version": "2.0.0",
      "model_name": "LayoutModel",
      "state": {}
     },
     "9fb33c82e8c2465895c9fd551108f1f6": {
      "buffers": [
       {
        "data": "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",
        "encoding": "base64",
        "path": [
         "_data",
         0,
         "x",
         "value"
        ]
       },
       {
        "data": "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",
        "encoding": "base64",
        "path": [
         "_data",
         0,
         "y",
         "value"
        ]
       },
       {
        "data": "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",
        "encoding": "base64",
        "path": [
         "_data",
         1,
         "x",
         "value"
        ]
       },
       {
        "data": "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",
        "encoding": "base64",
        "path": [
         "_data",
         1,
         "y",
         "value"
        ]
       }
      ],
      "model_module": "jupyterlab-plotly",
      "model_module_version": "^5.20.0",
      "model_name": "FigureModel",
      "state": {
       "_config": {
        "editSelection": false,
        "plotlyServerURL": "https://plot.ly"
       },
       "_data": [
        {
         "hoverinfo": "text+name",
         "mode": "lines",
         "name": "X=58 Y=60",
         "type": "scatter",
         "uid": "6bf7ab00-b5ec-4516-8993-e21584d191bd",
         "x": {
          "dtype": "float64",
          "shape": [
           1036
          ]
         },
         "y": {
          "dtype": "float64",
          "shape": [
           1036
          ]
         }
        },
        {
         "hoverinfo": "text+name",
         "mode": "lines",
         "name": "X=87 Y=36",
         "type": "scatter",
         "uid": "5f6d8d07-2f4c-41fe-88bc-07e1fec81653",
         "x": {
          "dtype": "float64",
          "shape": [
           1036
          ]
         },
         "y": {
          "dtype": "float64",
          "shape": [
           1036
          ]
         }
        }
       ],
       "_js2py_pointsCallback": {},
       "_js2py_restyle": {},
       "_js2py_update": {},
       "_last_layout_edit_id": 16,
       "_last_trace_edit_id": 10,
       "_layout": {
        "autosize": true,
        "shapes": [
         {
          "line": {
           "color": "grey",
           "width": 2
          },
          "type": "line",
          "x0": 4498,
          "x1": 4498,
          "xref": "x",
          "y0": 0,
          "y1": 1,
          "yref": "y domain"
         }
        ],
        "template": {
         "data": {
          "scatter": [
           {
            "type": "scatter"
           }
          ]
         }
        },
        "xaxis": {
         "title": {
          "text": "wavelength (A)"
         }
        },
        "yaxis": {
         "title": {
          "text": "f_lambda (1e-17 ergs/s/cm^2/A)"
         }
        }
       },
       "_py2js_animate": {},
       "_py2js_deleteTraces": {},
       "_py2js_moveTraces": {},
       "_py2js_removeLayoutProps": {},
       "_py2js_removeTraceProps": {},
       "_py2js_restyle": {},
       "_view_count": 0
      }
     },
     "a11cf1d670324ea3848a5a201e45912e": {
      "model_module": "ipyevents",
      "model_module_version": "2.0.1",
      "model_name": "EventModel",
      "state": {
       "_supported_key_events": [
        "keydown",
        "keyup"
       ],
       "_supported_mouse_events": [
        "click",
        "auxclick",
        "dblclick",
        "mouseenter",
        "mouseleave",
        "mousedown",
        "mouseup",
        "mousemove",
        "wheel",
        "contextmenu",
        "dragstart",
        "drag",
        "dragend",
        "dragenter",
        "dragover",
        "dragleave",
        "drop"
       ],
       "_supported_touch_events": [
        "touchstart",
        "touchend",
        "touchmove",
        "touchcancel"
       ],
       "_view_module": "@jupyter-widgets/controls",
       "prevent_default_action": true,
       "source": "IPY_MODEL_933567664fa24e8a874cdea53c65ca91",
       "throttle_or_debounce": "",
       "watched_events": [
        "keydown",
        "keyup",
        "mouseenter",
        "mouseleave",
        "mousedown",
        "mouseup",
        "mousemove",
        "wheel",
        "contextmenu"
       ],
       "xy_coordinate_system": ""
      }
     },
     "a16c1ef1fe9242e087ccaba9c9a32207": {
      "model_module": "@jupyter-widgets/controls",
      "model_module_version": "2.0.0",
      "model_name": "ButtonStyleModel",
      "state": {
       "font_family": null,
       "font_size": null,
       "font_style": null,
       "font_variant": null,
       "font_weight": null,
       "text_color": null,
       "text_decoration": null
      }
     },
     "a3370e5b04c8499b8c241f8e43c8f291": {
      "model_module": "@jupyter-widgets/controls",
      "model_module_version": "2.0.0",
      "model_name": "IntSliderModel",
      "state": {
       "behavior": "drag-tap",
       "continuous_update": false,
       "description": "wave",
       "layout": "IPY_MODEL_7c44bb9a3f184375b3c5fda83a43c56a",
       "max": 5550,
       "min": 3470,
       "step": 10,
       "style": "IPY_MODEL_b886aecab7e245fdbaa6cf541a19d343",
       "value": 4500
      }
     },
     "a4156514754240cc831ab60290d1d60b": {
      "model_module": "@jupyter-widgets/base",
      "model_module_version": "2.0.0",
      "model_name": "LayoutModel",
      "state": {}
     },
     "a6155975afe7419ea3210f5ee3d99334": {
      "model_module": "@jupyter-widgets/controls",
      "model_module_version": "2.0.0",
      "model_name": "ButtonStyleModel",
      "state": {
       "font_family": null,
       "font_size": null,
       "font_style": null,
       "font_variant": null,
       "font_weight": null,
       "text_color": null,
       "text_decoration": null
      }
     },
     "a86963888cd44790966073dd53fc2f43": {
      "model_module": "@jupyter-widgets/controls",
      "model_module_version": "2.0.0",
      "model_name": "VBoxModel",
      "state": {
       "children": [
        "IPY_MODEL_7a7f57f6a43f4c7dab223f837789e312",
        "IPY_MODEL_b70cec7eea7e4b47a53b3040ef2ce98b"
       ],
       "layout": "IPY_MODEL_f1490d3e14c540d6aabc8725204a6515"
      }
     },
     "aaab57fd54844722926daf3bca2f958a": {
      "model_module": "@jupyter-widgets/base",
      "model_module_version": "2.0.0",
      "model_name": "LayoutModel",
      "state": {
       "width": "500"
      }
     },
     "aadb6a419db1412e9f99cc5e805b5c2d": {
      "model_module": "@jupyter-widgets/controls",
      "model_module_version": "2.0.0",
      "model_name": "PlayModel",
      "state": {
       "description": "Scan Cube",
       "layout": "IPY_MODEL_109e021085c14ce989ca4b3a71887847",
       "max": 5542,
       "min": 3470,
       "step": 2,
       "style": "IPY_MODEL_cc1089bce62f442d9a6306409880f136",
       "value": 4500
      }
     },
     "ab08cd010c9d4985a728933faa8a74e9": {
      "model_module": "@jupyter-widgets/controls",
      "model_module_version": "2.0.0",
      "model_name": "IntSliderModel",
      "state": {
       "behavior": "drag-tap",
       "continuous_update": false,
       "description": "wave",
       "layout": "IPY_MODEL_f17a567659d04649a79cba892048ef16",
       "max": 5542,
       "min": 3470,
       "step": 2,
       "style": "IPY_MODEL_8032daa168f94848acb46da953502887",
       "value": 4500
      }
     },
     "ab7519cc67594d50834de130503901b8": {
      "model_module": "@jupyter-widgets/controls",
      "model_module_version": "2.0.0",
      "model_name": "ButtonStyleModel",
      "state": {
       "font_family": null,
       "font_size": null,
       "font_style": null,
       "font_variant": null,
       "font_weight": null,
       "text_color": null,
       "text_decoration": null
      }
     },
     "ac650deaecab48268e64ca622e971158": {
      "model_module": "@jupyter-widgets/controls",
      "model_module_version": "2.0.0",
      "model_name": "ButtonModel",
      "state": {
       "button_style": "success",
       "description": "Scan Cube",
       "layout": "IPY_MODEL_673279242f0f41f6bf66155e921774a7",
       "style": "IPY_MODEL_a6155975afe7419ea3210f5ee3d99334",
       "tooltip": "Click this to scan in wavelength dimension"
      }
     },
     "ac6e18bd692f4da6aaabbb2b6814af57": {
      "model_module": "jupyterlab-plotly",
      "model_module_version": "^5.20.0",
      "model_name": "FigureModel",
      "state": {
       "_config": {
        "editSelection": false,
        "plotlyServerURL": "https://plot.ly"
       },
       "_js2py_pointsCallback": {},
       "_js2py_restyle": {},
       "_js2py_update": {},
       "_last_layout_edit_id": 2,
       "_last_trace_edit_id": 1,
       "_layout": {
        "autosize": true,
        "template": {
         "data": {
          "scatter": [
           {
            "type": "scatter"
           }
          ]
         }
        }
       },
       "_py2js_addTraces": {},
       "_py2js_animate": {},
       "_py2js_deleteTraces": {},
       "_py2js_moveTraces": {},
       "_py2js_removeLayoutProps": {},
       "_py2js_removeTraceProps": {},
       "_py2js_restyle": {},
       "_view_count": 0
      }
     },
     "ad51db2c7b5949bfad8164c1eb6d997f": {
      "model_module": "@jupyter-widgets/base",
      "model_module_version": "2.0.0",
      "model_name": "LayoutModel",
      "state": {}
     },
     "ae95406367104b71a8983fe88034c091": {
      "model_module": "@jupyter-widgets/base",
      "model_module_version": "2.0.0",
      "model_name": "LayoutModel",
      "state": {}
     },
     "aef4fc0b26c44ce3a97f6ee5fb37f607": {
      "model_module": "@jupyter-widgets/base",
      "model_module_version": "2.0.0",
      "model_name": "LayoutModel",
      "state": {}
     },
     "af1a987ef59340c1b02a24155a701c80": {
      "model_module": "@jupyter-widgets/base",
      "model_module_version": "2.0.0",
      "model_name": "LayoutModel",
      "state": {}
     },
     "b1ca71925f914c4590f4f46493afebab": {
      "model_module": "@jupyter-widgets/base",
      "model_module_version": "2.0.0",
      "model_name": "LayoutModel",
      "state": {}
     },
     "b23544b47b9346b987d8edefe0921cd0": {
      "model_module": "@jupyter-widgets/controls",
      "model_module_version": "2.0.0",
      "model_name": "CheckboxStyleModel",
      "state": {
       "description_width": ""
      }
     },
     "b6585f7e7df642daabeb98e4d2b8b996": {
      "model_module": "@jupyter-widgets/base",
      "model_module_version": "2.0.0",
      "model_name": "LayoutModel",
      "state": {}
     },
     "b70cec7eea7e4b47a53b3040ef2ce98b": {
      "model_module": "@jupyter-widgets/controls",
      "model_module_version": "2.0.0",
      "model_name": "HTMLModel",
      "state": {
       "layout": "IPY_MODEL_af1a987ef59340c1b02a24155a701c80",
       "style": "IPY_MODEL_912e8e4780284907b1a1c57b0b6ed194",
       "value": "X: 54.94, Y: 26.98 (RA: 02:04:21.736, DEC: -00:10:58.00), value:    0.061"
      }
     },
     "b886aecab7e245fdbaa6cf541a19d343": {
      "model_module": "@jupyter-widgets/controls",
      "model_module_version": "2.0.0",
      "model_name": "SliderStyleModel",
      "state": {
       "description_width": ""
      }
     },
     "b92ff80e43764272ba14718c1f860cc3": {
      "model_module": "@jupyter-widgets/base",
      "model_module_version": "2.0.0",
      "model_name": "LayoutModel",
      "state": {}
     },
     "ba0a4b8cf9c2499f956ceeba60e11b0e": {
      "model_module": "@jupyter-widgets/controls",
      "model_module_version": "2.0.0",
      "model_name": "HTMLStyleModel",
      "state": {
       "description_width": "",
       "font_size": null,
       "text_color": null
      }
     },
     "bae2390a7f904e27a89cb534ee52c882": {
      "model_module": "@jupyter-widgets/controls",
      "model_module_version": "2.0.0",
      "model_name": "HTMLStyleModel",
      "state": {
       "description_width": "",
       "font_size": null,
       "text_color": null
      }
     },
     "bc454da3befc4acd9e803b83d83b13bc": {
      "model_module": "@jupyter-widgets/controls",
      "model_module_version": "2.0.0",
      "model_name": "HBoxModel",
      "state": {
       "children": [
        "IPY_MODEL_da35d61bf4ea4a8db31e3eff5100a763",
        "IPY_MODEL_32dbb39c7c294cacbcafbbb68798bd61"
       ],
       "layout": "IPY_MODEL_2e57abb766a8481aac598548bc7b2fed"
      }
     },
     "bc712d1b2b9d40e38ab4798049ee50be": {
      "model_module": "@jupyter-widgets/controls",
      "model_module_version": "2.0.0",
      "model_name": "IntSliderModel",
      "state": {
       "behavior": "drag-tap",
       "continuous_update": false,
       "description": "wave",
       "layout": "IPY_MODEL_653326591ac5491483f2da07b3a53687",
       "max": 5542,
       "min": 3470,
       "step": 2,
       "style": "IPY_MODEL_3e5d35a89c314868b0f3eb46225312f6",
       "value": 4500
      }
     },
     "bd58c2583f8047ec856784e8bdcced40": {
      "model_module": "@jupyter-widgets/base",
      "model_module_version": "2.0.0",
      "model_name": "LayoutModel",
      "state": {}
     },
     "be00e079900d44a4baa7298a42533b00": {
      "model_module": "@jupyter-widgets/controls",
      "model_module_version": "2.0.0",
      "model_name": "VBoxModel",
      "state": {
       "children": [
        "IPY_MODEL_1927e7049f9542e986986b611019204e",
        "IPY_MODEL_ce7dfdd70596456497ea3c7a3aae8b2c"
       ],
       "layout": "IPY_MODEL_aaab57fd54844722926daf3bca2f958a"
      }
     },
     "be0114c8bc434234b2f6701d7682a74e": {
      "model_module": "@jupyter-widgets/base",
      "model_module_version": "2.0.0",
      "model_name": "LayoutModel",
      "state": {}
     },
     "bf7189f9febc4f10a7c34e2c1c5d7b25": {
      "model_module": "@jupyter-widgets/base",
      "model_module_version": "2.0.0",
      "model_name": "LayoutModel",
      "state": {
       "margin": "0"
      }
     },
     "c038318d3a484583874851faeb70f85c": {
      "model_module": "@jupyter-widgets/base",
      "model_module_version": "2.0.0",
      "model_name": "LayoutModel",
      "state": {}
     },
     "c38283ed70e04d46bae8e6382c30698a": {
      "model_module": "@jupyter-widgets/output",
      "model_module_version": "1.0.0",
      "model_name": "OutputModel",
      "state": {
       "layout": "IPY_MODEL_6ab8afdc2b8245e1b2795829457ff22a",
       "outputs": [
        {
         "ename": "NameError",
         "evalue": "name 'viewer' is not defined",
         "output_type": "error",
         "traceback": [
          "\u001b[0;31m---------------------------------------------------------------------------\u001b[0m",
          "\u001b[0;31mNameError\u001b[0m                                 Traceback (most recent call last)",
          "\u001b[0;32m~/.local/lib/python3.9/site-packages/ipywidgets/widgets/interaction.py\u001b[0m in \u001b[0;36mupdate\u001b[0;34m(self, *args)\u001b[0m\n\u001b[1;32m    238\u001b[0m                     \u001b[0mvalue\u001b[0m \u001b[0;34m=\u001b[0m \u001b[0mwidget\u001b[0m\u001b[0;34m.\u001b[0m\u001b[0mget_interact_value\u001b[0m\u001b[0;34m(\u001b[0m\u001b[0;34m)\u001b[0m\u001b[0;34m\u001b[0m\u001b[0;34m\u001b[0m\u001b[0m\n\u001b[1;32m    239\u001b[0m                     \u001b[0mself\u001b[0m\u001b[0;34m.\u001b[0m\u001b[0mkwargs\u001b[0m\u001b[0;34m[\u001b[0m\u001b[0mwidget\u001b[0m\u001b[0;34m.\u001b[0m\u001b[0m_kwarg\u001b[0m\u001b[0;34m]\u001b[0m \u001b[0;34m=\u001b[0m \u001b[0mvalue\u001b[0m\u001b[0;34m\u001b[0m\u001b[0;34m\u001b[0m\u001b[0m\n\u001b[0;32m--> 240\u001b[0;31m                 \u001b[0mself\u001b[0m\u001b[0;34m.\u001b[0m\u001b[0mresult\u001b[0m \u001b[0;34m=\u001b[0m \u001b[0mself\u001b[0m\u001b[0;34m.\u001b[0m\u001b[0mf\u001b[0m\u001b[0;34m(\u001b[0m\u001b[0;34m**\u001b[0m\u001b[0mself\u001b[0m\u001b[0;34m.\u001b[0m\u001b[0mkwargs\u001b[0m\u001b[0;34m)\u001b[0m\u001b[0;34m\u001b[0m\u001b[0;34m\u001b[0m\u001b[0m\n\u001b[0m\u001b[1;32m    241\u001b[0m                 \u001b[0mshow_inline_matplotlib_plots\u001b[0m\u001b[0;34m(\u001b[0m\u001b[0;34m)\u001b[0m\u001b[0;34m\u001b[0m\u001b[0;34m\u001b[0m\u001b[0m\n\u001b[1;32m    242\u001b[0m                 \u001b[0;32mif\u001b[0m \u001b[0mself\u001b[0m\u001b[0;34m.\u001b[0m\u001b[0mauto_display\u001b[0m \u001b[0;32mand\u001b[0m \u001b[0mself\u001b[0m\u001b[0;34m.\u001b[0m\u001b[0mresult\u001b[0m \u001b[0;32mis\u001b[0m \u001b[0;32mnot\u001b[0m \u001b[0;32mNone\u001b[0m\u001b[0;34m:\u001b[0m\u001b[0;34m\u001b[0m\u001b[0;34m\u001b[0m\u001b[0m\n",
          "\u001b[0;32m~/hetdex_api/hetdex_api/cube_widget.py\u001b[0m in \u001b[0;36mshow_slice\u001b[0;34m(self, wave)\u001b[0m\n\u001b[1;32m    291\u001b[0m         \u001b[0mself\u001b[0m\u001b[0;34m.\u001b[0m\u001b[0mimage_show_slice\u001b[0m\u001b[0;34m(\u001b[0m\u001b[0mn\u001b[0m \u001b[0;34m-\u001b[0m \u001b[0;36m1\u001b[0m\u001b[0;34m)\u001b[0m\u001b[0;34m\u001b[0m\u001b[0;34m\u001b[0m\u001b[0m\n\u001b[1;32m    292\u001b[0m         \u001b[0mself\u001b[0m\u001b[0;34m.\u001b[0m\u001b[0mplot_spec\u001b[0m\u001b[0;34m(\u001b[0m\u001b[0mtrace_freeze\u001b[0m\u001b[0;34m=\u001b[0m\u001b[0;32mTrue\u001b[0m\u001b[0;34m)\u001b[0m\u001b[0;34m\u001b[0m\u001b[0;34m\u001b[0m\u001b[0m\n\u001b[0;32m--> 293\u001b[0;31m         \u001b[0msuper\u001b[0m\u001b[0;34m(\u001b[0m\u001b[0;34m)\u001b[0m\u001b[0;34m.\u001b[0m\u001b[0m_mouse_click_cb\u001b[0m\u001b[0;34m(\u001b[0m\u001b[0mviewer\u001b[0m\u001b[0;34m,\u001b[0m \u001b[0mevent\u001b[0m\u001b[0;34m,\u001b[0m \u001b[0mdata_x\u001b[0m\u001b[0;34m,\u001b[0m \u001b[0mdata_y\u001b[0m\u001b[0;34m)\u001b[0m\u001b[0;34m\u001b[0m\u001b[0;34m\u001b[0m\u001b[0m\n\u001b[0m",
          "\u001b[0;31mNameError\u001b[0m: name 'viewer' is not defined"
         ]
        }
       ]
      }
     },
     "c3a72832e2364bf0ae1578e39497e097": {
      "model_module": "@jupyter-widgets/controls",
      "model_module_version": "2.0.0",
      "model_name": "VBoxModel",
      "state": {
       "_dom_classes": [
        "widget-interact"
       ],
       "children": [
        "IPY_MODEL_a3370e5b04c8499b8c241f8e43c8f291",
        "IPY_MODEL_c38283ed70e04d46bae8e6382c30698a"
       ],
       "layout": "IPY_MODEL_4abbad8a384a460986aa0f3a39085ffe"
      }
     },
     "c3bf6b32c0284e549ba3da0823ebb3b8": {
      "model_module": "@jupyter-widgets/controls",
      "model_module_version": "2.0.0",
      "model_name": "PlayModel",
      "state": {
       "description": "Scan Cube",
       "layout": "IPY_MODEL_a4156514754240cc831ab60290d1d60b",
       "max": 5542,
       "min": 3470,
       "step": 2,
       "style": "IPY_MODEL_df4968b6ef134ef7b5d2cf50c523aa2e",
       "value": 4500
      }
     },
     "c55f1f020c95462f984bffa79e83b08d": {
      "buffers": [
       {
        "data": "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",
        "encoding": "base64",
        "path": [
         "_data",
         0,
         "x",
         "value"
        ]
       },
       {
        "data": "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",
        "encoding": "base64",
        "path": [
         "_data",
         0,
         "y",
         "value"
        ]
       }
      ],
      "model_module": "jupyterlab-plotly",
      "model_module_version": "^5.20.0",
      "model_name": "FigureModel",
      "state": {
       "_config": {
        "editSelection": false,
        "plotlyServerURL": "https://plot.ly"
       },
       "_data": [
        {
         "hoverinfo": "text+name",
         "mode": "lines",
         "name": "X=58 Y=61",
         "type": "scatter",
         "uid": "c473beb3-74fb-4ba8-a747-8eaa6e6fea5c",
         "x": {
          "dtype": "float64",
          "shape": [
           1036
          ]
         },
         "y": {
          "dtype": "float64",
          "shape": [
           1036
          ]
         }
        }
       ],
       "_js2py_pointsCallback": {},
       "_js2py_restyle": {},
       "_js2py_update": {},
       "_last_layout_edit_id": 9,
       "_last_trace_edit_id": 6,
       "_layout": {
        "autosize": true,
        "shapes": [
         {
          "line": {
           "color": "grey",
           "width": 2
          },
          "type": "line",
          "x0": 4498,
          "x1": 4498,
          "xref": "x",
          "y0": 0,
          "y1": 1,
          "yref": "y domain"
         }
        ],
        "template": {
         "data": {
          "scatter": [
           {
            "type": "scatter"
           }
          ]
         }
        },
        "xaxis": {
         "title": {
          "text": "wavelength (A)"
         }
        },
        "yaxis": {
         "title": {
          "text": "f_lambda (1e-17 ergs/s/cm^2/A)"
         }
        }
       },
       "_py2js_animate": {},
       "_py2js_deleteTraces": {},
       "_py2js_moveTraces": {},
       "_py2js_removeLayoutProps": {},
       "_py2js_removeTraceProps": {},
       "_py2js_restyle": {},
       "_view_count": 1
      }
     },
     "ca0ff31a0f954396b70a671a07dc0cb9": {
      "model_module": "ipyevents",
      "model_module_version": "2.0.1",
      "model_name": "EventModel",
      "state": {
       "_supported_key_events": [
        "keydown",
        "keyup"
       ],
       "_supported_mouse_events": [
        "click",
        "auxclick",
        "dblclick",
        "mouseenter",
        "mouseleave",
        "mousedown",
        "mouseup",
        "mousemove",
        "wheel",
        "contextmenu",
        "dragstart",
        "drag",
        "dragend",
        "dragenter",
        "dragover",
        "dragleave",
        "drop"
       ],
       "_supported_touch_events": [
        "touchstart",
        "touchend",
        "touchmove",
        "touchcancel"
       ],
       "_view_module": "@jupyter-widgets/controls",
       "prevent_default_action": true,
       "source": "IPY_MODEL_fbecc64c478e40388aa2b0b4b29c9618",
       "throttle_or_debounce": "",
       "watched_events": [
        "keydown",
        "keyup",
        "mouseenter",
        "mouseleave",
        "mousedown",
        "mouseup",
        "mousemove",
        "wheel",
        "contextmenu"
       ],
       "xy_coordinate_system": ""
      }
     },
     "cbf1a8f78afb43b297ba1127926cb820": {
      "model_module": "@jupyter-widgets/controls",
      "model_module_version": "2.0.0",
      "model_name": "PlayModel",
      "state": {
       "description": "Scan Cube",
       "layout": "IPY_MODEL_cde77570ea2e407d81a47cc36cb0fe7a",
       "max": 5542,
       "min": 3470,
       "step": 2,
       "style": "IPY_MODEL_2072d828674046cc9fbdad9527bdd895",
       "value": 4500
      }
     },
     "cc1089bce62f442d9a6306409880f136": {
      "model_module": "@jupyter-widgets/controls",
      "model_module_version": "2.0.0",
      "model_name": "DescriptionStyleModel",
      "state": {
       "description_width": ""
      }
     },
     "cd9518b857c94c54ab7697b739f753ff": {
      "model_module": "@jupyter-widgets/controls",
      "model_module_version": "2.0.0",
      "model_name": "HBoxModel",
      "state": {
       "children": [
        "IPY_MODEL_546c60c31b7c40a487d5e78ed7d694fc",
        "IPY_MODEL_9358c8b7fd2740f4994a66bc952df940"
       ],
       "layout": "IPY_MODEL_ddd8fd212e25496bac951456ef48e09f"
      }
     },
     "cde77570ea2e407d81a47cc36cb0fe7a": {
      "model_module": "@jupyter-widgets/base",
      "model_module_version": "2.0.0",
      "model_name": "LayoutModel",
      "state": {}
     },
     "ce5522b8baa74d15853dcce864eecff4": {
      "model_module": "@jupyter-widgets/base",
      "model_module_version": "2.0.0",
      "model_name": "LayoutModel",
      "state": {}
     },
     "ce7dfdd70596456497ea3c7a3aae8b2c": {
      "model_module": "@jupyter-widgets/controls",
      "model_module_version": "2.0.0",
      "model_name": "HTMLModel",
      "state": {
       "layout": "IPY_MODEL_1696b2469522434fb412c3b75a7fbaf3",
       "style": "IPY_MODEL_bae2390a7f904e27a89cb534ee52c882",
       "value": "X: 82.30, Y: 105.34 (RA: 11:45:19.164, DEC: +51:30:41.00), value:    0.001"
      }
     },
     "cec7630e2cdc4bc4b41427ff4fcc10df": {
      "model_module": "@jupyter-widgets/controls",
      "model_module_version": "2.0.0",
      "model_name": "IntSliderModel",
      "state": {
       "behavior": "drag-tap",
       "continuous_update": false,
       "description": "wave",
       "layout": "IPY_MODEL_d21080f4d70c49ad9771933743a0b905",
       "max": 5542,
       "min": 3470,
       "step": 2,
       "style": "IPY_MODEL_d5571b2c61744b999014645a7256ff02",
       "value": 4626
      }
     },
     "cfe691edaa8b4ef3ae64d384b0c5d6a5": {
      "model_module": "@jupyter-widgets/controls",
      "model_module_version": "2.0.0",
      "model_name": "IntSliderModel",
      "state": {
       "behavior": "drag-tap",
       "continuous_update": false,
       "description": "wave",
       "layout": "IPY_MODEL_585e50e8b97f47b79cee7a2db8959971",
       "max": 5542,
       "min": 3470,
       "step": 2,
       "style": "IPY_MODEL_dd4e8a56281747ef9e2eddfab2f26788",
       "value": 4500
      }
     },
     "d06a0761d4164a74ba5d35ed6c4017eb": {
      "model_module": "@jupyter-widgets/base",
      "model_module_version": "2.0.0",
      "model_name": "LayoutModel",
      "state": {
       "width": "500"
      }
     },
     "d09a6b423a4b4734ae90e8fafcff9ac6": {
      "model_module": "@jupyter-widgets/base",
      "model_module_version": "2.0.0",
      "model_name": "LayoutModel",
      "state": {}
     },
     "d108347344c241cc96c5d51ff4084d06": {
      "model_module": "@jupyter-widgets/base",
      "model_module_version": "2.0.0",
      "model_name": "LayoutModel",
      "state": {}
     },
     "d1398064f5944c8780c10d36a1e295a4": {
      "buffers": [
       {
        "data": "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",
        "encoding": "base64",
        "path": [
         "value"
        ]
       }
      ],
      "model_module": "@jupyter-widgets/controls",
      "model_module_version": "2.0.0",
      "model_name": "ImageModel",
      "state": {
       "_view_count": 0,
       "format": "jpeg",
       "height": "500",
       "layout": "IPY_MODEL_0cfbe13017fc4a67bc578d7a477a681b",
       "width": "500"
      }
     },
     "d148e877e4c5499f88277fad31bfac95": {
      "model_module": "@jupyter-widgets/controls",
      "model_module_version": "2.0.0",
      "model_name": "LinkModel",
      "state": {
       "source": [
        "IPY_MODEL_4d7527053dc942b3920fdca8ffdc8b52",
        "value"
       ],
       "target": [
        "IPY_MODEL_a3370e5b04c8499b8c241f8e43c8f291",
        "value"
       ]
      }
     },
     "d14e25d140984166b916115ac0e04ca2": {
      "model_module": "@jupyter-widgets/base",
      "model_module_version": "2.0.0",
      "model_name": "LayoutModel",
      "state": {}
     },
     "d21080f4d70c49ad9771933743a0b905": {
      "model_module": "@jupyter-widgets/base",
      "model_module_version": "2.0.0",
      "model_name": "LayoutModel",
      "state": {}
     },
     "d26b3b4054c541588658619b50a0feb1": {
      "model_module": "@jupyter-widgets/controls",
      "model_module_version": "2.0.0",
      "model_name": "ButtonModel",
      "state": {
       "button_style": "success",
       "description": "Scan Cube",
       "layout": "IPY_MODEL_b6585f7e7df642daabeb98e4d2b8b996",
       "style": "IPY_MODEL_1e6600c5f27447a7a69b47c653df44be",
       "tooltip": "Click this to scan in wavelength dimension"
      }
     },
     "d28cc4363cbc4acda7b4e9f6276ea221": {
      "model_module": "@jupyter-widgets/output",
      "model_module_version": "1.0.0",
      "model_name": "OutputModel",
      "state": {
       "layout": "IPY_MODEL_58f543a91de94221ac6107a538bc9992",
       "outputs": [
        {
         "ename": "NameError",
         "evalue": "name 'viewer' is not defined",
         "output_type": "error",
         "traceback": [
          "\u001b[0;31m---------------------------------------------------------------------------\u001b[0m",
          "\u001b[0;31mNameError\u001b[0m                                 Traceback (most recent call last)",
          "\u001b[0;32m~/.local/lib/python3.9/site-packages/ipywidgets/widgets/interaction.py\u001b[0m in \u001b[0;36mupdate\u001b[0;34m(self, *args)\u001b[0m\n\u001b[1;32m    238\u001b[0m                     \u001b[0mvalue\u001b[0m \u001b[0;34m=\u001b[0m \u001b[0mwidget\u001b[0m\u001b[0;34m.\u001b[0m\u001b[0mget_interact_value\u001b[0m\u001b[0;34m(\u001b[0m\u001b[0;34m)\u001b[0m\u001b[0;34m\u001b[0m\u001b[0;34m\u001b[0m\u001b[0m\n\u001b[1;32m    239\u001b[0m                     \u001b[0mself\u001b[0m\u001b[0;34m.\u001b[0m\u001b[0mkwargs\u001b[0m\u001b[0;34m[\u001b[0m\u001b[0mwidget\u001b[0m\u001b[0;34m.\u001b[0m\u001b[0m_kwarg\u001b[0m\u001b[0;34m]\u001b[0m \u001b[0;34m=\u001b[0m \u001b[0mvalue\u001b[0m\u001b[0;34m\u001b[0m\u001b[0;34m\u001b[0m\u001b[0m\n\u001b[0;32m--> 240\u001b[0;31m                 \u001b[0mself\u001b[0m\u001b[0;34m.\u001b[0m\u001b[0mresult\u001b[0m \u001b[0;34m=\u001b[0m \u001b[0mself\u001b[0m\u001b[0;34m.\u001b[0m\u001b[0mf\u001b[0m\u001b[0;34m(\u001b[0m\u001b[0;34m**\u001b[0m\u001b[0mself\u001b[0m\u001b[0;34m.\u001b[0m\u001b[0mkwargs\u001b[0m\u001b[0;34m)\u001b[0m\u001b[0;34m\u001b[0m\u001b[0;34m\u001b[0m\u001b[0m\n\u001b[0m\u001b[1;32m    241\u001b[0m                 \u001b[0mshow_inline_matplotlib_plots\u001b[0m\u001b[0;34m(\u001b[0m\u001b[0;34m)\u001b[0m\u001b[0;34m\u001b[0m\u001b[0;34m\u001b[0m\u001b[0m\n\u001b[1;32m    242\u001b[0m                 \u001b[0;32mif\u001b[0m \u001b[0mself\u001b[0m\u001b[0;34m.\u001b[0m\u001b[0mauto_display\u001b[0m \u001b[0;32mand\u001b[0m \u001b[0mself\u001b[0m\u001b[0;34m.\u001b[0m\u001b[0mresult\u001b[0m \u001b[0;32mis\u001b[0m \u001b[0;32mnot\u001b[0m \u001b[0;32mNone\u001b[0m\u001b[0;34m:\u001b[0m\u001b[0;34m\u001b[0m\u001b[0;34m\u001b[0m\u001b[0m\n",
          "\u001b[0;32m~/hetdex_api/hetdex_api/cube_widget.py\u001b[0m in \u001b[0;36mshow_slice\u001b[0;34m(self, wave)\u001b[0m\n\u001b[1;32m    291\u001b[0m         \u001b[0mself\u001b[0m\u001b[0;34m.\u001b[0m\u001b[0mimage_show_slice\u001b[0m\u001b[0;34m(\u001b[0m\u001b[0mn\u001b[0m \u001b[0;34m-\u001b[0m \u001b[0;36m1\u001b[0m\u001b[0;34m)\u001b[0m\u001b[0;34m\u001b[0m\u001b[0;34m\u001b[0m\u001b[0m\n\u001b[1;32m    292\u001b[0m         \u001b[0mself\u001b[0m\u001b[0;34m.\u001b[0m\u001b[0mplot_spec\u001b[0m\u001b[0;34m(\u001b[0m\u001b[0mtrace_freeze\u001b[0m\u001b[0;34m=\u001b[0m\u001b[0;32mTrue\u001b[0m\u001b[0;34m)\u001b[0m\u001b[0;34m\u001b[0m\u001b[0;34m\u001b[0m\u001b[0m\n\u001b[0;32m--> 293\u001b[0;31m         \u001b[0msuper\u001b[0m\u001b[0;34m(\u001b[0m\u001b[0;34m)\u001b[0m\u001b[0;34m.\u001b[0m\u001b[0m_mouse_click_cb\u001b[0m\u001b[0;34m(\u001b[0m\u001b[0mviewer\u001b[0m\u001b[0;34m,\u001b[0m \u001b[0mevent\u001b[0m\u001b[0;34m,\u001b[0m \u001b[0mdata_x\u001b[0m\u001b[0;34m,\u001b[0m \u001b[0mdata_y\u001b[0m\u001b[0;34m)\u001b[0m\u001b[0;34m\u001b[0m\u001b[0;34m\u001b[0m\u001b[0m\n\u001b[0m",
          "\u001b[0;31mNameError\u001b[0m: name 'viewer' is not defined"
         ]
        }
       ]
      }
     },
     "d33be96c764446c58b6b828b349f5fe9": {
      "model_module": "@jupyter-widgets/controls",
      "model_module_version": "2.0.0",
      "model_name": "DescriptionStyleModel",
      "state": {
       "description_width": ""
      }
     },
     "d4ac54897a9f4b1d8d01a109dd395462": {
      "model_module": "@jupyter-widgets/controls",
      "model_module_version": "2.0.0",
      "model_name": "VBoxModel",
      "state": {
       "children": [
        "IPY_MODEL_4cf4f99946e44c668e429547c47c3d0c",
        "IPY_MODEL_a86963888cd44790966073dd53fc2f43"
       ],
       "layout": "IPY_MODEL_8a191d119bb3459fbb7e15bc68cf974b"
      }
     },
     "d5571b2c61744b999014645a7256ff02": {
      "model_module": "@jupyter-widgets/controls",
      "model_module_version": "2.0.0",
      "model_name": "SliderStyleModel",
      "state": {
       "description_width": ""
      }
     },
     "d5c1ab7fa3f24f1fa83ef426d4058d70": {
      "model_module": "@jupyter-widgets/base",
      "model_module_version": "2.0.0",
      "model_name": "LayoutModel",
      "state": {}
     },
     "d61f8eb3af274585b64a7121f02bf52c": {
      "model_module": "@jupyter-widgets/base",
      "model_module_version": "2.0.0",
      "model_name": "LayoutModel",
      "state": {}
     },
     "d687932f58a543d19e55cf2f895abeb4": {
      "model_module": "@jupyter-widgets/controls",
      "model_module_version": "2.0.0",
      "model_name": "VBoxModel",
      "state": {
       "children": [
        "IPY_MODEL_767e0bf27e1e477eb3be33af79f07226",
        "IPY_MODEL_09bb46ed244c452f90518ab1d3f518b5"
       ],
       "layout": "IPY_MODEL_d06a0761d4164a74ba5d35ed6c4017eb"
      }
     },
     "d8b06abc658d4472a405928d3215d9cb": {
      "model_module": "@jupyter-widgets/controls",
      "model_module_version": "2.0.0",
      "model_name": "ButtonModel",
      "state": {
       "button_style": "success",
       "description": "Scan Cube",
       "layout": "IPY_MODEL_be0114c8bc434234b2f6701d7682a74e",
       "style": "IPY_MODEL_22a2c93d45a64ed5b976b6a1a08e96b6",
       "tooltip": "Click this to scan in wavelength dimension"
      }
     },
     "da35d61bf4ea4a8db31e3eff5100a763": {
      "model_module": "@jupyter-widgets/controls",
      "model_module_version": "2.0.0",
      "model_name": "VBoxModel",
      "state": {
       "children": [
        "IPY_MODEL_f9ffe3a6fda14e52ad8859570544f9da",
        "IPY_MODEL_2c81cf28a5054d5e91da87052887afc4"
       ],
       "layout": "IPY_MODEL_389ae83f70f34f828bc96c8e1ae62a7f"
      }
     },
     "db9d00ff547846f2bf8ffdb3e124f217": {
      "model_module": "@jupyter-widgets/base",
      "model_module_version": "2.0.0",
      "model_name": "LayoutModel",
      "state": {}
     },
     "dd4e8a56281747ef9e2eddfab2f26788": {
      "model_module": "@jupyter-widgets/controls",
      "model_module_version": "2.0.0",
      "model_name": "SliderStyleModel",
      "state": {
       "description_width": ""
      }
     },
     "ddd8fd212e25496bac951456ef48e09f": {
      "model_module": "@jupyter-widgets/base",
      "model_module_version": "2.0.0",
      "model_name": "LayoutModel",
      "state": {}
     },
     "df4968b6ef134ef7b5d2cf50c523aa2e": {
      "model_module": "@jupyter-widgets/controls",
      "model_module_version": "2.0.0",
      "model_name": "DescriptionStyleModel",
      "state": {
       "description_width": ""
      }
     },
     "e00db5f43c2946fab921684ab53ea23f": {
      "model_module": "@jupyter-widgets/controls",
      "model_module_version": "2.0.0",
      "model_name": "VBoxModel",
      "state": {
       "children": [
        "IPY_MODEL_7c79b2ebb34744809380fea1dd7e19e7",
        "IPY_MODEL_be00e079900d44a4baa7298a42533b00"
       ],
       "layout": "IPY_MODEL_8d70ec6e1c844da2af0362f110284495"
      }
     },
     "e01eec79af9448199b1041aac5e6cfaa": {
      "model_module": "@jupyter-widgets/base",
      "model_module_version": "2.0.0",
      "model_name": "LayoutModel",
      "state": {}
     },
     "e2b3acf500db456a8971b3f7bfca842b": {
      "model_module": "ipyevents",
      "model_module_version": "2.0.1",
      "model_name": "EventModel",
      "state": {
       "_supported_key_events": [
        "keydown",
        "keyup"
       ],
       "_supported_mouse_events": [
        "click",
        "auxclick",
        "dblclick",
        "mouseenter",
        "mouseleave",
        "mousedown",
        "mouseup",
        "mousemove",
        "wheel",
        "contextmenu",
        "dragstart",
        "drag",
        "dragend",
        "dragenter",
        "dragover",
        "dragleave",
        "drop"
       ],
       "_supported_touch_events": [
        "touchstart",
        "touchend",
        "touchmove",
        "touchcancel"
       ],
       "_view_module": "@jupyter-widgets/controls",
       "prevent_default_action": true,
       "source": "IPY_MODEL_d1398064f5944c8780c10d36a1e295a4",
       "throttle_or_debounce": "",
       "watched_events": [
        "keydown",
        "keyup",
        "mouseenter",
        "mouseleave",
        "mousedown",
        "mouseup",
        "mousemove",
        "wheel",
        "contextmenu"
       ],
       "xy_coordinate_system": ""
      }
     },
     "e32ee95060104401a668c8fd66778732": {
      "model_module": "@jupyter-widgets/controls",
      "model_module_version": "2.0.0",
      "model_name": "CheckboxModel",
      "state": {
       "description": "Display Single Spectrum",
       "disabled": false,
       "layout": "IPY_MODEL_4b0bdb3559f544a9acd5dea32d71f205",
       "style": "IPY_MODEL_3685b168a6a74b9182088ae7fc82e1e7",
       "tooltip": "Click to plot one line at a time",
       "value": false
      }
     },
     "e47eb175ec7046b4970c4465283064e6": {
      "model_module": "@jupyter-widgets/base",
      "model_module_version": "2.0.0",
      "model_name": "LayoutModel",
      "state": {
       "margin": "0"
      }
     },
     "e6961502b1ac4ca78285d1e298f3b16c": {
      "model_module": "@jupyter-widgets/controls",
      "model_module_version": "2.0.0",
      "model_name": "SliderStyleModel",
      "state": {
       "description_width": ""
      }
     },
     "e6e1fc563bea4148a6e7081bf838c795": {
      "model_module": "@jupyter-widgets/controls",
      "model_module_version": "2.0.0",
      "model_name": "ButtonModel",
      "state": {
       "button_style": "success",
       "description": "Scan Cube",
       "layout": "IPY_MODEL_35c01da5a1bf41939158c3a7f4ba1a14",
       "style": "IPY_MODEL_5ddfeaccbaab43e9ad6cc742b7b8d150",
       "tooltip": "Click this to scan in wavelength dimension"
      }
     },
     "e92ca51e9cf143be8bdc0c7ddc8be7eb": {
      "model_module": "@jupyter-widgets/base",
      "model_module_version": "2.0.0",
      "model_name": "LayoutModel",
      "state": {}
     },
     "e99dafbd37574c45b46aebcbc295fced": {
      "model_module": "@jupyter-widgets/output",
      "model_module_version": "1.0.0",
      "model_name": "OutputModel",
      "state": {
       "layout": "IPY_MODEL_ad51db2c7b5949bfad8164c1eb6d997f"
      }
     },
     "ea55392070884314974efd983d3e8b0d": {
      "model_module": "@jupyter-widgets/controls",
      "model_module_version": "2.0.0",
      "model_name": "VBoxModel",
      "state": {
       "_dom_classes": [
        "widget-interact"
       ],
       "children": [
        "IPY_MODEL_ab08cd010c9d4985a728933faa8a74e9",
        "IPY_MODEL_f2ab9f659cb74283971d1bb00e369662"
       ],
       "layout": "IPY_MODEL_19dfdfed94914c2fa08d3eae44295971"
      }
     },
     "eb0b4cdfbdaa48a0ba7b6b5cc483e17f": {
      "model_module": "@jupyter-widgets/controls",
      "model_module_version": "2.0.0",
      "model_name": "CheckboxModel",
      "state": {
       "description": "Display Single Spectrum",
       "disabled": false,
       "layout": "IPY_MODEL_bd58c2583f8047ec856784e8bdcced40",
       "style": "IPY_MODEL_81ab48fcc7b54484976811d9c8f2230d",
       "tooltip": "Click to plot one line at a time",
       "value": false
      }
     },
     "ebea0752fe714241abf3df683226b556": {
      "model_module": "@jupyter-widgets/base",
      "model_module_version": "2.0.0",
      "model_name": "LayoutModel",
      "state": {}
     },
     "f0202309e7e34e1194ac52323b187550": {
      "model_module": "@jupyter-widgets/output",
      "model_module_version": "1.0.0",
      "model_name": "OutputModel",
      "state": {
       "layout": "IPY_MODEL_e01eec79af9448199b1041aac5e6cfaa"
      }
     },
     "f1490d3e14c540d6aabc8725204a6515": {
      "model_module": "@jupyter-widgets/base",
      "model_module_version": "2.0.0",
      "model_name": "LayoutModel",
      "state": {
       "width": "500"
      }
     },
     "f17a567659d04649a79cba892048ef16": {
      "model_module": "@jupyter-widgets/base",
      "model_module_version": "2.0.0",
      "model_name": "LayoutModel",
      "state": {}
     },
     "f2ab9f659cb74283971d1bb00e369662": {
      "model_module": "@jupyter-widgets/output",
      "model_module_version": "1.0.0",
      "model_name": "OutputModel",
      "state": {
       "layout": "IPY_MODEL_1e928ad0d7a742a68efe39adae8416d5",
       "outputs": [
        {
         "ename": "NameError",
         "evalue": "name 'viewer' is not defined",
         "output_type": "error",
         "traceback": [
          "\u001b[0;31m---------------------------------------------------------------------------\u001b[0m",
          "\u001b[0;31mNameError\u001b[0m                                 Traceback (most recent call last)",
          "\u001b[0;32m~/.local/lib/python3.9/site-packages/ipywidgets/widgets/interaction.py\u001b[0m in \u001b[0;36mupdate\u001b[0;34m(self, *args)\u001b[0m\n\u001b[1;32m    238\u001b[0m                     \u001b[0mvalue\u001b[0m \u001b[0;34m=\u001b[0m \u001b[0mwidget\u001b[0m\u001b[0;34m.\u001b[0m\u001b[0mget_interact_value\u001b[0m\u001b[0;34m(\u001b[0m\u001b[0;34m)\u001b[0m\u001b[0;34m\u001b[0m\u001b[0;34m\u001b[0m\u001b[0m\n\u001b[1;32m    239\u001b[0m                     \u001b[0mself\u001b[0m\u001b[0;34m.\u001b[0m\u001b[0mkwargs\u001b[0m\u001b[0;34m[\u001b[0m\u001b[0mwidget\u001b[0m\u001b[0;34m.\u001b[0m\u001b[0m_kwarg\u001b[0m\u001b[0;34m]\u001b[0m \u001b[0;34m=\u001b[0m \u001b[0mvalue\u001b[0m\u001b[0;34m\u001b[0m\u001b[0;34m\u001b[0m\u001b[0m\n\u001b[0;32m--> 240\u001b[0;31m                 \u001b[0mself\u001b[0m\u001b[0;34m.\u001b[0m\u001b[0mresult\u001b[0m \u001b[0;34m=\u001b[0m \u001b[0mself\u001b[0m\u001b[0;34m.\u001b[0m\u001b[0mf\u001b[0m\u001b[0;34m(\u001b[0m\u001b[0;34m**\u001b[0m\u001b[0mself\u001b[0m\u001b[0;34m.\u001b[0m\u001b[0mkwargs\u001b[0m\u001b[0;34m)\u001b[0m\u001b[0;34m\u001b[0m\u001b[0;34m\u001b[0m\u001b[0m\n\u001b[0m\u001b[1;32m    241\u001b[0m                 \u001b[0mshow_inline_matplotlib_plots\u001b[0m\u001b[0;34m(\u001b[0m\u001b[0;34m)\u001b[0m\u001b[0;34m\u001b[0m\u001b[0;34m\u001b[0m\u001b[0m\n\u001b[1;32m    242\u001b[0m                 \u001b[0;32mif\u001b[0m \u001b[0mself\u001b[0m\u001b[0;34m.\u001b[0m\u001b[0mauto_display\u001b[0m \u001b[0;32mand\u001b[0m \u001b[0mself\u001b[0m\u001b[0;34m.\u001b[0m\u001b[0mresult\u001b[0m \u001b[0;32mis\u001b[0m \u001b[0;32mnot\u001b[0m \u001b[0;32mNone\u001b[0m\u001b[0;34m:\u001b[0m\u001b[0;34m\u001b[0m\u001b[0;34m\u001b[0m\u001b[0m\n",
          "\u001b[0;32m~/hetdex_api/hetdex_api/cube_widget.py\u001b[0m in \u001b[0;36mshow_slice\u001b[0;34m(self, wave)\u001b[0m\n\u001b[1;32m    291\u001b[0m         \u001b[0mself\u001b[0m\u001b[0;34m.\u001b[0m\u001b[0mimage_show_slice\u001b[0m\u001b[0;34m(\u001b[0m\u001b[0mn\u001b[0m \u001b[0;34m-\u001b[0m \u001b[0;36m1\u001b[0m\u001b[0;34m)\u001b[0m\u001b[0;34m\u001b[0m\u001b[0;34m\u001b[0m\u001b[0m\n\u001b[1;32m    292\u001b[0m         \u001b[0mself\u001b[0m\u001b[0;34m.\u001b[0m\u001b[0mplot_spec\u001b[0m\u001b[0;34m(\u001b[0m\u001b[0mtrace_freeze\u001b[0m\u001b[0;34m=\u001b[0m\u001b[0;32mTrue\u001b[0m\u001b[0;34m)\u001b[0m\u001b[0;34m\u001b[0m\u001b[0;34m\u001b[0m\u001b[0m\n\u001b[0;32m--> 293\u001b[0;31m         \u001b[0msuper\u001b[0m\u001b[0;34m(\u001b[0m\u001b[0;34m)\u001b[0m\u001b[0;34m.\u001b[0m\u001b[0m_mouse_click_cb\u001b[0m\u001b[0;34m(\u001b[0m\u001b[0mviewer\u001b[0m\u001b[0;34m,\u001b[0m \u001b[0mevent\u001b[0m\u001b[0;34m,\u001b[0m \u001b[0mdata_x\u001b[0m\u001b[0;34m,\u001b[0m \u001b[0mdata_y\u001b[0m\u001b[0;34m)\u001b[0m\u001b[0;34m\u001b[0m\u001b[0;34m\u001b[0m\u001b[0m\n\u001b[0m",
          "\u001b[0;31mNameError\u001b[0m: name 'viewer' is not defined"
         ]
        }
       ]
      }
     },
     "f2be997a2f524491b615862bc46be8c7": {
      "model_module": "jupyterlab-plotly",
      "model_module_version": "^5.20.0",
      "model_name": "FigureModel",
      "state": {
       "_config": {
        "editSelection": false,
        "plotlyServerURL": "https://plot.ly"
       },
       "_js2py_pointsCallback": {},
       "_js2py_restyle": {},
       "_js2py_update": {},
       "_last_layout_edit_id": 2,
       "_last_trace_edit_id": 1,
       "_layout": {
        "autosize": true,
        "template": {
         "data": {
          "scatter": [
           {
            "type": "scatter"
           }
          ]
         }
        }
       },
       "_py2js_addTraces": {},
       "_py2js_animate": {},
       "_py2js_deleteTraces": {},
       "_py2js_moveTraces": {},
       "_py2js_removeLayoutProps": {},
       "_py2js_removeTraceProps": {},
       "_py2js_restyle": {},
       "_view_count": 0
      }
     },
     "f37ff31485d64dfe9589ae598f1e22cc": {
      "model_module": "@jupyter-widgets/base",
      "model_module_version": "2.0.0",
      "model_name": "LayoutModel",
      "state": {}
     },
     "f451f28cd62348dab28ad4e7f686aedd": {
      "model_module": "@jupyter-widgets/controls",
      "model_module_version": "2.0.0",
      "model_name": "HBoxModel",
      "state": {
       "children": [
        "IPY_MODEL_bc712d1b2b9d40e38ab4798049ee50be",
        "IPY_MODEL_aadb6a419db1412e9f99cc5e805b5c2d"
       ],
       "layout": "IPY_MODEL_f37ff31485d64dfe9589ae598f1e22cc"
      }
     },
     "f9ffe3a6fda14e52ad8859570544f9da": {
      "model_module": "@jupyter-widgets/controls",
      "model_module_version": "2.0.0",
      "model_name": "HBoxModel",
      "state": {
       "children": [
        "IPY_MODEL_ff870052ab8244198ab1d58449fe9298",
        "IPY_MODEL_cbf1a8f78afb43b297ba1127926cb820"
       ],
       "layout": "IPY_MODEL_1bc1ed5461cd4d469d33bcbf6e974061"
      }
     },
     "fbecc64c478e40388aa2b0b4b29c9618": {
      "buffers": [
       {
        "data": "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",
        "encoding": "base64",
        "path": [
         "value"
        ]
       }
      ],
      "model_module": "@jupyter-widgets/controls",
      "model_module_version": "2.0.0",
      "model_name": "ImageModel",
      "state": {
       "_view_count": 0,
       "format": "jpeg",
       "height": "500",
       "layout": "IPY_MODEL_e47eb175ec7046b4970c4465283064e6",
       "width": "500"
      }
     },
     "fcd1c7d9fa3c456aa3230096ec4d5209": {
      "model_module": "@jupyter-widgets/controls",
      "model_module_version": "2.0.0",
      "model_name": "CheckboxStyleModel",
      "state": {
       "description_width": ""
      }
     },
     "febb64eb3ee1477abb29a0f1192c13cf": {
      "model_module": "@jupyter-widgets/base",
      "model_module_version": "2.0.0",
      "model_name": "LayoutModel",
      "state": {
       "width": "500"
      }
     },
     "ff1ddc30e1c74f4a943315190f13958b": {
      "model_module": "@jupyter-widgets/controls",
      "model_module_version": "2.0.0",
      "model_name": "CheckboxStyleModel",
      "state": {
       "description_width": ""
      }
     },
     "ff74b58a2eba4b9990a375c67414c010": {
      "model_module": "@jupyter-widgets/base",
      "model_module_version": "2.0.0",
      "model_name": "LayoutModel",
      "state": {
       "margin": "0"
      }
     },
     "ff870052ab8244198ab1d58449fe9298": {
      "model_module": "@jupyter-widgets/controls",
      "model_module_version": "2.0.0",
      "model_name": "IntSliderModel",
      "state": {
       "behavior": "drag-tap",
       "continuous_update": false,
       "description": "wave",
       "layout": "IPY_MODEL_79d5478b90fb43c1be19cce308ebfd05",
       "max": 5542,
       "min": 3470,
       "step": 2,
       "style": "IPY_MODEL_e6961502b1ac4ca78285d1e298f3b16c",
       "value": 4500
      }
     }
    },
    "version_major": 2,
    "version_minor": 0
   }
  }
 },
 "nbformat": 4,
 "nbformat_minor": 4
}
