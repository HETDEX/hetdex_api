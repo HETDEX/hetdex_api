{
 "cells": [
  {
   "cell_type": "markdown",
   "metadata": {},
   "source": [
    "# Accessing and Querying the Survey Class"
   ]
  },
  {
   "cell_type": "markdown",
   "metadata": {},
   "source": [
    "The survey HDF5 file is a master look up table for each observation made by VIRUS for HETDEX. It can be accessed directly through the HDF5 survey file, or through the Survey class API. The Survey class includes information for each three dither set HETDEX observation in HDR1. It includes both science and calibration shots. Any quantity related to an individual dither is provided in an array of length three. Fundamental properties of a shot and quality assessment values for seeing (fwhm), astrometry, flux limits and transparency (response_4540) are tabulated to allow for querying of desired shots. \n",
    "\n",
    "We first introduce the basic API to query the Survey Class by sky coordinates to get a list of shots where fibers are located within that region. Later on in this notebook we show some basic querying of the Survey class and demonstrate a few examples."
   ]
  },
  {
   "cell_type": "markdown",
   "metadata": {},
   "source": [
    "## Initiate the Survey class"
   ]
  },
  {
   "cell_type": "code",
   "execution_count": 1,
   "metadata": {},
   "outputs": [],
   "source": [
    "%matplotlib inline\n",
    "import tables as tb\n",
    "import numpy as np\n",
    "import matplotlib.pyplot as plt\n",
    "\n",
    "from astropy.table import Table\n",
    "import astropy.units as u\n",
    "from astropy.coordinates import SkyCoord\n",
    "\n",
    "from hetdex_api.survey import Survey, FiberIndex"
   ]
  },
  {
   "cell_type": "code",
   "execution_count": 2,
   "metadata": {},
   "outputs": [],
   "source": [
    "S = Survey('pdr1')"
   ]
  },
  {
   "cell_type": "code",
   "execution_count": 3,
   "metadata": {},
   "outputs": [],
   "source": [
    "# convert to an astropy table format. Can remove any flagged shots if desired by setting return_good=True.\n",
    "survey_table = S.return_astropy_table(return_good=False) "
   ]
  },
  {
   "cell_type": "code",
   "execution_count": 4,
   "metadata": {},
   "outputs": [
    {
     "data": {
      "text/html": [
       "<div><i>Table length=3502</i>\n",
       "<table id=\"table23108507885280\" class=\"table-striped table-bordered table-condensed\">\n",
       "<thead><tr><th>shotid</th><th>field</th><th>objid</th><th>date</th><th>obsid</th><th>ra</th><th>dec</th><th>pa</th><th>n_ifu</th><th>fwhm_virus</th><th>fwhm_virus_err</th><th>response_4540</th><th>ambtemp</th><th>datevobs</th><th>dewpoint</th><th>exptime</th><th>humidity</th><th>mjd</th><th>nstars_fit_fwhm</th><th>obsind</th><th>pressure</th><th>structaz</th><th>time</th><th>trajcdec</th><th>trajcpa</th><th>trajcra</th><th>shot_flag</th></tr></thead>\n",
       "<thead><tr><th>int64</th><th>bytes12</th><th>bytes18</th><th>int32</th><th>int32</th><th>float64</th><th>float64</th><th>float64</th><th>int32</th><th>float32</th><th>float32</th><th>float32</th><th>float32</th><th>bytes12</th><th>float32</th><th>float32</th><th>float32</th><th>float32</th><th>int32</th><th>int32</th><th>float32</th><th>float32</th><th>bytes7</th><th>float32</th><th>float32</th><th>float32</th><th>bool</th></tr></thead>\n",
       "<tr><td>20170920008</td><td>dex-fall</td><td>DEX00068_0_000_E</td><td>20170920</td><td>8</td><td>24.588702</td><td>0.000469</td><td>154.144974</td><td>21</td><td>1.6656576</td><td>0.40102777</td><td>0.1212</td><td>20.422777</td><td>20170920v008</td><td>10.840555</td><td>367.09952</td><td>52.572</td><td>58016.305</td><td>8</td><td>1</td><td>802.2015</td><td>147.76714</td><td>0717562</td><td>0.0</td><td>152.69672</td><td>24.5895</td><td>True</td></tr>\n",
       "<tr><td>20170920009</td><td>dex-fall</td><td>DEX00094_0_000_E</td><td>20170920</td><td>9</td><td>31.608569</td><td>0.000689</td><td>154.184946</td><td>21</td><td>1.9848523</td><td>0.18202426</td><td>0.1006</td><td>20.372223</td><td>20170920v009</td><td>10.787222</td><td>367.59937</td><td>52.337</td><td>58016.324</td><td>4</td><td>1</td><td>802.2015</td><td>147.78941</td><td>0745268</td><td>0.0</td><td>152.71495</td><td>31.6095</td><td>True</td></tr>\n",
       "<tr><td>20170921018</td><td>dex-fall</td><td>DEX00001_0</td><td>20170921</td><td>18</td><td>6.498122</td><td>0.000526</td><td>154.177847</td><td>18</td><td>1.7578322</td><td>0.5647613</td><td>0.1374</td><td>20.896667</td><td>20170921v018</td><td>9.74</td><td>367.166</td><td>46.673</td><td>58017.25</td><td>7</td><td>1</td><td>803.082</td><td>147.73189</td><td>0559186</td><td>0.0</td><td>152.66785</td><td>6.4995</td><td>True</td></tr>\n",
       "<tr><td>20170921020</td><td>dex-fall</td><td>DEX00046_0_000_E</td><td>20170921</td><td>20</td><td>18.649292</td><td>0.001456</td><td>154.126565</td><td>18</td><td>1.6957773</td><td>0.27283788</td><td>0.113</td><td>20.472221</td><td>20170921v020</td><td>10.080556</td><td>367.06583</td><td>49.737</td><td>58017.285</td><td>12</td><td>1</td><td>803.082</td><td>147.75246</td><td>0647548</td><td>0.0</td><td>152.6847</td><td>18.6495</td><td>True</td></tr>\n",
       "<tr><td>20170921021</td><td>dex-fall</td><td>DEX00070_0_000_E</td><td>20170921</td><td>21</td><td>25.127779</td><td>0.000856</td><td>154.16784</td><td>18</td><td>1.6449038</td><td>0.18297766</td><td>0.118</td><td>20.043333</td><td>20170921v021</td><td>10.283889</td><td>366.5493</td><td>51.741</td><td>58017.3</td><td>4</td><td>1</td><td>803.0481</td><td>147.76953</td><td>0712281</td><td>0.0</td><td>152.69867</td><td>25.1295</td><td>True</td></tr>\n",
       "<tr><td>20170921022</td><td>dex-fall</td><td>DEX00070_0_000_E</td><td>20170921</td><td>22</td><td>31.338945</td><td>0.000353</td><td>154.178197</td><td>18</td><td>1.9767525</td><td>0.5830754</td><td>0.1277</td><td>19.638334</td><td>20170921v022</td><td>10.735556</td><td>367.19894</td><td>54.857</td><td>58017.316</td><td>7</td><td>1</td><td>803.0481</td><td>147.78941</td><td>0736586</td><td>0.0</td><td>152.71495</td><td>31.3395</td><td>True</td></tr>\n",
       "<tr><td>20170921025</td><td>dex-fall</td><td>DEX00017_1_000_W</td><td>20170921</td><td>25</td><td>10.820815</td><td>0.000884</td><td>208.837196</td><td>18</td><td>1.7373962</td><td>0.14883323</td><td>0.0892</td><td>19.426111</td><td>20170921v025</td><td>10.836667</td><td>366.96646</td><td>56.025</td><td>58017.36</td><td>4</td><td>1</td><td>802.91266</td><td>212.2687</td><td>0838279</td><td>0.0</td><td>207.33266</td><td>10.8195</td><td>True</td></tr>\n",
       "<tr><td>20170921026</td><td>dex-fall</td><td>DEX00041_1_000_W</td><td>20170921</td><td>26</td><td>17.300609</td><td>0.001184</td><td>208.919681</td><td>18</td><td>1.7994181</td><td>0.013720359</td><td>0.116</td><td>18.890556</td><td>20170921v026</td><td>10.827222</td><td>367.54956</td><td>58.009</td><td>58017.38</td><td>5</td><td>1</td><td>802.7095</td><td>212.24982</td><td>0905028</td><td>0.0</td><td>207.31718</td><td>17.2995</td><td>True</td></tr>\n",
       "<tr><td>20170921029</td><td>dex-fall</td><td>DEX00095_1_000_W</td><td>20170921</td><td>29</td><td>31.878935</td><td>0.000924</td><td>208.749334</td><td>18</td><td>1.8989948</td><td>0.898437</td><td>0.1213</td><td>18.762777</td><td>20170921v029</td><td>10.489445</td><td>367.14957</td><td>57.425</td><td>58017.42</td><td>6</td><td>1</td><td>802.1676</td><td>212.20863</td><td>1006376</td><td>0.0</td><td>207.28346</td><td>31.8795</td><td>True</td></tr>\n",
       "<tr><td>20170922021</td><td>dex-fall</td><td>DEX00015_0_000_E</td><td>20170922</td><td>21</td><td>10.278399</td><td>0.001199</td><td>154.164499</td><td>21</td><td>1.8325357</td><td>0.5471163</td><td>0.1356</td><td>20.06611</td><td>20170922v021</td><td>11.661667</td><td>366.7827</td><td>57.33</td><td>58018.26</td><td>10</td><td>1</td><td>801.38873</td><td>147.73499</td><td>0616563</td><td>0.0</td><td>152.67038</td><td>10.2795</td><td>True</td></tr>\n",
       "<tr><td>...</td><td>...</td><td>...</td><td>...</td><td>...</td><td>...</td><td>...</td><td>...</td><td>...</td><td>...</td><td>...</td><td>...</td><td>...</td><td>...</td><td>...</td><td>...</td><td>...</td><td>...</td><td>...</td><td>...</td><td>...</td><td>...</td><td>...</td><td>...</td><td>...</td><td>...</td><td>...</td></tr>\n",
       "<tr><td>20210810022</td><td>dex-fall</td><td>DEXfl1201</td><td>20210810</td><td>22</td><td>15.747345</td><td>1.386349</td><td>150.335036</td><td>77</td><td>1.6856463</td><td>0.24644043</td><td>0.137</td><td>20.44111</td><td>20210810v022</td><td>12.118889</td><td>368.47778</td><td>56.008</td><td>59436.383</td><td>22</td><td>1</td><td>806.0958</td><td>143.12718</td><td>0909389</td><td>1.386358</td><td>148.92297</td><td>15.74763</td><td>True</td></tr>\n",
       "<tr><td>20210810023</td><td>dex-fall</td><td>DEXfl0547</td><td>20210810</td><td>23</td><td>20.751032</td><td>1.387937</td><td>150.333082</td><td>77</td><td>1.4781301</td><td>0.21766174</td><td>0.155</td><td>20.301666</td><td>20210810v023</td><td>12.070556</td><td>427.60727</td><td>55.989</td><td>59436.4</td><td>31</td><td>1</td><td>806.0958</td><td>143.12718</td><td>0932480</td><td>1.387939</td><td>148.92297</td><td>20.75196</td><td>True</td></tr>\n",
       "<tr><td>20210810024</td><td>dex-fall</td><td>DEXfl1831</td><td>20210810</td><td>24</td><td>27.750462</td><td>1.383569</td><td>150.305894</td><td>77</td><td>1.5440501</td><td>0.20046702</td><td>0.141</td><td>20.018888</td><td>20210810v024</td><td>11.161111</td><td>367.36584</td><td>53.706</td><td>59436.418</td><td>24</td><td>1</td><td>806.23126</td><td>143.12718</td><td>0959245</td><td>1.383825</td><td>148.92297</td><td>27.750586</td><td>True</td></tr>\n",
       "<tr><td>20210818008</td><td>dex-fall</td><td>DEXfl0695</td><td>20210818</td><td>8</td><td>24.49757</td><td>2.359227</td><td>147.751397</td><td>77</td><td>1.7026963</td><td>0.47975463</td><td>0.133</td><td>16.936666</td><td>20210818v008</td><td>13.848889</td><td>368.33145</td><td>81.192</td><td>59444.383</td><td>11</td><td>1</td><td>803.556</td><td>139.96121</td><td>0908316</td><td>2.359597</td><td>146.37807</td><td>24.49788</td><td>True</td></tr>\n",
       "<tr><td>20210818009</td><td>dex-fall</td><td>DEXfl1966</td><td>20210818</td><td>9</td><td>30.50176</td><td>2.358941</td><td>147.778205</td><td>77</td><td>1.6296377</td><td>0.19967884</td><td>0.157</td><td>17.472778</td><td>20210818v009</td><td>13.051666</td><td>428.275</td><td>73.847</td><td>59444.4</td><td>20</td><td>1</td><td>803.556</td><td>139.96121</td><td>0932311</td><td>2.359597</td><td>146.37807</td><td>30.502125</td><td>True</td></tr>\n",
       "<tr><td>20210818010</td><td>dex-fall</td><td>DEXfl1901</td><td>20210818</td><td>10</td><td>34.997393</td><td>1.803343</td><td>147.794806</td><td>77</td><td>1.3866715</td><td>0.20080687</td><td>0.122</td><td>17.562778</td><td>20210818v010</td><td>12.544444</td><td>368.19986</td><td>71.304</td><td>59444.418</td><td>28</td><td>1</td><td>803.6915</td><td>139.96121</td><td>0959180</td><td>1.803569</td><td>146.37807</td><td>34.997623</td><td>True</td></tr>\n",
       "<tr><td>20210818011</td><td>dex-fall</td><td>DEXfl0791</td><td>20210818</td><td>11</td><td>8.751763</td><td>-1.662152</td><td>202.591086</td><td>77</td><td>1.4317216</td><td>0.23261194</td><td>0.14</td><td>18.206112</td><td>20210818v011</td><td>11.935555</td><td>428.2084</td><td>66.21</td><td>59444.434</td><td>21</td><td>1</td><td>803.6915</td><td>204.77533</td><td>1023392</td><td>-1.662814</td><td>201.13431</td><td>8.75208</td><td>True</td></tr>\n",
       "<tr><td>20210826008</td><td>dex-spring</td><td>DEXsp6607</td><td>20210826</td><td>8</td><td>240.071344</td><td>52.579344</td><td>295.52774</td><td>78</td><td>1.4278307</td><td>0.15777344</td><td>0.158</td><td>20.915556</td><td>20210826v008</td><td>12.225</td><td>367.3104</td><td>54.519</td><td>59452.12</td><td>37</td><td>1</td><td>807.3488</td><td>319.74277</td><td>0251417</td><td>52.57897</td><td>293.8813</td><td>240.07066</td><td>True</td></tr>\n",
       "<tr><td>20210828007</td><td>dex-spring</td><td>DEXsp6643</td><td>20210828</td><td>7</td><td>240.801501</td><td>52.778936</td><td>295.966469</td><td>78</td><td>1.3569877</td><td>0.14228329</td><td>0.146</td><td>21.441668</td><td>20210828v007</td><td>11.168889</td><td>367.7404</td><td>48.037</td><td>59454.117</td><td>39</td><td>1</td><td>804.5042</td><td>320.1262</td><td>0247291</td><td>52.778416</td><td>294.31314</td><td>240.80075</td><td>True</td></tr>\n",
       "<tr><td>20210830013</td><td>dex-spring</td><td>DEXsp6649</td><td>20210830</td><td>13</td><td>244.692454</td><td>50.99492</td><td>293.60186</td><td>78</td><td>1.5250597</td><td>0.28602806</td><td>0.145</td><td>19.721666</td><td>20210830v013</td><td>14.098333</td><td>487.7771</td><td>67.078</td><td>59456.137</td><td>31</td><td>1</td><td>805.24927</td><td>317.97006</td><td>0316036</td><td>50.9942</td><td>291.92062</td><td>244.69333</td><td>True</td></tr>\n",
       "</table></div>"
      ],
      "text/plain": [
       "<Table length=3502>\n",
       "   shotid     field         objid       ...  trajcpa   trajcra  shot_flag\n",
       "   int64     bytes12       bytes18      ...  float32   float32     bool  \n",
       "----------- ---------- ---------------- ... --------- --------- ---------\n",
       "20170920008   dex-fall DEX00068_0_000_E ... 152.69672   24.5895      True\n",
       "20170920009   dex-fall DEX00094_0_000_E ... 152.71495   31.6095      True\n",
       "20170921018   dex-fall       DEX00001_0 ... 152.66785    6.4995      True\n",
       "20170921020   dex-fall DEX00046_0_000_E ...  152.6847   18.6495      True\n",
       "20170921021   dex-fall DEX00070_0_000_E ... 152.69867   25.1295      True\n",
       "20170921022   dex-fall DEX00070_0_000_E ... 152.71495   31.3395      True\n",
       "20170921025   dex-fall DEX00017_1_000_W ... 207.33266   10.8195      True\n",
       "20170921026   dex-fall DEX00041_1_000_W ... 207.31718   17.2995      True\n",
       "20170921029   dex-fall DEX00095_1_000_W ... 207.28346   31.8795      True\n",
       "20170922021   dex-fall DEX00015_0_000_E ... 152.67038   10.2795      True\n",
       "        ...        ...              ... ...       ...       ...       ...\n",
       "20210810022   dex-fall        DEXfl1201 ... 148.92297  15.74763      True\n",
       "20210810023   dex-fall        DEXfl0547 ... 148.92297  20.75196      True\n",
       "20210810024   dex-fall        DEXfl1831 ... 148.92297 27.750586      True\n",
       "20210818008   dex-fall        DEXfl0695 ... 146.37807  24.49788      True\n",
       "20210818009   dex-fall        DEXfl1966 ... 146.37807 30.502125      True\n",
       "20210818010   dex-fall        DEXfl1901 ... 146.37807 34.997623      True\n",
       "20210818011   dex-fall        DEXfl0791 ... 201.13431   8.75208      True\n",
       "20210826008 dex-spring        DEXsp6607 ...  293.8813 240.07066      True\n",
       "20210828007 dex-spring        DEXsp6643 ... 294.31314 240.80075      True\n",
       "20210830013 dex-spring        DEXsp6649 ... 291.92062 244.69333      True"
      ]
     },
     "execution_count": 4,
     "metadata": {},
     "output_type": "execute_result"
    }
   ],
   "source": [
    "survey_table"
   ]
  },
  {
   "cell_type": "markdown",
   "metadata": {},
   "source": [
    "It also converts RA and DEC into astropy coordinate objects."
   ]
  },
  {
   "cell_type": "code",
   "execution_count": 5,
   "metadata": {},
   "outputs": [
    {
     "data": {
      "text/plain": [
       "<SkyCoord (ICRS): (ra, dec) in deg\n",
       "    [( 24.588702, 4.6900000e-04), ( 31.608569, 6.8900000e-04),\n",
       "     (  6.498122, 5.2600000e-04), ..., (240.071344, 5.2579344e+01),\n",
       "     (240.801501, 5.2778936e+01), (244.692454, 5.0994920e+01)]>"
      ]
     },
     "execution_count": 5,
     "metadata": {},
     "output_type": "execute_result"
    }
   ],
   "source": [
    "S.coords"
   ]
  },
  {
   "cell_type": "markdown",
   "metadata": {},
   "source": [
    "Shots are labeled based on their observation date and observation ID:"
   ]
  },
  {
   "cell_type": "code",
   "execution_count": 6,
   "metadata": {},
   "outputs": [
    {
     "data": {
      "text/plain": [
       "array([20170920, 20170920, 20170921, ..., 20210826, 20210828, 20210830],\n",
       "      dtype=int32)"
      ]
     },
     "execution_count": 6,
     "metadata": {},
     "output_type": "execute_result"
    }
   ],
   "source": [
    "S.date"
   ]
  },
  {
   "cell_type": "code",
   "execution_count": 7,
   "metadata": {},
   "outputs": [
    {
     "data": {
      "text/plain": [
       "array([ 8,  9, 18, ...,  8,  7, 13], dtype=int32)"
      ]
     },
     "execution_count": 7,
     "metadata": {},
     "output_type": "execute_result"
    }
   ],
   "source": [
    "S.obsid"
   ]
  },
  {
   "cell_type": "markdown",
   "metadata": {},
   "source": [
    "A specific shot can be linked either by an integer combination of these two values, called `shotid`, or the `DATEvOBS` form:"
   ]
  },
  {
   "cell_type": "code",
   "execution_count": 8,
   "metadata": {},
   "outputs": [
    {
     "data": {
      "text/plain": [
       "array(['20170920v008', '20170920v009', '20170921v018', ...,\n",
       "       '20210826v008', '20210828v007', '20210830v013'], dtype='<U12')"
      ]
     },
     "execution_count": 8,
     "metadata": {},
     "output_type": "execute_result"
    }
   ],
   "source": [
    "S.datevobs"
   ]
  },
  {
   "cell_type": "code",
   "execution_count": 9,
   "metadata": {},
   "outputs": [
    {
     "data": {
      "text/plain": [
       "array([20170920008, 20170920009, 20170921018, ..., 20210826008,\n",
       "       20210828007, 20210830013])"
      ]
     },
     "execution_count": 9,
     "metadata": {},
     "output_type": "execute_result"
    }
   ],
   "source": [
    "S.shotid"
   ]
  },
  {
   "cell_type": "markdown",
   "metadata": {},
   "source": [
    "## Searching for shots near a sky coordinate wiht get_shotlist"
   ]
  },
  {
   "cell_type": "markdown",
   "metadata": {},
   "source": [
    "Most users searching for observations will want to get a list of observations/shots at a specific sky position. Each shot has a single associated sky coordinate. We can retrieve a list of shots that may contain fibers in a specific region. However, because of the varying and non-contiguous footprint of VIRUS, this is not an immediate guarantee a region has been observed. You must further query fibers in each shot to determine this. See Notebook 02 to learn how to query with the Fibers Class API. "
   ]
  },
  {
   "cell_type": "markdown",
   "metadata": {},
   "source": [
    "This function which operates on the Survey class object. An astropy coordinates object is required as input."
   ]
  },
  {
   "cell_type": "code",
   "execution_count": 10,
   "metadata": {},
   "outputs": [],
   "source": [
    "coords = SkyCoord(11.628530 * u.deg, 0.081790 * u.deg, frame='icrs')"
   ]
  },
  {
   "cell_type": "markdown",
   "metadata": {},
   "source": [
    "We can either search a rectangular region, width and height in degrees:"
   ]
  },
  {
   "cell_type": "code",
   "execution_count": 11,
   "metadata": {},
   "outputs": [],
   "source": [
    "shotlist = S.get_shotlist(coords, width=0.5, height=0.2)"
   ]
  },
  {
   "cell_type": "code",
   "execution_count": 12,
   "metadata": {},
   "outputs": [
    {
     "data": {
      "text/plain": [
       "array([20171119003, 20180106004, 20181003009, 20181005017, 20181107014,\n",
       "       20191222012])"
      ]
     },
     "execution_count": 12,
     "metadata": {},
     "output_type": "execute_result"
    }
   ],
   "source": [
    "shotlist"
   ]
  },
  {
   "cell_type": "markdown",
   "metadata": {},
   "source": [
    "or we can search a circular aperture with a radius given in degress, or in an astropy quantity object:"
   ]
  },
  {
   "cell_type": "code",
   "execution_count": 13,
   "metadata": {},
   "outputs": [],
   "source": [
    "shotlist = S.get_shotlist(coords, radius=10*u.arcmin)"
   ]
  },
  {
   "cell_type": "code",
   "execution_count": 14,
   "metadata": {},
   "outputs": [
    {
     "data": {
      "text/plain": [
       "array([20171119003, 20180106004, 20181003009, 20181107014, 20191222012])"
      ]
     },
     "execution_count": 14,
     "metadata": {},
     "output_type": "execute_result"
    }
   ],
   "source": [
    "shotlist"
   ]
  },
  {
   "cell_type": "markdown",
   "metadata": {},
   "source": [
    "From here a user can take their shotlist and query the position on the Fibers class and see if their region of interest is observed in the survey."
   ]
  },
  {
   "cell_type": "markdown",
   "metadata": {},
   "source": [
    "## Basic querying for the Survey Class"
   ]
  },
  {
   "cell_type": "markdown",
   "metadata": {},
   "source": [
    "The Survey HDF5 itself contains information about the quality of each observation. A user can query different parameters and plot up general shot quantities. For example, we can compare the distribution of throughput values (technically the response at 4540 AA) between the HETDEX spring and HETDEX fall fields:"
   ]
  },
  {
   "cell_type": "markdown",
   "metadata": {},
   "source": [
    "### Example: Plotting up the canonical throughput value at 4540 AA"
   ]
  },
  {
   "cell_type": "code",
   "execution_count": 15,
   "metadata": {},
   "outputs": [],
   "source": [
    "idx_spring = np.where( (S.field == 'dex-spring') * np.isfinite(S.response_4540) )"
   ]
  },
  {
   "cell_type": "code",
   "execution_count": 16,
   "metadata": {},
   "outputs": [],
   "source": [
    "idx_fall = np.where( (S.field == 'dex-fall') * np.isfinite(S.response_4540))"
   ]
  },
  {
   "cell_type": "code",
   "execution_count": 17,
   "metadata": {},
   "outputs": [
    {
     "data": {
      "text/plain": [
       "<matplotlib.legend.Legend at 0x15045f2d7d90>"
      ]
     },
     "execution_count": 17,
     "metadata": {},
     "output_type": "execute_result"
    }
   ],
   "source": [
    "plt.figure(figsize=(8,6))\n",
    "plt.hist(S.response_4540[idx_spring], label = 'DEX-Spring', bins=20)\n",
    "plt.hist(S.response_4540[idx_fall], label = 'DEX-Fall', bins=20)\n",
    "plt.xlabel('Throughput at 4540 AA')\n",
    "plt.ylabel('N OBS')\n",
    "plt.legend()"
   ]
  },
  {
   "cell_type": "markdown",
   "metadata": {},
   "source": [
    "## Access the survey H5 file"
   ]
  },
  {
   "cell_type": "markdown",
   "metadata": {},
   "source": [
    "The hdfile attribute contains the link to the survey HDF5 file. Calling it will show you all the information in the HDF5 file. You may interact with this directly rather than using the Survey class initiation. \n"
   ]
  },
  {
   "cell_type": "code",
   "execution_count": 18,
   "metadata": {},
   "outputs": [
    {
     "data": {
      "text/plain": [
       "File(filename=/scratch/projects/hetdex/pdr1/survey/survey_pdr1.h5, title='PDR1 Survey File', mode='r', root_uep='/', filters=Filters(complevel=0, shuffle=False, bitshuffle=False, fletcher32=False, least_significant_digit=None))\n",
       "/ (RootGroup) 'PDR1 Survey File'\n",
       "/Survey (Table(3502,)) ''\n",
       "  description := {\n",
       "  \"shotid\": Int64Col(shape=(), dflt=0, pos=0),\n",
       "  \"field\": StringCol(itemsize=12, shape=(), dflt=b'', pos=1),\n",
       "  \"objid\": StringCol(itemsize=18, shape=(), dflt=b'', pos=2),\n",
       "  \"date\": Int32Col(shape=(), dflt=0, pos=3),\n",
       "  \"obsid\": Int32Col(shape=(), dflt=0, pos=4),\n",
       "  \"ra\": Float64Col(shape=(), dflt=0.0, pos=5),\n",
       "  \"dec\": Float64Col(shape=(), dflt=0.0, pos=6),\n",
       "  \"pa\": Float64Col(shape=(), dflt=0.0, pos=7),\n",
       "  \"n_ifu\": Int32Col(shape=(), dflt=0, pos=8),\n",
       "  \"fwhm_virus\": Float32Col(shape=(), dflt=0.0, pos=9),\n",
       "  \"fwhm_virus_err\": Float32Col(shape=(), dflt=0.0, pos=10),\n",
       "  \"response_4540\": Float32Col(shape=(), dflt=0.0, pos=11),\n",
       "  \"ambtemp\": Float32Col(shape=(), dflt=0.0, pos=12),\n",
       "  \"datevobs\": StringCol(itemsize=12, shape=(), dflt=b'', pos=13),\n",
       "  \"dewpoint\": Float32Col(shape=(), dflt=0.0, pos=14),\n",
       "  \"exptime\": Float32Col(shape=(), dflt=0.0, pos=15),\n",
       "  \"humidity\": Float32Col(shape=(), dflt=0.0, pos=16),\n",
       "  \"mjd\": Float32Col(shape=(), dflt=0.0, pos=17),\n",
       "  \"nstars_fit_fwhm\": Int32Col(shape=(), dflt=0, pos=18),\n",
       "  \"obsind\": Int32Col(shape=(), dflt=0, pos=19),\n",
       "  \"pressure\": Float32Col(shape=(), dflt=0.0, pos=20),\n",
       "  \"structaz\": Float32Col(shape=(), dflt=0.0, pos=21),\n",
       "  \"time\": StringCol(itemsize=7, shape=(), dflt=b'', pos=22),\n",
       "  \"trajcdec\": Float32Col(shape=(), dflt=0.0, pos=23),\n",
       "  \"trajcpa\": Float32Col(shape=(), dflt=0.0, pos=24),\n",
       "  \"trajcra\": Float32Col(shape=(), dflt=0.0, pos=25),\n",
       "  \"shot_flag\": BoolCol(shape=(), dflt=False, pos=26)}\n",
       "  byteorder := 'little'\n",
       "  chunkshape := (425,)"
      ]
     },
     "execution_count": 18,
     "metadata": {},
     "output_type": "execute_result"
    }
   ],
   "source": [
    "S.hdfile"
   ]
  },
  {
   "cell_type": "markdown",
   "metadata": {},
   "source": [
    "## Close the Survey H5 file after use"
   ]
  },
  {
   "cell_type": "markdown",
   "metadata": {},
   "source": [
    "It is good practice to close any h5 files that are open when you no longer need to access new data from the h5 file"
   ]
  },
  {
   "cell_type": "code",
   "execution_count": 19,
   "metadata": {},
   "outputs": [],
   "source": [
    "S.close()"
   ]
  }
 ],
 "metadata": {
  "kernelspec": {
   "display_name": "Python 3 (ipykernel)",
   "language": "python",
   "name": "python3"
  },
  "language_info": {
   "codemirror_mode": {
    "name": "ipython",
    "version": 3
   },
   "file_extension": ".py",
   "mimetype": "text/x-python",
   "name": "python",
   "nbconvert_exporter": "python",
   "pygments_lexer": "ipython3",
   "version": "3.9.7"
  },
  "widgets": {
   "application/vnd.jupyter.widget-state+json": {
    "state": {},
    "version_major": 2,
    "version_minor": 0
   }
  }
 },
 "nbformat": 4,
 "nbformat_minor": 4
}
