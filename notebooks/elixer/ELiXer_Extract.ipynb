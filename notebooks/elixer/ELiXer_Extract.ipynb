{
 "cells": [
  {
   "cell_type": "markdown",
   "id": "f3324f8b",
   "metadata": {},
   "source": [
    "# ELiXer Extract at RA, Dec\n",
    "\n",
    "\n"
   ]
  },
  {
   "cell_type": "code",
   "execution_count": null,
   "id": "63465e9a",
   "metadata": {},
   "outputs": [],
   "source": [
    "import tables\n",
    "import numpy as np\n",
    "from hetdex_api.elixer_widget_cls import ElixerWidget\n",
    "import matplotlib\n",
    "import matplotlib.pyplot as plt\n",
    "%matplotlib notebook"
   ]
  },
  {
   "cell_type": "code",
   "execution_count": null,
   "id": "6d4d6277",
   "metadata": {},
   "outputs": [],
   "source": [
    "#\n",
    "# Example\n",
    "# (on the hub, elixer.py lives in /home/jovyan/software/elixer/elixer/)\n",
    "\n",
    "#\n",
    "# this can take several minutes to run on the hub, particularly dependent on the number of overlapping shots\n",
    "# and the size of the --neighborhood \n",
    "# If there are overlapping shots and you want to just specify one, then use the --shotid  switch\n",
    "\n",
    "# the important switches are --ra  --dec  --aperture\n",
    "# if you want to run many reextractions, this should be done from the command line on stampde2 and \n",
    "# you should use the --coords  file instead of a single --ra and --dec\n",
    "\n",
    "# NOTE: the logging can be excessive and you may want to enable scrolling\n",
    "\n",
    "!python /home/jovyan/software/elixer/elixer/elixer.py --hdr 3 --ra 214.75 --dec 52.83 --aperture 3.5 --name extract --png --error 3.0 --neighborhood 10.0 -f\n",
    "#%run /home/jovyan/software/elixer/elixer/elixer.py --hdr 3 --ra 214.75 --dec 52.83 --aperture 3.5 --name extract --png --error 3.0 --neighborhood 10.0 -f\n",
    "\n",
    "\n",
    "#if you use !python this will run as a separate process\n",
    "#if you use %run it will run here, but you can get an exception at the end about the exit(0) ... this can be ignored"
   ]
  },
  {
   "cell_type": "code",
   "execution_count": null,
   "id": "8a1924a5",
   "metadata": {},
   "outputs": [],
   "source": [
    "! ls extract"
   ]
  },
  {
   "cell_type": "code",
   "execution_count": null,
   "id": "b7296235",
   "metadata": {},
   "outputs": [],
   "source": [
    "#retrieve the spectra from the h5 file\n",
    "\n",
    "cwd = %pwd\n",
    "h5 = tables.open_file(cwd + \"/extract/extract_cat.h5\")\n",
    "rows = h5.root.CalibratedSpectra.read()\n",
    "detectids = np.array(rows['detectid']).astype(np.int64)\n",
    "flux = np.array(rows['flux'])\n",
    "flux_err =np.array(rows['flux_err'])\n",
    "waves = np.array(rows['wavelength'])\n",
    "\n",
    "h5.close()"
   ]
  },
  {
   "cell_type": "code",
   "execution_count": null,
   "id": "a3c74ec1",
   "metadata": {},
   "outputs": [],
   "source": [
    "# You can view the elixer data\n",
    "# NOTE: jupyter hub does not have a necessary utility (poppler) so, you may have to use existing catalogs\n",
    "# since the output PDF of the main report cannot be converted into a PNG automatically\n",
    "cwd = %pwd\n",
    "ElixerWidget(detectlist=detectids,\n",
    "             elixer_h5= cwd + \"/extract/extract_cat.h5\",\n",
    "             img_dir = cwd+ \"/extract\", \n",
    "             resume=False)"
   ]
  },
  {
   "cell_type": "code",
   "execution_count": null,
   "id": "4d6632ee",
   "metadata": {},
   "outputs": [],
   "source": [
    "sel = detectids == 8214750052830017455\n",
    "plt.close('all')\n",
    "plt.plot(waves[sel][0],flux[sel][0])\n",
    "plt.axhline(0,color='k')\n"
   ]
  },
  {
   "cell_type": "code",
   "execution_count": null,
   "id": "d38bf420",
   "metadata": {},
   "outputs": [],
   "source": []
  }
 ],
 "metadata": {
  "kernelspec": {
   "display_name": "Python 3 (ipykernel)",
   "language": "python",
   "name": "python3"
  },
  "language_info": {
   "codemirror_mode": {
    "name": "ipython",
    "version": 3
   },
   "file_extension": ".py",
   "mimetype": "text/x-python",
   "name": "python",
   "nbconvert_exporter": "python",
   "pygments_lexer": "ipython3",
   "version": "3.10.5"
  }
 },
 "nbformat": 4,
 "nbformat_minor": 5
}
